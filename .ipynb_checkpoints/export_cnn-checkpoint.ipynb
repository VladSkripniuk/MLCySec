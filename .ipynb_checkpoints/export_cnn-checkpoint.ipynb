{
 "cells": [
  {
   "cell_type": "code",
   "execution_count": 1,
   "metadata": {
    "collapsed": true
   },
   "outputs": [],
   "source": [
    "import sys"
   ]
  },
  {
   "cell_type": "code",
   "execution_count": 2,
   "metadata": {},
   "outputs": [
    {
     "data": {
      "text/plain": [
       "'3.6.3 |Anaconda, Inc.| (default, Oct 13 2017, 12:02:49) \\n[GCC 7.2.0]'"
      ]
     },
     "execution_count": 2,
     "metadata": {},
     "output_type": "execute_result"
    }
   ],
   "source": [
    "sys.version"
   ]
  },
  {
   "cell_type": "code",
   "execution_count": 1,
   "metadata": {},
   "outputs": [
    {
     "name": "stderr",
     "output_type": "stream",
     "text": [
      "Using TensorFlow backend.\n"
     ]
    }
   ],
   "source": [
    "import numpy\n",
    "import matplotlib.pyplot as plt\n",
    "%matplotlib inline\n",
    "\n",
    "from keras.datasets import mnist\n",
    "from keras.models import Sequential\n",
    "from keras.layers import Dense\n",
    "from keras.layers import Dropout\n",
    "from keras.layers import Flatten\n",
    "from keras.layers.convolutional import Conv2D\n",
    "from keras.layers.convolutional import MaxPooling2D\n",
    "from keras.utils import np_utils\n",
    "from keras import backend as K\n",
    "from keras.callbacks import ModelCheckpoint\n",
    "\n",
    "K.set_image_dim_ordering('th')\n",
    "\n"
   ]
  },
  {
   "cell_type": "code",
   "execution_count": 2,
   "metadata": {
    "collapsed": true
   },
   "outputs": [],
   "source": [
    "from keras.optimizers import *\n",
    "from keras.wrappers.scikit_learn import KerasClassifier\n",
    "from sklearn.model_selection import GridSearchCV"
   ]
  },
  {
   "cell_type": "code",
   "execution_count": 3,
   "metadata": {
    "collapsed": true
   },
   "outputs": [],
   "source": [
    "#random seed for reproducing the same \n",
    "seed = 1234\n",
    "numpy.random.seed(seed)"
   ]
  },
  {
   "cell_type": "code",
   "execution_count": 4,
   "metadata": {
    "collapsed": true
   },
   "outputs": [],
   "source": [
    "#reading data\n",
    "(x_train,y_train),(x_test,y_test)=mnist.load_data()"
   ]
  },
  {
   "cell_type": "code",
   "execution_count": 5,
   "metadata": {
    "collapsed": true
   },
   "outputs": [],
   "source": [
    "x_train = x_train.reshape(x_train.shape[0],1,28,28).astype(\"float32\")\n",
    "x_test = x_test.reshape(x_test.shape[0],1,28,28).astype(\"float32\")"
   ]
  },
  {
   "cell_type": "code",
   "execution_count": 6,
   "metadata": {
    "collapsed": true
   },
   "outputs": [],
   "source": [
    "x_train = x_train/255\n",
    "x_test = x_test/255"
   ]
  },
  {
   "cell_type": "code",
   "execution_count": 7,
   "metadata": {},
   "outputs": [
    {
     "data": {
      "text/plain": [
       "10"
      ]
     },
     "execution_count": 7,
     "metadata": {},
     "output_type": "execute_result"
    }
   ],
   "source": [
    "#one hot encoding\n",
    "#print(y_test[4])\n",
    "y_test = np_utils.to_categorical(y_test)\n",
    "#print(y_test[4])\n",
    "y_train = np_utils.to_categorical(y_train)\n",
    "n_classes = y_test.shape[1]\n",
    "n_classes\n",
    "#n_classes\n",
    "#y_test.shape"
   ]
  },
  {
   "cell_type": "markdown",
   "metadata": {},
   "source": [
    "# Tuning #.1\n",
    "\n",
    "## hyper_param : optimizer, epoch and batch_size"
   ]
  },
  {
   "cell_type": "code",
   "execution_count": 8,
   "metadata": {
    "collapsed": true
   },
   "outputs": [],
   "source": [
    "#define model\n",
    "def cnn_model(optimizer):#dropout_ratelearning_rate#optimizer):\n",
    "    classifier = Sequential()\n",
    "    classifier.add(Conv2D(32,(4,4), input_shape=(1,28,28), activation=\"relu\"))\n",
    "    classifier.add(MaxPooling2D(pool_size=(2,2)))\n",
    "    classifier.add(Conv2D(16,(4,4), activation=\"relu\"))\n",
    "    classifier.add(MaxPooling2D(pool_size=(2,2)))\n",
    "    classifier.add(Dropout(0.3))\n",
    "    classifier.add(Flatten())\n",
    "    classifier.add(Dense(128,activation='relu'))\n",
    "    #classifier.add(Dropout(0.3))\n",
    "    classifier.add(Dense(32,activation='relu'))\n",
    "    classifier.add(Dense(n_classes,activation='softmax'))\n",
    "    classifier.compile(optimizer=optimizer,metrics=[\"accuracy\"],loss=\"categorical_crossentropy\")\n",
    "    return(classifier)"
   ]
  },
  {
   "cell_type": "code",
   "execution_count": 10,
   "metadata": {
    "collapsed": true
   },
   "outputs": [],
   "source": [
    "params = { 'batch_size' : [100,200], 'epochs' : [2,3], 'optimizer' : ['adam','rmsprop'] }\n",
    "\n",
    "#learning_rate = [0.1, 0.5]\n",
    "#dropout_rate = [0.3, 0.5, 0.7]\n",
    "#optimizer = [\"SGD\", \"RMSprop\", \"Adam\", \"Adamax\", \"Nadam\"][:1]\n",
    "#optimizer = [SGD, RMSprop, Adam, Adamax]\n",
    "\n",
    "\n"
   ]
  },
  {
   "cell_type": "code",
   "execution_count": 55,
   "metadata": {
    "collapsed": true
   },
   "outputs": [],
   "source": [
    "#params = dict (learning_rate = learning_rate)#batch_size = batch_size,\n",
    "              #epochs = epochs,\n",
    "              \n",
    "              #dropout_rate = dropout_rate,\n",
    "              #optimizer = optimizer)\n",
    "\n"
   ]
  },
  {
   "cell_type": "code",
   "execution_count": 13,
   "metadata": {
    "collapsed": true
   },
   "outputs": [],
   "source": [
    "classifier = KerasClassifier(build_fn = cnn_model)\n",
    "models = GridSearchCV(estimator = classifier, param_grid = params)"
   ]
  },
  {
   "cell_type": "code",
   "execution_count": 14,
   "metadata": {},
   "outputs": [
    {
     "name": "stdout",
     "output_type": "stream",
     "text": [
      "Epoch 1/2\n",
      "40000/40000 [==============================] - 144s 4ms/step - loss: 0.4306 - acc: 0.8637\n",
      "Epoch 2/2\n",
      "40000/40000 [==============================] - 138s 3ms/step - loss: 0.1334 - acc: 0.9589\n",
      "20000/20000 [==============================] - 39s 2ms/step\n",
      "40000/40000 [==============================] - 78s 2ms/step\n",
      "Epoch 1/2\n",
      "40000/40000 [==============================] - 144s 4ms/step - loss: 0.4466 - acc: 0.8592\n",
      "Epoch 2/2\n",
      "40000/40000 [==============================] - 142s 4ms/step - loss: 0.1334 - acc: 0.9595\n",
      "20000/20000 [==============================] - 39s 2ms/step\n",
      "40000/40000 [==============================] - 78s 2ms/step\n",
      "Epoch 1/2\n",
      "40000/40000 [==============================] - 144s 4ms/step - loss: 0.4456 - acc: 0.8601\n",
      "Epoch 2/2\n",
      "40000/40000 [==============================] - 142s 4ms/step - loss: 0.1375 - acc: 0.9577\n",
      "20000/20000 [==============================] - 39s 2ms/step\n",
      "40000/40000 [==============================] - 78s 2ms/step\n",
      "Epoch 1/2\n",
      "40000/40000 [==============================] - 152s 4ms/step - loss: 0.4161 - acc: 0.8660\n",
      "Epoch 2/2\n",
      "40000/40000 [==============================] - 146s 4ms/step - loss: 0.1472 - acc: 0.9537\n",
      "20000/20000 [==============================] - 39s 2ms/step\n",
      "40000/40000 [==============================] - 76s 2ms/step\n",
      "Epoch 1/2\n",
      "40000/40000 [==============================] - 144s 4ms/step - loss: 0.4215 - acc: 0.8655\n",
      "Epoch 2/2\n",
      "40000/40000 [==============================] - 144s 4ms/step - loss: 0.1386 - acc: 0.9565\n",
      "20000/20000 [==============================] - 40s 2ms/step\n",
      "40000/40000 [==============================] - 78s 2ms/step\n",
      "Epoch 1/2\n",
      "40000/40000 [==============================] - 143s 4ms/step - loss: 0.3953 - acc: 0.8756\n",
      "Epoch 2/2\n",
      "40000/40000 [==============================] - 500s 12ms/step - loss: 0.1303 - acc: 0.9602\n",
      "20000/20000 [==============================] - 40s 2ms/step\n",
      "40000/40000 [==============================] - 79s 2ms/step\n",
      "Epoch 1/3\n",
      "40000/40000 [==============================] - 148s 4ms/step - loss: 0.4018 - acc: 0.8765\n",
      "Epoch 2/3\n",
      "40000/40000 [==============================] - 143s 4ms/step - loss: 0.1283 - acc: 0.9600\n",
      "Epoch 3/3\n",
      "40000/40000 [==============================] - 143s 4ms/step - loss: 0.0907 - acc: 0.9715\n",
      "20000/20000 [==============================] - 39s 2ms/step\n",
      "40000/40000 [==============================] - 77s 2ms/step\n",
      "Epoch 1/3\n",
      "40000/40000 [==============================] - 146s 4ms/step - loss: 0.4303 - acc: 0.8630\n",
      "Epoch 2/3\n",
      "40000/40000 [==============================] - 146s 4ms/step - loss: 0.1340 - acc: 0.9589\n",
      "Epoch 3/3\n",
      "40000/40000 [==============================] - 1933s 48ms/step - loss: 0.0969 - acc: 0.9694\n",
      "20000/20000 [==============================] - 24s 1ms/step\n",
      "40000/40000 [==============================] - 48s 1ms/step\n",
      "Epoch 1/3\n",
      "40000/40000 [==============================] - 88s 2ms/step - loss: 0.4359 - acc: 0.8609\n",
      "Epoch 2/3\n",
      "40000/40000 [==============================] - 87s 2ms/step - loss: 0.1310 - acc: 0.9591\n",
      "Epoch 3/3\n",
      "40000/40000 [==============================] - 86s 2ms/step - loss: 0.0976 - acc: 0.9696\n",
      "20000/20000 [==============================] - 24s 1ms/step\n",
      "40000/40000 [==============================] - 47s 1ms/step\n",
      "Epoch 1/3\n",
      "40000/40000 [==============================] - 86s 2ms/step - loss: 0.4000 - acc: 0.8738\n",
      "Epoch 2/3\n",
      "40000/40000 [==============================] - 85s 2ms/step - loss: 0.1348 - acc: 0.9578\n",
      "Epoch 3/3\n",
      "40000/40000 [==============================] - 85s 2ms/step - loss: 0.0976 - acc: 0.9700\n",
      "20000/20000 [==============================] - 24s 1ms/step\n",
      "40000/40000 [==============================] - 48s 1ms/step\n",
      "Epoch 1/3\n",
      "40000/40000 [==============================] - 24037s 601ms/step - loss: 0.3906 - acc: 0.8795\n",
      "Epoch 2/3\n",
      "40000/40000 [==============================] - 89s 2ms/step - loss: 0.1338 - acc: 0.9575\n",
      "Epoch 3/3\n",
      "40000/40000 [==============================] - 87s 2ms/step - loss: 0.0972 - acc: 0.9698\n",
      "20000/20000 [==============================] - 26s 1ms/step\n",
      "40000/40000 [==============================] - 48s 1ms/step\n",
      "Epoch 1/3\n",
      "40000/40000 [==============================] - 88s 2ms/step - loss: 0.3992 - acc: 0.8736\n",
      "Epoch 2/3\n",
      "40000/40000 [==============================] - 86s 2ms/step - loss: 0.1405 - acc: 0.9564\n",
      "Epoch 3/3\n",
      "40000/40000 [==============================] - 85s 2ms/step - loss: 0.0986 - acc: 0.9694\n",
      "20000/20000 [==============================] - 24s 1ms/step\n",
      "40000/40000 [==============================] - 47s 1ms/step\n",
      "Epoch 1/2\n",
      "40000/40000 [==============================] - 86s 2ms/step - loss: 0.5664 - acc: 0.8192\n",
      "Epoch 2/2\n",
      "40000/40000 [==============================] - 239s 6ms/step - loss: 0.1559 - acc: 0.9518\n",
      "20000/20000 [==============================] - 24s 1ms/step\n",
      "40000/40000 [==============================] - 47s 1ms/step\n",
      "Epoch 1/2\n",
      "40000/40000 [==============================] - 86s 2ms/step - loss: 0.6118 - acc: 0.8097\n",
      "Epoch 2/2\n",
      "40000/40000 [==============================] - 85s 2ms/step - loss: 0.1578 - acc: 0.9521\n",
      "20000/20000 [==============================] - 24s 1ms/step\n",
      "40000/40000 [==============================] - 47s 1ms/step\n",
      "Epoch 1/2\n",
      "40000/40000 [==============================] - 86s 2ms/step - loss: 0.5848 - acc: 0.8111\n",
      "Epoch 2/2\n",
      "40000/40000 [==============================] - 85s 2ms/step - loss: 0.1634 - acc: 0.9506\n",
      "20000/20000 [==============================] - 24s 1ms/step\n",
      "40000/40000 [==============================] - 47s 1ms/step\n",
      "Epoch 1/2\n",
      "40000/40000 [==============================] - 86s 2ms/step - loss: 0.5580 - acc: 0.8254\n",
      "Epoch 2/2\n",
      "40000/40000 [==============================] - 85s 2ms/step - loss: 0.1857 - acc: 0.9439\n",
      "20000/20000 [==============================] - 24s 1ms/step\n",
      "40000/40000 [==============================] - 47s 1ms/step\n",
      "Epoch 1/2\n",
      "40000/40000 [==============================] - 86s 2ms/step - loss: 0.5342 - acc: 0.8382\n",
      "Epoch 2/2\n",
      "40000/40000 [==============================] - 85s 2ms/step - loss: 0.1713 - acc: 0.9479\n",
      "20000/20000 [==============================] - 24s 1ms/step\n",
      "40000/40000 [==============================] - 47s 1ms/step\n",
      "Epoch 1/2\n",
      "40000/40000 [==============================] - 87s 2ms/step - loss: 0.5689 - acc: 0.8186\n",
      "Epoch 2/2\n",
      "40000/40000 [==============================] - 85s 2ms/step - loss: 0.1869 - acc: 0.9423\n",
      "20000/20000 [==============================] - 24s 1ms/step\n",
      "40000/40000 [==============================] - 47s 1ms/step\n",
      "Epoch 1/3\n",
      "40000/40000 [==============================] - 86s 2ms/step - loss: 0.6046 - acc: 0.8117\n",
      "Epoch 2/3\n",
      "40000/40000 [==============================] - 84s 2ms/step - loss: 0.1546 - acc: 0.9532\n",
      "Epoch 3/3\n",
      "40000/40000 [==============================] - 84s 2ms/step - loss: 0.1133 - acc: 0.9650\n",
      "20000/20000 [==============================] - 23s 1ms/step\n",
      "40000/40000 [==============================] - 47s 1ms/step\n",
      "Epoch 1/3\n",
      "40000/40000 [==============================] - 87s 2ms/step - loss: 0.5567 - acc: 0.8230\n",
      "Epoch 2/3\n",
      "40000/40000 [==============================] - 85s 2ms/step - loss: 0.1546 - acc: 0.9536\n",
      "Epoch 3/3\n",
      "40000/40000 [==============================] - 85s 2ms/step - loss: 0.1138 - acc: 0.9657\n",
      "20000/20000 [==============================] - 24s 1ms/step\n",
      "40000/40000 [==============================] - 47s 1ms/step\n",
      "Epoch 1/3\n",
      "40000/40000 [==============================] - 87s 2ms/step - loss: 0.6052 - acc: 0.8113\n",
      "Epoch 2/3\n",
      "40000/40000 [==============================] - 85s 2ms/step - loss: 0.1645 - acc: 0.9491\n",
      "Epoch 3/3\n",
      "40000/40000 [==============================] - 85s 2ms/step - loss: 0.1168 - acc: 0.9641\n",
      "20000/20000 [==============================] - 24s 1ms/step\n",
      "40000/40000 [==============================] - 47s 1ms/step\n",
      "Epoch 1/3\n",
      "40000/40000 [==============================] - 86s 2ms/step - loss: 0.5407 - acc: 0.8290\n",
      "Epoch 2/3\n",
      "40000/40000 [==============================] - 85s 2ms/step - loss: 0.1692 - acc: 0.9477\n",
      "Epoch 3/3\n",
      "40000/40000 [==============================] - 85s 2ms/step - loss: 0.1162 - acc: 0.9634\n",
      "20000/20000 [==============================] - 24s 1ms/step\n",
      "40000/40000 [==============================] - 47s 1ms/step\n",
      "Epoch 1/3\n",
      "40000/40000 [==============================] - 87s 2ms/step - loss: 0.5282 - acc: 0.8345\n",
      "Epoch 2/3\n",
      "40000/40000 [==============================] - 85s 2ms/step - loss: 0.1716 - acc: 0.9470\n",
      "Epoch 3/3\n",
      "40000/40000 [==============================] - 84s 2ms/step - loss: 0.1184 - acc: 0.9630\n",
      "20000/20000 [==============================] - 23s 1ms/step\n",
      "40000/40000 [==============================] - 46s 1ms/step\n",
      "Epoch 1/3\n",
      "40000/40000 [==============================] - 86s 2ms/step - loss: 0.5491 - acc: 0.8262\n",
      "Epoch 2/3\n",
      "40000/40000 [==============================] - 85s 2ms/step - loss: 0.1645 - acc: 0.9494\n",
      "Epoch 3/3\n",
      "40000/40000 [==============================] - 84s 2ms/step - loss: 0.1162 - acc: 0.9643\n",
      "20000/20000 [==============================] - 24s 1ms/step\n",
      "40000/40000 [==============================] - 45s 1ms/step\n",
      "Epoch 1/3\n",
      "60000/60000 [==============================] - 135s 2ms/step - loss: 0.3314 - acc: 0.8953\n",
      "Epoch 2/3\n",
      "60000/60000 [==============================] - 134s 2ms/step - loss: 0.1107 - acc: 0.9652\n",
      "Epoch 3/3\n",
      "60000/60000 [==============================] - 133s 2ms/step - loss: 0.0836 - acc: 0.9734\n",
      "Best Model {'batch_size': 100, 'epochs': 3, 'optimizer': 'adam'}\n"
     ]
    }
   ],
   "source": [
    "best_model = models.fit(x_train,y_train)\n",
    "print(\"Best Model\", best_model.best_params_)\n",
    "#print(\"Best Accuracy\", best_model.best_score_)\n"
   ]
  },
  {
   "cell_type": "code",
   "execution_count": 15,
   "metadata": {
    "collapsed": true
   },
   "outputs": [],
   "source": [
    "#final model post hyper-param tuning\n",
    "\n",
    "#define model\n",
    "def cnn_model():\n",
    "    classifier = Sequential()\n",
    "    classifier.add(Conv2D(32,(4,4), input_shape=(1,28,28), activation=\"relu\"))\n",
    "    classifier.add(MaxPooling2D(pool_size=(2,2)))\n",
    "    classifier.add(Conv2D(16,(4,4), activation=\"relu\"))\n",
    "    classifier.add(MaxPooling2D(pool_size=(2,2)))\n",
    "    classifier.add(Dropout(0.3))\n",
    "    classifier.add(Flatten())\n",
    "    classifier.add(Dense(128,activation='relu'))\n",
    "    classifier.add(Dense(32,activation='relu'))\n",
    "    classifier.add(Dense(n_classes,activation='softmax'))\n",
    "    classifier.compile(optimizer='adam',metrics=['accuracy'],loss='categorical_crossentropy')\n",
    "    return(classifier)\n",
    "    \n",
    "\n"
   ]
  },
  {
   "cell_type": "code",
   "execution_count": 22,
   "metadata": {},
   "outputs": [
    {
     "name": "stdout",
     "output_type": "stream",
     "text": [
      "Train on 60000 samples, validate on 10000 samples\n",
      "Epoch 1/3\n",
      "60000/60000 [==============================] - 197s 3ms/step - loss: 0.3465 - acc: 0.8896 - val_loss: 0.0766 - val_acc: 0.9760\n",
      "Epoch 2/3\n",
      "60000/60000 [==============================] - 141s 2ms/step - loss: 0.1117 - acc: 0.9653 - val_loss: 0.0554 - val_acc: 0.9816\n",
      "Epoch 3/3\n",
      "60000/60000 [==============================] - 141s 2ms/step - loss: 0.0840 - acc: 0.9735 - val_loss: 0.0415 - val_acc: 0.9867\n",
      "Accuracy of the Classifier is:  98.67\n"
     ]
    }
   ],
   "source": [
    "classifier = cnn_model()\n",
    "history_obj = classifier.fit(x_train,y_train,validation_data=(x_test,y_test),epochs = 3, batch_size = 100)\n",
    "accuracy_scores = classifier.evaluate(x_test,y_test,verbose = 0)\n",
    "print(\"Accuracy of the Classifier is: \", accuracy_scores[1]*100)"
   ]
  },
  {
   "cell_type": "code",
   "execution_count": 26,
   "metadata": {},
   "outputs": [
    {
     "data": {
      "image/png": "[encoded data removed]",
      "text/plain": [
       "<Figure size 432x288 with 1 Axes>"
      ]
     },
     "metadata": {
      "needs_background": "light"
     },
     "output_type": "display_data"
    }
   ],
   "source": [
    "#accuracy\n",
    "plt.plot(history_obj.history['acc'])\n",
    "plt.plot(history_obj.history['val_acc'])\n",
    "plt.title('model accuracy')\n",
    "plt.ylabel('accuracy')\n",
    "plt.xlabel('epoch')\n",
    "plt.legend(['train', 'test'], loc='upper left')\n",
    "plt.show()"
   ]
  },
  {
   "cell_type": "code",
   "execution_count": 25,
   "metadata": {},
   "outputs": [
    {
     "name": "stdout",
     "output_type": "stream",
     "text": [
      "dict_keys(['val_loss', 'val_acc', 'loss', 'acc'])\n",
      "[0.9760000056028366, 0.9816000068187714, 0.986700006723404]\n"
     ]
    }
   ],
   "source": [
    "print(history_obj.history.keys())\n",
    "print(history_obj.history['val_acc'])"
   ]
  },
  {
   "cell_type": "code",
   "execution_count": 27,
   "metadata": {},
   "outputs": [
    {
     "data": {
      "image/png": "[encoded data removed]",
      "text/plain": [
       "<Figure size 432x288 with 1 Axes>"
      ]
     },
     "metadata": {
      "needs_background": "light"
     },
     "output_type": "display_data"
    }
   ],
   "source": [
    "#loss\n",
    "plt.plot(history_obj.history['loss'])\n",
    "plt.plot(history_obj.history['val_loss'])\n",
    "plt.title('model loss')\n",
    "plt.ylabel('loss')\n",
    "plt.xlabel('epoch')\n",
    "plt.legend(['train', 'test'], loc='upper left')\n",
    "plt.show()"
   ]
  },
  {
   "cell_type": "markdown",
   "metadata": {},
   "source": [
    "# TUNING #.2"
   ]
  },
  {
   "cell_type": "markdown",
   "metadata": {},
   "source": [
    "## hyper_param : Dropouts"
   ]
  },
  {
   "cell_type": "code",
   "execution_count": 9,
   "metadata": {
    "collapsed": true
   },
   "outputs": [],
   "source": [
    "#upgraded model\n",
    "def cnn_model(dropout):#dropout_ratelearning_rate#optimizer):\n",
    "    classifier = Sequential()\n",
    "    classifier.add(Conv2D(32,(4,4), input_shape=(1,28,28), activation=\"relu\"))\n",
    "    classifier.add(MaxPooling2D(pool_size=(2,2)))\n",
    "    classifier.add(Conv2D(16,(4,4), activation=\"relu\"))\n",
    "    classifier.add(MaxPooling2D(pool_size=(2,2)))\n",
    "    classifier.add(Dropout(dropout))\n",
    "    classifier.add(Flatten())\n",
    "    classifier.add(Dense(128,activation='relu'))\n",
    "    classifier.add(Dropout(dropout))\n",
    "    classifier.add(Dense(32,activation='relu'))\n",
    "    classifier.add(Dense(n_classes,activation='softmax'))\n",
    "    classifier.compile(optimizer='adam',metrics=[\"accuracy\"],loss=\"categorical_crossentropy\")\n",
    "    return(classifier)"
   ]
  },
  {
   "cell_type": "code",
   "execution_count": 10,
   "metadata": {
    "collapsed": true
   },
   "outputs": [],
   "source": [
    "params = { 'dropout' : [0.3, 0.5, 0.7] }"
   ]
  },
  {
   "cell_type": "code",
   "execution_count": 10,
   "metadata": {
    "collapsed": true
   },
   "outputs": [],
   "source": [
    "classifier = KerasClassifier(build_fn = cnn_model)\n",
    "models = GridSearchCV(estimator = classifier, param_grid = params)"
   ]
  },
  {
   "cell_type": "code",
   "execution_count": 11,
   "metadata": {},
   "outputs": [
    {
     "name": "stderr",
     "output_type": "stream",
     "text": [
      "C:\\Users\\soumy\\Anaconda3\\envs\\mlcs\\lib\\site-packages\\sklearn\\model_selection\\_split.py:1943: FutureWarning: You should specify a value for 'cv' instead of relying on the default value. The default value will change from 3 to 5 in version 0.22.\n",
      "  warnings.warn(CV_WARNING, FutureWarning)\n"
     ]
    },
    {
     "name": "stdout",
     "output_type": "stream",
     "text": [
      "Epoch 1/10\n",
      "40000/40000 [==============================] - 143s 4ms/step - loss: 0.5290 - acc: 0.8296\n",
      "Epoch 2/10\n"
     ]
    },
    {
     "name": "stderr",
     "output_type": "stream",
     "text": [
      "C:\\Users\\soumy\\Anaconda3\\envs\\mlcs\\lib\\site-packages\\keras\\callbacks.py:434: RuntimeWarning: Can save best model only with val_acc available, skipping.\n",
      "  'skipping.' % (self.monitor), RuntimeWarning)\n"
     ]
    },
    {
     "name": "stdout",
     "output_type": "stream",
     "text": [
      "40000/40000 [==============================] - 141s 4ms/step - loss: 0.1650 - acc: 0.9492\n",
      "Epoch 3/10\n",
      "40000/40000 [==============================] - 140s 4ms/step - loss: 0.1210 - acc: 0.9632\n",
      "Epoch 4/10\n",
      "40000/40000 [==============================] - 141s 4ms/step - loss: 0.1023 - acc: 0.9683\n",
      "Epoch 5/10\n",
      "40000/40000 [==============================] - 141s 4ms/step - loss: 0.0882 - acc: 0.9722\n",
      "Epoch 6/10\n",
      "40000/40000 [==============================] - 140s 4ms/step - loss: 0.0782 - acc: 0.9760\n",
      "Epoch 7/10\n",
      "40000/40000 [==============================] - 143s 4ms/step - loss: 0.0736 - acc: 0.9773\n",
      "Epoch 8/10\n",
      "40000/40000 [==============================] - 139s 3ms/step - loss: 0.0660 - acc: 0.9803\n",
      "Epoch 9/10\n",
      "40000/40000 [==============================] - 139s 3ms/step - loss: 0.0644 - acc: 0.9801\n",
      "Epoch 10/10\n",
      "40000/40000 [==============================] - 136s 3ms/step - loss: 0.0618 - acc: 0.9805\n",
      "20000/20000 [==============================] - 39s 2ms/step\n",
      "40000/40000 [==============================] - 77s 2ms/step\n",
      "Epoch 1/10\n",
      "40000/40000 [==============================] - 139s 3ms/step - loss: 0.5228 - acc: 0.8342\n",
      "Epoch 2/10\n",
      "40000/40000 [==============================] - 139s 3ms/step - loss: 0.1678 - acc: 0.9483\n",
      "Epoch 3/10\n",
      "40000/40000 [==============================] - 138s 3ms/step - loss: 0.1271 - acc: 0.9603\n",
      "Epoch 4/10\n",
      "40000/40000 [==============================] - 137s 3ms/step - loss: 0.1046 - acc: 0.9669\n",
      "Epoch 5/10\n",
      "40000/40000 [==============================] - 139s 3ms/step - loss: 0.0902 - acc: 0.9718\n",
      "Epoch 6/10\n",
      "40000/40000 [==============================] - 137s 3ms/step - loss: 0.0825 - acc: 0.9750\n",
      "Epoch 7/10\n",
      "40000/40000 [==============================] - 137s 3ms/step - loss: 0.0758 - acc: 0.9762\n",
      "Epoch 8/10\n",
      "40000/40000 [==============================] - 138s 3ms/step - loss: 0.0684 - acc: 0.9790\n",
      "Epoch 9/10\n",
      "40000/40000 [==============================] - 139s 3ms/step - loss: 0.0669 - acc: 0.9794\n",
      "Epoch 10/10\n",
      "40000/40000 [==============================] - 137s 3ms/step - loss: 0.0605 - acc: 0.9812\n",
      "20000/20000 [==============================] - 40s 2ms/step\n",
      "40000/40000 [==============================] - 79s 2ms/step\n",
      "Epoch 1/10\n",
      "40000/40000 [==============================] - 139s 3ms/step - loss: 0.5168 - acc: 0.8353\n",
      "Epoch 2/10\n",
      "40000/40000 [==============================] - 137s 3ms/step - loss: 0.1627 - acc: 0.9506\n",
      "Epoch 3/10\n",
      "40000/40000 [==============================] - 138s 3ms/step - loss: 0.1259 - acc: 0.9614\n",
      "Epoch 4/10\n",
      "40000/40000 [==============================] - 139s 3ms/step - loss: 0.1002 - acc: 0.9684\n",
      "Epoch 5/10\n",
      "40000/40000 [==============================] - 137s 3ms/step - loss: 0.0900 - acc: 0.9716\n",
      "Epoch 6/10\n",
      "40000/40000 [==============================] - 138s 3ms/step - loss: 0.0799 - acc: 0.9750\n",
      "Epoch 7/10\n",
      "40000/40000 [==============================] - 137s 3ms/step - loss: 0.0721 - acc: 0.9772\n",
      "Epoch 8/10\n",
      "40000/40000 [==============================] - 139s 3ms/step - loss: 0.0668 - acc: 0.9793\n",
      "Epoch 9/10\n",
      "40000/40000 [==============================] - 137s 3ms/step - loss: 0.0623 - acc: 0.9805\n",
      "Epoch 10/10\n",
      "40000/40000 [==============================] - 137s 3ms/step - loss: 0.0570 - acc: 0.9823\n",
      "20000/20000 [==============================] - 39s 2ms/step\n",
      "40000/40000 [==============================] - 78s 2ms/step\n",
      "Epoch 1/10\n",
      "40000/40000 [==============================] - 139s 3ms/step - loss: 0.6816 - acc: 0.7776\n",
      "Epoch 2/10\n",
      "40000/40000 [==============================] - 138s 3ms/step - loss: 0.2718 - acc: 0.9171\n",
      "Epoch 3/10\n",
      "40000/40000 [==============================] - 137s 3ms/step - loss: 0.2145 - acc: 0.9340\n",
      "Epoch 4/10\n",
      "40000/40000 [==============================] - 137s 3ms/step - loss: 0.1819 - acc: 0.9447\n",
      "Epoch 5/10\n",
      "40000/40000 [==============================] - 137s 3ms/step - loss: 0.1596 - acc: 0.9514\n",
      "Epoch 6/10\n",
      "40000/40000 [==============================] - 136s 3ms/step - loss: 0.1454 - acc: 0.9570\n",
      "Epoch 7/10\n",
      "40000/40000 [==============================] - 137s 3ms/step - loss: 0.1336 - acc: 0.9591\n",
      "Epoch 8/10\n",
      "40000/40000 [==============================] - 137s 3ms/step - loss: 0.1257 - acc: 0.9627\n",
      "Epoch 9/10\n",
      "40000/40000 [==============================] - 136s 3ms/step - loss: 0.1223 - acc: 0.9631\n",
      "Epoch 10/10\n",
      "40000/40000 [==============================] - 136s 3ms/step - loss: 0.1129 - acc: 0.9654\n",
      "20000/20000 [==============================] - 40s 2ms/step\n",
      "40000/40000 [==============================] - 77s 2ms/step\n",
      "Epoch 1/10\n",
      "40000/40000 [==============================] - 140s 3ms/step - loss: 0.8040 - acc: 0.7363\n",
      "Epoch 2/10\n",
      "40000/40000 [==============================] - 138s 3ms/step - loss: 0.3125 - acc: 0.9038\n",
      "Epoch 3/10\n",
      "40000/40000 [==============================] - 138s 3ms/step - loss: 0.2403 - acc: 0.9262\n",
      "Epoch 4/10\n",
      "40000/40000 [==============================] - 137s 3ms/step - loss: 0.1948 - acc: 0.9413\n",
      "Epoch 5/10\n",
      "40000/40000 [==============================] - 137s 3ms/step - loss: 0.1665 - acc: 0.9488\n",
      "Epoch 6/10\n",
      "40000/40000 [==============================] - 137s 3ms/step - loss: 0.1573 - acc: 0.9526\n",
      "Epoch 7/10\n",
      "40000/40000 [==============================] - 136s 3ms/step - loss: 0.1447 - acc: 0.9558\n",
      "Epoch 8/10\n",
      "40000/40000 [==============================] - 137s 3ms/step - loss: 0.1342 - acc: 0.9593\n",
      "Epoch 9/10\n",
      "40000/40000 [==============================] - 138s 3ms/step - loss: 0.1302 - acc: 0.9598\n",
      "Epoch 10/10\n",
      "40000/40000 [==============================] - 137s 3ms/step - loss: 0.1209 - acc: 0.9629\n",
      "20000/20000 [==============================] - 39s 2ms/step\n",
      "40000/40000 [==============================] - 637s 16ms/step\n",
      "Epoch 1/10\n",
      "40000/40000 [==============================] - 144s 4ms/step - loss: 0.7930 - acc: 0.7383\n",
      "Epoch 2/10\n",
      "40000/40000 [==============================] - 143s 4ms/step - loss: 0.3025 - acc: 0.9073\n",
      "Epoch 3/10\n",
      "40000/40000 [==============================] - 142s 4ms/step - loss: 0.2288 - acc: 0.9309\n",
      "Epoch 4/10\n",
      "40000/40000 [==============================] - 140s 4ms/step - loss: 0.1859 - acc: 0.9432\n",
      "Epoch 5/10\n",
      "40000/40000 [==============================] - 147s 4ms/step - loss: 0.1614 - acc: 0.9506\n",
      "Epoch 6/10\n",
      "40000/40000 [==============================] - 1463s 37ms/step - loss: 0.1440 - acc: 0.9544\n",
      "Epoch 7/10\n",
      "40000/40000 [==============================] - 26688s 667ms/step - loss: 0.1376 - acc: 0.9586\n",
      "Epoch 8/10\n",
      "40000/40000 [==============================] - 86s 2ms/step - loss: 0.1243 - acc: 0.9625\n",
      "Epoch 9/10\n",
      "40000/40000 [==============================] - 88s 2ms/step - loss: 0.1196 - acc: 0.9647\n",
      "Epoch 10/10\n",
      "40000/40000 [==============================] - 86s 2ms/step - loss: 0.1124 - acc: 0.9651\n",
      "20000/20000 [==============================] - 24s 1ms/step\n",
      "40000/40000 [==============================] - 48s 1ms/step\n",
      "Epoch 1/10\n",
      "40000/40000 [==============================] - 86s 2ms/step - loss: 1.2182 - acc: 0.5771\n",
      "Epoch 2/10\n",
      "40000/40000 [==============================] - 85s 2ms/step - loss: 0.5768 - acc: 0.8175\n",
      "Epoch 3/10\n",
      "40000/40000 [==============================] - 119s 3ms/step - loss: 0.4534 - acc: 0.8607\n",
      "Epoch 4/10\n",
      "40000/40000 [==============================] - 89s 2ms/step - loss: 0.3920 - acc: 0.8824\n",
      "Epoch 5/10\n",
      "40000/40000 [==============================] - 88s 2ms/step - loss: 0.3497 - acc: 0.8925\n",
      "Epoch 6/10\n",
      "40000/40000 [==============================] - 86s 2ms/step - loss: 0.3263 - acc: 0.9022\n",
      "Epoch 7/10\n",
      "40000/40000 [==============================] - 86s 2ms/step - loss: 0.3027 - acc: 0.9076\n",
      "Epoch 8/10\n",
      "40000/40000 [==============================] - 88s 2ms/step - loss: 0.2887 - acc: 0.9146\n",
      "Epoch 9/10\n",
      "40000/40000 [==============================] - 89s 2ms/step - loss: 0.2833 - acc: 0.9150\n",
      "Epoch 10/10\n",
      "40000/40000 [==============================] - 91s 2ms/step - loss: 0.2687 - acc: 0.9195\n",
      "20000/20000 [==============================] - 25s 1ms/step\n",
      "40000/40000 [==============================] - 51s 1ms/step\n",
      "Epoch 1/10\n",
      "40000/40000 [==============================] - 90s 2ms/step - loss: 1.1914 - acc: 0.5920\n",
      "Epoch 2/10\n",
      "40000/40000 [==============================] - 89s 2ms/step - loss: 0.5598 - acc: 0.8259\n",
      "Epoch 3/10\n",
      "40000/40000 [==============================] - 90s 2ms/step - loss: 0.4405 - acc: 0.8626\n",
      "Epoch 4/10\n",
      "40000/40000 [==============================] - 88s 2ms/step - loss: 0.3783 - acc: 0.8835\n",
      "Epoch 5/10\n",
      "40000/40000 [==============================] - 87s 2ms/step - loss: 0.3447 - acc: 0.8959\n",
      "Epoch 6/10\n",
      "40000/40000 [==============================] - 89s 2ms/step - loss: 0.3140 - acc: 0.9055\n",
      "Epoch 7/10\n",
      "40000/40000 [==============================] - 89s 2ms/step - loss: 0.3011 - acc: 0.9095\n",
      "Epoch 8/10\n",
      "40000/40000 [==============================] - 88s 2ms/step - loss: 0.2815 - acc: 0.9158\n",
      "Epoch 9/10\n",
      "40000/40000 [==============================] - 84s 2ms/step - loss: 0.2646 - acc: 0.9206\n",
      "Epoch 10/10\n",
      "40000/40000 [==============================] - 84s 2ms/step - loss: 0.2665 - acc: 0.9209\n",
      "20000/20000 [==============================] - 24s 1ms/step\n",
      "40000/40000 [==============================] - 48s 1ms/step\n",
      "Epoch 1/10\n",
      "40000/40000 [==============================] - 89s 2ms/step - loss: 1.2884 - acc: 0.5574\n",
      "Epoch 2/10\n",
      "40000/40000 [==============================] - 86s 2ms/step - loss: 0.5987 - acc: 0.8098\n",
      "Epoch 3/10\n",
      "40000/40000 [==============================] - 85s 2ms/step - loss: 0.4599 - acc: 0.8584\n",
      "Epoch 4/10\n",
      "40000/40000 [==============================] - 87s 2ms/step - loss: 0.3880 - acc: 0.8818\n",
      "Epoch 5/10\n",
      "40000/40000 [==============================] - 86s 2ms/step - loss: 0.3540 - acc: 0.8955\n",
      "Epoch 6/10\n",
      "40000/40000 [==============================] - 85s 2ms/step - loss: 0.3227 - acc: 0.9025\n",
      "Epoch 7/10\n",
      "40000/40000 [==============================] - 89s 2ms/step - loss: 0.3103 - acc: 0.9081\n",
      "Epoch 8/10\n",
      "40000/40000 [==============================] - 86s 2ms/step - loss: 0.2881 - acc: 0.9153\n",
      "Epoch 9/10\n",
      "40000/40000 [==============================] - 84s 2ms/step - loss: 0.2834 - acc: 0.9166\n",
      "Epoch 10/10\n",
      "40000/40000 [==============================] - 84s 2ms/step - loss: 0.2662 - acc: 0.9216\n",
      "20000/20000 [==============================] - 24s 1ms/step\n",
      "40000/40000 [==============================] - 48s 1ms/step\n",
      "Epoch 1/10\n",
      "60000/60000 [==============================] - 131s 2ms/step - loss: 0.4295 - acc: 0.8616\n",
      "Epoch 2/10\n",
      "60000/60000 [==============================] - 130s 2ms/step - loss: 0.1413 - acc: 0.9568\n",
      "Epoch 3/10\n",
      "60000/60000 [==============================] - 135s 2ms/step - loss: 0.1048 - acc: 0.9677\n",
      "Epoch 4/10\n",
      "60000/60000 [==============================] - 133s 2ms/step - loss: 0.0845 - acc: 0.9741\n",
      "Epoch 5/10\n",
      "60000/60000 [==============================] - 131s 2ms/step - loss: 0.0726 - acc: 0.9779\n",
      "Epoch 6/10\n",
      "60000/60000 [==============================] - 128s 2ms/step - loss: 0.0660 - acc: 0.9797\n",
      "Epoch 7/10\n",
      "60000/60000 [==============================] - 129s 2ms/step - loss: 0.0628 - acc: 0.9807\n",
      "Epoch 8/10\n",
      "60000/60000 [==============================] - 129s 2ms/step - loss: 0.0586 - acc: 0.9821\n",
      "Epoch 9/10\n",
      "60000/60000 [==============================] - 131s 2ms/step - loss: 0.0545 - acc: 0.9830\n",
      "Epoch 10/10\n",
      "60000/60000 [==============================] - 128s 2ms/step - loss: 0.0499 - acc: 0.9845\n",
      "Best Model {'dropout': 0.3}\n"
     ]
    }
   ],
   "source": [
    "filepath=\"weights.best.hdf5\"\n",
    "checkpoint = ModelCheckpoint(filepath, monitor='val_acc', verbose=1, save_best_only=True, mode='max')\n",
    "callbacks_list = [checkpoint]\n",
    "best_model = models.fit(x_train,y_train,epochs = 10, batch_size = 100, callbacks=callbacks_list)\n",
    "print(\"Best Model\", best_model.best_params_)"
   ]
  },
  {
   "cell_type": "code",
   "execution_count": 18,
   "metadata": {},
   "outputs": [
    {
     "data": {
      "text/plain": [
       "[<keras.callbacks.ModelCheckpoint at 0x1f24d0c7cc0>]"
      ]
     },
     "execution_count": 18,
     "metadata": {},
     "output_type": "execute_result"
    }
   ],
   "source": [
    "callbacks_list\n",
    "#import os\n",
    "#os.getcwd()"
   ]
  },
  {
   "cell_type": "code",
   "execution_count": 8,
   "metadata": {
    "collapsed": true
   },
   "outputs": [],
   "source": [
    "#with the best parameters\n",
    "#dropout = 0.3\n",
    "#final model post hyper-param tuning\n",
    "\n",
    "#define model\n",
    "def cnn_model():\n",
    "    classifier = Sequential()\n",
    "    classifier.add(Conv2D(32,(4,4), input_shape=(1,28,28), activation=\"relu\"))\n",
    "    classifier.add(MaxPooling2D(pool_size=(2,2)))\n",
    "    classifier.add(Conv2D(16,(4,4), activation=\"relu\"))\n",
    "    classifier.add(MaxPooling2D(pool_size=(2,2)))\n",
    "    classifier.add(Dropout(0.3))\n",
    "    classifier.add(Flatten())\n",
    "    classifier.add(Dense(128,activation='relu'))\n",
    "    classifier.add(Dropout(0.3)) #Dropout=0.3 is after hyper-param tuning\n",
    "    classifier.add(Dense(32,activation='relu'))\n",
    "    classifier.add(Dense(n_classes,activation='softmax'))\n",
    "    classifier.compile(optimizer='adam',metrics=['accuracy'],loss='categorical_crossentropy')\n",
    "    return(classifier)"
   ]
  },
  {
   "cell_type": "code",
   "execution_count": 9,
   "metadata": {},
   "outputs": [
    {
     "name": "stdout",
     "output_type": "stream",
     "text": [
      "Train on 60000 samples, validate on 10000 samples\n",
      "Epoch 1/10\n",
      "60000/60000 [==============================] - 229s 4ms/step - loss: 0.4160 - acc: 0.8678 - val_loss: 0.0745 - val_acc: 0.9762\n",
      "Epoch 2/10\n",
      "60000/60000 [==============================] - 226s 4ms/step - loss: 0.1291 - acc: 0.9599 - val_loss: 0.0470 - val_acc: 0.9848\n",
      "Epoch 3/10\n",
      "60000/60000 [==============================] - 227s 4ms/step - loss: 0.0959 - acc: 0.9696 - val_loss: 0.0384 - val_acc: 0.9880\n",
      "Epoch 4/10\n",
      "60000/60000 [==============================] - 224s 4ms/step - loss: 0.0807 - acc: 0.9748 - val_loss: 0.0326 - val_acc: 0.9903\n",
      "Epoch 5/10\n",
      "60000/60000 [==============================] - 225s 4ms/step - loss: 0.0695 - acc: 0.9780 - val_loss: 0.0290 - val_acc: 0.9904\n",
      "Epoch 6/10\n",
      "60000/60000 [==============================] - 225s 4ms/step - loss: 0.0619 - acc: 0.9808 - val_loss: 0.0267 - val_acc: 0.9919\n",
      "Epoch 7/10\n",
      "60000/60000 [==============================] - 227s 4ms/step - loss: 0.0603 - acc: 0.9817 - val_loss: 0.0271 - val_acc: 0.9916\n",
      "Epoch 8/10\n",
      "60000/60000 [==============================] - 222s 4ms/step - loss: 0.0540 - acc: 0.9835 - val_loss: 0.0236 - val_acc: 0.9925\n",
      "Epoch 9/10\n",
      "60000/60000 [==============================] - 222s 4ms/step - loss: 0.0492 - acc: 0.9849 - val_loss: 0.0249 - val_acc: 0.9926\n",
      "Epoch 10/10\n",
      "60000/60000 [==============================] - 223s 4ms/step - loss: 0.0498 - acc: 0.9843 - val_loss: 0.0230 - val_acc: 0.9931\n",
      "Accuracy of the Classifier is:  99.31\n"
     ]
    }
   ],
   "source": [
    "#csv_logger = keras.callbacks.CSVLogger('training.log')\n",
    "#model.fit(X_train, Y_train, callbacks=[csv_logger])\n",
    "\n",
    "classifier = cnn_model()\n",
    "history_obj = classifier.fit(x_train,y_train,validation_data=(x_test,y_test),epochs = 10, batch_size = 100)\n",
    "accuracy_scores = classifier.evaluate(x_test,y_test,verbose = 0)\n",
    "print(\"Accuracy of the Classifier is: \", accuracy_scores[1]*100)"
   ]
  },
  {
   "cell_type": "code",
   "execution_count": 10,
   "metadata": {},
   "outputs": [
    {
     "data": {
      "image/png": "[encoded data removed]",
      "text/plain": [
       "<Figure size 432x288 with 1 Axes>"
      ]
     },
     "metadata": {
      "needs_background": "light"
     },
     "output_type": "display_data"
    }
   ],
   "source": [
    "\n",
    "#accuracy\n",
    "plt.plot(history_obj.history['acc'])\n",
    "plt.plot(history_obj.history['val_acc'])\n",
    "plt.title('model accuracy')\n",
    "plt.ylabel('accuracy')\n",
    "plt.xlabel('epoch')\n",
    "plt.legend(['train', 'test'], loc='upper left')\n",
    "plt.show()"
   ]
  },
  {
   "cell_type": "code",
   "execution_count": 11,
   "metadata": {},
   "outputs": [
    {
     "data": {
      "image/png": "[encoded data removed]",
      "text/plain": [
       "<Figure size 432x288 with 1 Axes>"
      ]
     },
     "metadata": {
      "needs_background": "light"
     },
     "output_type": "display_data"
    }
   ],
   "source": [
    "#loss\n",
    "plt.plot(history_obj.history['loss'])\n",
    "plt.plot(history_obj.history['val_loss'])\n",
    "plt.title('model loss')\n",
    "plt.ylabel('loss')\n",
    "plt.xlabel('epoch')\n",
    "plt.legend(['train', 'test'], loc='upper left')\n",
    "plt.show()"
   ]
  },
  {
   "cell_type": "code",
   "execution_count": 27,
   "metadata": {},
   "outputs": [
    {
     "data": {
      "text/plain": [
       "'D:\\\\SEMESTER1(ASSIGNMENTS)\\\\MLCS\\\\Project2'"
      ]
     },
     "execution_count": 27,
     "metadata": {},
     "output_type": "execute_result"
    }
   ],
   "source": [
    "import os\n",
    "os.chdir(\"D:\\SEMESTER1(ASSIGNMENTS)\\MLCS\\Project2\")\n",
    "os.getcwd()"
   ]
  },
  {
   "cell_type": "code",
   "execution_count": 28,
   "metadata": {
    "collapsed": true
   },
   "outputs": [],
   "source": [
    "#using pickle\n",
    "import pickle\n",
    "pkl_filename = \"pickle_model.pkl\" \n",
    "with open(pkl_filename, 'wb') as file:  \n",
    "    pickle.dump(classifier, file)\n",
    "with open(pkl_filename, 'rb') as file:  \n",
    "    pickle_model = pickle.load(file)\n",
    "\n",
    "#Ypredict = pickle_model.predict(Xtest)  "
   ]
  },
  {
   "cell_type": "code",
   "execution_count": 44,
   "metadata": {
    "collapsed": true
   },
   "outputs": [],
   "source": [
    "#pickle version 2\n",
    "with open(pkl_filename, 'rb') as file:\n",
    "    u = pickle._Unpickler(file)\n",
    "    u.encoding = 'latin1'\n",
    "    net = u.load()"
   ]
  },
  {
   "cell_type": "markdown",
   "metadata": {},
   "source": [
    "# Using load_model  to export the model"
   ]
  },
  {
   "cell_type": "code",
   "execution_count": 47,
   "metadata": {},
   "outputs": [
    {
     "ename": "ValueError",
     "evalue": "operands could not be broadcast together with shapes (10000,) (10000,10) ",
     "output_type": "error",
     "traceback": [
      "\u001b[1;31m---------------------------------------------------------------------------\u001b[0m",
      "\u001b[1;31mValueError\u001b[0m                                Traceback (most recent call last)",
      "\u001b[1;32m<ipython-input-47-e2698ac78556>\u001b[0m in \u001b[0;36m<module>\u001b[1;34m\u001b[0m\n\u001b[0;32m      4\u001b[0m \u001b[0mmodel\u001b[0m \u001b[1;33m=\u001b[0m \u001b[0mload_model\u001b[0m\u001b[1;33m(\u001b[0m\u001b[1;34m'CNN_model.h5'\u001b[0m\u001b[1;33m)\u001b[0m\u001b[1;33m\u001b[0m\u001b[1;33m\u001b[0m\u001b[0m\n\u001b[0;32m      5\u001b[0m \u001b[0mpred\u001b[0m \u001b[1;33m=\u001b[0m \u001b[0mnp\u001b[0m\u001b[1;33m.\u001b[0m\u001b[0margmax\u001b[0m\u001b[1;33m(\u001b[0m\u001b[0mmodel\u001b[0m\u001b[1;33m.\u001b[0m\u001b[0mpredict\u001b[0m\u001b[1;33m(\u001b[0m\u001b[0mx_test\u001b[0m\u001b[1;33m)\u001b[0m\u001b[1;33m,\u001b[0m \u001b[0maxis\u001b[0m \u001b[1;33m=\u001b[0m \u001b[1;36m1\u001b[0m\u001b[1;33m)\u001b[0m\u001b[1;33m\u001b[0m\u001b[1;33m\u001b[0m\u001b[0m\n\u001b[1;32m----> 6\u001b[1;33m \u001b[0macc\u001b[0m \u001b[1;33m=\u001b[0m  \u001b[0mnp\u001b[0m\u001b[1;33m.\u001b[0m\u001b[0mmean\u001b[0m\u001b[1;33m(\u001b[0m\u001b[0mnp\u001b[0m\u001b[1;33m.\u001b[0m\u001b[0mequal\u001b[0m\u001b[1;33m(\u001b[0m\u001b[0mpred\u001b[0m\u001b[1;33m,\u001b[0m \u001b[0my_test\u001b[0m\u001b[1;33m)\u001b[0m\u001b[1;33m)\u001b[0m\u001b[1;33m\u001b[0m\u001b[1;33m\u001b[0m\u001b[0m\n\u001b[0m",
      "\u001b[1;31mValueError\u001b[0m: operands could not be broadcast together with shapes (10000,) (10000,10) "
     ]
    }
   ],
   "source": [
    "#using keras default\n",
    "\n",
    "from keras.models import load_model\n",
    "model = load_model('CNN_model.h5')\n",
    "pred = np.argmax(model.predict(x_test), axis = 1)\n",
    "pred_ohe = np_utils.to_categorical(pred)\n",
    "#acc =  np.mean(np.equal(pred, y_test))"
   ]
  },
  {
   "cell_type": "code",
   "execution_count": 65,
   "metadata": {},
   "outputs": [
    {
     "name": "stdout",
     "output_type": "stream",
     "text": [
      "The normal validation accuracy is: 99.866\n"
     ]
    }
   ],
   "source": [
    "pred_ohe = np_utils.to_categorical(pred)\n",
    "#print(pred[0:10],np.argmax(y_test[0:10]))\n",
    "acc =  np.mean(np.equal(pred_ohe, y_test))\n",
    "print(\"The normal validation accuracy is: {}\".format(acc*100))"
   ]
  },
  {
   "cell_type": "code",
   "execution_count": 67,
   "metadata": {
    "collapsed": true
   },
   "outputs": [],
   "source": [
    "import tensorflow as tf\n",
    "\n",
    "from cleverhans.attacks import FastGradientMethod\n",
    "from cleverhans.attacks import BasicIterativeMethod\n",
    "from cleverhans.utils_keras import KerasModelWrapper"
   ]
  },
  {
   "cell_type": "code",
   "execution_count": 73,
   "metadata": {},
   "outputs": [
    {
     "name": "stderr",
     "output_type": "stream",
     "text": [
      "[INFO 2018-11-27 02:13:12,130 cleverhans] Constructing new graph for attack FastGradientMethod\n"
     ]
    }
   ],
   "source": [
    "from keras import backend\n",
    "sess =  backend.get_session()\n",
    "\n",
    "wrap = KerasModelWrapper(model)\n",
    "fgsm = FastGradientMethod(wrap, sess=sess)\n",
    "fgsm_params = {'eps': 0.3,\n",
    "               'clip_min': 0.,\n",
    "               'clip_max': 1.}\n",
    "adv_x = fgsm.generate_np(x_test, **fgsm_params)\n",
    "\n",
    "adv_pred = np.argmax(model.predict(adv_x), axis = 1)\n",
    "#adv_acc =  np.mean(np.equal(adv_pred, y_validation))\n",
    "\n",
    "#print(\"The adversarial validation accuracy is: {}\".format(adv_acc))"
   ]
  },
  {
   "cell_type": "code",
   "execution_count": 74,
   "metadata": {},
   "outputs": [
    {
     "name": "stdout",
     "output_type": "stream",
     "text": [
      "The adversarial validation accuracy is: 84.836\n"
     ]
    }
   ],
   "source": [
    "advpred_ohe = np_utils.to_categorical(adv_pred)\n",
    "adv_acc =  np.mean(np.equal(advpred_ohe, y_test))\n",
    "\n",
    "print(\"The adversarial validation accuracy is: {}\".format(adv_acc*100))"
   ]
  },
  {
   "cell_type": "code",
   "execution_count": 63,
   "metadata": {},
   "outputs": [
    {
     "name": "stdout",
     "output_type": "stream",
     "text": [
      "anjnksnininms 2\n",
      "jbsjnkm [0. 0. 1. 0. 0. 0. 0. 0. 0. 0.]\n"
     ]
    }
   ],
   "source": [
    "#print(pred[0:10])\n",
    "print(\"anjnksnininms\",pred[1])\n",
    "s=np_utils.to_categorical(pred)\n",
    "print(\"jbsjnkm\",s[1])\n",
    "#print(y_test[4])\n",
    "#print(np.argmax(y_test[4]))"
   ]
  },
  {
   "cell_type": "code",
   "execution_count": 29,
   "metadata": {},
   "outputs": [
    {
     "ename": "AttributeError",
     "evalue": "'Sequential' object has no attribute 'score'",
     "output_type": "error",
     "traceback": [
      "\u001b[1;31m---------------------------------------------------------------------------\u001b[0m",
      "\u001b[1;31mAttributeError\u001b[0m                            Traceback (most recent call last)",
      "\u001b[1;32m<ipython-input-29-ac1708aa020a>\u001b[0m in \u001b[0;36m<module>\u001b[1;34m\u001b[0m\n\u001b[1;32m----> 1\u001b[1;33m \u001b[0mscore\u001b[0m \u001b[1;33m=\u001b[0m \u001b[0mpickle_model\u001b[0m\u001b[1;33m.\u001b[0m\u001b[0mscore\u001b[0m\u001b[1;33m(\u001b[0m\u001b[0mx_test\u001b[0m\u001b[1;33m,\u001b[0m\u001b[0my_test\u001b[0m\u001b[1;33m)\u001b[0m\u001b[1;33m\u001b[0m\u001b[1;33m\u001b[0m\u001b[0m\n\u001b[0m\u001b[0;32m      2\u001b[0m \u001b[0mprint\u001b[0m\u001b[1;33m(\u001b[0m\u001b[1;34m\"Test score: {0:.2f} %\"\u001b[0m\u001b[1;33m.\u001b[0m\u001b[0mformat\u001b[0m\u001b[1;33m(\u001b[0m\u001b[1;36m100\u001b[0m \u001b[1;33m*\u001b[0m \u001b[0mscore\u001b[0m\u001b[1;33m)\u001b[0m\u001b[1;33m)\u001b[0m\u001b[1;33m\u001b[0m\u001b[1;33m\u001b[0m\u001b[0m\n",
      "\u001b[1;31mAttributeError\u001b[0m: 'Sequential' object has no attribute 'score'"
     ]
    }
   ],
   "source": [
    "score = pickle_model.score(x_test,y_test)  \n",
    "print(\"Test score: {0:.2f} %\".format(100 * score))  "
   ]
  },
  {
   "cell_type": "markdown",
   "metadata": {},
   "source": [
    "## Saving the Model using joblib"
   ]
  },
  {
   "cell_type": "code",
   "execution_count": 25,
   "metadata": {
    "collapsed": true
   },
   "outputs": [],
   "source": [
    "from keras.models import load_model\n",
    "\n",
    "#from sklearn.externals import joblib\n",
    "#filename = 'CNN_model.h5'\n",
    "#classifier.save(filename)\n",
    "#joblib.dump(classifier, filename)\n",
    "model = load_model('CNN_model.h5')\n",
    "#model = joblib.load()\n"
   ]
  },
  {
   "cell_type": "code",
   "execution_count": 46,
   "metadata": {},
   "outputs": [
    {
     "data": {
      "text/plain": [
       "array([0., 0., 0., 0., 0., 0., 0., 0., 0., 1.], dtype=float32)"
      ]
     },
     "execution_count": 46,
     "metadata": {},
     "output_type": "execute_result"
    },
    {
     "data": {
      "image/png": "[encoded data removed]",
      "text/plain": [
       "<Figure size 288x288 with 1 Axes>"
      ]
     },
     "metadata": {
      "needs_background": "light"
     },
     "output_type": "display_data"
    }
   ],
   "source": [
    "plt.matshow(x_test[8][0])\n",
    "y_test[9]"
   ]
  },
  {
   "cell_type": "code",
   "execution_count": 37,
   "metadata": {},
   "outputs": [
    {
     "data": {
      "text/plain": [
       "()"
      ]
     },
     "execution_count": 37,
     "metadata": {},
     "output_type": "execute_result"
    }
   ],
   "source": [
    "# load the model from disk\n",
    "#from keras.models import load_model\n",
    "#loaded_model = joblib.load(filename)\n",
    "import numpy as np\n",
    "x=x_test[9]\n",
    "activations = pickle_model.model.predict_classes(x_test)\n",
    "prediction = np.argmax(activations)\n",
    "prediction.shape\n",
    "#result = model.score(X_test, Y_test)\n",
    "#print(result)\n",
    "#x_train[1]"
   ]
  },
  {
   "cell_type": "code",
   "execution_count": 45,
   "metadata": {},
   "outputs": [
    {
     "ename": "AttributeError",
     "evalue": "'Sequential' object has no attribute 'feedforward'",
     "output_type": "error",
     "traceback": [
      "\u001b[1;31m---------------------------------------------------------------------------\u001b[0m",
      "\u001b[1;31mAttributeError\u001b[0m                            Traceback (most recent call last)",
      "\u001b[1;32m<ipython-input-45-45bfad569d26>\u001b[0m in \u001b[0;36m<module>\u001b[1;34m\u001b[0m\n\u001b[1;32m----> 1\u001b[1;33m \u001b[0mprint\u001b[0m\u001b[1;33m(\u001b[0m\u001b[1;34m'Network output: \\n'\u001b[0m \u001b[1;33m+\u001b[0m \u001b[0mstr\u001b[0m\u001b[1;33m(\u001b[0m\u001b[0mnp\u001b[0m\u001b[1;33m.\u001b[0m\u001b[0mround\u001b[0m\u001b[1;33m(\u001b[0m\u001b[0mnet\u001b[0m\u001b[1;33m.\u001b[0m\u001b[0mfeedforward\u001b[0m\u001b[1;33m(\u001b[0m\u001b[0mx\u001b[0m\u001b[1;33m)\u001b[0m\u001b[1;33m,\u001b[0m \u001b[1;36m2\u001b[0m\u001b[1;33m)\u001b[0m\u001b[1;33m)\u001b[0m \u001b[1;33m+\u001b[0m \u001b[1;34m'\\n'\u001b[0m\u001b[1;33m)\u001b[0m\u001b[1;33m\u001b[0m\u001b[1;33m\u001b[0m\u001b[0m\n\u001b[0m\u001b[0;32m      2\u001b[0m \u001b[0mprint\u001b[0m\u001b[1;33m(\u001b[0m\u001b[1;34m'Network prediction: '\u001b[0m \u001b[1;33m+\u001b[0m \u001b[0mstr\u001b[0m\u001b[1;33m(\u001b[0m\u001b[0mnp\u001b[0m\u001b[1;33m.\u001b[0m\u001b[0margmax\u001b[0m\u001b[1;33m(\u001b[0m\u001b[0mnet\u001b[0m\u001b[1;33m.\u001b[0m\u001b[0mfeedforward\u001b[0m\u001b[1;33m(\u001b[0m\u001b[0mx\u001b[0m\u001b[1;33m)\u001b[0m\u001b[1;33m)\u001b[0m\u001b[1;33m)\u001b[0m \u001b[1;33m+\u001b[0m \u001b[1;34m'\\n'\u001b[0m\u001b[1;33m)\u001b[0m\u001b[1;33m\u001b[0m\u001b[1;33m\u001b[0m\u001b[0m\n\u001b[0;32m      3\u001b[0m \u001b[0mprint\u001b[0m\u001b[1;33m(\u001b[0m\u001b[1;34m'Actual image: '\u001b[0m\u001b[1;33m)\u001b[0m\u001b[1;33m\u001b[0m\u001b[1;33m\u001b[0m\u001b[0m\n\u001b[0;32m      4\u001b[0m \u001b[0mplt\u001b[0m\u001b[1;33m.\u001b[0m\u001b[0mimshow\u001b[0m\u001b[1;33m(\u001b[0m\u001b[0mx\u001b[0m\u001b[1;33m.\u001b[0m\u001b[0mreshape\u001b[0m\u001b[1;33m(\u001b[0m\u001b[1;33m(\u001b[0m\u001b[1;36m28\u001b[0m\u001b[1;33m,\u001b[0m\u001b[1;36m28\u001b[0m\u001b[1;33m)\u001b[0m\u001b[1;33m)\u001b[0m\u001b[1;33m,\u001b[0m \u001b[0mcmap\u001b[0m\u001b[1;33m=\u001b[0m\u001b[1;34m'Greys'\u001b[0m\u001b[1;33m)\u001b[0m\u001b[1;33m\u001b[0m\u001b[1;33m\u001b[0m\u001b[0m\n\u001b[0;32m      5\u001b[0m \u001b[1;33m\u001b[0m\u001b[0m\n",
      "\u001b[1;31mAttributeError\u001b[0m: 'Sequential' object has no attribute 'feedforward'"
     ]
    }
   ],
   "source": [
    "print('Network output: \\n' + str(np.round(net.feedforward(x), 2)) + '\\n')\n",
    "print('Network prediction: ' + str(np.argmax(net.feedforward(x))) + '\\n')\n",
    "print('Actual image: ')\n",
    "plt.imshow(x.reshape((28,28)), cmap='Greys')\n",
    "\n",
    "\n",
    "    \n",
    "    \n"
   ]
  },
  {
   "cell_type": "code",
   "execution_count": 42,
   "metadata": {},
   "outputs": [
    {
     "name": "stdout",
     "output_type": "stream",
     "text": [
      "4\n"
     ]
    }
   ],
   "source": [
    "print(activations[6])"
   ]
  },
  {
   "cell_type": "code",
   "execution_count": 28,
   "metadata": {},
   "outputs": [
    {
     "ename": "ValueError",
     "evalue": "too many values to unpack (expected 2)",
     "output_type": "error",
     "traceback": [
      "\u001b[1;31m---------------------------------------------------------------------------\u001b[0m",
      "\u001b[1;31mValueError\u001b[0m                                Traceback (most recent call last)",
      "\u001b[1;32m<ipython-input-28-f4112b0eb73d>\u001b[0m in \u001b[0;36m<module>\u001b[1;34m\u001b[0m\n\u001b[1;32m----> 1\u001b[1;33m \u001b[0mplt\u001b[0m\u001b[1;33m.\u001b[0m\u001b[0mmatshow\u001b[0m\u001b[1;33m(\u001b[0m\u001b[0mx_train\u001b[0m\u001b[1;33m[\u001b[0m\u001b[1;36m1\u001b[0m\u001b[1;33m]\u001b[0m\u001b[1;33m)\u001b[0m\u001b[1;33m\u001b[0m\u001b[1;33m\u001b[0m\u001b[0m\n\u001b[0m\u001b[0;32m      2\u001b[0m \u001b[0mplt\u001b[0m\u001b[1;33m.\u001b[0m\u001b[0mshow\u001b[0m\u001b[1;33m(\u001b[0m\u001b[1;33m)\u001b[0m\u001b[1;33m\u001b[0m\u001b[1;33m\u001b[0m\u001b[0m\n",
      "\u001b[1;32m~\\Anaconda3\\envs\\mlcs\\lib\\site-packages\\matplotlib\\pyplot.py\u001b[0m in \u001b[0;36mmatshow\u001b[1;34m(A, fignum, **kwargs)\u001b[0m\n\u001b[0;32m   2206\u001b[0m         \u001b[0max\u001b[0m  \u001b[1;33m=\u001b[0m \u001b[0mfig\u001b[0m\u001b[1;33m.\u001b[0m\u001b[0madd_axes\u001b[0m\u001b[1;33m(\u001b[0m\u001b[1;33m[\u001b[0m\u001b[1;36m0.15\u001b[0m\u001b[1;33m,\u001b[0m \u001b[1;36m0.09\u001b[0m\u001b[1;33m,\u001b[0m \u001b[1;36m0.775\u001b[0m\u001b[1;33m,\u001b[0m \u001b[1;36m0.775\u001b[0m\u001b[1;33m]\u001b[0m\u001b[1;33m)\u001b[0m\u001b[1;33m\u001b[0m\u001b[1;33m\u001b[0m\u001b[0m\n\u001b[0;32m   2207\u001b[0m \u001b[1;33m\u001b[0m\u001b[0m\n\u001b[1;32m-> 2208\u001b[1;33m     \u001b[0mim\u001b[0m \u001b[1;33m=\u001b[0m \u001b[0max\u001b[0m\u001b[1;33m.\u001b[0m\u001b[0mmatshow\u001b[0m\u001b[1;33m(\u001b[0m\u001b[0mA\u001b[0m\u001b[1;33m,\u001b[0m \u001b[1;33m**\u001b[0m\u001b[0mkwargs\u001b[0m\u001b[1;33m)\u001b[0m\u001b[1;33m\u001b[0m\u001b[1;33m\u001b[0m\u001b[0m\n\u001b[0m\u001b[0;32m   2209\u001b[0m     \u001b[0msci\u001b[0m\u001b[1;33m(\u001b[0m\u001b[0mim\u001b[0m\u001b[1;33m)\u001b[0m\u001b[1;33m\u001b[0m\u001b[1;33m\u001b[0m\u001b[0m\n\u001b[0;32m   2210\u001b[0m \u001b[1;33m\u001b[0m\u001b[0m\n",
      "\u001b[1;32m~\\Anaconda3\\envs\\mlcs\\lib\\site-packages\\matplotlib\\axes\\_axes.py\u001b[0m in \u001b[0;36mmatshow\u001b[1;34m(self, Z, **kwargs)\u001b[0m\n\u001b[0;32m   7787\u001b[0m         \"\"\"\n\u001b[0;32m   7788\u001b[0m         \u001b[0mZ\u001b[0m \u001b[1;33m=\u001b[0m \u001b[0mnp\u001b[0m\u001b[1;33m.\u001b[0m\u001b[0masanyarray\u001b[0m\u001b[1;33m(\u001b[0m\u001b[0mZ\u001b[0m\u001b[1;33m)\u001b[0m\u001b[1;33m\u001b[0m\u001b[1;33m\u001b[0m\u001b[0m\n\u001b[1;32m-> 7789\u001b[1;33m         \u001b[0mnr\u001b[0m\u001b[1;33m,\u001b[0m \u001b[0mnc\u001b[0m \u001b[1;33m=\u001b[0m \u001b[0mZ\u001b[0m\u001b[1;33m.\u001b[0m\u001b[0mshape\u001b[0m\u001b[1;33m\u001b[0m\u001b[1;33m\u001b[0m\u001b[0m\n\u001b[0m\u001b[0;32m   7790\u001b[0m         kw = {'origin': 'upper',\n\u001b[0;32m   7791\u001b[0m               \u001b[1;34m'interpolation'\u001b[0m\u001b[1;33m:\u001b[0m \u001b[1;34m'nearest'\u001b[0m\u001b[1;33m,\u001b[0m\u001b[1;33m\u001b[0m\u001b[1;33m\u001b[0m\u001b[0m\n",
      "\u001b[1;31mValueError\u001b[0m: too many values to unpack (expected 2)"
     ]
    },
    {
     "data": {
      "image/png": "[encoded data removed]",
      "text/plain": [
       "<Figure size 1152x144 with 1 Axes>"
      ]
     },
     "metadata": {
      "needs_background": "light"
     },
     "output_type": "display_data"
    }
   ],
   "source": [
    "plt.matshow(x_train[1])\n",
    "plt.show()"
   ]
  },
  {
   "cell_type": "code",
   "execution_count": 39,
   "metadata": {},
   "outputs": [
    {
     "data": {
      "text/plain": [
       "<matplotlib.image.AxesImage at 0x1a8f3332710>"
      ]
     },
     "execution_count": 39,
     "metadata": {},
     "output_type": "execute_result"
    },
    {
     "data": {
      "image/png": "[encoded data removed]",
      "text/plain": [
       "<Figure size 288x288 with 1 Axes>"
      ]
     },
     "metadata": {
      "needs_background": "light"
     },
     "output_type": "display_data"
    }
   ],
   "source": [
    "from sklearn.datasets import load_digits\n",
    "digits = load_digits()\n",
    "rs=digits.data[1].reshape(8,8)\n",
    "plt.matshow(digits.images[1]) \n"
   ]
  },
  {
   "cell_type": "code",
   "execution_count": 37,
   "metadata": {},
   "outputs": [
    {
     "name": "stdout",
     "output_type": "stream",
     "text": [
      "(8, 8)\n"
     ]
    },
    {
     "data": {
      "image/png": "[encoded data removed]",
      "text/plain": [
       "<Figure size 432x288 with 1 Axes>"
      ]
     },
     "metadata": {
      "needs_background": "light"
     },
     "output_type": "display_data"
    }
   ],
   "source": [
    "from scipy import ndimage\n",
    "import numpy as np\n",
    "# Get x-gradient in \"sx\"\n",
    "sx = ndimage.sobel(digits.images[1],axis=0,mode='constant')\n",
    "print(sx.shape)\n",
    "# Get y-gradient in \"sy\"\n",
    "sy = ndimage.sobel(digits.images[1],axis=1,mode='constant')\n",
    "# Get square root of sum of squares\n",
    "sobel=np.hypot(sx,sy)\n",
    "\n",
    "# Hopefully see some edges\n",
    "plt.imshow(sobel,cmap=plt.cm.gray)\n",
    "plt.show()"
   ]
  },
  {
   "cell_type": "code",
   "execution_count": 41,
   "metadata": {},
   "outputs": [
    {
     "name": "stdout",
     "output_type": "stream",
     "text": [
      "[[ 0.  0.  0. 12. 13.  5.  0.  0.]\n",
      " [ 0.  0.  0. 11. 16.  9.  0.  0.]\n",
      " [ 0.  0.  3. 15. 16.  6.  0.  0.]\n",
      " [ 0.  7. 15. 16. 16.  2.  0.  0.]\n",
      " [ 0.  0.  1. 16. 16.  3.  0.  0.]\n",
      " [ 0.  0.  1. 16. 16.  6.  0.  0.]\n",
      " [ 0.  0.  1. 16. 16.  6.  0.  0.]\n",
      " [ 0.  0.  0. 11. 16. 10.  0.  0.]]\n",
      "[[  0.   0.  11.  38.  52.  34.   9.   0.]\n",
      " [  0.   3.   9.  12.  10.   5.   1.   0.]\n",
      " [  7.  29.  42.  25.  -2. -14.  -7.   0.]\n",
      " [  0.  -2.  -3.   0.  -2.  -6.  -3.   0.]\n",
      " [ -7. -28. -35. -14.   4.   8.   4.   0.]\n",
      " [  0.   0.   0.   0.   3.   6.   3.   0.]\n",
      " [  0.  -1.  -7. -11.  -1.   8.   4.   0.]\n",
      " [  0.  -1. -18. -49. -54. -28.  -6.   0.]]\n"
     ]
    },
    {
     "data": {
      "text/plain": [
       "array([[  0.,   0., -11., -26., -39., -29.,  -9.,   0.],\n",
       "       [  0.,  -3.,  -9.,  -1.,   6.,   4.,  -1.,   0.],\n",
       "       [ -7., -29., -39., -10.,  18.,  20.,   7.,   0.],\n",
       "       [  0.,   9.,  18.,  16.,  18.,   8.,   3.,   0.],\n",
       "       [  7.,  28.,  36.,  30.,  12.,  -5.,  -4.,   0.],\n",
       "       [  0.,   0.,   1.,  16.,  13.,   0.,  -3.,   0.],\n",
       "       [  0.,   1.,   8.,  27.,  17.,  -2.,  -4.,   0.],\n",
       "       [  0.,   1.,  18.,  60.,  70.,  38.,   6.,   0.]])"
      ]
     },
     "execution_count": 41,
     "metadata": {},
     "output_type": "execute_result"
    }
   ],
   "source": [
    "print(rs)\n",
    "print(sx)\n",
    "rs-sx"
   ]
  },
  {
   "cell_type": "code",
   "execution_count": null,
   "metadata": {
    "collapsed": true
   },
   "outputs": [],
   "source": []
  }
 ],
 "metadata": {
  "kernelspec": {
   "display_name": "Python [default]",
   "language": "python",
   "name": "python3"
  },
  "language_info": {
   "codemirror_mode": {
    "name": "ipython",
    "version": 3
   },
   "file_extension": ".py",
   "mimetype": "text/x-python",
   "name": "python",
   "nbconvert_exporter": "python",
   "pygments_lexer": "ipython3",
   "version": "3.6.3"
  }
 },
 "nbformat": 4,
 "nbformat_minor": 2
}
