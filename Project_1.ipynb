{
 "cells": [
  {
   "cell_type": "markdown",
   "metadata": {
    "colab_type": "text",
    "id": "4NzyqehHjUlG"
   },
   "source": [
    "# ML in Cybersecurity: Project I\n",
    "\n",
    "## Team\n",
    "  * **Team name**:  *fill this in*\n",
    "  * **Members**:  *fill this in. format: name1 (email1), name2 (email2), ...*\n",
    "  * **Tutor**: *fill this in after being assigned*\n",
    "\n",
    "\n",
    "## Logistics\n",
    "  * **Due date**: 11th November 2018, 23:59:59 (to email the completed notebook to your respective tutors)\n",
    "  * Complete this in **teams of 3**\n",
    "  * Write to Hossein (hossein.hajipour@cispa.saarland) by **2nd November** your team members and team-name. \n",
    "  * In case you cannot find a team, some available options: (a) Contact Hossein, who can help you out (b) Post on the [course group](https://groups.google.com/d/forum/ml-cysec-2018)\n",
    "  * Each team will be assigned a tutor. Mail the notebook (or share the collab link) to the respective TAs before the due date.\n",
    "  \n",
    "  \n",
    "## Timeline\n",
    "  * 29-Oct-2018: Project 1 hand-out\n",
    "  * 2-Nov-2018: Write to Hossein your team-name and members\n",
    "  * 5-Nov-2018: Each team is assigned a tutor\n",
    "  * **11-Nov-2018** (23:59:59): Email completed notebook to respective TAs\n",
    "  * **12-Nov-2018** (12:15-14:00, regular tutorial slot): Teams present their projects\n",
    "  * 19-Nov-2018 (12:15-14:00, regular tutorial slot): Project 1 discussion and summary\n",
    "  \n",
    "  \n",
    "## About this Project\n",
    "In this project, you'll implement a digit classifier, based on the popular [MNIST](http://yann.lecun.com/exdb/mnist/) dataset. The dataset is based on a seminal [paper](http://yann.lecun.com/exdb/publis/pdf/lecun-01a.pdf), which immensely popularized (convolutional) neural networks. This is a great starting point for ML research and this dataset/model has been a stepping stone numerous other tasks such as [GANs](https://papers.nips.cc/paper/5423-generative-adversarial-nets.pdf), [Adversarial Perturbations](https://arxiv.org/abs/1412.6572) and so many more!\n",
    "\n",
    "This dataset consists of data $\\mathcal{D} = \\{x_i, y_i\\}_{i=1}^N$, where $x_i$ is a 28x28 pixel grayscale image and $y_i$ is a scalar represeting digits between 0-9. The notebook will guide you to load this data, implement classifiers $\\hat{y_i} = f_w(x_i)$  and analyze results. By doing so, you'll have a ML model that works on real data!\n",
    "\n",
    "To put things into context, have a look at Slide 24 in the [second](https://cms.cispa.saarland/mlcysec/dl/2/2018-10-24_ML_overview.pdf) lecture. Within this framework, the following blocks of this project are fixed:\n",
    "  * *Real-world problem*: Digit classification\n",
    "  * *Performance metric*: Mean accuracy i.e., $ \\frac{1}{N} \\sum_{i=1}^N \\mathbb{1}[\\hat{y_i} = y_i]$, where $\\mathbb{1}[\\hat{y_i} = y_i]$ is 1 if your model predicted the right digit for the $i$-th digit and 0 otherwise.\n",
    "  * *Data*: The MNIST dataset\n",
    "\n",
    "You'll make the the following design-choices:\n",
    " * *Choice of Model*: A model family (Non-parametric methods, Linear classifiers, Neural Networks, etc.)\n",
    " * *ML Model*: Specific model (e.g., SVM with a polynomial kernel)\n",
    " * *Loss/Risk*\n",
    " * *Optimization*\n",
    "\n",
    "\n",
    "## A Note on Grading\n",
    "The grading for this project will depend on:\n",
    " 1. Functional digit classifier\n",
    "   * Following a well-defined ML pipeline\n",
    "   * Developing 3 classification models (keep them diverse and ideally of increasing complexity)\n",
    "   * Obtaining reasonable accuracies (>80%) on a held-out test set\n",
    " 1. Analysis\n",
    "   * Which methods work better than the rest and why?\n",
    "   * Which hyper-parameters and design-choices were important in each of your methods?\n",
    "   * Quantifying influence of these hyper-parameters on loss and/or validation accuracies\n",
    "   * Trade-offs between methods, hyper-parameters, design-choices\n",
    "    * Anything else you find interesting (this part is open-ended)\n",
    " \n",
    "We will evaluate this criteria in a **12-minute presentation** (9 mins for presentation + 3 mins for Q&A). This will be during the regular tutorial slot on 12th November 12:00-14:00 (Location will be conveyed soon). In case you have time restrictions during the time of the tutorial, notify us asap!  You can present on your laptops.\n",
    "\n",
    "The most interesting findings will be discussed in the tutorial slot on 19th November.\n",
    " \n",
    " A note on (1.): \n",
    "  * choose your models that aids good insights. We require at least one non-Neural Network (e.g., SVM, KNN) and one Neural Network model (e.g., MLP, CNN).\n",
    "  * We definitely don't expect all three models to achieve >99% test accuracies!\n",
    " \n",
    " \n",
    "## Filling-in the Notebook\n",
    "You'll be submitting this very notebook that is filled-in with your code and analysis. Make sure you submit one that has been previously executed in-order. (So that results/graphs are already visible upon opening it). \n",
    "\n",
    "The notebook you submit **should compile** (or should be self-contained and sufficiently commented). Check tutorial 1 on how to set up the Python3 environment.\n",
    "\n",
    "It is extremely important that you **do not** re-order the existing sections. Apart from that, the code blocks that you need to fill-in are given by:\n",
    "```\n",
    "#\n",
    "#\n",
    "# ------- Your Code -------\n",
    "#\n",
    "#\n",
    "```\n",
    "Feel free to break this into multiple-cells. It's even better if you interleave explanations and code-blocks so that the entire notebook forms a readable \"story\".\n",
    "\n",
    "\n",
    "## Code of Honor\n",
    "We encourage discussing ideas and concepts with other students to help you learn and better understand the course content. However, the work you submit and present **must be original** and demonstrate your effort in solving the presented problems. **We will not tolerate** blatantly using existing solutions (such as from the internet), improper collaboration (e.g., sharing code or experimental data between groups) and plagiarism. If the honor code is not met, no points will be awarded.\n",
    "\n",
    " \n",
    " ## Versions\n",
    "  * v1.1: Added Code of Honor\n",
    "  * v1.0: Initial notebook\n",
    "  \n",
    "  ---"
   ]
  },
  {
   "cell_type": "code",
   "execution_count": null,
   "metadata": {
    "colab": {},
    "colab_type": "code",
    "id": "3ewNwfFvbFaR"
   },
   "outputs": [],
   "source": [
    "import time \n",
    " \n",
    "import numpy as np \n",
    "import matplotlib.pyplot as plt \n",
    "\n",
    "import json \n",
    "import time \n",
    "import pickle \n",
    "import sys \n",
    "import csv \n",
    "import os \n",
    "import os.path as osp \n",
    "import shutil \n",
    "\n",
    "import pandas as pd\n",
    "\n",
    "from IPython.display import display, HTML\n",
    " \n",
    "%matplotlib inline \n",
    "plt.rcParams['figure.figsize'] = (10.0, 8.0) # set default size of plots \n",
    "plt.rcParams['image.interpolation'] = 'nearest' \n",
    "plt.rcParams['image.cmap'] = 'gray' \n",
    " \n",
    "# for auto-reloading external modules \n",
    "# see http://stackoverflow.com/questions/1907993/autoreload-of-modules-in-ipython \n",
    "%load_ext autoreload\n",
    "%autoreload 2"
   ]
  },
  {
   "cell_type": "code",
   "execution_count": null,
   "metadata": {
    "colab": {},
    "colab_type": "code",
    "id": "640GrzbOevr0"
   },
   "outputs": [],
   "source": [
    "# Load other libraries here.\n",
    "# Keep it minimal! We should be easily able to reproduce your code.\n",
    "\n",
    "# In case you want to use neural networks, we only support sklearn and keras (With a tensorflow backend)."
   ]
  },
  {
   "cell_type": "markdown",
   "metadata": {
    "colab_type": "text",
    "id": "nxi-lLD0mKHD"
   },
   "source": [
    "Helpers\n",
    "\n",
    "In case you choose to have some methods you plan to reuse during the notebook, define them here. This will avoid clutter and keep rest of the notebook succinct."
   ]
  },
  {
   "cell_type": "code",
   "execution_count": null,
   "metadata": {
    "colab": {},
    "colab_type": "code",
    "id": "VBbigqdEmKd8"
   },
   "outputs": [],
   "source": [
    "def identity_func(foo):\n",
    "    return foo\n",
    "\n",
    "\n",
    "#\n",
    "#\n",
    "# ------- Your Code -------\n",
    "#\n",
    "#"
   ]
  },
  {
   "cell_type": "markdown",
   "metadata": {
    "colab_type": "text",
    "id": "n1pcmKkyjT7y"
   },
   "source": [
    "# 1. Loading and Visualizing data\n",
    "\n",
    "In this section, you'll need to prepare the MNIST data for the experiments you'll be conducting for the remainder of the notebook."
   ]
  },
  {
   "cell_type": "markdown",
   "metadata": {
    "colab_type": "text",
    "id": "AIU9Q762fmoT"
   },
   "source": [
    "## 1.1. Load Data\n",
    "\n",
    "Here you'll load the MNIST data into memory. The end-goal is to two have the following variables:\n",
    "  * `x_trainval`, `x_test`: of shape $N \\times d_1 \\times d_2 \\dots$ (e.g., $N \\times 784$. 784 since you could flatten each 28x28 pixel image into a single vector)\n",
    "  * `y_trainval`, `y_test`: of shape $N \\times K$ (K = 1 or 10 depending on how you plan to represent the ground-truth digit annotation)\n",
    "\n",
    "You can either do this by:\n",
    "  1. Downloading the MNIST dataset, unpacking and preparing it yourself to have fine-grained control\n",
    "  1. Using high-level existing functions, such as the one provided by  [`keras.datasets`](https://keras.io/datasets/#mnist-database-of-handwritten-digits).\n",
    "  \n",
    "  \n",
    "  In either case, it is important that you have disjoint trainval and test splits!"
   ]
  },
  {
   "cell_type": "code",
   "execution_count": null,
   "metadata": {
    "colab": {},
    "colab_type": "code",
    "id": "7kYacpo_jvao"
   },
   "outputs": [],
   "source": [
    "#\n",
    "#\n",
    "# ------- Your Code -------\n",
    "#\n",
    "#\n",
    "\n",
    "print('x_trainval.shape = {},  y_trainval.shape = {}'.format(x_trainval.shape, y_trainval.shape))\n",
    "print('x_test.shape = {},  y_test.shape = {}'.format(x_test.shape, y_test.shape))\n",
    "\n",
    "#\n",
    "# Feel free to have multiple variables in case your models are designed for different formats\n",
    "# For instance, in case your model requires Nx28x28 inputs, declare x_trainval_3d, etc.\n",
    "\n",
    "# Tip: Set this to a tiny number (such 0.05) to aid debugging\n",
    "# After all, you do not want to train/evaluate on the entire dataset to find bugs\n",
    "DEBUG_FRAC = 1.0\n",
    "# Resample x_[], y_[]"
   ]
  },
  {
   "cell_type": "markdown",
   "metadata": {
    "colab_type": "text",
    "id": "eA6_cejNjzYw"
   },
   "source": [
    "## 1.2. Visualize Data\n",
    "\n",
    "To get the hang of your data you'll be training a digit classifier on, visualize it.\n",
    "\n",
    "Examples of ways to visualize it:\n",
    "  * Given a digit, display few randomly sampled images for this digit (the bare minimum)\n",
    "  * Visualize as a grid (e.g., Slide 7, [Lecture 2](https://cms.cispa.saarland/mlcysec/dl/2/2018-10-24_ML_overview.pdf)) using a combination of `plt.imshow` and `plt.subplots`\n",
    "  \n",
    "It's up to you to decide how you want to do this. The end-goal is for you to potentially give a trailer of the dataset to someone who hasn't seen it before."
   ]
  },
  {
   "cell_type": "code",
   "execution_count": null,
   "metadata": {
    "colab": {},
    "colab_type": "code",
    "id": "dISIbt4plyoD"
   },
   "outputs": [],
   "source": [
    "#\n",
    "#\n",
    "# ------- Your Code -------\n",
    "#\n",
    "#\n",
    "\n",
    "plt.savefig('fig1.pdf')   # Save the figures in case you want to use it in the presentation\n",
    "plt.show()   # These should be some visualization of data at the end of this section"
   ]
  },
  {
   "cell_type": "markdown",
   "metadata": {
    "colab_type": "text",
    "id": "b8sAT53jmJ8_"
   },
   "source": [
    "# 2. Digit classifiers\n",
    "\n",
    "In this section, you'll begin developing models to perform digit classification.\n",
    "\n",
    "Each model needs to be structured like so:\n",
    "  1. Give a brief reason which model you are going to train and why you choose it\n",
    "  1. Define hyper-parameters for model and optimization procedure\n",
    "  1. Define your model\n",
    "  1. Define optimization method and fit model to data\n",
    "  1. Summarize your findings\n",
    "\n",
    "\n",
    "\n",
    "\n",
    "\n"
   ]
  },
  {
   "cell_type": "markdown",
   "metadata": {
    "colab_type": "text",
    "id": "xkF-7eFnpWoe"
   },
   "source": [
    "## 2.1: Model [M1]: *fill-this-in*\n",
    "\n",
    "**Short description **: *fill this in*"
   ]
  },
  {
   "cell_type": "markdown",
   "metadata": {
    "colab_type": "text",
    "id": "lVyT9Oddp3GB"
   },
   "source": [
    "### 2.1.1: Hyper-parameters\n",
    "\n",
    "Define hyper-parameters for your method here"
   ]
  },
  {
   "cell_type": "code",
   "execution_count": null,
   "metadata": {
    "colab": {},
    "colab_type": "code",
    "id": "yuHt4T7Vp5NC"
   },
   "outputs": [],
   "source": [
    "#\n",
    "#\n",
    "# ------- Your Code -------\n",
    "#\n",
    "#\n",
    "\n",
    "gamma = 0.001 # example\n",
    "\n",
    "test_set = 'val'  #  or 'test'\n",
    "# Decide all your hyperparameters based on validation performance\n",
    "# Then, switch to 'test' for final evaluation\n",
    "if test_set == 'val':\n",
    "    train_idxs, val_idxs = ..., ...   # Fill in\n",
    "    x_train, y_train = x_trainval[train_idxs], y_trainval[train_idxs]\n",
    "    x_eval, y_eval = x_trainval[val_idxs], y_trainval[val_idxs]\n",
    "else:\n",
    "    x_train, y_train = x_trainval, y_trainval\n",
    "    x_eval, y_eval = x_test, y_test"
   ]
  },
  {
   "cell_type": "markdown",
   "metadata": {
    "colab_type": "text",
    "id": "pkuCgPatp59X"
   },
   "source": [
    "### 2.1.2: Model\n",
    "\n",
    "Define your model here (all hyper-parameters in 2.1.1)"
   ]
  },
  {
   "cell_type": "code",
   "execution_count": null,
   "metadata": {
    "colab": {},
    "colab_type": "code",
    "id": "3qV3SuPAp6XF"
   },
   "outputs": [],
   "source": [
    "#\n",
    "#\n",
    "# ------- Your Code -------\n",
    "#\n",
    "#"
   ]
  },
  {
   "cell_type": "markdown",
   "metadata": {
    "colab_type": "text",
    "id": "SxE6d6OXp6sU"
   },
   "source": [
    "### 2.1.3: Fit Model\n",
    "\n",
    "Define optimization procedure and fit your model to the data"
   ]
  },
  {
   "cell_type": "code",
   "execution_count": null,
   "metadata": {
    "colab": {},
    "colab_type": "code",
    "id": "08tLwuchp68-"
   },
   "outputs": [],
   "source": []
  },
  {
   "cell_type": "markdown",
   "metadata": {
    "colab_type": "text",
    "id": "QaJv_d_Dp7OM"
   },
   "source": [
    "### 2.1.4: Evaluation\n",
    "\n",
    "Evaluate your model.\n",
    "\n",
    "When possible, you should have:\n",
    "  * Loss curves: Plot epoch (# passes over training data) and loss\n",
    "  * Accuracy curves: Plot epoch and accuracy over val/test set\n",
    "  * Final numbers: Report final accuracy numbers for your model"
   ]
  },
  {
   "cell_type": "code",
   "execution_count": null,
   "metadata": {
    "colab": {},
    "colab_type": "code",
    "id": "kZtLgPZrp7h5"
   },
   "outputs": [],
   "source": [
    "#\n",
    "#\n",
    "# ------- Your Code -------\n",
    "#\n",
    "#"
   ]
  },
  {
   "cell_type": "markdown",
   "metadata": {
    "colab_type": "text",
    "id": "DEQrdyLHsUIu"
   },
   "source": [
    "### 2.1.5: Summary\n",
    "\n",
    "Summarize your findings:\n",
    " * Which hyper-parameters were important and how did they influence your results?\n",
    " * What were other design choices you faced?\n",
    " * Any other interesting insights..."
   ]
  },
  {
   "cell_type": "markdown",
   "metadata": {
    "colab_type": "text",
    "id": "Fcq52WUUs2Mm"
   },
   "source": [
    "# 2.2: Model [M2]: *fill-this-in*\n",
    "\n",
    "*use the same format as above. Repeat Sections 2.1.1 -- 2.1.5*\n",
    "\n",
    "# 2.3: Model [M3]: *fill-this-in*\n",
    "\n",
    "*use the same format as above. Repeat Sections 2.1.1 -- 2.1.5*"
   ]
  },
  {
   "cell_type": "markdown",
   "metadata": {
    "colab_type": "text",
    "id": "Ex3qQp3JolD1"
   },
   "source": [
    "# 3. Summary\n",
    "\n",
    "Enter your final summary here.\n",
    "\n",
    "You should now compare performance  on the three models [M1], [M2] and [M3]. Present this in a tabular format and/or using plots.\n",
    "\n",
    "Which model do you recommend to perform digit classification and why?\n",
    "\n",
    "Feel free to discuss other insightful observations."
   ]
  },
  {
   "cell_type": "code",
   "execution_count": null,
   "metadata": {
    "colab": {},
    "colab_type": "code",
    "id": "pa6rPT53LUW8"
   },
   "outputs": [],
   "source": []
  }
 ],
 "metadata": {
  "colab": {
   "collapsed_sections": [],
   "name": "MLCySec Project 1.ipynb",
   "provenance": [],
   "version": "0.3.2"
  },
  "kernelspec": {
   "display_name": "Python [default]",
   "language": "python",
   "name": "python3"
  },
  "language_info": {
   "codemirror_mode": {
    "name": "ipython",
    "version": 3
   },
   "file_extension": ".py",
   "mimetype": "text/x-python",
   "name": "python",
   "nbconvert_exporter": "python",
   "pygments_lexer": "ipython3",
   "version": "3.7.0"
  }
 },
 "nbformat": 4,
 "nbformat_minor": 1
}
