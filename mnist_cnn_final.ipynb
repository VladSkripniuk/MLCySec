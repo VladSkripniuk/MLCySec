{
 "cells": [
  {
   "cell_type": "code",
   "execution_count": 22,
   "metadata": {},
   "outputs": [],
   "source": [
    "import numpy\n",
    "import matplotlib.pyplot as plt\n",
    "%matplotlib inline\n",
    "\n",
    "from keras.datasets import mnist\n",
    "from keras.models import Sequential\n",
    "from keras.layers import Dense\n",
    "from keras.layers import Dropout\n",
    "from keras.layers import Flatten\n",
    "from keras.layers.convolutional import Conv2D\n",
    "from keras.layers.convolutional import MaxPooling2D\n",
    "from keras.utils import np_utils\n",
    "from keras import backend as K\n",
    "from keras.callbacks import ModelCheckpoint\n",
    "\n",
    "K.set_image_dim_ordering('th')\n",
    "\n"
   ]
  },
  {
   "cell_type": "code",
   "execution_count": 23,
   "metadata": {},
   "outputs": [],
   "source": [
    "from keras.optimizers import *\n",
    "from keras.wrappers.scikit_learn import KerasClassifier\n",
    "from sklearn.model_selection import GridSearchCV"
   ]
  },
  {
   "cell_type": "code",
   "execution_count": 24,
   "metadata": {},
   "outputs": [],
   "source": [
    "#random seed for reproducing the same \n",
    "seed = 1234\n",
    "numpy.random.seed(seed)"
   ]
  },
  {
   "cell_type": "code",
   "execution_count": 4,
   "metadata": {},
   "outputs": [],
   "source": [
    "#reading data\n",
    "(x_train,y_train),(x_test,y_test)=mnist.load_data()"
   ]
  },
  {
   "cell_type": "code",
   "execution_count": 5,
   "metadata": {},
   "outputs": [],
   "source": [
    "x_train = x_train.reshape(x_train.shape[0],1,28,28).astype(\"float32\")\n",
    "x_test = x_test.reshape(x_test.shape[0],1,28,28).astype(\"float32\")"
   ]
  },
  {
   "cell_type": "code",
   "execution_count": 6,
   "metadata": {},
   "outputs": [],
   "source": [
    "x_train = x_train/255\n",
    "x_test = x_test/255"
   ]
  },
  {
   "cell_type": "code",
   "execution_count": 7,
   "metadata": {},
   "outputs": [
    {
     "data": {
      "text/plain": [
       "10"
      ]
     },
     "execution_count": 7,
     "metadata": {},
     "output_type": "execute_result"
    }
   ],
   "source": [
    "#one hot encoding\n",
    "#print(y_test[4])\n",
    "y_test = np_utils.to_categorical(y_test)\n",
    "#print(y_test[4])\n",
    "y_train = np_utils.to_categorical(y_train)\n",
    "n_classes = y_test.shape[1]\n",
    "n_classes\n",
    "#n_classes\n",
    "#y_test.shape"
   ]
  },
  {
   "cell_type": "markdown",
   "metadata": {},
   "source": [
    "# Tuning #.1\n",
    "\n",
    "## hyper_param : optimizer, epoch and batch_size"
   ]
  },
  {
   "cell_type": "code",
   "execution_count": 8,
   "metadata": {},
   "outputs": [],
   "source": [
    "#define model\n",
    "def cnn_model(optimizer):#dropout_ratelearning_rate#optimizer):\n",
    "    classifier = Sequential()\n",
    "    classifier.add(Conv2D(32,(4,4), input_shape=(1,28,28), activation=\"relu\"))\n",
    "    classifier.add(MaxPooling2D(pool_size=(2,2)))\n",
    "    classifier.add(Conv2D(16,(4,4), activation=\"relu\"))\n",
    "    classifier.add(MaxPooling2D(pool_size=(2,2)))\n",
    "    classifier.add(Dropout(0.3))\n",
    "    classifier.add(Flatten())\n",
    "    classifier.add(Dense(128,activation='relu'))\n",
    "    #classifier.add(Dropout(0.3))\n",
    "    classifier.add(Dense(32,activation='relu'))\n",
    "    classifier.add(Dense(n_classes,activation='softmax'))\n",
    "    classifier.compile(optimizer=optimizer,metrics=[\"accuracy\"],loss=\"categorical_crossentropy\")\n",
    "    return(classifier)"
   ]
  },
  {
   "cell_type": "code",
   "execution_count": 10,
   "metadata": {},
   "outputs": [],
   "source": [
    "params = { 'batch_size' : [100,200], 'epochs' : [2,3], 'optimizer' : ['adam','rmsprop'] }\n",
    "\n",
    "#learning_rate = [0.1, 0.5]\n",
    "#dropout_rate = [0.3, 0.5, 0.7]\n",
    "#optimizer = [\"SGD\", \"RMSprop\", \"Adam\", \"Adamax\", \"Nadam\"][:1]\n",
    "#optimizer = [SGD, RMSprop, Adam, Adamax]\n",
    "\n",
    "\n"
   ]
  },
  {
   "cell_type": "code",
   "execution_count": 55,
   "metadata": {},
   "outputs": [],
   "source": [
    "#params = dict (learning_rate = learning_rate)#batch_size = batch_size,\n",
    "              #epochs = epochs,\n",
    "              \n",
    "              #dropout_rate = dropout_rate,\n",
    "              #optimizer = optimizer)\n",
    "\n"
   ]
  },
  {
   "cell_type": "code",
   "execution_count": 13,
   "metadata": {},
   "outputs": [],
   "source": [
    "classifier = KerasClassifier(build_fn = cnn_model)\n",
    "models = GridSearchCV(estimator = classifier, param_grid = params)"
   ]
  },
  {
   "cell_type": "code",
   "execution_count": 14,
   "metadata": {},
   "outputs": [
    {
     "name": "stdout",
     "output_type": "stream",
     "text": [
      "Epoch 1/2\n",
      "40000/40000 [==============================] - 144s 4ms/step - loss: 0.4306 - acc: 0.8637\n",
      "Epoch 2/2\n",
      "40000/40000 [==============================] - 138s 3ms/step - loss: 0.1334 - acc: 0.9589\n",
      "20000/20000 [==============================] - 39s 2ms/step\n",
      "40000/40000 [==============================] - 78s 2ms/step\n",
      "Epoch 1/2\n",
      "40000/40000 [==============================] - 144s 4ms/step - loss: 0.4466 - acc: 0.8592\n",
      "Epoch 2/2\n",
      "40000/40000 [==============================] - 142s 4ms/step - loss: 0.1334 - acc: 0.9595\n",
      "20000/20000 [==============================] - 39s 2ms/step\n",
      "40000/40000 [==============================] - 78s 2ms/step\n",
      "Epoch 1/2\n",
      "40000/40000 [==============================] - 144s 4ms/step - loss: 0.4456 - acc: 0.8601\n",
      "Epoch 2/2\n",
      "40000/40000 [==============================] - 142s 4ms/step - loss: 0.1375 - acc: 0.9577\n",
      "20000/20000 [==============================] - 39s 2ms/step\n",
      "40000/40000 [==============================] - 78s 2ms/step\n",
      "Epoch 1/2\n",
      "40000/40000 [==============================] - 152s 4ms/step - loss: 0.4161 - acc: 0.8660\n",
      "Epoch 2/2\n",
      "40000/40000 [==============================] - 146s 4ms/step - loss: 0.1472 - acc: 0.9537\n",
      "20000/20000 [==============================] - 39s 2ms/step\n",
      "40000/40000 [==============================] - 76s 2ms/step\n",
      "Epoch 1/2\n",
      "40000/40000 [==============================] - 144s 4ms/step - loss: 0.4215 - acc: 0.8655\n",
      "Epoch 2/2\n",
      "40000/40000 [==============================] - 144s 4ms/step - loss: 0.1386 - acc: 0.9565\n",
      "20000/20000 [==============================] - 40s 2ms/step\n",
      "40000/40000 [==============================] - 78s 2ms/step\n",
      "Epoch 1/2\n",
      "40000/40000 [==============================] - 143s 4ms/step - loss: 0.3953 - acc: 0.8756\n",
      "Epoch 2/2\n",
      "40000/40000 [==============================] - 500s 12ms/step - loss: 0.1303 - acc: 0.9602\n",
      "20000/20000 [==============================] - 40s 2ms/step\n",
      "40000/40000 [==============================] - 79s 2ms/step\n",
      "Epoch 1/3\n",
      "40000/40000 [==============================] - 148s 4ms/step - loss: 0.4018 - acc: 0.8765\n",
      "Epoch 2/3\n",
      "40000/40000 [==============================] - 143s 4ms/step - loss: 0.1283 - acc: 0.9600\n",
      "Epoch 3/3\n",
      "40000/40000 [==============================] - 143s 4ms/step - loss: 0.0907 - acc: 0.9715\n",
      "20000/20000 [==============================] - 39s 2ms/step\n",
      "40000/40000 [==============================] - 77s 2ms/step\n",
      "Epoch 1/3\n",
      "40000/40000 [==============================] - 146s 4ms/step - loss: 0.4303 - acc: 0.8630\n",
      "Epoch 2/3\n",
      "40000/40000 [==============================] - 146s 4ms/step - loss: 0.1340 - acc: 0.9589\n",
      "Epoch 3/3\n",
      "40000/40000 [==============================] - 1933s 48ms/step - loss: 0.0969 - acc: 0.9694\n",
      "20000/20000 [==============================] - 24s 1ms/step\n",
      "40000/40000 [==============================] - 48s 1ms/step\n",
      "Epoch 1/3\n",
      "40000/40000 [==============================] - 88s 2ms/step - loss: 0.4359 - acc: 0.8609\n",
      "Epoch 2/3\n",
      "40000/40000 [==============================] - 87s 2ms/step - loss: 0.1310 - acc: 0.9591\n",
      "Epoch 3/3\n",
      "40000/40000 [==============================] - 86s 2ms/step - loss: 0.0976 - acc: 0.9696\n",
      "20000/20000 [==============================] - 24s 1ms/step\n",
      "40000/40000 [==============================] - 47s 1ms/step\n",
      "Epoch 1/3\n",
      "40000/40000 [==============================] - 86s 2ms/step - loss: 0.4000 - acc: 0.8738\n",
      "Epoch 2/3\n",
      "40000/40000 [==============================] - 85s 2ms/step - loss: 0.1348 - acc: 0.9578\n",
      "Epoch 3/3\n",
      "40000/40000 [==============================] - 85s 2ms/step - loss: 0.0976 - acc: 0.9700\n",
      "20000/20000 [==============================] - 24s 1ms/step\n",
      "40000/40000 [==============================] - 48s 1ms/step\n",
      "Epoch 1/3\n",
      "40000/40000 [==============================] - 24037s 601ms/step - loss: 0.3906 - acc: 0.8795\n",
      "Epoch 2/3\n",
      "40000/40000 [==============================] - 89s 2ms/step - loss: 0.1338 - acc: 0.9575\n",
      "Epoch 3/3\n",
      "40000/40000 [==============================] - 87s 2ms/step - loss: 0.0972 - acc: 0.9698\n",
      "20000/20000 [==============================] - 26s 1ms/step\n",
      "40000/40000 [==============================] - 48s 1ms/step\n",
      "Epoch 1/3\n",
      "40000/40000 [==============================] - 88s 2ms/step - loss: 0.3992 - acc: 0.8736\n",
      "Epoch 2/3\n",
      "40000/40000 [==============================] - 86s 2ms/step - loss: 0.1405 - acc: 0.9564\n",
      "Epoch 3/3\n",
      "40000/40000 [==============================] - 85s 2ms/step - loss: 0.0986 - acc: 0.9694\n",
      "20000/20000 [==============================] - 24s 1ms/step\n",
      "40000/40000 [==============================] - 47s 1ms/step\n",
      "Epoch 1/2\n",
      "40000/40000 [==============================] - 86s 2ms/step - loss: 0.5664 - acc: 0.8192\n",
      "Epoch 2/2\n",
      "40000/40000 [==============================] - 239s 6ms/step - loss: 0.1559 - acc: 0.9518\n",
      "20000/20000 [==============================] - 24s 1ms/step\n",
      "40000/40000 [==============================] - 47s 1ms/step\n",
      "Epoch 1/2\n",
      "40000/40000 [==============================] - 86s 2ms/step - loss: 0.6118 - acc: 0.8097\n",
      "Epoch 2/2\n",
      "40000/40000 [==============================] - 85s 2ms/step - loss: 0.1578 - acc: 0.9521\n",
      "20000/20000 [==============================] - 24s 1ms/step\n",
      "40000/40000 [==============================] - 47s 1ms/step\n",
      "Epoch 1/2\n",
      "40000/40000 [==============================] - 86s 2ms/step - loss: 0.5848 - acc: 0.8111\n",
      "Epoch 2/2\n",
      "40000/40000 [==============================] - 85s 2ms/step - loss: 0.1634 - acc: 0.9506\n",
      "20000/20000 [==============================] - 24s 1ms/step\n",
      "40000/40000 [==============================] - 47s 1ms/step\n",
      "Epoch 1/2\n",
      "40000/40000 [==============================] - 86s 2ms/step - loss: 0.5580 - acc: 0.8254\n",
      "Epoch 2/2\n",
      "40000/40000 [==============================] - 85s 2ms/step - loss: 0.1857 - acc: 0.9439\n",
      "20000/20000 [==============================] - 24s 1ms/step\n",
      "40000/40000 [==============================] - 47s 1ms/step\n",
      "Epoch 1/2\n",
      "40000/40000 [==============================] - 86s 2ms/step - loss: 0.5342 - acc: 0.8382\n",
      "Epoch 2/2\n",
      "40000/40000 [==============================] - 85s 2ms/step - loss: 0.1713 - acc: 0.9479\n",
      "20000/20000 [==============================] - 24s 1ms/step\n",
      "40000/40000 [==============================] - 47s 1ms/step\n",
      "Epoch 1/2\n",
      "40000/40000 [==============================] - 87s 2ms/step - loss: 0.5689 - acc: 0.8186\n",
      "Epoch 2/2\n",
      "40000/40000 [==============================] - 85s 2ms/step - loss: 0.1869 - acc: 0.9423\n",
      "20000/20000 [==============================] - 24s 1ms/step\n",
      "40000/40000 [==============================] - 47s 1ms/step\n",
      "Epoch 1/3\n",
      "40000/40000 [==============================] - 86s 2ms/step - loss: 0.6046 - acc: 0.8117\n",
      "Epoch 2/3\n",
      "40000/40000 [==============================] - 84s 2ms/step - loss: 0.1546 - acc: 0.9532\n",
      "Epoch 3/3\n",
      "40000/40000 [==============================] - 84s 2ms/step - loss: 0.1133 - acc: 0.9650\n",
      "20000/20000 [==============================] - 23s 1ms/step\n",
      "40000/40000 [==============================] - 47s 1ms/step\n",
      "Epoch 1/3\n",
      "40000/40000 [==============================] - 87s 2ms/step - loss: 0.5567 - acc: 0.8230\n",
      "Epoch 2/3\n",
      "40000/40000 [==============================] - 85s 2ms/step - loss: 0.1546 - acc: 0.9536\n",
      "Epoch 3/3\n",
      "40000/40000 [==============================] - 85s 2ms/step - loss: 0.1138 - acc: 0.9657\n",
      "20000/20000 [==============================] - 24s 1ms/step\n",
      "40000/40000 [==============================] - 47s 1ms/step\n",
      "Epoch 1/3\n",
      "40000/40000 [==============================] - 87s 2ms/step - loss: 0.6052 - acc: 0.8113\n",
      "Epoch 2/3\n",
      "40000/40000 [==============================] - 85s 2ms/step - loss: 0.1645 - acc: 0.9491\n",
      "Epoch 3/3\n",
      "40000/40000 [==============================] - 85s 2ms/step - loss: 0.1168 - acc: 0.9641\n",
      "20000/20000 [==============================] - 24s 1ms/step\n",
      "40000/40000 [==============================] - 47s 1ms/step\n",
      "Epoch 1/3\n",
      "40000/40000 [==============================] - 86s 2ms/step - loss: 0.5407 - acc: 0.8290\n",
      "Epoch 2/3\n",
      "40000/40000 [==============================] - 85s 2ms/step - loss: 0.1692 - acc: 0.9477\n",
      "Epoch 3/3\n",
      "40000/40000 [==============================] - 85s 2ms/step - loss: 0.1162 - acc: 0.9634\n",
      "20000/20000 [==============================] - 24s 1ms/step\n",
      "40000/40000 [==============================] - 47s 1ms/step\n",
      "Epoch 1/3\n",
      "40000/40000 [==============================] - 87s 2ms/step - loss: 0.5282 - acc: 0.8345\n",
      "Epoch 2/3\n",
      "40000/40000 [==============================] - 85s 2ms/step - loss: 0.1716 - acc: 0.9470\n",
      "Epoch 3/3\n",
      "40000/40000 [==============================] - 84s 2ms/step - loss: 0.1184 - acc: 0.9630\n",
      "20000/20000 [==============================] - 23s 1ms/step\n",
      "40000/40000 [==============================] - 46s 1ms/step\n",
      "Epoch 1/3\n",
      "40000/40000 [==============================] - 86s 2ms/step - loss: 0.5491 - acc: 0.8262\n",
      "Epoch 2/3\n",
      "40000/40000 [==============================] - 85s 2ms/step - loss: 0.1645 - acc: 0.9494\n",
      "Epoch 3/3\n",
      "40000/40000 [==============================] - 84s 2ms/step - loss: 0.1162 - acc: 0.9643\n",
      "20000/20000 [==============================] - 24s 1ms/step\n",
      "40000/40000 [==============================] - 45s 1ms/step\n",
      "Epoch 1/3\n",
      "60000/60000 [==============================] - 135s 2ms/step - loss: 0.3314 - acc: 0.8953\n",
      "Epoch 2/3\n",
      "60000/60000 [==============================] - 134s 2ms/step - loss: 0.1107 - acc: 0.9652\n",
      "Epoch 3/3\n",
      "60000/60000 [==============================] - 133s 2ms/step - loss: 0.0836 - acc: 0.9734\n",
      "Best Model {'batch_size': 100, 'epochs': 3, 'optimizer': 'adam'}\n"
     ]
    }
   ],
   "source": [
    "best_model = models.fit(x_train,y_train)\n",
    "print(\"Best Model\", best_model.best_params_)\n",
    "#print(\"Best Accuracy\", best_model.best_score_)\n"
   ]
  },
  {
   "cell_type": "code",
   "execution_count": 15,
   "metadata": {},
   "outputs": [],
   "source": [
    "#final model post hyper-param tuning\n",
    "\n",
    "#define model\n",
    "def cnn_model():\n",
    "    classifier = Sequential()\n",
    "    classifier.add(Conv2D(32,(4,4), input_shape=(1,28,28), activation=\"relu\"))\n",
    "    classifier.add(MaxPooling2D(pool_size=(2,2)))\n",
    "    classifier.add(Conv2D(16,(4,4), activation=\"relu\"))\n",
    "    classifier.add(MaxPooling2D(pool_size=(2,2)))\n",
    "    classifier.add(Dropout(0.3))\n",
    "    classifier.add(Flatten())\n",
    "    classifier.add(Dense(128,activation='relu'))\n",
    "    classifier.add(Dense(32,activation='relu'))\n",
    "    classifier.add(Dense(n_classes,activation='softmax'))\n",
    "    classifier.compile(optimizer='adam',metrics=['accuracy'],loss='categorical_crossentropy')\n",
    "    return(classifier)\n",
    "    \n",
    "\n"
   ]
  },
  {
   "cell_type": "code",
   "execution_count": 22,
   "metadata": {},
   "outputs": [
    {
     "name": "stdout",
     "output_type": "stream",
     "text": [
      "Train on 60000 samples, validate on 10000 samples\n",
      "Epoch 1/3\n",
      "60000/60000 [==============================] - 197s 3ms/step - loss: 0.3465 - acc: 0.8896 - val_loss: 0.0766 - val_acc: 0.9760\n",
      "Epoch 2/3\n",
      "60000/60000 [==============================] - 141s 2ms/step - loss: 0.1117 - acc: 0.9653 - val_loss: 0.0554 - val_acc: 0.9816\n",
      "Epoch 3/3\n",
      "60000/60000 [==============================] - 141s 2ms/step - loss: 0.0840 - acc: 0.9735 - val_loss: 0.0415 - val_acc: 0.9867\n",
      "Accuracy of the Classifier is:  98.67\n"
     ]
    }
   ],
   "source": [
    "classifier = cnn_model()\n",
    "history_obj = classifier.fit(x_train,y_train,validation_data=(x_test,y_test),epochs = 3, batch_size = 100)\n",
    "accuracy_scores = classifier.evaluate(x_test,y_test,verbose = 0)\n",
    "print(\"Accuracy of the Classifier is: \", accuracy_scores[1]*100)"
   ]
  },
  {
   "cell_type": "code",
   "execution_count": 26,
   "metadata": {},
   "outputs": [
    {
     "data": {
      "image/png": "[encoded data removed]",
      "text/plain": [
       "<Figure size 432x288 with 1 Axes>"
      ]
     },
     "metadata": {
      "needs_background": "light"
     },
     "output_type": "display_data"
    }
   ],
   "source": [
    "#accuracy\n",
    "plt.plot(history_obj.history['acc'])\n",
    "plt.plot(history_obj.history['val_acc'])\n",
    "plt.title('model accuracy')\n",
    "plt.ylabel('accuracy')\n",
    "plt.xlabel('epoch')\n",
    "plt.legend(['train', 'test'], loc='upper left')\n",
    "plt.show()"
   ]
  },
  {
   "cell_type": "code",
   "execution_count": 25,
   "metadata": {},
   "outputs": [
    {
     "name": "stdout",
     "output_type": "stream",
     "text": [
      "dict_keys(['val_loss', 'val_acc', 'loss', 'acc'])\n",
      "[0.9760000056028366, 0.9816000068187714, 0.986700006723404]\n"
     ]
    }
   ],
   "source": [
    "print(history_obj.history.keys())\n",
    "print(history_obj.history['val_acc'])"
   ]
  },
  {
   "cell_type": "code",
   "execution_count": 27,
   "metadata": {},
   "outputs": [
    {
     "data": {
      "image/png": "[encoded data removed]",
      "text/plain": [
       "<Figure size 432x288 with 1 Axes>"
      ]
     },
     "metadata": {
      "needs_background": "light"
     },
     "output_type": "display_data"
    }
   ],
   "source": [
    "#loss\n",
    "plt.plot(history_obj.history['loss'])\n",
    "plt.plot(history_obj.history['val_loss'])\n",
    "plt.title('model loss')\n",
    "plt.ylabel('loss')\n",
    "plt.xlabel('epoch')\n",
    "plt.legend(['train', 'test'], loc='upper left')\n",
    "plt.show()"
   ]
  },
  {
   "cell_type": "markdown",
   "metadata": {},
   "source": [
    "# TUNING #.2"
   ]
  },
  {
   "cell_type": "markdown",
   "metadata": {},
   "source": [
    "## hyper_param : Dropouts"
   ]
  },
  {
   "cell_type": "code",
   "execution_count": 8,
   "metadata": {},
   "outputs": [],
   "source": [
    "#upgraded model\n",
    "def cnn_model(dropout):#dropout_ratelearning_rate#optimizer):\n",
    "    classifier = Sequential()\n",
    "    classifier.add(Conv2D(32,(4,4), input_shape=(1,28,28), activation=\"relu\"))\n",
    "    classifier.add(MaxPooling2D(pool_size=(2,2)))\n",
    "    classifier.add(Conv2D(16,(4,4), activation=\"relu\"))\n",
    "    classifier.add(MaxPooling2D(pool_size=(2,2)))\n",
    "    classifier.add(Dropout(dropout))\n",
    "    classifier.add(Flatten())\n",
    "    classifier.add(Dense(128,activation='relu'))\n",
    "    classifier.add(Dropout(dropout))\n",
    "    classifier.add(Dense(32,activation='relu'))\n",
    "    classifier.add(Dense(n_classes,activation='softmax'))\n",
    "    classifier.compile(optimizer='adam',metrics=[\"accuracy\"],loss=\"categorical_crossentropy\")\n",
    "    return(classifier)"
   ]
  },
  {
   "cell_type": "code",
   "execution_count": 9,
   "metadata": {},
   "outputs": [],
   "source": [
    "params = { 'dropout' : [0.3, 0.5, 0.7] }"
   ]
  },
  {
   "cell_type": "code",
   "execution_count": 10,
   "metadata": {},
   "outputs": [],
   "source": [
    "classifier = KerasClassifier(build_fn = cnn_model)\n",
    "models = GridSearchCV(estimator = classifier, param_grid = params)"
   ]
  },
  {
   "cell_type": "code",
   "execution_count": 11,
   "metadata": {},
   "outputs": [
    {
     "name": "stderr",
     "output_type": "stream",
     "text": [
      "C:\\Users\\soumy\\Anaconda3\\envs\\mlcs\\lib\\site-packages\\sklearn\\model_selection\\_split.py:1943: FutureWarning: You should specify a value for 'cv' instead of relying on the default value. The default value will change from 3 to 5 in version 0.22.\n",
      "  warnings.warn(CV_WARNING, FutureWarning)\n"
     ]
    },
    {
     "name": "stdout",
     "output_type": "stream",
     "text": [
      "Epoch 1/10\n",
      "40000/40000 [==============================] - 143s 4ms/step - loss: 0.5290 - acc: 0.8296\n",
      "Epoch 2/10\n"
     ]
    },
    {
     "name": "stderr",
     "output_type": "stream",
     "text": [
      "C:\\Users\\soumy\\Anaconda3\\envs\\mlcs\\lib\\site-packages\\keras\\callbacks.py:434: RuntimeWarning: Can save best model only with val_acc available, skipping.\n",
      "  'skipping.' % (self.monitor), RuntimeWarning)\n"
     ]
    },
    {
     "name": "stdout",
     "output_type": "stream",
     "text": [
      "40000/40000 [==============================] - 141s 4ms/step - loss: 0.1650 - acc: 0.9492\n",
      "Epoch 3/10\n",
      "40000/40000 [==============================] - 140s 4ms/step - loss: 0.1210 - acc: 0.9632\n",
      "Epoch 4/10\n",
      "40000/40000 [==============================] - 141s 4ms/step - loss: 0.1023 - acc: 0.9683\n",
      "Epoch 5/10\n",
      "40000/40000 [==============================] - 141s 4ms/step - loss: 0.0882 - acc: 0.9722\n",
      "Epoch 6/10\n",
      "40000/40000 [==============================] - 140s 4ms/step - loss: 0.0782 - acc: 0.9760\n",
      "Epoch 7/10\n",
      "40000/40000 [==============================] - 143s 4ms/step - loss: 0.0736 - acc: 0.9773\n",
      "Epoch 8/10\n",
      "40000/40000 [==============================] - 139s 3ms/step - loss: 0.0660 - acc: 0.9803\n",
      "Epoch 9/10\n",
      "40000/40000 [==============================] - 139s 3ms/step - loss: 0.0644 - acc: 0.9801\n",
      "Epoch 10/10\n",
      "40000/40000 [==============================] - 136s 3ms/step - loss: 0.0618 - acc: 0.9805\n",
      "20000/20000 [==============================] - 39s 2ms/step\n",
      "40000/40000 [==============================] - 77s 2ms/step\n",
      "Epoch 1/10\n",
      "40000/40000 [==============================] - 139s 3ms/step - loss: 0.5228 - acc: 0.8342\n",
      "Epoch 2/10\n",
      "40000/40000 [==============================] - 139s 3ms/step - loss: 0.1678 - acc: 0.9483\n",
      "Epoch 3/10\n",
      "40000/40000 [==============================] - 138s 3ms/step - loss: 0.1271 - acc: 0.9603\n",
      "Epoch 4/10\n",
      "40000/40000 [==============================] - 137s 3ms/step - loss: 0.1046 - acc: 0.9669\n",
      "Epoch 5/10\n",
      "40000/40000 [==============================] - 139s 3ms/step - loss: 0.0902 - acc: 0.9718\n",
      "Epoch 6/10\n",
      "40000/40000 [==============================] - 137s 3ms/step - loss: 0.0825 - acc: 0.9750\n",
      "Epoch 7/10\n",
      "40000/40000 [==============================] - 137s 3ms/step - loss: 0.0758 - acc: 0.9762\n",
      "Epoch 8/10\n",
      "40000/40000 [==============================] - 138s 3ms/step - loss: 0.0684 - acc: 0.9790\n",
      "Epoch 9/10\n",
      "40000/40000 [==============================] - 139s 3ms/step - loss: 0.0669 - acc: 0.9794\n",
      "Epoch 10/10\n",
      "40000/40000 [==============================] - 137s 3ms/step - loss: 0.0605 - acc: 0.9812\n",
      "20000/20000 [==============================] - 40s 2ms/step\n",
      "40000/40000 [==============================] - 79s 2ms/step\n",
      "Epoch 1/10\n",
      "40000/40000 [==============================] - 139s 3ms/step - loss: 0.5168 - acc: 0.8353\n",
      "Epoch 2/10\n",
      "40000/40000 [==============================] - 137s 3ms/step - loss: 0.1627 - acc: 0.9506\n",
      "Epoch 3/10\n",
      "40000/40000 [==============================] - 138s 3ms/step - loss: 0.1259 - acc: 0.9614\n",
      "Epoch 4/10\n",
      "40000/40000 [==============================] - 139s 3ms/step - loss: 0.1002 - acc: 0.9684\n",
      "Epoch 5/10\n",
      "40000/40000 [==============================] - 137s 3ms/step - loss: 0.0900 - acc: 0.9716\n",
      "Epoch 6/10\n",
      "40000/40000 [==============================] - 138s 3ms/step - loss: 0.0799 - acc: 0.9750\n",
      "Epoch 7/10\n",
      "40000/40000 [==============================] - 137s 3ms/step - loss: 0.0721 - acc: 0.9772\n",
      "Epoch 8/10\n",
      "40000/40000 [==============================] - 139s 3ms/step - loss: 0.0668 - acc: 0.9793\n",
      "Epoch 9/10\n",
      "40000/40000 [==============================] - 137s 3ms/step - loss: 0.0623 - acc: 0.9805\n",
      "Epoch 10/10\n",
      "40000/40000 [==============================] - 137s 3ms/step - loss: 0.0570 - acc: 0.9823\n",
      "20000/20000 [==============================] - 39s 2ms/step\n",
      "40000/40000 [==============================] - 78s 2ms/step\n",
      "Epoch 1/10\n",
      "40000/40000 [==============================] - 139s 3ms/step - loss: 0.6816 - acc: 0.7776\n",
      "Epoch 2/10\n",
      "40000/40000 [==============================] - 138s 3ms/step - loss: 0.2718 - acc: 0.9171\n",
      "Epoch 3/10\n",
      "40000/40000 [==============================] - 137s 3ms/step - loss: 0.2145 - acc: 0.9340\n",
      "Epoch 4/10\n",
      "40000/40000 [==============================] - 137s 3ms/step - loss: 0.1819 - acc: 0.9447\n",
      "Epoch 5/10\n",
      "40000/40000 [==============================] - 137s 3ms/step - loss: 0.1596 - acc: 0.9514\n",
      "Epoch 6/10\n",
      "40000/40000 [==============================] - 136s 3ms/step - loss: 0.1454 - acc: 0.9570\n",
      "Epoch 7/10\n",
      "40000/40000 [==============================] - 137s 3ms/step - loss: 0.1336 - acc: 0.9591\n",
      "Epoch 8/10\n",
      "40000/40000 [==============================] - 137s 3ms/step - loss: 0.1257 - acc: 0.9627\n",
      "Epoch 9/10\n",
      "40000/40000 [==============================] - 136s 3ms/step - loss: 0.1223 - acc: 0.9631\n",
      "Epoch 10/10\n",
      "40000/40000 [==============================] - 136s 3ms/step - loss: 0.1129 - acc: 0.9654\n",
      "20000/20000 [==============================] - 40s 2ms/step\n",
      "40000/40000 [==============================] - 77s 2ms/step\n",
      "Epoch 1/10\n",
      "40000/40000 [==============================] - 140s 3ms/step - loss: 0.8040 - acc: 0.7363\n",
      "Epoch 2/10\n",
      "40000/40000 [==============================] - 138s 3ms/step - loss: 0.3125 - acc: 0.9038\n",
      "Epoch 3/10\n",
      "40000/40000 [==============================] - 138s 3ms/step - loss: 0.2403 - acc: 0.9262\n",
      "Epoch 4/10\n",
      "40000/40000 [==============================] - 137s 3ms/step - loss: 0.1948 - acc: 0.9413\n",
      "Epoch 5/10\n",
      "40000/40000 [==============================] - 137s 3ms/step - loss: 0.1665 - acc: 0.9488\n",
      "Epoch 6/10\n",
      "40000/40000 [==============================] - 137s 3ms/step - loss: 0.1573 - acc: 0.9526\n",
      "Epoch 7/10\n",
      "40000/40000 [==============================] - 136s 3ms/step - loss: 0.1447 - acc: 0.9558\n",
      "Epoch 8/10\n",
      "40000/40000 [==============================] - 137s 3ms/step - loss: 0.1342 - acc: 0.9593\n",
      "Epoch 9/10\n",
      "40000/40000 [==============================] - 138s 3ms/step - loss: 0.1302 - acc: 0.9598\n",
      "Epoch 10/10\n",
      "40000/40000 [==============================] - 137s 3ms/step - loss: 0.1209 - acc: 0.9629\n",
      "20000/20000 [==============================] - 39s 2ms/step\n",
      "40000/40000 [==============================] - 637s 16ms/step\n",
      "Epoch 1/10\n",
      "40000/40000 [==============================] - 144s 4ms/step - loss: 0.7930 - acc: 0.7383\n",
      "Epoch 2/10\n",
      "40000/40000 [==============================] - 143s 4ms/step - loss: 0.3025 - acc: 0.9073\n",
      "Epoch 3/10\n",
      "40000/40000 [==============================] - 142s 4ms/step - loss: 0.2288 - acc: 0.9309\n",
      "Epoch 4/10\n",
      "40000/40000 [==============================] - 140s 4ms/step - loss: 0.1859 - acc: 0.9432\n",
      "Epoch 5/10\n",
      "40000/40000 [==============================] - 147s 4ms/step - loss: 0.1614 - acc: 0.9506\n",
      "Epoch 6/10\n",
      "40000/40000 [==============================] - 1463s 37ms/step - loss: 0.1440 - acc: 0.9544\n",
      "Epoch 7/10\n",
      "40000/40000 [==============================] - 26688s 667ms/step - loss: 0.1376 - acc: 0.9586\n",
      "Epoch 8/10\n",
      "40000/40000 [==============================] - 86s 2ms/step - loss: 0.1243 - acc: 0.9625\n",
      "Epoch 9/10\n",
      "40000/40000 [==============================] - 88s 2ms/step - loss: 0.1196 - acc: 0.9647\n",
      "Epoch 10/10\n",
      "40000/40000 [==============================] - 86s 2ms/step - loss: 0.1124 - acc: 0.9651\n",
      "20000/20000 [==============================] - 24s 1ms/step\n",
      "40000/40000 [==============================] - 48s 1ms/step\n",
      "Epoch 1/10\n",
      "40000/40000 [==============================] - 86s 2ms/step - loss: 1.2182 - acc: 0.5771\n",
      "Epoch 2/10\n",
      "40000/40000 [==============================] - 85s 2ms/step - loss: 0.5768 - acc: 0.8175\n",
      "Epoch 3/10\n",
      "40000/40000 [==============================] - 119s 3ms/step - loss: 0.4534 - acc: 0.8607\n",
      "Epoch 4/10\n",
      "40000/40000 [==============================] - 89s 2ms/step - loss: 0.3920 - acc: 0.8824\n",
      "Epoch 5/10\n",
      "40000/40000 [==============================] - 88s 2ms/step - loss: 0.3497 - acc: 0.8925\n",
      "Epoch 6/10\n",
      "40000/40000 [==============================] - 86s 2ms/step - loss: 0.3263 - acc: 0.9022\n",
      "Epoch 7/10\n",
      "40000/40000 [==============================] - 86s 2ms/step - loss: 0.3027 - acc: 0.9076\n",
      "Epoch 8/10\n",
      "40000/40000 [==============================] - 88s 2ms/step - loss: 0.2887 - acc: 0.9146\n",
      "Epoch 9/10\n",
      "40000/40000 [==============================] - 89s 2ms/step - loss: 0.2833 - acc: 0.9150\n",
      "Epoch 10/10\n",
      "40000/40000 [==============================] - 91s 2ms/step - loss: 0.2687 - acc: 0.9195\n",
      "20000/20000 [==============================] - 25s 1ms/step\n",
      "40000/40000 [==============================] - 51s 1ms/step\n",
      "Epoch 1/10\n",
      "40000/40000 [==============================] - 90s 2ms/step - loss: 1.1914 - acc: 0.5920\n",
      "Epoch 2/10\n",
      "40000/40000 [==============================] - 89s 2ms/step - loss: 0.5598 - acc: 0.8259\n",
      "Epoch 3/10\n",
      "40000/40000 [==============================] - 90s 2ms/step - loss: 0.4405 - acc: 0.8626\n",
      "Epoch 4/10\n"
     ]
    },
    {
     "name": "stdout",
     "output_type": "stream",
     "text": [
      "40000/40000 [==============================] - 88s 2ms/step - loss: 0.3783 - acc: 0.8835\n",
      "Epoch 5/10\n",
      "40000/40000 [==============================] - 87s 2ms/step - loss: 0.3447 - acc: 0.8959\n",
      "Epoch 6/10\n",
      "40000/40000 [==============================] - 89s 2ms/step - loss: 0.3140 - acc: 0.9055\n",
      "Epoch 7/10\n",
      "40000/40000 [==============================] - 89s 2ms/step - loss: 0.3011 - acc: 0.9095\n",
      "Epoch 8/10\n",
      "40000/40000 [==============================] - 88s 2ms/step - loss: 0.2815 - acc: 0.9158\n",
      "Epoch 9/10\n",
      "40000/40000 [==============================] - 84s 2ms/step - loss: 0.2646 - acc: 0.9206\n",
      "Epoch 10/10\n",
      "40000/40000 [==============================] - 84s 2ms/step - loss: 0.2665 - acc: 0.9209\n",
      "20000/20000 [==============================] - 24s 1ms/step\n",
      "40000/40000 [==============================] - 48s 1ms/step\n",
      "Epoch 1/10\n",
      "40000/40000 [==============================] - 89s 2ms/step - loss: 1.2884 - acc: 0.5574\n",
      "Epoch 2/10\n",
      "40000/40000 [==============================] - 86s 2ms/step - loss: 0.5987 - acc: 0.8098\n",
      "Epoch 3/10\n",
      "40000/40000 [==============================] - 85s 2ms/step - loss: 0.4599 - acc: 0.8584\n",
      "Epoch 4/10\n",
      "40000/40000 [==============================] - 87s 2ms/step - loss: 0.3880 - acc: 0.8818\n",
      "Epoch 5/10\n",
      "40000/40000 [==============================] - 86s 2ms/step - loss: 0.3540 - acc: 0.8955\n",
      "Epoch 6/10\n",
      "40000/40000 [==============================] - 85s 2ms/step - loss: 0.3227 - acc: 0.9025\n",
      "Epoch 7/10\n",
      "40000/40000 [==============================] - 89s 2ms/step - loss: 0.3103 - acc: 0.9081\n",
      "Epoch 8/10\n",
      "40000/40000 [==============================] - 86s 2ms/step - loss: 0.2881 - acc: 0.9153\n",
      "Epoch 9/10\n",
      "40000/40000 [==============================] - 84s 2ms/step - loss: 0.2834 - acc: 0.9166\n",
      "Epoch 10/10\n",
      "40000/40000 [==============================] - 84s 2ms/step - loss: 0.2662 - acc: 0.9216\n",
      "20000/20000 [==============================] - 24s 1ms/step\n",
      "40000/40000 [==============================] - 48s 1ms/step\n",
      "Epoch 1/10\n",
      "60000/60000 [==============================] - 131s 2ms/step - loss: 0.4295 - acc: 0.8616\n",
      "Epoch 2/10\n",
      "60000/60000 [==============================] - 130s 2ms/step - loss: 0.1413 - acc: 0.9568\n",
      "Epoch 3/10\n",
      "60000/60000 [==============================] - 135s 2ms/step - loss: 0.1048 - acc: 0.9677\n",
      "Epoch 4/10\n",
      "60000/60000 [==============================] - 133s 2ms/step - loss: 0.0845 - acc: 0.9741\n",
      "Epoch 5/10\n",
      "60000/60000 [==============================] - 131s 2ms/step - loss: 0.0726 - acc: 0.9779\n",
      "Epoch 6/10\n",
      "60000/60000 [==============================] - 128s 2ms/step - loss: 0.0660 - acc: 0.9797\n",
      "Epoch 7/10\n",
      "60000/60000 [==============================] - 129s 2ms/step - loss: 0.0628 - acc: 0.9807\n",
      "Epoch 8/10\n",
      "60000/60000 [==============================] - 129s 2ms/step - loss: 0.0586 - acc: 0.9821\n",
      "Epoch 9/10\n",
      "60000/60000 [==============================] - 131s 2ms/step - loss: 0.0545 - acc: 0.9830\n",
      "Epoch 10/10\n",
      "60000/60000 [==============================] - 128s 2ms/step - loss: 0.0499 - acc: 0.9845\n",
      "Best Model {'dropout': 0.3}\n"
     ]
    }
   ],
   "source": [
    "filepath=\"weights.best.hdf5\"\n",
    "checkpoint = ModelCheckpoint(filepath, monitor='val_acc', verbose=1, save_best_only=True, mode='max')\n",
    "callbacks_list = [checkpoint]\n",
    "best_model = models.fit(x_train,y_train,epochs = 10, batch_size = 100, callbacks=callbacks_list)\n",
    "print(\"Best Model\", best_model.best_params_)"
   ]
  },
  {
   "cell_type": "code",
   "execution_count": 18,
   "metadata": {},
   "outputs": [
    {
     "data": {
      "text/plain": [
       "[<keras.callbacks.ModelCheckpoint at 0x1f24d0c7cc0>]"
      ]
     },
     "execution_count": 18,
     "metadata": {},
     "output_type": "execute_result"
    }
   ],
   "source": [
    "callbacks_list\n",
    "#import os\n",
    "#os.getcwd()"
   ]
  },
  {
   "cell_type": "code",
   "execution_count": 25,
   "metadata": {},
   "outputs": [],
   "source": [
    "#with the best parameters\n",
    "#dropout = 0.3\n",
    "#final model post hyper-param tuning\n",
    "\n",
    "#define model\n",
    "def cnn_model():\n",
    "    classifier = Sequential()\n",
    "    classifier.add(Conv2D(32,(4,4), input_shape=(1,28,28), activation=\"relu\"))\n",
    "    classifier.add(MaxPooling2D(pool_size=(2,2)))\n",
    "    classifier.add(Conv2D(16,(4,4), activation=\"relu\"))\n",
    "    classifier.add(MaxPooling2D(pool_size=(2,2)))\n",
    "    classifier.add(Dropout(0.3))\n",
    "    classifier.add(Flatten())\n",
    "    classifier.add(Dense(128,activation='relu'))\n",
    "    classifier.add(Dropout(0.3))\n",
    "    classifier.add(Dense(32,activation='relu'))\n",
    "    classifier.add(Dense(n_classes,activation='softmax'))\n",
    "    classifier.compile(optimizer='adam',metrics=['accuracy'],loss='categorical_crossentropy')\n",
    "    return(classifier)"
   ]
  },
  {
   "cell_type": "code",
   "execution_count": 27,
   "metadata": {},
   "outputs": [
    {
     "name": "stdout",
     "output_type": "stream",
     "text": [
      "Train on 60000 samples, validate on 10000 samples\n",
      "Epoch 1/10\n",
      "60000/60000 [==============================] - 141s 2ms/step - loss: 0.4220 - acc: 0.8662 - val_loss: 0.0792 - val_acc: 0.9741\n",
      "\n",
      "Epoch 00001: val_acc improved from -inf to 0.97410, saving model to weights.best.hdf5\n",
      "Epoch 2/10\n",
      "60000/60000 [==============================] - 141s 2ms/step - loss: 0.1315 - acc: 0.9588 - val_loss: 0.0469 - val_acc: 0.9851\n",
      "\n",
      "Epoch 00002: val_acc improved from 0.97410 to 0.98510, saving model to weights.best.hdf5\n",
      "Epoch 3/10\n",
      "60000/60000 [==============================] - 139s 2ms/step - loss: 0.0976 - acc: 0.9699 - val_loss: 0.0366 - val_acc: 0.9878\n",
      "\n",
      "Epoch 00003: val_acc improved from 0.98510 to 0.98780, saving model to weights.best.hdf5\n",
      "Epoch 4/10\n",
      "60000/60000 [==============================] - 136s 2ms/step - loss: 0.0803 - acc: 0.9757 - val_loss: 0.0303 - val_acc: 0.9899\n",
      "\n",
      "Epoch 00004: val_acc improved from 0.98780 to 0.98990, saving model to weights.best.hdf5\n",
      "Epoch 5/10\n",
      "60000/60000 [==============================] - 141s 2ms/step - loss: 0.0684 - acc: 0.9792 - val_loss: 0.0277 - val_acc: 0.9911\n",
      "\n",
      "Epoch 00005: val_acc improved from 0.98990 to 0.99110, saving model to weights.best.hdf5\n",
      "Epoch 6/10\n",
      "60000/60000 [==============================] - 142s 2ms/step - loss: 0.0618 - acc: 0.9807 - val_loss: 0.0262 - val_acc: 0.9914\n",
      "\n",
      "Epoch 00006: val_acc improved from 0.99110 to 0.99140, saving model to weights.best.hdf5\n",
      "Epoch 7/10\n",
      "60000/60000 [==============================] - 141s 2ms/step - loss: 0.0580 - acc: 0.9823 - val_loss: 0.0233 - val_acc: 0.9926\n",
      "\n",
      "Epoch 00007: val_acc improved from 0.99140 to 0.99260, saving model to weights.best.hdf5\n",
      "Epoch 8/10\n",
      "60000/60000 [==============================] - 141s 2ms/step - loss: 0.0534 - acc: 0.9836 - val_loss: 0.0223 - val_acc: 0.9928\n",
      "\n",
      "Epoch 00008: val_acc improved from 0.99260 to 0.99280, saving model to weights.best.hdf5\n",
      "Epoch 9/10\n",
      "60000/60000 [==============================] - 142s 2ms/step - loss: 0.0497 - acc: 0.9852 - val_loss: 0.0216 - val_acc: 0.9940\n",
      "\n",
      "Epoch 00009: val_acc improved from 0.99280 to 0.99400, saving model to weights.best.hdf5\n",
      "Epoch 10/10\n",
      "60000/60000 [==============================] - 138s 2ms/step - loss: 0.0465 - acc: 0.9852 - val_loss: 0.0216 - val_acc: 0.9934\n",
      "\n",
      "Epoch 00010: val_acc did not improve from 0.99400\n",
      "Accuracy of the Classifier is:  99.33999999999999\n"
     ]
    }
   ],
   "source": [
    "#csv_logger = keras.callbacks.CSVLogger('training.log')\n",
    "#model.fit(X_train, Y_train, callbacks=[csv_logger])\n",
    "\n",
    "classifier = cnn_model()\n",
    "history_obj = classifier.fit(x_train,y_train,validation_data=(x_test,y_test),epochs = 10, batch_size = 100, callbacks=callbacks_list)\n",
    "accuracy_scores = classifier.evaluate(x_test,y_test,verbose = 0)\n",
    "print(\"Accuracy of the Classifier is: \", accuracy_scores[1]*100)"
   ]
  },
  {
   "cell_type": "code",
   "execution_count": 28,
   "metadata": {},
   "outputs": [
    {
     "data": {
      "image/png": "[encoded data removed]",
      "text/plain": [
       "<Figure size 432x288 with 1 Axes>"
      ]
     },
     "metadata": {
      "needs_background": "light"
     },
     "output_type": "display_data"
    }
   ],
   "source": [
    "#accuracy\n",
    "plt.plot(history_obj.history['acc'])\n",
    "plt.plot(history_obj.history['val_acc'])\n",
    "plt.title('model accuracy')\n",
    "plt.ylabel('accuracy')\n",
    "plt.xlabel('epoch')\n",
    "plt.legend(['train', 'test'], loc='upper left')\n",
    "plt.show()"
   ]
  },
  {
   "cell_type": "code",
   "execution_count": 29,
   "metadata": {},
   "outputs": [
    {
     "data": {
      "image/png": "[encoded data removed]",
      "text/plain": [
       "<Figure size 432x288 with 1 Axes>"
      ]
     },
     "metadata": {
      "needs_background": "light"
     },
     "output_type": "display_data"
    }
   ],
   "source": [
    "#loss\n",
    "plt.plot(history_obj.history['loss'])\n",
    "plt.plot(history_obj.history['val_loss'])\n",
    "plt.title('model loss')\n",
    "plt.ylabel('loss')\n",
    "plt.xlabel('epoch')\n",
    "plt.legend(['train', 'test'], loc='upper left')\n",
    "plt.show()"
   ]
  },
  {
   "cell_type": "code",
   "execution_count": null,
   "metadata": {},
   "outputs": [],
   "source": []
  }
 ],
 "metadata": {
  "kernelspec": {
   "display_name": "Python 3",
   "language": "python",
   "name": "python3"
  },
  "language_info": {
   "codemirror_mode": {
    "name": "ipython",
    "version": 3
   },
   "file_extension": ".py",
   "mimetype": "text/x-python",
   "name": "python",
   "nbconvert_exporter": "python",
   "pygments_lexer": "ipython3",
   "version": "3.6.7"
  }
 },
 "nbformat": 4,
 "nbformat_minor": 2
}
