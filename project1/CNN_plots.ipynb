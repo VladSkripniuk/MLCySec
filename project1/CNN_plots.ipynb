{
 "cells": [
  {
   "cell_type": "code",
   "execution_count": 1,
   "metadata": {},
   "outputs": [
    {
     "name": "stderr",
     "output_type": "stream",
     "text": [
      "Using TensorFlow backend.\n"
     ]
    }
   ],
   "source": [
    "import numpy\n",
    "import matplotlib.pyplot as plt\n",
    "%matplotlib inline\n",
    "\n",
    "from keras.datasets import mnist\n",
    "from keras.models import Sequential\n",
    "from keras.layers import Dense\n",
    "from keras.layers import Dropout\n",
    "from keras.layers import Flatten\n",
    "from keras.layers.convolutional import Conv2D\n",
    "from keras.layers.convolutional import MaxPooling2D\n",
    "from keras.utils import np_utils\n",
    "from keras import backend as K\n",
    "\n",
    "K.set_image_dim_ordering('th')\n"
   ]
  },
  {
   "cell_type": "code",
   "execution_count": 2,
   "metadata": {},
   "outputs": [],
   "source": [
    "from keras.optimizers import *\n",
    "from keras.wrappers.scikit_learn import KerasClassifier\n",
    "from sklearn.model_selection import GridSearchCV"
   ]
  },
  {
   "cell_type": "code",
   "execution_count": 3,
   "metadata": {},
   "outputs": [],
   "source": [
    "#random seed for reproducing the same \n",
    "seed = 1234\n",
    "numpy.random.seed(seed)"
   ]
  },
  {
   "cell_type": "code",
   "execution_count": 4,
   "metadata": {},
   "outputs": [],
   "source": [
    "#reading data\n",
    "(x_train,y_train),(x_test,y_test)=mnist.load_data()"
   ]
  },
  {
   "cell_type": "code",
   "execution_count": 5,
   "metadata": {},
   "outputs": [],
   "source": [
    "x_train = x_train.reshape(x_train.shape[0],1,28,28).astype(\"float32\")\n",
    "x_test = x_test.reshape(x_test.shape[0],1,28,28).astype(\"float32\")"
   ]
  },
  {
   "cell_type": "code",
   "execution_count": 6,
   "metadata": {},
   "outputs": [],
   "source": [
    "x_train = x_train/255\n",
    "x_test = x_test/255"
   ]
  },
  {
   "cell_type": "code",
   "execution_count": 7,
   "metadata": {},
   "outputs": [
    {
     "data": {
      "text/plain": [
       "10"
      ]
     },
     "execution_count": 7,
     "metadata": {},
     "output_type": "execute_result"
    }
   ],
   "source": [
    "#one hot encoding\n",
    "#print(y_test[4])\n",
    "y_test = np_utils.to_categorical(y_test)\n",
    "#print(y_test[4])\n",
    "y_train = np_utils.to_categorical(y_train)\n",
    "n_classes = y_test.shape[1]\n",
    "n_classes\n",
    "#n_classes\n",
    "#y_test.shape"
   ]
  },
  {
   "cell_type": "code",
   "execution_count": 8,
   "metadata": {},
   "outputs": [],
   "source": [
    "#define model\n",
    "def cnn_model(optimizer):#dropout_ratelearning_rate#optimizer):\n",
    "    classifier = Sequential()\n",
    "    classifier.add(Conv2D(32,(4,4), input_shape=(1,28,28), activation=\"relu\"))\n",
    "    classifier.add(MaxPooling2D(pool_size=(2,2)))\n",
    "    classifier.add(Conv2D(16,(4,4), activation=\"relu\"))\n",
    "    classifier.add(MaxPooling2D(pool_size=(2,2)))\n",
    "    classifier.add(Dropout(0.3))\n",
    "    classifier.add(Flatten())\n",
    "    classifier.add(Dense(128,activation='relu'))\n",
    "    classifier.add(Dense(32,activation='relu'))\n",
    "    classifier.add(Dense(n_classes,activation='softmax'))\n",
    "    classifier.compile(optimizer=optimizer,metrics=[\"accuracy\"],loss=\"categorical_crossentropy\")\n",
    "    return(classifier)"
   ]
  },
  {
   "cell_type": "code",
   "execution_count": 10,
   "metadata": {},
   "outputs": [],
   "source": [
    "params = { 'batch_size' : [100,200], 'epochs' : [2,3], 'optimizer' : ['adam','rmsprop'] }\n",
    "\n",
    "#learning_rate = [0.1, 0.5]\n",
    "#dropout_rate = [0.3, 0.5, 0.7]\n",
    "#optimizer = [\"SGD\", \"RMSprop\", \"Adam\", \"Adamax\", \"Nadam\"][:1]\n",
    "#optimizer = [SGD, RMSprop, Adam, Adamax]\n",
    "\n",
    "\n"
   ]
  },
  {
   "cell_type": "code",
   "execution_count": 55,
   "metadata": {},
   "outputs": [],
   "source": [
    "#params = dict (learning_rate = learning_rate)#batch_size = batch_size,\n",
    "              #epochs = epochs,\n",
    "              \n",
    "              #dropout_rate = dropout_rate,\n",
    "              #optimizer = optimizer)\n",
    "\n"
   ]
  },
  {
   "cell_type": "code",
   "execution_count": 13,
   "metadata": {},
   "outputs": [],
   "source": [
    "classifier = KerasClassifier(build_fn = cnn_model)\n",
    "models = GridSearchCV(estimator = classifier, param_grid = params)"
   ]
  },
  {
   "cell_type": "code",
   "execution_count": 14,
   "metadata": {},
   "outputs": [
    {
     "name": "stdout",
     "output_type": "stream",
     "text": [
      "Epoch 1/2\n",
      "40000/40000 [==============================] - 144s 4ms/step - loss: 0.4306 - acc: 0.8637\n",
      "Epoch 2/2\n",
      "40000/40000 [==============================] - 138s 3ms/step - loss: 0.1334 - acc: 0.9589\n",
      "20000/20000 [==============================] - 39s 2ms/step\n",
      "40000/40000 [==============================] - 78s 2ms/step\n",
      "Epoch 1/2\n",
      "40000/40000 [==============================] - 144s 4ms/step - loss: 0.4466 - acc: 0.8592\n",
      "Epoch 2/2\n",
      "40000/40000 [==============================] - 142s 4ms/step - loss: 0.1334 - acc: 0.9595\n",
      "20000/20000 [==============================] - 39s 2ms/step\n",
      "40000/40000 [==============================] - 78s 2ms/step\n",
      "Epoch 1/2\n",
      "40000/40000 [==============================] - 144s 4ms/step - loss: 0.4456 - acc: 0.8601\n",
      "Epoch 2/2\n",
      "40000/40000 [==============================] - 142s 4ms/step - loss: 0.1375 - acc: 0.9577\n",
      "20000/20000 [==============================] - 39s 2ms/step\n",
      "40000/40000 [==============================] - 78s 2ms/step\n",
      "Epoch 1/2\n",
      "40000/40000 [==============================] - 152s 4ms/step - loss: 0.4161 - acc: 0.8660\n",
      "Epoch 2/2\n",
      "40000/40000 [==============================] - 146s 4ms/step - loss: 0.1472 - acc: 0.9537\n",
      "20000/20000 [==============================] - 39s 2ms/step\n",
      "40000/40000 [==============================] - 76s 2ms/step\n",
      "Epoch 1/2\n",
      "40000/40000 [==============================] - 144s 4ms/step - loss: 0.4215 - acc: 0.8655\n",
      "Epoch 2/2\n",
      "40000/40000 [==============================] - 144s 4ms/step - loss: 0.1386 - acc: 0.9565\n",
      "20000/20000 [==============================] - 40s 2ms/step\n",
      "40000/40000 [==============================] - 78s 2ms/step\n",
      "Epoch 1/2\n",
      "40000/40000 [==============================] - 143s 4ms/step - loss: 0.3953 - acc: 0.8756\n",
      "Epoch 2/2\n",
      "40000/40000 [==============================] - 500s 12ms/step - loss: 0.1303 - acc: 0.9602\n",
      "20000/20000 [==============================] - 40s 2ms/step\n",
      "40000/40000 [==============================] - 79s 2ms/step\n",
      "Epoch 1/3\n",
      "40000/40000 [==============================] - 148s 4ms/step - loss: 0.4018 - acc: 0.8765\n",
      "Epoch 2/3\n",
      "40000/40000 [==============================] - 143s 4ms/step - loss: 0.1283 - acc: 0.9600\n",
      "Epoch 3/3\n",
      "40000/40000 [==============================] - 143s 4ms/step - loss: 0.0907 - acc: 0.9715\n",
      "20000/20000 [==============================] - 39s 2ms/step\n",
      "40000/40000 [==============================] - 77s 2ms/step\n",
      "Epoch 1/3\n",
      "40000/40000 [==============================] - 146s 4ms/step - loss: 0.4303 - acc: 0.8630\n",
      "Epoch 2/3\n",
      "40000/40000 [==============================] - 146s 4ms/step - loss: 0.1340 - acc: 0.9589\n",
      "Epoch 3/3\n",
      "40000/40000 [==============================] - 1933s 48ms/step - loss: 0.0969 - acc: 0.9694\n",
      "20000/20000 [==============================] - 24s 1ms/step\n",
      "40000/40000 [==============================] - 48s 1ms/step\n",
      "Epoch 1/3\n",
      "40000/40000 [==============================] - 88s 2ms/step - loss: 0.4359 - acc: 0.8609\n",
      "Epoch 2/3\n",
      "40000/40000 [==============================] - 87s 2ms/step - loss: 0.1310 - acc: 0.9591\n",
      "Epoch 3/3\n",
      "40000/40000 [==============================] - 86s 2ms/step - loss: 0.0976 - acc: 0.9696\n",
      "20000/20000 [==============================] - 24s 1ms/step\n",
      "40000/40000 [==============================] - 47s 1ms/step\n",
      "Epoch 1/3\n",
      "40000/40000 [==============================] - 86s 2ms/step - loss: 0.4000 - acc: 0.8738\n",
      "Epoch 2/3\n",
      "40000/40000 [==============================] - 85s 2ms/step - loss: 0.1348 - acc: 0.9578\n",
      "Epoch 3/3\n",
      "40000/40000 [==============================] - 85s 2ms/step - loss: 0.0976 - acc: 0.9700\n",
      "20000/20000 [==============================] - 24s 1ms/step\n",
      "40000/40000 [==============================] - 48s 1ms/step\n",
      "Epoch 1/3\n",
      "40000/40000 [==============================] - 24037s 601ms/step - loss: 0.3906 - acc: 0.8795\n",
      "Epoch 2/3\n",
      "40000/40000 [==============================] - 89s 2ms/step - loss: 0.1338 - acc: 0.9575\n",
      "Epoch 3/3\n",
      "40000/40000 [==============================] - 87s 2ms/step - loss: 0.0972 - acc: 0.9698\n",
      "20000/20000 [==============================] - 26s 1ms/step\n",
      "40000/40000 [==============================] - 48s 1ms/step\n",
      "Epoch 1/3\n",
      "40000/40000 [==============================] - 88s 2ms/step - loss: 0.3992 - acc: 0.8736\n",
      "Epoch 2/3\n",
      "40000/40000 [==============================] - 86s 2ms/step - loss: 0.1405 - acc: 0.9564\n",
      "Epoch 3/3\n",
      "40000/40000 [==============================] - 85s 2ms/step - loss: 0.0986 - acc: 0.9694\n",
      "20000/20000 [==============================] - 24s 1ms/step\n",
      "40000/40000 [==============================] - 47s 1ms/step\n",
      "Epoch 1/2\n",
      "40000/40000 [==============================] - 86s 2ms/step - loss: 0.5664 - acc: 0.8192\n",
      "Epoch 2/2\n",
      "40000/40000 [==============================] - 239s 6ms/step - loss: 0.1559 - acc: 0.9518\n",
      "20000/20000 [==============================] - 24s 1ms/step\n",
      "40000/40000 [==============================] - 47s 1ms/step\n",
      "Epoch 1/2\n",
      "40000/40000 [==============================] - 86s 2ms/step - loss: 0.6118 - acc: 0.8097\n",
      "Epoch 2/2\n",
      "40000/40000 [==============================] - 85s 2ms/step - loss: 0.1578 - acc: 0.9521\n",
      "20000/20000 [==============================] - 24s 1ms/step\n",
      "40000/40000 [==============================] - 47s 1ms/step\n",
      "Epoch 1/2\n",
      "40000/40000 [==============================] - 86s 2ms/step - loss: 0.5848 - acc: 0.8111\n",
      "Epoch 2/2\n",
      "40000/40000 [==============================] - 85s 2ms/step - loss: 0.1634 - acc: 0.9506\n",
      "20000/20000 [==============================] - 24s 1ms/step\n",
      "40000/40000 [==============================] - 47s 1ms/step\n",
      "Epoch 1/2\n",
      "40000/40000 [==============================] - 86s 2ms/step - loss: 0.5580 - acc: 0.8254\n",
      "Epoch 2/2\n",
      "40000/40000 [==============================] - 85s 2ms/step - loss: 0.1857 - acc: 0.9439\n",
      "20000/20000 [==============================] - 24s 1ms/step\n",
      "40000/40000 [==============================] - 47s 1ms/step\n",
      "Epoch 1/2\n",
      "40000/40000 [==============================] - 86s 2ms/step - loss: 0.5342 - acc: 0.8382\n",
      "Epoch 2/2\n",
      "40000/40000 [==============================] - 85s 2ms/step - loss: 0.1713 - acc: 0.9479\n",
      "20000/20000 [==============================] - 24s 1ms/step\n",
      "40000/40000 [==============================] - 47s 1ms/step\n",
      "Epoch 1/2\n",
      "40000/40000 [==============================] - 87s 2ms/step - loss: 0.5689 - acc: 0.8186\n",
      "Epoch 2/2\n",
      "40000/40000 [==============================] - 85s 2ms/step - loss: 0.1869 - acc: 0.9423\n",
      "20000/20000 [==============================] - 24s 1ms/step\n",
      "40000/40000 [==============================] - 47s 1ms/step\n",
      "Epoch 1/3\n",
      "40000/40000 [==============================] - 86s 2ms/step - loss: 0.6046 - acc: 0.8117\n",
      "Epoch 2/3\n",
      "40000/40000 [==============================] - 84s 2ms/step - loss: 0.1546 - acc: 0.9532\n",
      "Epoch 3/3\n",
      "40000/40000 [==============================] - 84s 2ms/step - loss: 0.1133 - acc: 0.9650\n",
      "20000/20000 [==============================] - 23s 1ms/step\n",
      "40000/40000 [==============================] - 47s 1ms/step\n",
      "Epoch 1/3\n",
      "40000/40000 [==============================] - 87s 2ms/step - loss: 0.5567 - acc: 0.8230\n",
      "Epoch 2/3\n",
      "40000/40000 [==============================] - 85s 2ms/step - loss: 0.1546 - acc: 0.9536\n",
      "Epoch 3/3\n",
      "40000/40000 [==============================] - 85s 2ms/step - loss: 0.1138 - acc: 0.9657\n",
      "20000/20000 [==============================] - 24s 1ms/step\n",
      "40000/40000 [==============================] - 47s 1ms/step\n",
      "Epoch 1/3\n",
      "40000/40000 [==============================] - 87s 2ms/step - loss: 0.6052 - acc: 0.8113\n",
      "Epoch 2/3\n",
      "40000/40000 [==============================] - 85s 2ms/step - loss: 0.1645 - acc: 0.9491\n",
      "Epoch 3/3\n",
      "40000/40000 [==============================] - 85s 2ms/step - loss: 0.1168 - acc: 0.9641\n",
      "20000/20000 [==============================] - 24s 1ms/step\n",
      "40000/40000 [==============================] - 47s 1ms/step\n",
      "Epoch 1/3\n",
      "40000/40000 [==============================] - 86s 2ms/step - loss: 0.5407 - acc: 0.8290\n",
      "Epoch 2/3\n",
      "40000/40000 [==============================] - 85s 2ms/step - loss: 0.1692 - acc: 0.9477\n",
      "Epoch 3/3\n",
      "40000/40000 [==============================] - 85s 2ms/step - loss: 0.1162 - acc: 0.9634\n",
      "20000/20000 [==============================] - 24s 1ms/step\n",
      "40000/40000 [==============================] - 47s 1ms/step\n",
      "Epoch 1/3\n",
      "40000/40000 [==============================] - 87s 2ms/step - loss: 0.5282 - acc: 0.8345\n",
      "Epoch 2/3\n"
     ]
    },
    {
     "name": "stdout",
     "output_type": "stream",
     "text": [
      "40000/40000 [==============================] - 85s 2ms/step - loss: 0.1716 - acc: 0.9470\n",
      "Epoch 3/3\n",
      "40000/40000 [==============================] - 84s 2ms/step - loss: 0.1184 - acc: 0.9630\n",
      "20000/20000 [==============================] - 23s 1ms/step\n",
      "40000/40000 [==============================] - 46s 1ms/step\n",
      "Epoch 1/3\n",
      "40000/40000 [==============================] - 86s 2ms/step - loss: 0.5491 - acc: 0.8262\n",
      "Epoch 2/3\n",
      "40000/40000 [==============================] - 85s 2ms/step - loss: 0.1645 - acc: 0.9494\n",
      "Epoch 3/3\n",
      "40000/40000 [==============================] - 84s 2ms/step - loss: 0.1162 - acc: 0.9643\n",
      "20000/20000 [==============================] - 24s 1ms/step\n",
      "40000/40000 [==============================] - 45s 1ms/step\n",
      "Epoch 1/3\n",
      "60000/60000 [==============================] - 135s 2ms/step - loss: 0.3314 - acc: 0.8953\n",
      "Epoch 2/3\n",
      "60000/60000 [==============================] - 134s 2ms/step - loss: 0.1107 - acc: 0.9652\n",
      "Epoch 3/3\n",
      "60000/60000 [==============================] - 133s 2ms/step - loss: 0.0836 - acc: 0.9734\n",
      "Best Model {'batch_size': 100, 'epochs': 3, 'optimizer': 'adam'}\n"
     ]
    }
   ],
   "source": [
    "best_model = models.fit(x_train,y_train)\n",
    "print(\"Best Model\", best_model.best_params_)\n",
    "#print(\"Best Accuracy\", best_model.best_score_)\n"
   ]
  },
  {
   "cell_type": "code",
   "execution_count": 15,
   "metadata": {},
   "outputs": [],
   "source": [
    "#final model post hyper-param tuning\n",
    "\n",
    "#define model\n",
    "def cnn_model():\n",
    "    classifier = Sequential()\n",
    "    classifier.add(Conv2D(32,(4,4), input_shape=(1,28,28), activation=\"relu\"))\n",
    "    classifier.add(MaxPooling2D(pool_size=(2,2)))\n",
    "    classifier.add(Conv2D(16,(4,4), activation=\"relu\"))\n",
    "    classifier.add(MaxPooling2D(pool_size=(2,2)))\n",
    "    classifier.add(Dropout(0.3))\n",
    "    classifier.add(Flatten())\n",
    "    classifier.add(Dense(128,activation='relu'))\n",
    "    classifier.add(Dense(32,activation='relu'))\n",
    "    classifier.add(Dense(n_classes,activation='softmax'))\n",
    "    classifier.compile(optimizer='adam',metrics=['accuracy'],loss='categorical_crossentropy')\n",
    "    return(classifier)\n",
    "    \n",
    "\n"
   ]
  },
  {
   "cell_type": "code",
   "execution_count": 22,
   "metadata": {},
   "outputs": [
    {
     "name": "stdout",
     "output_type": "stream",
     "text": [
      "Train on 60000 samples, validate on 10000 samples\n",
      "Epoch 1/3\n",
      "60000/60000 [==============================] - 197s 3ms/step - loss: 0.3465 - acc: 0.8896 - val_loss: 0.0766 - val_acc: 0.9760\n",
      "Epoch 2/3\n",
      "60000/60000 [==============================] - 141s 2ms/step - loss: 0.1117 - acc: 0.9653 - val_loss: 0.0554 - val_acc: 0.9816\n",
      "Epoch 3/3\n",
      "60000/60000 [==============================] - 141s 2ms/step - loss: 0.0840 - acc: 0.9735 - val_loss: 0.0415 - val_acc: 0.9867\n",
      "Accuracy of the Classifier is:  98.67\n"
     ]
    }
   ],
   "source": [
    "classifier = cnn_model()\n",
    "history_obj = classifier.fit(x_train,y_train,validation_data=(x_test,y_test),epochs = 3, batch_size = 100)\n",
    "accuracy_scores = classifier.evaluate(x_test,y_test,verbose = 0)\n",
    "print(\"Accuracy of the Classifier is: \", accuracy_scores[1]*100)"
   ]
  },
  {
   "cell_type": "code",
   "execution_count": 26,
   "metadata": {},
   "outputs": [
    {
     "data": {
      "image/png": "[encoded data removed]",
      "text/plain": [
       "<Figure size 432x288 with 1 Axes>"
      ]
     },
     "metadata": {
      "needs_background": "light"
     },
     "output_type": "display_data"
    }
   ],
   "source": [
    "#accuracy\n",
    "plt.plot(history_obj.history['acc'])\n",
    "plt.plot(history_obj.history['val_acc'])\n",
    "plt.title('model accuracy')\n",
    "plt.ylabel('accuracy')\n",
    "plt.xlabel('epoch')\n",
    "plt.legend(['train', 'test'], loc='upper left')\n",
    "plt.show()"
   ]
  },
  {
   "cell_type": "code",
   "execution_count": 25,
   "metadata": {},
   "outputs": [
    {
     "name": "stdout",
     "output_type": "stream",
     "text": [
      "dict_keys(['val_loss', 'val_acc', 'loss', 'acc'])\n",
      "[0.9760000056028366, 0.9816000068187714, 0.986700006723404]\n"
     ]
    }
   ],
   "source": [
    "print(history_obj.history.keys())\n",
    "print(history_obj.history['val_acc'])"
   ]
  },
  {
   "cell_type": "code",
   "execution_count": 27,
   "metadata": {},
   "outputs": [
    {
     "data": {
      "image/png": "[encoded data removed]",
      "text/plain": [
       "<Figure size 432x288 with 1 Axes>"
      ]
     },
     "metadata": {
      "needs_background": "light"
     },
     "output_type": "display_data"
    }
   ],
   "source": [
    "#loss\n",
    "plt.plot(history_obj.history['loss'])\n",
    "plt.plot(history_obj.history['val_loss'])\n",
    "plt.title('model loss')\n",
    "plt.ylabel('loss')\n",
    "plt.xlabel('epoch')\n",
    "plt.legend(['train', 'test'], loc='upper left')\n",
    "plt.show()"
   ]
  },
  {
   "cell_type": "code",
   "execution_count": null,
   "metadata": {},
   "outputs": [],
   "source": []
  }
 ],
 "metadata": {
  "kernelspec": {
   "display_name": "Python 3",
   "language": "python",
   "name": "python3"
  },
  "language_info": {
   "codemirror_mode": {
    "name": "ipython",
    "version": 3
   },
   "file_extension": ".py",
   "mimetype": "text/x-python",
   "name": "python",
   "nbconvert_exporter": "python",
   "pygments_lexer": "ipython3",
   "version": "3.6.7"
  }
 },
 "nbformat": 4,
 "nbformat_minor": 2
}
