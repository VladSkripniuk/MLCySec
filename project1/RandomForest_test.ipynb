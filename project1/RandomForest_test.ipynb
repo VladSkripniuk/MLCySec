{
 "cells": [
  {
   "cell_type": "code",
   "execution_count": 95,
   "metadata": {
    "scrolled": true
   },
   "outputs": [
    {
     "name": "stdout",
     "output_type": "stream",
     "text": [
      "(60000, 28, 28)\n",
      "(60000, 784)\n"
     ]
    }
   ],
   "source": [
    "from sklearn.ensemble import RandomForestClassifier\n",
    "from sklearn.grid_search import GridSearchCV\n",
    "from sklearn.metrics import accuracy_score\n",
    "import pandas as pd\n",
    "from keras.datasets import mnist\n",
    "import matplotlib.pyplot as plt\n",
    "from sklearn import model_selection\n",
    "from sklearn import metrics\n",
    "import numpy as np\n",
    "%matplotlib inline\n",
    "\n",
    "(x_trainval, y_trainval), (x_test, y_test) = mnist.load_data()\n",
    "print(x_trainval.shape)\n",
    "x_trainval = x_trainval.reshape(-1,28*28)\n",
    "x_test = x_test.reshape(-1,28*28)\n",
    "print(x_trainval.shape)"
   ]
  },
  {
   "cell_type": "code",
   "execution_count": 75,
   "metadata": {},
   "outputs": [
    {
     "name": "stdout",
     "output_type": "stream",
     "text": [
      "{'max_depth': 42, 'n_estimators': 100}\n"
     ]
    }
   ],
   "source": [
    "rfc = RandomForestClassifier(n_jobs = -1)\n",
    "param_grid = { \n",
    "               \"n_estimators\" : [1, 15, 30, 45,63, 100],\n",
    "               \"max_depth\" : [1, 5, 10, 15, 20, 30, 42]}\n",
    "CV_rfc = GridSearchCV(estimator=rfc, param_grid=param_grid, cv= 10)\n",
    "CV_rfc.fit(x_trainval, y_trainval)\n",
    "print(CV_rfc.best_params_)\n",
    "\n"
   ]
  },
  {
   "cell_type": "code",
   "execution_count": 81,
   "metadata": {},
   "outputs": [],
   "source": [
    "cv_scores=[]\n",
    "seed = 123\n",
    "\n",
    "# Optimized RF classifier\n",
    "rfc = RandomForestClassifier(n_jobs=-1, n_estimators=100,max_depth=42)\n",
    "\n",
    "kfold = model_selection.KFold(n_splits=10, random_state=seed)\n"
   ]
  },
  {
   "cell_type": "code",
   "execution_count": 89,
   "metadata": {},
   "outputs": [
    {
     "name": "stdout",
     "output_type": "stream",
     "text": [
      "random forest accuracy:  96.97\n"
     ]
    }
   ],
   "source": [
    "history_obj=rfc.fit(x_trainval, y_trainval)\n",
    "y_pred = rfc.predict(x_test)\n",
    "accuracy = accuracy_score(y_test, y_pred)\n",
    "print (\"random forest accuracy: \",accuracy*100)"
   ]
  },
  {
   "cell_type": "code",
   "execution_count": 100,
   "metadata": {},
   "outputs": [],
   "source": [
    "from sklearn.model_selection import validation_curve\n",
    "param_range = np.arange(1, 100, 2)\n",
    "train_scores, test_scores = validation_curve(rfc,\n",
    "                                            x_trainval,\n",
    "                                            y_trainval,\n",
    "                                            param_name=\"n_estimators\",\n",
    "                                            param_range=param_range,\n",
    "                                            cv=3,\n",
    "                                            scoring=\"accuracy\",\n",
    "                                            n_jobs=-1)"
   ]
  },
  {
   "cell_type": "code",
   "execution_count": 108,
   "metadata": {},
   "outputs": [
    {
     "data": {
      "image/png": "[encoded data removed]",
      "text/plain": [
       "<Figure size 432x288 with 1 Axes>"
      ]
     },
     "metadata": {
      "needs_background": "light"
     },
     "output_type": "display_data"
    },
    {
     "name": "stdout",
     "output_type": "stream",
     "text": [
      "(60000, 784)\n",
      "(50, 3)\n",
      "(50,)\n",
      "[0.92574164 0.97690833 0.99345002 0.99720832 0.99881667 0.99934166\n",
      " 0.99955833 0.99968333 0.99980833 0.99981666 0.99995    0.99995\n",
      " 0.99995    0.999975   0.999975   0.99995833 0.999975   0.99998333\n",
      " 0.99999167 0.99998333 0.99998333 1.         1.         1.\n",
      " 1.         0.99999167 0.99999167 1.         1.         1.\n",
      " 1.         0.99999167 1.         1.         1.         1.\n",
      " 1.         0.99999167 1.         1.         1.         1.\n",
      " 0.99999167 1.         1.         1.         1.         1.\n",
      " 1.         1.        ]\n"
     ]
    }
   ],
   "source": [
    "# Calculate mean and standard deviation for training set scores\n",
    "\n",
    "train_mean = np.mean(train_scores, axis=1)\n",
    "train_std = np.std(train_scores, axis=1)\n",
    "\n",
    "# Calculate mean and standard deviation for test set scores\n",
    "test_mean = np.mean(test_scores, axis=1)\n",
    "test_std = np.std(test_scores, axis=1)\n",
    "# Plot mean accuracy scores for training and test sets\n",
    "plt.plot(param_range, train_mean, label=\"Training score\", color=\"blue\")\n",
    "plt.plot(param_range, test_mean, label=\"Cross-validation score (test)\", color=\"red\")\n",
    "plt.title('model accuracy')\n",
    "plt.ylabel('accuracy')\n",
    "plt.xlabel('epoch')\n",
    "plt.legend(['train', 'test'], loc='lower right')\n",
    "\n",
    "plt.show()\n",
    "\n",
    "print(x_trainval.shape)\n",
    "print(train_scores.shape)\n",
    "print(train_mean.shape)\n",
    "print(train_mean)"
   ]
  },
  {
   "cell_type": "code",
   "execution_count": 107,
   "metadata": {},
   "outputs": [
    {
     "name": "stdout",
     "output_type": "stream",
     "text": [
      "[0.97677268 0.97717557 0.97677674]\n"
     ]
    }
   ],
   "source": [
    "print(train_scores[1])"
   ]
  },
  {
   "cell_type": "code",
   "execution_count": null,
   "metadata": {},
   "outputs": [],
   "source": []
  }
 ],
 "metadata": {
  "kernelspec": {
   "display_name": "Python 3",
   "language": "python",
   "name": "python3"
  },
  "language_info": {
   "codemirror_mode": {
    "name": "ipython",
    "version": 3
   },
   "file_extension": ".py",
   "mimetype": "text/x-python",
   "name": "python",
   "nbconvert_exporter": "python",
   "pygments_lexer": "ipython3",
   "version": "3.6.6"
  }
 },
 "nbformat": 4,
 "nbformat_minor": 2
}