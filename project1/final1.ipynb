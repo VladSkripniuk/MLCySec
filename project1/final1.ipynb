{
 "cells": [
  {
   "cell_type": "markdown",
   "metadata": {
    "colab_type": "text",
    "id": "4NzyqehHjUlG"
   },
   "source": [
    "# ML in Cybersecurity: Project I\n",
    "\n",
    "## Team\n",
    "  * **Team name**:  *SecurityMonks*\n",
    "  * **Members**:  *Soumya Ranjan Sahoo (s8sosaho@stud.uni-saarland.de), Vinit Hegiste (s8vihegi@stud.uni-saarland.de), Vladislav Skripniuk (s8vlskri@stud.uni-saarland.de)*\n",
    "  * **Tutor**: *Hossein Hajipour*\n",
    "\n",
    "\n",
    "## Logistics\n",
    "  * **Due date**: 11th November 2018, 23:59:59 (to email the completed notebook to your respective tutors)\n",
    "  * Complete this in **teams of 3**\n",
    "  * Write to Hossein (hossein.hajipour@cispa.saarland) by **2nd November** your team members and team-name. \n",
    "  * In case you cannot find a team, some available options: (a) Contact Hossein, who can help you out (b) Post on the [course group](https://groups.google.com/d/forum/ml-cysec-2018)\n",
    "  * Each team will be assigned a tutor. Mail the notebook (or share the collab link) to the respective TAs before the due date.\n",
    "  \n",
    "  \n",
    "## Timeline\n",
    "  * 29-Oct-2018: Project 1 hand-out\n",
    "  * 2-Nov-2018: Write to Hossein your team-name and members\n",
    "  * 5-Nov-2018: Each team is assigned a tutor\n",
    "  * **11-Nov-2018** (23:59:59): Email completed notebook to respective TAs\n",
    "  * **12-Nov-2018** (12:15-14:00, regular tutorial slot): Teams present their projects\n",
    "  * 19-Nov-2018 (12:15-14:00, regular tutorial slot): Project 1 discussion and summary\n",
    "  \n",
    "  \n",
    "## About this Project\n",
    "In this project, you'll implement a digit classifier, based on the popular [MNIST](http://yann.lecun.com/exdb/mnist/) dataset. The dataset is based on a seminal [paper](http://yann.lecun.com/exdb/publis/pdf/lecun-01a.pdf), which immensely popularized (convolutional) neural networks. This is a great starting point for ML research and this dataset/model has been a stepping stone numerous other tasks such as [GANs](https://papers.nips.cc/paper/5423-generative-adversarial-nets.pdf), [Adversarial Perturbations](https://arxiv.org/abs/1412.6572) and so many more!\n",
    "\n",
    "This dataset consists of data $\\mathcal{D} = \\{x_i, y_i\\}_{i=1}^N$, where $x_i$ is a 28x28 pixel grayscale image and $y_i$ is a scalar represeting digits between 0-9. The notebook will guide you to load this data, implement classifiers $\\hat{y_i} = f_w(x_i)$  and analyze results. By doing so, you'll have a ML model that works on real data!\n",
    "\n",
    "To put things into context, have a look at Slide 24 in the [second](https://cms.cispa.saarland/mlcysec/dl/2/2018-10-24_ML_overview.pdf) lecture. Within this framework, the following blocks of this project are fixed:\n",
    "  * *Real-world problem*: Digit classification\n",
    "  * *Performance metric*: Mean accuracy i.e., $ \\frac{1}{N} \\sum_{i=1}^N \\mathbb{1}[\\hat{y_i} = y_i]$, where $\\mathbb{1}[\\hat{y_i} = y_i]$ is 1 if your model predicted the right digit for the $i$-th digit and 0 otherwise.\n",
    "  * *Data*: The MNIST dataset\n",
    "\n",
    "You'll make the the following design-choices:\n",
    " * *Choice of Model*: A model family (Non-parametric methods, Linear classifiers, Neural Networks, etc.)\n",
    " * *ML Model*: Specific model (e.g., SVM with a polynomial kernel)\n",
    " * *Loss/Risk*\n",
    " * *Optimization*\n",
    "\n",
    "\n",
    "## A Note on Grading\n",
    "The grading for this project will depend on:\n",
    " 1. Functional digit classifier\n",
    "   * Following a well-defined ML pipeline\n",
    "   * Developing 3 classification models (keep them diverse and ideally of increasing complexity)\n",
    "   * Obtaining reasonable accuracies (>80%) on a held-out test set\n",
    " 1. Analysis\n",
    "   * Which methods work better than the rest and why?\n",
    "   * Which hyper-parameters and design-choices were important in each of your methods?\n",
    "   * Quantifying influence of these hyper-parameters on loss and/or validation accuracies\n",
    "   * Trade-offs between methods, hyper-parameters, design-choices\n",
    "    * Anything else you find interesting (this part is open-ended)\n",
    " \n",
    "We will evaluate this criteria in a **12-minute presentation** (9 mins for presentation + 3 mins for Q&A). This will be during the regular tutorial slot on 12th November 12:00-14:00 (Location will be conveyed soon). In case you have time restrictions during the time of the tutorial, notify us asap!  You can present on your laptops.\n",
    "\n",
    "The most interesting findings will be discussed in the tutorial slot on 19th November.\n",
    " \n",
    " A note on (1.): \n",
    "  * choose your models that aids good insights. We require at least one non-Neural Network (e.g., SVM, KNN) and one Neural Network model (e.g., MLP, CNN).\n",
    "  * We definitely don't expect all three models to achieve >99% test accuracies!\n",
    " \n",
    " \n",
    "## Filling-in the Notebook\n",
    "You'll be submitting this very notebook that is filled-in with your code and analysis. Make sure you submit one that has been previously executed in-order. (So that results/graphs are already visible upon opening it). \n",
    "\n",
    "The notebook you submit **should compile** (or should be self-contained and sufficiently commented). Check tutorial 1 on how to set up the Python3 environment.\n",
    "\n",
    "It is extremely important that you **do not** re-order the existing sections. Apart from that, the code blocks that you need to fill-in are given by:\n",
    "```\n",
    "#\n",
    "#\n",
    "# ------- Your Code -------\n",
    "#\n",
    "#\n",
    "```\n",
    "Feel free to break this into multiple-cells. It's even better if you interleave explanations and code-blocks so that the entire notebook forms a readable \"story\".\n",
    "\n",
    "\n",
    "## Code of Honor\n",
    "We encourage discussing ideas and concepts with other students to help you learn and better understand the course content. However, the work you submit and present **must be original** and demonstrate your effort in solving the presented problems. **We will not tolerate** blatantly using existing solutions (such as from the internet), improper collaboration (e.g., sharing code or experimental data between groups) and plagiarism. If the honor code is not met, no points will be awarded.\n",
    "\n",
    " \n",
    " ## Versions\n",
    "  * v1.1: Added Code of Honor\n",
    "  * v1.0: Initial notebook\n",
    "  \n",
    "  ---"
   ]
  },
  {
   "cell_type": "code",
   "execution_count": 1,
   "metadata": {
    "colab": {},
    "colab_type": "code",
    "collapsed": true,
    "id": "3ewNwfFvbFaR"
   },
   "outputs": [],
   "source": [
    "import time \n",
    " \n",
    "import numpy as np \n",
    "import matplotlib.pyplot as plt \n",
    "\n",
    "import json \n",
    "import time \n",
    "import pickle \n",
    "import sys \n",
    "import csv \n",
    "import os \n",
    "import os.path as osp \n",
    "import shutil \n",
    "\n",
    "import pandas as pd\n",
    "\n",
    "from IPython.display import display, HTML\n",
    " \n",
    "%matplotlib inline \n",
    "plt.rcParams['figure.figsize'] = (10.0, 8.0) # set default size of plots \n",
    "plt.rcParams['image.interpolation'] = 'nearest' \n",
    "plt.rcParams['image.cmap'] = 'gray' \n",
    " \n",
    "# for auto-reloading external modules \n",
    "# see http://stackoverflow.com/questions/1907993/autoreload-of-modules-in-ipython \n",
    "%load_ext autoreload\n",
    "%autoreload 2"
   ]
  },
  {
   "cell_type": "code",
   "execution_count": 2,
   "metadata": {
    "colab": {},
    "colab_type": "code",
    "id": "640GrzbOevr0"
   },
   "outputs": [
    {
     "name": "stderr",
     "output_type": "stream",
     "text": [
      "/home/skripniuk/miniconda3/lib/python3.6/site-packages/h5py/__init__.py:36: FutureWarning: Conversion of the second argument of issubdtype from `float` to `np.floating` is deprecated. In future, it will be treated as `np.float64 == np.dtype(float).type`.\n",
      "  from ._conv import register_converters as _register_converters\n",
      "Using TensorFlow backend.\n"
     ]
    }
   ],
   "source": [
    "# Load other libraries here.\n",
    "# Keep it minimal! We should be easily able to reproduce your code.\n",
    "\n",
    "# In case you want to use neural networks, we only support sklearn and keras (With a tensorflow backend).\n",
    "\n",
    "from sklearn.neighbors import KNeighborsClassifier\n",
    "from sklearn.decomposition import PCA\n",
    "from sklearn.model_selection import GridSearchCV, ShuffleSplit\n",
    "\n",
    "from keras.datasets import mnist\n",
    "from keras.models import Sequential\n",
    "from keras.layers import Dense\n",
    "from keras.layers import Dropout\n",
    "from keras.layers import Flatten\n",
    "from keras.layers.convolutional import Conv2D\n",
    "from keras.layers.convolutional import MaxPooling2D\n",
    "from keras.utils import np_utils\n",
    "from keras import backend as K\n",
    "from keras.callbacks import ModelCheckpoint\n",
    "\n",
    "K.set_image_dim_ordering('th')\n",
    "\n",
    "from keras.optimizers import *\n",
    "from keras.wrappers.scikit_learn import KerasClassifier\n",
    "\n",
    "from sklearn.ensemble import RandomForestClassifier\n",
    "from sklearn.grid_search import GridSearchCV\n",
    "from sklearn.metrics import accuracy_score\n",
    "from sklearn import model_selection\n",
    "from sklearn import metrics\n",
    "import numpy as np\n",
    "%matplotlib inline\n",
    "\n",
    "\n",
    "#random seed for reproducing the same \n",
    "seed = 1234\n",
    "numpy.random.seed(seed)"
   ]
  },
  {
   "cell_type": "markdown",
   "metadata": {
    "colab_type": "text",
    "id": "nxi-lLD0mKHD"
   },
   "source": [
    "Helpers\n",
    "\n",
    "In case you choose to have some methods you plan to reuse during the notebook, define them here. This will avoid clutter and keep rest of the notebook succinct."
   ]
  },
  {
   "cell_type": "code",
   "execution_count": 3,
   "metadata": {
    "colab": {},
    "colab_type": "code",
    "collapsed": true,
    "id": "VBbigqdEmKd8"
   },
   "outputs": [],
   "source": [
    "def identity_func(foo):\n",
    "    return foo\n",
    "\n",
    "\n",
    "#\n",
    "#\n",
    "# ------- Your Code -------\n",
    "#\n",
    "#"
   ]
  },
  {
   "cell_type": "markdown",
   "metadata": {
    "colab_type": "text",
    "id": "n1pcmKkyjT7y"
   },
   "source": [
    "# 1. Loading and Visualizing data\n",
    "\n",
    "In this section, you'll need to prepare the MNIST data for the experiments you'll be conducting for the remainder of the notebook."
   ]
  },
  {
   "cell_type": "markdown",
   "metadata": {
    "colab_type": "text",
    "id": "AIU9Q762fmoT"
   },
   "source": [
    "## 1.1. Load Data\n",
    "\n",
    "Here you'll load the MNIST data into memory. The end-goal is to two have the following variables:\n",
    "  * `x_trainval`, `x_test`: of shape $N \\times d_1 \\times d_2 \\dots$ (e.g., $N \\times 784$. 784 since you could flatten each 28x28 pixel image into a single vector)\n",
    "  * `y_trainval`, `y_test`: of shape $N \\times K$ (K = 1 or 10 depending on how you plan to represent the ground-truth digit annotation)\n",
    "\n",
    "You can either do this by:\n",
    "  1. Downloading the MNIST dataset, unpacking and preparing it yourself to have fine-grained control\n",
    "  1. Using high-level existing functions, such as the one provided by  [`keras.datasets`](https://keras.io/datasets/#mnist-database-of-handwritten-digits).\n",
    "  \n",
    "  \n",
    "  In either case, it is important that you have disjoint trainval and test splits!"
   ]
  },
  {
   "cell_type": "code",
   "execution_count": 4,
   "metadata": {
    "colab": {},
    "colab_type": "code",
    "id": "7kYacpo_jvao"
   },
   "outputs": [
    {
     "name": "stdout",
     "output_type": "stream",
     "text": [
      "x_trainval.shape = (60000, 28, 28),  y_trainval.shape = (60000,)\n",
      "x_test.shape = (10000, 28, 28),  y_test.shape = (10000,)\n"
     ]
    }
   ],
   "source": [
    "#\n",
    "#\n",
    "# ------- Your Code -------\n",
    "(x_trainval, y_trainval), (x_test, y_test) = mnist.load_data()\n",
    "#\n",
    "#\n",
    "\n",
    "print('x_trainval.shape = {},  y_trainval.shape = {}'.format(x_trainval.shape, y_trainval.shape))\n",
    "print('x_test.shape = {},  y_test.shape = {}'.format(x_test.shape, y_test.shape))\n",
    "\n",
    "#\n",
    "# Feel free to have multiple variables in case your models are designed for different formats\n",
    "# For instance, in case your model requires Nx28x28 inputs, declare x_trainval_3d, etc.\n",
    "\n",
    "# Tip: Set this to a tiny number (such 0.05) to aid debugging\n",
    "# After all, you do not want to train/evaluate on the entire dataset to find bugs\n",
    "DEBUG_FRAC = 1.0\n",
    "# Resample x_[], y_[]\n",
    "x_trainval = x_trainval[:int(len(x_trainval)*DEBUG_FRAC)]\n",
    "y_trainval = y_trainval[:int(len(y_trainval)*DEBUG_FRAC)]"
   ]
  },
  {
   "cell_type": "markdown",
   "metadata": {
    "colab_type": "text",
    "id": "eA6_cejNjzYw"
   },
   "source": [
    "## 1.2. Visualize Data\n",
    "\n",
    "To get the hang of your data you'll be training a digit classifier on, visualize it.\n",
    "\n",
    "Examples of ways to visualize it:\n",
    "  * Given a digit, display few randomly sampled images for this digit (the bare minimum)\n",
    "  * Visualize as a grid (e.g., Slide 7, [Lecture 2](https://cms.cispa.saarland/mlcysec/dl/2/2018-10-24_ML_overview.pdf)) using a combination of `plt.imshow` and `plt.subplots`\n",
    "  \n",
    "It's up to you to decide how you want to do this. The end-goal is for you to potentially give a trailer of the dataset to someone who hasn't seen it before."
   ]
  },
  {
   "cell_type": "code",
   "execution_count": 5,
   "metadata": {
    "colab": {},
    "colab_type": "code",
    "id": "dISIbt4plyoD"
   },
   "outputs": [
    {
     "data": {
      "image/png": "[encoded data removed]",
      "text/plain": [
       "<matplotlib.figure.Figure at 0x7f348974ae10>"
      ]
     },
     "metadata": {},
     "output_type": "display_data"
    }
   ],
   "source": [
    "#\n",
    "#\n",
    "# ------- Your Code -------\n",
    "fig,ax = plt.subplots(nrows=10, ncols=10)\n",
    "\n",
    "for i in range(10):\n",
    "    ax[0][i].set_title(i)\n",
    "    chosen_images = x_trainval[y_trainval == i][:10]\n",
    "    for j in range(10):\n",
    "        ax[j][i].imshow(chosen_images[j])\n",
    "        ax[j][i].axes.get_xaxis().set_visible(False)\n",
    "        ax[j][i].axes.get_yaxis().set_visible(False)\n",
    "#\n",
    "#\n",
    "\n",
    "plt.savefig('fig1.pdf')   # Save the figures in case you want to use it in the presentation\n",
    "plt.show()   # These should be some visualization of data at the end of this section"
   ]
  },
  {
   "cell_type": "markdown",
   "metadata": {
    "colab_type": "text",
    "id": "b8sAT53jmJ8_"
   },
   "source": [
    "# 2. Digit classifiers\n",
    "\n",
    "In this section, you'll begin developing models to perform digit classification.\n",
    "\n",
    "Each model needs to be structured like so:\n",
    "  1. Give a brief reason which model you are going to train and why you choose it\n",
    "  1. Define hyper-parameters for model and optimization procedure\n",
    "  1. Define your model\n",
    "  1. Define optimization method and fit model to data\n",
    "  1. Summarize your findings\n",
    "\n",
    "\n",
    "\n",
    "\n",
    "\n"
   ]
  },
  {
   "cell_type": "markdown",
   "metadata": {
    "colab_type": "text",
    "id": "xkF-7eFnpWoe"
   },
   "source": [
    "## 2.1: Model [M1]: *K-nearest neighbors classifier + PCA preprocessing*\n",
    "\n",
    "**Short description **: *KNN classifier just memorizes the whole training set and returns the most frequent label among nearest neighbors for every test point. Since there is a lot of redundancy in raw pixels data, we perform dimensionality reduction before training.*"
   ]
  },
  {
   "cell_type": "markdown",
   "metadata": {
    "colab_type": "text",
    "id": "lVyT9Oddp3GB"
   },
   "source": [
    "### 2.1.1: Hyper-parameters\n",
    "\n",
    "Define hyper-parameters for your method here"
   ]
  },
  {
   "cell_type": "code",
   "execution_count": 6,
   "metadata": {
    "collapsed": true
   },
   "outputs": [],
   "source": [
    "knn_parameters = {'n_neighbors':[1, 3, 5]}\n",
    "pca_parameters = {'n_components':[5, 10, 20, 50, 100]}"
   ]
  },
  {
   "cell_type": "code",
   "execution_count": 7,
   "metadata": {
    "collapsed": true
   },
   "outputs": [],
   "source": [
    "scores = np.zeros((len(pca_parameters['n_components']), len(knn_parameters['n_neighbors'])))"
   ]
  },
  {
   "cell_type": "markdown",
   "metadata": {
    "colab_type": "text",
    "id": "pkuCgPatp59X"
   },
   "source": [
    "### 2.1.2: Model\n",
    "\n",
    "Define your model here (all hyper-parameters in 2.1.1)"
   ]
  },
  {
   "cell_type": "code",
   "execution_count": 8,
   "metadata": {
    "colab": {},
    "colab_type": "code",
    "collapsed": true,
    "id": "3qV3SuPAp6XF"
   },
   "outputs": [],
   "source": [
    "knn_model = KNeighborsClassifier()"
   ]
  },
  {
   "cell_type": "markdown",
   "metadata": {
    "colab_type": "text",
    "id": "SxE6d6OXp6sU"
   },
   "source": [
    "### 2.1.3: Fit Model\n",
    "\n",
    "Define optimization procedure and fit your model to the data"
   ]
  },
  {
   "cell_type": "code",
   "execution_count": 9,
   "metadata": {},
   "outputs": [
    {
     "name": "stdout",
     "output_type": "stream",
     "text": [
      "Fitting 1 folds for each of 3 candidates, totalling 3 fits\n",
      "[CV] n_neighbors=1 ...................................................\n",
      "[CV] n_neighbors=3 ...................................................\n",
      "[CV] n_neighbors=5 ...................................................\n",
      "[CV] ...................... n_neighbors=1, score=0.6874, total=   0.2s\n",
      "[CV] ...................... n_neighbors=3, score=0.7253, total=   0.4s\n",
      "[CV] ...................... n_neighbors=5, score=0.7353, total=   0.4s\n"
     ]
    },
    {
     "name": "stderr",
     "output_type": "stream",
     "text": [
      "[Parallel(n_jobs=4)]: Done   3 out of   3 | elapsed:    1.4s finished\n"
     ]
    },
    {
     "name": "stdout",
     "output_type": "stream",
     "text": [
      "Fitting 1 folds for each of 3 candidates, totalling 3 fits\n",
      "[CV] n_neighbors=1 ...................................................\n",
      "[CV] n_neighbors=3 ...................................................\n",
      "[CV] n_neighbors=5 ...................................................\n",
      "[CV] ...................... n_neighbors=1, score=0.9194, total=   2.0s\n",
      "[CV] ...................... n_neighbors=3, score=0.9303, total=   1.7s\n",
      "[CV] ...................... n_neighbors=5, score=0.9331, total=   3.0s\n"
     ]
    },
    {
     "name": "stderr",
     "output_type": "stream",
     "text": [
      "[Parallel(n_jobs=4)]: Done   3 out of   3 | elapsed:   10.3s finished\n"
     ]
    },
    {
     "name": "stdout",
     "output_type": "stream",
     "text": [
      "Fitting 1 folds for each of 3 candidates, totalling 3 fits\n",
      "[CV] n_neighbors=1 ...................................................\n",
      "[CV] n_neighbors=3 ...................................................\n",
      "[CV] n_neighbors=5 ...................................................\n",
      "[CV] ....................... n_neighbors=1, score=0.971, total=   6.6s\n",
      "[CV] ...................... n_neighbors=3, score=0.9735, total=  10.2s\n",
      "[CV] ...................... n_neighbors=5, score=0.9733, total=  11.3s\n"
     ]
    },
    {
     "name": "stderr",
     "output_type": "stream",
     "text": [
      "[Parallel(n_jobs=4)]: Done   3 out of   3 | elapsed:   52.5s finished\n"
     ]
    },
    {
     "name": "stdout",
     "output_type": "stream",
     "text": [
      "Fitting 1 folds for each of 3 candidates, totalling 3 fits\n",
      "[CV] n_neighbors=1 ...................................................\n",
      "[CV] n_neighbors=3 ...................................................\n",
      "[CV] n_neighbors=5 ...................................................\n",
      "[CV] ...................... n_neighbors=1, score=0.9776, total=  31.2s\n",
      "[CV] ...................... n_neighbors=3, score=0.9792, total=  29.6s\n",
      "[CV] ...................... n_neighbors=5, score=0.9783, total=  41.5s\n"
     ]
    },
    {
     "name": "stderr",
     "output_type": "stream",
     "text": [
      "[Parallel(n_jobs=4)]: Done   3 out of   3 | elapsed:  3.2min finished\n"
     ]
    },
    {
     "name": "stdout",
     "output_type": "stream",
     "text": [
      "Fitting 1 folds for each of 3 candidates, totalling 3 fits\n",
      "[CV] n_neighbors=1 ...................................................\n",
      "[CV] n_neighbors=3 ...................................................\n",
      "[CV] n_neighbors=5 ...................................................\n",
      "[CV] ...................... n_neighbors=1, score=0.9732, total=  54.1s\n",
      "[CV] ...................... n_neighbors=3, score=0.9727, total= 1.3min\n",
      "[CV] ...................... n_neighbors=5, score=0.9733, total= 1.4min\n"
     ]
    },
    {
     "name": "stderr",
     "output_type": "stream",
     "text": [
      "[Parallel(n_jobs=4)]: Done   3 out of   3 | elapsed:  6.8min finished\n"
     ]
    },
    {
     "name": "stdout",
     "output_type": "stream",
     "text": [
      "CPU times: user 1min 23s, sys: 16.6 s, total: 1min 39s\n",
      "Wall time: 11min 35s\n"
     ]
    }
   ],
   "source": [
    "%%time\n",
    "\n",
    "for i, n_components in enumerate(pca_parameters['n_components']):\n",
    "    pca = PCA(n_components=n_components)\n",
    "    pca.fit(x_trainval.reshape(-1,28*28))\n",
    "    \n",
    "    grid = GridSearchCV(knn_model, knn_parameters, cv=ShuffleSplit(n_splits=1, test_size=10000), n_jobs=4, verbose=3)\n",
    "    grid.fit(pca.transform(x_trainval.reshape(-1,28*28)), y_trainval)\n",
    "    \n",
    "    scores[i,...] = grid.cv_results_['mean_test_score']"
   ]
  },
  {
   "cell_type": "code",
   "execution_count": 10,
   "metadata": {},
   "outputs": [
    {
     "data": {
      "text/plain": [
       "(0.68, 1.0)"
      ]
     },
     "execution_count": 10,
     "metadata": {},
     "output_type": "execute_result"
    },
    {
     "data": {
      "image/png": "[encoded data removed]",
      "text/plain": [
       "<matplotlib.figure.Figure at 0x7f34849ba2b0>"
      ]
     },
     "metadata": {},
     "output_type": "display_data"
    }
   ],
   "source": [
    "fig, ax = plt.subplots(nrows=1,ncols=1)\n",
    "\n",
    "for i in range(len(pca_parameters['n_components'])):\n",
    "    ax.plot(knn_parameters['n_neighbors'], scores[i,...], label=\"# of principal components = {}\".format(pca_parameters['n_components'][i]))\n",
    "    \n",
    "ax.set_xticks([1, 3, 5])\n",
    "ax.set_title('Accuracy of KNN on validation set')\n",
    "ax.set_xlabel('# of neighbours')\n",
    "ax.set_ylabel('Accuracy')\n",
    "ax.legend()\n",
    "ax.set_ylim(0.68, 1.0)\n",
    "\n"
   ]
  },
  {
   "cell_type": "markdown",
   "metadata": {
    "colab_type": "text",
    "id": "QaJv_d_Dp7OM"
   },
   "source": [
    "### 2.1.4: Evaluation\n",
    "\n",
    "Evaluate your model.\n",
    "\n",
    "When possible, you should have:\n",
    "  * Loss curves: Plot epoch (# passes over training data) and loss\n",
    "  * Accuracy curves: Plot epoch and accuracy over val/test set\n",
    "  * Final numbers: Report final accuracy numbers for your model"
   ]
  },
  {
   "cell_type": "code",
   "execution_count": 11,
   "metadata": {},
   "outputs": [
    {
     "data": {
      "text/plain": [
       "KNeighborsClassifier(algorithm='auto', leaf_size=30, metric='minkowski',\n",
       "           metric_params=None, n_jobs=1, n_neighbors=3, p=2,\n",
       "           weights='uniform')"
      ]
     },
     "execution_count": 11,
     "metadata": {},
     "output_type": "execute_result"
    }
   ],
   "source": [
    "# Let's train a model with optimal hyper parameters\n",
    "\n",
    "pca = PCA(n_components=50)\n",
    "pca.fit(x_trainval.reshape(-1,28*28))\n",
    "\n",
    "knn_model = KNeighborsClassifier(n_neighbors=3)\n",
    "knn_model.fit(pca.transform(x_trainval.reshape(-1,28*28)), y_trainval)"
   ]
  },
  {
   "cell_type": "code",
   "execution_count": 12,
   "metadata": {
    "collapsed": true
   },
   "outputs": [],
   "source": [
    "pred_train = knn_model.predict(pca.transform(x_trainval.reshape(-1, 28*28)))"
   ]
  },
  {
   "cell_type": "code",
   "execution_count": 13,
   "metadata": {
    "collapsed": true
   },
   "outputs": [],
   "source": [
    "pred_test = knn_model.predict(pca.transform(x_test.reshape(-1, 28*28)))"
   ]
  },
  {
   "cell_type": "code",
   "execution_count": 18,
   "metadata": {},
   "outputs": [
    {
     "name": "stdout",
     "output_type": "stream",
     "text": [
      "Accuracy on train set: 0.9895\n",
      "Accuracy on test set: 0.9755\n"
     ]
    }
   ],
   "source": [
    "print(\"Accuracy on train set: {0:.4f}\".format((pred_train == y_trainval).mean()))\n",
    "print(\"Accuracy on test set: {0:.4f}\".format((pred_test == y_test).mean()))"
   ]
  },
  {
   "cell_type": "markdown",
   "metadata": {
    "colab_type": "text",
    "id": "DEQrdyLHsUIu"
   },
   "source": [
    "### 2.1.5: Summary\n",
    "\n",
    "Summarize your findings:\n",
    " * Number of neighbours in KNN influences performance less than number on principal components in PCA. If we use more principal components, PCA captures more variance in data and that improves accuracy, though improvements become negligible after some point.\n",
    " * It was quite interesting, that even such simple model as KNN was able to achieve ~2.5% error on test set."
   ]
  },
  {
   "cell_type": "markdown",
   "metadata": {
    "colab_type": "text",
    "id": "Fcq52WUUs2Mm"
   },
   "source": [
    "# 2.2: Model [M2]: *Convolutional Neural Network*\n",
    "\n",
    "**Short description **: *Neural network is graph of consecutive input transformations. The basic building block of convolutional neural networks is a convolutional layer, which captures local correlations in images with help of convolution filter.*"
   ]
  },
  {
   "cell_type": "markdown",
   "metadata": {},
   "source": [
    "### 2.2.0: Preprocessing"
   ]
  },
  {
   "cell_type": "code",
   "execution_count": 4,
   "metadata": {
    "collapsed": true
   },
   "outputs": [],
   "source": [
    "#reading data\n",
    "(x_train,y_train),(x_test,y_test)=mnist.load_data()"
   ]
  },
  {
   "cell_type": "code",
   "execution_count": 5,
   "metadata": {
    "collapsed": true
   },
   "outputs": [],
   "source": [
    "x_train = x_train.reshape(x_train.shape[0],1,28,28).astype(\"float32\")\n",
    "x_test = x_test.reshape(x_test.shape[0],1,28,28).astype(\"float32\")"
   ]
  },
  {
   "cell_type": "code",
   "execution_count": 6,
   "metadata": {
    "collapsed": true
   },
   "outputs": [],
   "source": [
    "x_train = x_train/255\n",
    "x_test = x_test/255"
   ]
  },
  {
   "cell_type": "code",
   "execution_count": 7,
   "metadata": {},
   "outputs": [
    {
     "data": {
      "text/plain": [
       "10"
      ]
     },
     "execution_count": 7,
     "metadata": {},
     "output_type": "execute_result"
    }
   ],
   "source": [
    "#one hot encoding\n",
    "#print(y_test[4])\n",
    "y_test = np_utils.to_categorical(y_test)\n",
    "#print(y_test[4])\n",
    "y_train = np_utils.to_categorical(y_train)\n",
    "n_classes = y_test.shape[1]\n",
    "n_classes\n",
    "#n_classes\n",
    "#y_test.shape"
   ]
  },
  {
   "cell_type": "markdown",
   "metadata": {
    "colab_type": "text",
    "id": "lVyT9Oddp3GB"
   },
   "source": [
    "### 2.2.1: Hyper-parameters"
   ]
  },
  {
   "cell_type": "code",
   "execution_count": 9,
   "metadata": {
    "collapsed": true
   },
   "outputs": [],
   "source": [
    "params = { 'dropout' : [0.3, 0.5, 0.7] }"
   ]
  },
  {
   "cell_type": "markdown",
   "metadata": {
    "colab_type": "text",
    "id": "pkuCgPatp59X"
   },
   "source": [
    "### 2.2.2: Model\n",
    "\n",
    "Define your model here (all hyper-parameters in 2.1.1)"
   ]
  },
  {
   "cell_type": "code",
   "execution_count": 8,
   "metadata": {
    "collapsed": true
   },
   "outputs": [],
   "source": [
    "#upgraded model\n",
    "def cnn_model(dropout):#dropout_ratelearning_rate#optimizer):\n",
    "    classifier = Sequential()\n",
    "    classifier.add(Conv2D(32,(4,4), input_shape=(1,28,28), activation=\"relu\"))\n",
    "    classifier.add(MaxPooling2D(pool_size=(2,2)))\n",
    "    classifier.add(Conv2D(16,(4,4), activation=\"relu\"))\n",
    "    classifier.add(MaxPooling2D(pool_size=(2,2)))\n",
    "    classifier.add(Dropout(dropout))\n",
    "    classifier.add(Flatten())\n",
    "    classifier.add(Dense(128,activation='relu'))\n",
    "    classifier.add(Dropout(dropout))\n",
    "    classifier.add(Dense(32,activation='relu'))\n",
    "    classifier.add(Dense(n_classes,activation='softmax'))\n",
    "    classifier.compile(optimizer='adam',metrics=[\"accuracy\"],loss=\"categorical_crossentropy\")\n",
    "    return(classifier)"
   ]
  },
  {
   "cell_type": "markdown",
   "metadata": {
    "colab_type": "text",
    "id": "SxE6d6OXp6sU"
   },
   "source": [
    "### 2.2.3: Fit Model\n",
    "\n",
    "Define optimization procedure and fit your model to the data"
   ]
  },
  {
   "cell_type": "code",
   "execution_count": 10,
   "metadata": {
    "collapsed": true
   },
   "outputs": [],
   "source": [
    "classifier = KerasClassifier(build_fn = cnn_model)\n",
    "models = GridSearchCV(estimator = classifier, param_grid = params)"
   ]
  },
  {
   "cell_type": "code",
   "execution_count": 11,
   "metadata": {},
   "outputs": [
    {
     "name": "stderr",
     "output_type": "stream",
     "text": [
      "C:\\Users\\soumy\\Anaconda3\\envs\\mlcs\\lib\\site-packages\\sklearn\\model_selection\\_split.py:1943: FutureWarning: You should specify a value for 'cv' instead of relying on the default value. The default value will change from 3 to 5 in version 0.22.\n",
      "  warnings.warn(CV_WARNING, FutureWarning)\n"
     ]
    },
    {
     "name": "stdout",
     "output_type": "stream",
     "text": [
      "Epoch 1/10\n",
      "40000/40000 [==============================] - 143s 4ms/step - loss: 0.5290 - acc: 0.8296\n",
      "Epoch 2/10\n"
     ]
    },
    {
     "name": "stderr",
     "output_type": "stream",
     "text": [
      "C:\\Users\\soumy\\Anaconda3\\envs\\mlcs\\lib\\site-packages\\keras\\callbacks.py:434: RuntimeWarning: Can save best model only with val_acc available, skipping.\n",
      "  'skipping.' % (self.monitor), RuntimeWarning)\n"
     ]
    },
    {
     "name": "stdout",
     "output_type": "stream",
     "text": [
      "40000/40000 [==============================] - 141s 4ms/step - loss: 0.1650 - acc: 0.9492\n",
      "Epoch 3/10\n",
      "40000/40000 [==============================] - 140s 4ms/step - loss: 0.1210 - acc: 0.9632\n",
      "Epoch 4/10\n",
      "40000/40000 [==============================] - 141s 4ms/step - loss: 0.1023 - acc: 0.9683\n",
      "Epoch 5/10\n",
      "40000/40000 [==============================] - 141s 4ms/step - loss: 0.0882 - acc: 0.9722\n",
      "Epoch 6/10\n",
      "40000/40000 [==============================] - 140s 4ms/step - loss: 0.0782 - acc: 0.9760\n",
      "Epoch 7/10\n",
      "40000/40000 [==============================] - 143s 4ms/step - loss: 0.0736 - acc: 0.9773\n",
      "Epoch 8/10\n",
      "40000/40000 [==============================] - 139s 3ms/step - loss: 0.0660 - acc: 0.9803\n",
      "Epoch 9/10\n",
      "40000/40000 [==============================] - 139s 3ms/step - loss: 0.0644 - acc: 0.9801\n",
      "Epoch 10/10\n",
      "40000/40000 [==============================] - 136s 3ms/step - loss: 0.0618 - acc: 0.9805\n",
      "20000/20000 [==============================] - 39s 2ms/step\n",
      "40000/40000 [==============================] - 77s 2ms/step\n",
      "Epoch 1/10\n",
      "40000/40000 [==============================] - 139s 3ms/step - loss: 0.5228 - acc: 0.8342\n",
      "Epoch 2/10\n",
      "40000/40000 [==============================] - 139s 3ms/step - loss: 0.1678 - acc: 0.9483\n",
      "Epoch 3/10\n",
      "40000/40000 [==============================] - 138s 3ms/step - loss: 0.1271 - acc: 0.9603\n",
      "Epoch 4/10\n",
      "40000/40000 [==============================] - 137s 3ms/step - loss: 0.1046 - acc: 0.9669\n",
      "Epoch 5/10\n",
      "40000/40000 [==============================] - 139s 3ms/step - loss: 0.0902 - acc: 0.9718\n",
      "Epoch 6/10\n",
      "40000/40000 [==============================] - 137s 3ms/step - loss: 0.0825 - acc: 0.9750\n",
      "Epoch 7/10\n",
      "40000/40000 [==============================] - 137s 3ms/step - loss: 0.0758 - acc: 0.9762\n",
      "Epoch 8/10\n",
      "40000/40000 [==============================] - 138s 3ms/step - loss: 0.0684 - acc: 0.9790\n",
      "Epoch 9/10\n",
      "40000/40000 [==============================] - 139s 3ms/step - loss: 0.0669 - acc: 0.9794\n",
      "Epoch 10/10\n",
      "40000/40000 [==============================] - 137s 3ms/step - loss: 0.0605 - acc: 0.9812\n",
      "20000/20000 [==============================] - 40s 2ms/step\n",
      "40000/40000 [==============================] - 79s 2ms/step\n",
      "Epoch 1/10\n",
      "40000/40000 [==============================] - 139s 3ms/step - loss: 0.5168 - acc: 0.8353\n",
      "Epoch 2/10\n",
      "40000/40000 [==============================] - 137s 3ms/step - loss: 0.1627 - acc: 0.9506\n",
      "Epoch 3/10\n",
      "40000/40000 [==============================] - 138s 3ms/step - loss: 0.1259 - acc: 0.9614\n",
      "Epoch 4/10\n",
      "40000/40000 [==============================] - 139s 3ms/step - loss: 0.1002 - acc: 0.9684\n",
      "Epoch 5/10\n",
      "40000/40000 [==============================] - 137s 3ms/step - loss: 0.0900 - acc: 0.9716\n",
      "Epoch 6/10\n",
      "40000/40000 [==============================] - 138s 3ms/step - loss: 0.0799 - acc: 0.9750\n",
      "Epoch 7/10\n",
      "40000/40000 [==============================] - 137s 3ms/step - loss: 0.0721 - acc: 0.9772\n",
      "Epoch 8/10\n",
      "40000/40000 [==============================] - 139s 3ms/step - loss: 0.0668 - acc: 0.9793\n",
      "Epoch 9/10\n",
      "40000/40000 [==============================] - 137s 3ms/step - loss: 0.0623 - acc: 0.9805\n",
      "Epoch 10/10\n",
      "40000/40000 [==============================] - 137s 3ms/step - loss: 0.0570 - acc: 0.9823\n",
      "20000/20000 [==============================] - 39s 2ms/step\n",
      "40000/40000 [==============================] - 78s 2ms/step\n",
      "Epoch 1/10\n",
      "40000/40000 [==============================] - 139s 3ms/step - loss: 0.6816 - acc: 0.7776\n",
      "Epoch 2/10\n",
      "40000/40000 [==============================] - 138s 3ms/step - loss: 0.2718 - acc: 0.9171\n",
      "Epoch 3/10\n",
      "40000/40000 [==============================] - 137s 3ms/step - loss: 0.2145 - acc: 0.9340\n",
      "Epoch 4/10\n",
      "40000/40000 [==============================] - 137s 3ms/step - loss: 0.1819 - acc: 0.9447\n",
      "Epoch 5/10\n",
      "40000/40000 [==============================] - 137s 3ms/step - loss: 0.1596 - acc: 0.9514\n",
      "Epoch 6/10\n",
      "40000/40000 [==============================] - 136s 3ms/step - loss: 0.1454 - acc: 0.9570\n",
      "Epoch 7/10\n",
      "40000/40000 [==============================] - 137s 3ms/step - loss: 0.1336 - acc: 0.9591\n",
      "Epoch 8/10\n",
      "40000/40000 [==============================] - 137s 3ms/step - loss: 0.1257 - acc: 0.9627\n",
      "Epoch 9/10\n",
      "40000/40000 [==============================] - 136s 3ms/step - loss: 0.1223 - acc: 0.9631\n",
      "Epoch 10/10\n",
      "40000/40000 [==============================] - 136s 3ms/step - loss: 0.1129 - acc: 0.9654\n",
      "20000/20000 [==============================] - 40s 2ms/step\n",
      "40000/40000 [==============================] - 77s 2ms/step\n",
      "Epoch 1/10\n",
      "40000/40000 [==============================] - 140s 3ms/step - loss: 0.8040 - acc: 0.7363\n",
      "Epoch 2/10\n",
      "40000/40000 [==============================] - 138s 3ms/step - loss: 0.3125 - acc: 0.9038\n",
      "Epoch 3/10\n",
      "40000/40000 [==============================] - 138s 3ms/step - loss: 0.2403 - acc: 0.9262\n",
      "Epoch 4/10\n",
      "40000/40000 [==============================] - 137s 3ms/step - loss: 0.1948 - acc: 0.9413\n",
      "Epoch 5/10\n",
      "40000/40000 [==============================] - 137s 3ms/step - loss: 0.1665 - acc: 0.9488\n",
      "Epoch 6/10\n",
      "40000/40000 [==============================] - 137s 3ms/step - loss: 0.1573 - acc: 0.9526\n",
      "Epoch 7/10\n",
      "40000/40000 [==============================] - 136s 3ms/step - loss: 0.1447 - acc: 0.9558\n",
      "Epoch 8/10\n",
      "40000/40000 [==============================] - 137s 3ms/step - loss: 0.1342 - acc: 0.9593\n",
      "Epoch 9/10\n",
      "40000/40000 [==============================] - 138s 3ms/step - loss: 0.1302 - acc: 0.9598\n",
      "Epoch 10/10\n",
      "40000/40000 [==============================] - 137s 3ms/step - loss: 0.1209 - acc: 0.9629\n",
      "20000/20000 [==============================] - 39s 2ms/step\n",
      "40000/40000 [==============================] - 637s 16ms/step\n",
      "Epoch 1/10\n",
      "40000/40000 [==============================] - 144s 4ms/step - loss: 0.7930 - acc: 0.7383\n",
      "Epoch 2/10\n",
      "40000/40000 [==============================] - 143s 4ms/step - loss: 0.3025 - acc: 0.9073\n",
      "Epoch 3/10\n",
      "40000/40000 [==============================] - 142s 4ms/step - loss: 0.2288 - acc: 0.9309\n",
      "Epoch 4/10\n",
      "40000/40000 [==============================] - 140s 4ms/step - loss: 0.1859 - acc: 0.9432\n",
      "Epoch 5/10\n",
      "40000/40000 [==============================] - 147s 4ms/step - loss: 0.1614 - acc: 0.9506\n",
      "Epoch 6/10\n",
      "40000/40000 [==============================] - 1463s 37ms/step - loss: 0.1440 - acc: 0.9544\n",
      "Epoch 7/10\n",
      "40000/40000 [==============================] - 26688s 667ms/step - loss: 0.1376 - acc: 0.9586\n",
      "Epoch 8/10\n",
      "40000/40000 [==============================] - 86s 2ms/step - loss: 0.1243 - acc: 0.9625\n",
      "Epoch 9/10\n",
      "40000/40000 [==============================] - 88s 2ms/step - loss: 0.1196 - acc: 0.9647\n",
      "Epoch 10/10\n",
      "40000/40000 [==============================] - 86s 2ms/step - loss: 0.1124 - acc: 0.9651\n",
      "20000/20000 [==============================] - 24s 1ms/step\n",
      "40000/40000 [==============================] - 48s 1ms/step\n",
      "Epoch 1/10\n",
      "40000/40000 [==============================] - 86s 2ms/step - loss: 1.2182 - acc: 0.5771\n",
      "Epoch 2/10\n",
      "40000/40000 [==============================] - 85s 2ms/step - loss: 0.5768 - acc: 0.8175\n",
      "Epoch 3/10\n",
      "40000/40000 [==============================] - 119s 3ms/step - loss: 0.4534 - acc: 0.8607\n",
      "Epoch 4/10\n",
      "40000/40000 [==============================] - 89s 2ms/step - loss: 0.3920 - acc: 0.8824\n",
      "Epoch 5/10\n",
      "40000/40000 [==============================] - 88s 2ms/step - loss: 0.3497 - acc: 0.8925\n",
      "Epoch 6/10\n",
      "40000/40000 [==============================] - 86s 2ms/step - loss: 0.3263 - acc: 0.9022\n",
      "Epoch 7/10\n",
      "40000/40000 [==============================] - 86s 2ms/step - loss: 0.3027 - acc: 0.9076\n",
      "Epoch 8/10\n",
      "40000/40000 [==============================] - 88s 2ms/step - loss: 0.2887 - acc: 0.9146\n",
      "Epoch 9/10\n",
      "40000/40000 [==============================] - 89s 2ms/step - loss: 0.2833 - acc: 0.9150\n",
      "Epoch 10/10\n",
      "40000/40000 [==============================] - 91s 2ms/step - loss: 0.2687 - acc: 0.9195\n",
      "20000/20000 [==============================] - 25s 1ms/step\n",
      "40000/40000 [==============================] - 51s 1ms/step\n",
      "Epoch 1/10\n",
      "40000/40000 [==============================] - 90s 2ms/step - loss: 1.1914 - acc: 0.5920\n",
      "Epoch 2/10\n",
      "40000/40000 [==============================] - 89s 2ms/step - loss: 0.5598 - acc: 0.8259\n",
      "Epoch 3/10\n",
      "40000/40000 [==============================] - 90s 2ms/step - loss: 0.4405 - acc: 0.8626\n",
      "Epoch 4/10\n",
      "40000/40000 [==============================] - 88s 2ms/step - loss: 0.3783 - acc: 0.8835\n",
      "Epoch 5/10\n",
      "40000/40000 [==============================] - 87s 2ms/step - loss: 0.3447 - acc: 0.8959\n",
      "Epoch 6/10\n",
      "40000/40000 [==============================] - 89s 2ms/step - loss: 0.3140 - acc: 0.9055\n",
      "Epoch 7/10\n",
      "40000/40000 [==============================] - 89s 2ms/step - loss: 0.3011 - acc: 0.9095\n",
      "Epoch 8/10\n",
      "40000/40000 [==============================] - 88s 2ms/step - loss: 0.2815 - acc: 0.9158\n",
      "Epoch 9/10\n",
      "40000/40000 [==============================] - 84s 2ms/step - loss: 0.2646 - acc: 0.9206\n",
      "Epoch 10/10\n",
      "40000/40000 [==============================] - 84s 2ms/step - loss: 0.2665 - acc: 0.9209\n",
      "20000/20000 [==============================] - 24s 1ms/step\n",
      "40000/40000 [==============================] - 48s 1ms/step\n",
      "Epoch 1/10\n",
      "40000/40000 [==============================] - 89s 2ms/step - loss: 1.2884 - acc: 0.5574\n",
      "Epoch 2/10\n",
      "40000/40000 [==============================] - 86s 2ms/step - loss: 0.5987 - acc: 0.8098\n",
      "Epoch 3/10\n",
      "40000/40000 [==============================] - 85s 2ms/step - loss: 0.4599 - acc: 0.8584\n",
      "Epoch 4/10\n",
      "40000/40000 [==============================] - 87s 2ms/step - loss: 0.3880 - acc: 0.8818\n",
      "Epoch 5/10\n",
      "40000/40000 [==============================] - 86s 2ms/step - loss: 0.3540 - acc: 0.8955\n",
      "Epoch 6/10\n",
      "40000/40000 [==============================] - 85s 2ms/step - loss: 0.3227 - acc: 0.9025\n",
      "Epoch 7/10\n",
      "40000/40000 [==============================] - 89s 2ms/step - loss: 0.3103 - acc: 0.9081\n",
      "Epoch 8/10\n",
      "40000/40000 [==============================] - 86s 2ms/step - loss: 0.2881 - acc: 0.9153\n",
      "Epoch 9/10\n",
      "40000/40000 [==============================] - 84s 2ms/step - loss: 0.2834 - acc: 0.9166\n",
      "Epoch 10/10\n",
      "40000/40000 [==============================] - 84s 2ms/step - loss: 0.2662 - acc: 0.9216\n",
      "20000/20000 [==============================] - 24s 1ms/step\n",
      "40000/40000 [==============================] - 48s 1ms/step\n",
      "Epoch 1/10\n",
      "60000/60000 [==============================] - 131s 2ms/step - loss: 0.4295 - acc: 0.8616\n",
      "Epoch 2/10\n",
      "60000/60000 [==============================] - 130s 2ms/step - loss: 0.1413 - acc: 0.9568\n",
      "Epoch 3/10\n",
      "60000/60000 [==============================] - 135s 2ms/step - loss: 0.1048 - acc: 0.9677\n",
      "Epoch 4/10\n",
      "60000/60000 [==============================] - 133s 2ms/step - loss: 0.0845 - acc: 0.9741\n",
      "Epoch 5/10\n",
      "60000/60000 [==============================] - 131s 2ms/step - loss: 0.0726 - acc: 0.9779\n",
      "Epoch 6/10\n",
      "60000/60000 [==============================] - 128s 2ms/step - loss: 0.0660 - acc: 0.9797\n",
      "Epoch 7/10\n",
      "60000/60000 [==============================] - 129s 2ms/step - loss: 0.0628 - acc: 0.9807\n",
      "Epoch 8/10\n",
      "60000/60000 [==============================] - 129s 2ms/step - loss: 0.0586 - acc: 0.9821\n",
      "Epoch 9/10\n",
      "60000/60000 [==============================] - 131s 2ms/step - loss: 0.0545 - acc: 0.9830\n",
      "Epoch 10/10\n",
      "60000/60000 [==============================] - 128s 2ms/step - loss: 0.0499 - acc: 0.9845\n",
      "Best Model {'dropout': 0.3}\n"
     ]
    }
   ],
   "source": [
    "filepath=\"weights.best.hdf5\"\n",
    "checkpoint = ModelCheckpoint(filepath, monitor='val_acc', verbose=1, save_best_only=True, mode='max')\n",
    "callbacks_list = [checkpoint]\n",
    "best_model = models.fit(x_train,y_train,epochs = 10, batch_size = 100, callbacks=callbacks_list)\n",
    "print(\"Best Model\", best_model.best_params_)"
   ]
  },
  {
   "cell_type": "code",
   "execution_count": 18,
   "metadata": {},
   "outputs": [
    {
     "data": {
      "text/plain": [
       "[<keras.callbacks.ModelCheckpoint at 0x1f24d0c7cc0>]"
      ]
     },
     "execution_count": 18,
     "metadata": {},
     "output_type": "execute_result"
    }
   ],
   "source": [
    "callbacks_list\n",
    "#import os\n",
    "#os.getcwd()"
   ]
  },
  {
   "cell_type": "code",
   "execution_count": 25,
   "metadata": {
    "collapsed": true
   },
   "outputs": [],
   "source": [
    "#with the best parameters\n",
    "#dropout = 0.3\n",
    "#final model post hyper-param tuning\n",
    "\n",
    "#define model\n",
    "def cnn_model():\n",
    "    classifier = Sequential()\n",
    "    classifier.add(Conv2D(32,(4,4), input_shape=(1,28,28), activation=\"relu\"))\n",
    "    classifier.add(MaxPooling2D(pool_size=(2,2)))\n",
    "    classifier.add(Conv2D(16,(4,4), activation=\"relu\"))\n",
    "    classifier.add(MaxPooling2D(pool_size=(2,2)))\n",
    "    classifier.add(Dropout(0.3))\n",
    "    classifier.add(Flatten())\n",
    "    classifier.add(Dense(128,activation='relu'))\n",
    "    classifier.add(Dropout(0.3))\n",
    "    classifier.add(Dense(32,activation='relu'))\n",
    "    classifier.add(Dense(n_classes,activation='softmax'))\n",
    "    classifier.compile(optimizer='adam',metrics=['accuracy'],loss='categorical_crossentropy')\n",
    "    return(classifier)"
   ]
  },
  {
   "cell_type": "code",
   "execution_count": 27,
   "metadata": {},
   "outputs": [
    {
     "name": "stdout",
     "output_type": "stream",
     "text": [
      "Train on 60000 samples, validate on 10000 samples\n",
      "Epoch 1/10\n",
      "60000/60000 [==============================] - 141s 2ms/step - loss: 0.4220 - acc: 0.8662 - val_loss: 0.0792 - val_acc: 0.9741\n",
      "\n",
      "Epoch 00001: val_acc improved from -inf to 0.97410, saving model to weights.best.hdf5\n",
      "Epoch 2/10\n",
      "60000/60000 [==============================] - 141s 2ms/step - loss: 0.1315 - acc: 0.9588 - val_loss: 0.0469 - val_acc: 0.9851\n",
      "\n",
      "Epoch 00002: val_acc improved from 0.97410 to 0.98510, saving model to weights.best.hdf5\n",
      "Epoch 3/10\n",
      "60000/60000 [==============================] - 139s 2ms/step - loss: 0.0976 - acc: 0.9699 - val_loss: 0.0366 - val_acc: 0.9878\n",
      "\n",
      "Epoch 00003: val_acc improved from 0.98510 to 0.98780, saving model to weights.best.hdf5\n",
      "Epoch 4/10\n",
      "60000/60000 [==============================] - 136s 2ms/step - loss: 0.0803 - acc: 0.9757 - val_loss: 0.0303 - val_acc: 0.9899\n",
      "\n",
      "Epoch 00004: val_acc improved from 0.98780 to 0.98990, saving model to weights.best.hdf5\n",
      "Epoch 5/10\n",
      "60000/60000 [==============================] - 141s 2ms/step - loss: 0.0684 - acc: 0.9792 - val_loss: 0.0277 - val_acc: 0.9911\n",
      "\n",
      "Epoch 00005: val_acc improved from 0.98990 to 0.99110, saving model to weights.best.hdf5\n",
      "Epoch 6/10\n",
      "60000/60000 [==============================] - 142s 2ms/step - loss: 0.0618 - acc: 0.9807 - val_loss: 0.0262 - val_acc: 0.9914\n",
      "\n",
      "Epoch 00006: val_acc improved from 0.99110 to 0.99140, saving model to weights.best.hdf5\n",
      "Epoch 7/10\n",
      "60000/60000 [==============================] - 141s 2ms/step - loss: 0.0580 - acc: 0.9823 - val_loss: 0.0233 - val_acc: 0.9926\n",
      "\n",
      "Epoch 00007: val_acc improved from 0.99140 to 0.99260, saving model to weights.best.hdf5\n",
      "Epoch 8/10\n",
      "60000/60000 [==============================] - 141s 2ms/step - loss: 0.0534 - acc: 0.9836 - val_loss: 0.0223 - val_acc: 0.9928\n",
      "\n",
      "Epoch 00008: val_acc improved from 0.99260 to 0.99280, saving model to weights.best.hdf5\n",
      "Epoch 9/10\n",
      "60000/60000 [==============================] - 142s 2ms/step - loss: 0.0497 - acc: 0.9852 - val_loss: 0.0216 - val_acc: 0.9940\n",
      "\n",
      "Epoch 00009: val_acc improved from 0.99280 to 0.99400, saving model to weights.best.hdf5\n",
      "Epoch 10/10\n",
      "60000/60000 [==============================] - 138s 2ms/step - loss: 0.0465 - acc: 0.9852 - val_loss: 0.0216 - val_acc: 0.9934\n",
      "\n",
      "Epoch 00010: val_acc did not improve from 0.99400\n",
      "Accuracy of the Classifier is:  99.33999999999999\n"
     ]
    }
   ],
   "source": [
    "#csv_logger = keras.callbacks.CSVLogger('training.log')\n",
    "#model.fit(X_train, Y_train, callbacks=[csv_logger])\n",
    "\n",
    "classifier = cnn_model()\n",
    "history_obj = classifier.fit(x_train,y_train,validation_data=(x_test,y_test),epochs = 10, batch_size = 100, callbacks=callbacks_list)\n",
    "accuracy_scores = classifier.evaluate(x_test,y_test,verbose = 0)\n",
    "print(\"Accuracy of the Classifier is: \", accuracy_scores[1]*100)"
   ]
  },
  {
   "cell_type": "markdown",
   "metadata": {
    "colab_type": "text",
    "id": "QaJv_d_Dp7OM"
   },
   "source": [
    "### 2.2.4: Evaluation"
   ]
  },
  {
   "cell_type": "code",
   "execution_count": 28,
   "metadata": {},
   "outputs": [
    {
     "data": {
      "image/png": "[encoded data removed]",
      "text/plain": [
       "<Figure size 432x288 with 1 Axes>"
      ]
     },
     "metadata": {
      "needs_background": "light"
     },
     "output_type": "display_data"
    }
   ],
   "source": [
    "#accuracy\n",
    "plt.plot(history_obj.history['acc'])\n",
    "plt.plot(history_obj.history['val_acc'])\n",
    "plt.title('model accuracy')\n",
    "plt.ylabel('accuracy')\n",
    "plt.xlabel('epoch')\n",
    "plt.legend(['train', 'test'], loc='upper left')\n",
    "plt.show()"
   ]
  },
  {
   "cell_type": "code",
   "execution_count": 29,
   "metadata": {},
   "outputs": [
    {
     "data": {
      "image/png": "[encoded data removed]",
      "text/plain": [
       "<Figure size 432x288 with 1 Axes>"
      ]
     },
     "metadata": {
      "needs_background": "light"
     },
     "output_type": "display_data"
    }
   ],
   "source": [
    "#loss\n",
    "plt.plot(history_obj.history['loss'])\n",
    "plt.plot(history_obj.history['val_loss'])\n",
    "plt.title('model loss')\n",
    "plt.ylabel('loss')\n",
    "plt.xlabel('epoch')\n",
    "plt.legend(['train', 'test'], loc='upper left')\n",
    "plt.show()"
   ]
  },
  {
   "cell_type": "code",
   "execution_count": 35,
   "metadata": {},
   "outputs": [
    {
     "name": "stdout",
     "output_type": "stream",
     "text": [
      "Accuracy of the Classifier on test set is: 99.34\n"
     ]
    }
   ],
   "source": [
    "print(\"Accuracy of the Classifier is: {:.2f}\".format(accuracy_scores[1]*100))"
   ]
  },
  {
   "cell_type": "markdown",
   "metadata": {
    "colab_type": "text",
    "id": "DEQrdyLHsUIu"
   },
   "source": [
    "### 2.2.5: Summary\n",
    "\n",
    "Summarize your findings:\n",
    " * Too high dropout rate interferes with model training and leads to underfitting. After hyper parameter optimization we chose dropout rate p=0.3\n",
    " * CNN achieved accuracy of ~0.6% on test set, which is better than all other models."
   ]
  },
  {
   "cell_type": "markdown",
   "metadata": {},
   "source": [
    "# 2.3: Model [M3]: *Random Forest Classifier*\n",
    "\n",
    "**Short description **: *Random Forest is an ensemble of decision trees. Decision trees divide feature space into \"leaves\" by providing a block diagram, which governs prediction making based on feature values.*"
   ]
  },
  {
   "cell_type": "markdown",
   "metadata": {},
   "source": [
    "### 2.3.0: Preprocessing\n",
    "\n",
    "Define hyper-parameters for your method here"
   ]
  },
  {
   "cell_type": "code",
   "execution_count": 95,
   "metadata": {
    "scrolled": true
   },
   "outputs": [
    {
     "name": "stdout",
     "output_type": "stream",
     "text": [
      "(60000, 28, 28)\n",
      "(60000, 784)\n"
     ]
    }
   ],
   "source": [
    "(x_trainval, y_trainval), (x_test, y_test) = mnist.load_data()\n",
    "print(x_trainval.shape)\n",
    "x_trainval = x_trainval.reshape(-1,28*28)\n",
    "x_test = x_test.reshape(-1,28*28)\n",
    "print(x_trainval.shape)"
   ]
  },
  {
   "cell_type": "markdown",
   "metadata": {
    "colab_type": "text",
    "id": "lVyT9Oddp3GB"
   },
   "source": [
    "### 2.3.1: Hyper-parameters\n",
    "\n",
    "Define hyper-parameters for your method here"
   ]
  },
  {
   "cell_type": "code",
   "execution_count": 101,
   "metadata": {
    "collapsed": true
   },
   "outputs": [],
   "source": [
    "param_grid = { \n",
    "               \"n_estimators\" : [1, 15, 30, 45,63, 100],\n",
    "               \"max_depth\" : [1, 5, 10, 15, 20, 30, 42]}\n"
   ]
  },
  {
   "cell_type": "markdown",
   "metadata": {
    "colab_type": "text",
    "id": "pkuCgPatp59X"
   },
   "source": [
    "### 2.3.2: Model\n",
    "\n",
    "Define your model here (all hyper-parameters in 2.1.1)"
   ]
  },
  {
   "cell_type": "code",
   "execution_count": null,
   "metadata": {
    "collapsed": true
   },
   "outputs": [],
   "source": [
    "rfc = RandomForestClassifier(n_jobs = -1)"
   ]
  },
  {
   "cell_type": "markdown",
   "metadata": {
    "colab_type": "text",
    "id": "SxE6d6OXp6sU"
   },
   "source": [
    "### 2.3.3: Fit Model\n",
    "\n",
    "Define optimization procedure and fit your model to the data"
   ]
  },
  {
   "cell_type": "code",
   "execution_count": 75,
   "metadata": {},
   "outputs": [
    {
     "name": "stdout",
     "output_type": "stream",
     "text": [
      "{'max_depth': 42, 'n_estimators': 100}\n"
     ]
    }
   ],
   "source": [
    "CV_rfc = GridSearchCV(estimator=rfc, param_grid=param_grid, cv= 10)\n",
    "CV_rfc.fit(x_trainval, y_trainval)\n",
    "print(CV_rfc.best_params_)\n",
    "\n"
   ]
  },
  {
   "cell_type": "code",
   "execution_count": 81,
   "metadata": {
    "collapsed": true
   },
   "outputs": [],
   "source": [
    "cv_scores=[]\n",
    "seed = 123\n",
    "\n",
    "# Optimized RF classifier\n",
    "rfc = RandomForestClassifier(n_jobs=-1, n_estimators=100,max_depth=42)\n",
    "\n",
    "kfold = model_selection.KFold(n_splits=10, random_state=seed)\n"
   ]
  },
  {
   "cell_type": "markdown",
   "metadata": {
    "colab_type": "text",
    "id": "QaJv_d_Dp7OM"
   },
   "source": [
    "### 2.3.4: Evaluation\n",
    "\n",
    "Evaluate your model.\n",
    "\n",
    "When possible, you should have:\n",
    "  * Loss curves: Plot epoch (# passes over training data) and loss\n",
    "  * Accuracy curves: Plot epoch and accuracy over val/test set\n",
    "  * Final numbers: Report final accuracy numbers for your model"
   ]
  },
  {
   "cell_type": "code",
   "execution_count": 89,
   "metadata": {},
   "outputs": [
    {
     "name": "stdout",
     "output_type": "stream",
     "text": [
      "random forest accuracy:  96.97\n"
     ]
    }
   ],
   "source": [
    "history_obj=rfc.fit(x_trainval, y_trainval)\n",
    "y_pred = rfc.predict(x_test)\n",
    "accuracy = accuracy_score(y_test, y_pred)\n",
    "print (\"random forest accuracy: \",accuracy*100)"
   ]
  },
  {
   "cell_type": "code",
   "execution_count": 100,
   "metadata": {
    "collapsed": true
   },
   "outputs": [],
   "source": [
    "from sklearn.model_selection import validation_curve\n",
    "param_range = np.arange(1, 100, 2)\n",
    "train_scores, test_scores = validation_curve(rfc,\n",
    "                                            x_trainval,\n",
    "                                            y_trainval,\n",
    "                                            param_name=\"n_estimators\",\n",
    "                                            param_range=param_range,\n",
    "                                            cv=3,\n",
    "                                            scoring=\"accuracy\",\n",
    "                                            n_jobs=-1)"
   ]
  },
  {
   "cell_type": "code",
   "execution_count": 108,
   "metadata": {},
   "outputs": [
    {
     "data": {
      "image/png": "[encoded data removed]",
      "text/plain": [
       "<Figure size 432x288 with 1 Axes>"
      ]
     },
     "metadata": {
      "needs_background": "light"
     },
     "output_type": "display_data"
    },
    {
     "name": "stdout",
     "output_type": "stream",
     "text": [
      "(60000, 784)\n",
      "(50, 3)\n",
      "(50,)\n",
      "[0.92574164 0.97690833 0.99345002 0.99720832 0.99881667 0.99934166\n",
      " 0.99955833 0.99968333 0.99980833 0.99981666 0.99995    0.99995\n",
      " 0.99995    0.999975   0.999975   0.99995833 0.999975   0.99998333\n",
      " 0.99999167 0.99998333 0.99998333 1.         1.         1.\n",
      " 1.         0.99999167 0.99999167 1.         1.         1.\n",
      " 1.         0.99999167 1.         1.         1.         1.\n",
      " 1.         0.99999167 1.         1.         1.         1.\n",
      " 0.99999167 1.         1.         1.         1.         1.\n",
      " 1.         1.        ]\n"
     ]
    }
   ],
   "source": [
    "# Calculate mean and standard deviation for training set scores\n",
    "\n",
    "train_mean = np.mean(train_scores, axis=1)\n",
    "train_std = np.std(train_scores, axis=1)\n",
    "\n",
    "# Calculate mean and standard deviation for test set scores\n",
    "test_mean = np.mean(test_scores, axis=1)\n",
    "test_std = np.std(test_scores, axis=1)\n",
    "# Plot mean accuracy scores for training and test sets\n",
    "plt.plot(param_range, train_mean, label=\"Training score\", color=\"blue\")\n",
    "plt.plot(param_range, test_mean, label=\"Cross-validation score (test)\", color=\"red\")\n",
    "plt.title('model accuracy')\n",
    "plt.ylabel('accuracy')\n",
    "plt.xlabel('epoch')\n",
    "plt.legend(['train', 'test'], loc='lower right')\n",
    "\n",
    "plt.show()\n",
    "\n",
    "print(x_trainval.shape)\n",
    "print(train_scores.shape)\n",
    "print(train_mean.shape)\n",
    "print(train_mean)"
   ]
  },
  {
   "cell_type": "markdown",
   "metadata": {
    "colab_type": "text",
    "id": "DEQrdyLHsUIu"
   },
   "source": [
    "### 2.3.5: Summary\n",
    "\n",
    "Summarize your findings:\n",
    " * It is notable, that model performance only improves with increased number of decision trees.\n",
    " * However, our model suffers from overfitting, since accuracy on training set is perfect, while it is only ~97% on test set."
   ]
  },
  {
   "cell_type": "markdown",
   "metadata": {
    "colab_type": "text",
    "id": "Ex3qQp3JolD1"
   },
   "source": [
    "# 3. Summary\n",
    "\n",
    "Enter your final summary here.\n",
    "\n",
    "You should now compare performance  on the three models [M1], [M2] and [M3]. Present this in a tabular format and/or using plots.\n",
    "\n",
    "Which model do you recommend to perform digit classification and why?\n",
    "\n",
    "Feel free to discuss other insightful observations."
   ]
  },
  {
   "cell_type": "markdown",
   "metadata": {},
   "source": [
    "We achieved the following results:\n",
    "\n",
    "| Model| KNN+PCA   | CNN| RF |\n",
    "|------|------|----|-----|\n",
    "|   Accuracy (test set)  | 0.9755 | **0.9934 **|0.9697|\n",
    "\n",
    "CNN achieves best accuracy out of three models. CNNs perform better than other models on image data in many tasks, not only digit classification. However neural nets are vulnerable to adversarial examples, thus it will be interesting to compare performance of these models in adversarial setting."
   ]
  },
  {
   "cell_type": "markdown",
   "metadata": {},
   "source": [
    "**Analysis**\n",
    "* <font color='red'>Q</font>: Which methods work better than the rest and why?\n",
    "* <font color='green'>A</font>: CNN work better on this task. CNNs usually work quite well for homogeneous data, represented in form of tensors, as they were specifically designed to process tensors of data.\n",
    "\n",
    "\n",
    "* <font color='red'>Q</font>: Which hyper-parameters and design-choices were important in each of your methods?\n",
    "* <font color='green'>A</font>: In our experiments we found the following hyper parameters to be important:\n",
    "KNN - number of principal components for preprocessing, CNN - dropout rate, RF - number of predictors.\n",
    "\n",
    "\n",
    "* <font color='red'>Q</font>: Quantifying influence of these hyper-parameters on loss and/or validation accuracies\n",
    "* <font color='green'>A</font>: In our experiments, accuracy gap between best and worst choice of hyper parameters was: KNN ~30%, CNN ~6%, RF ~5%.\n",
    "\n",
    "\n",
    "* <font color='red'>Q</font>: Trade-offs between methods, hyper-parameters, design-choices\n",
    "* <font color='green'>A</font>: The main trade-off we faced during training of KNN is trade-off between prediction time and accuracy. By increasing number of principal components in PCA for preprocessing up to 50 we significantly improved accuracy, but it takes more time to make predictions with KNN in 50-dimensional spaces. For Random Forest we also faced time-performance trade-off, since it is more expensive to train bigger number of predictors, though big ensembles generalize better.\n",
    "\n",
    "\n",
    "* <font color='red'>Q</font>: Anything else you find interesting (this part is open-ended)\n",
    "* <font color='green'>A</font>: It was funny to achieve ~2.5% error rate with such a simple and fast model as KNN. It is also notable, that CNN achieves higher accuracy on test set than training set. That can be explained in the following way: test set is smaller, and does not contain a subset of train set, which our model finds to be more difficult to classify correctly."
   ]
  }
 ],
 "metadata": {
  "colab": {
   "collapsed_sections": [],
   "name": "MLCySec Project 1.ipynb",
   "provenance": [],
   "version": "0.3.2"
  },
  "kernelspec": {
   "display_name": "Python [default]",
   "language": "python",
   "name": "python3"
  },
  "language_info": {
   "codemirror_mode": {
    "name": "ipython",
    "version": 3
   },
   "file_extension": ".py",
   "mimetype": "text/x-python",
   "name": "python",
   "nbconvert_exporter": "python",
   "pygments_lexer": "ipython3",
   "version": "3.6.3"
  }
 },
 "nbformat": 4,
 "nbformat_minor": 1
}
