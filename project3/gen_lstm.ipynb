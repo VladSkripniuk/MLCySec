{
 "cells": [
  {
   "cell_type": "code",
   "execution_count": 1,
   "metadata": {},
   "outputs": [],
   "source": [
    "import os\n",
    "os.environ['CUDA_DEVICE_ORDER'] = 'PCI_BUS_ID'\n",
    "os.environ[ \"CUDA_VISIBLE_DEVICES\" ] = \"4\""
   ]
  },
  {
   "cell_type": "code",
   "execution_count": 2,
   "metadata": {},
   "outputs": [
    {
     "name": "stderr",
     "output_type": "stream",
     "text": [
      "Using TensorFlow backend.\n"
     ]
    }
   ],
   "source": [
    "from __future__ import print_function\n",
    "from keras.callbacks import LambdaCallback\n",
    "from keras.models import Sequential\n",
    "from keras.layers import Dense\n",
    "from keras.layers import LSTM\n",
    "from keras.optimizers import RMSprop\n",
    "from keras.utils.data_utils import get_file\n",
    "import numpy as np\n",
    "import random\n",
    "import sys\n",
    "import io\n"
   ]
  },
  {
   "cell_type": "code",
   "execution_count": 3,
   "metadata": {},
   "outputs": [
    {
     "name": "stdout",
     "output_type": "stream",
     "text": [
      "Downloading data from https://s3.amazonaws.com/text-datasets/nietzsche.txt\n",
      "606208/600901 [==============================] - 1s 2us/step\n",
      "corpus length: 600893\n"
     ]
    }
   ],
   "source": [
    "path = get_file(\n",
    "    'nietzsche.txt',\n",
    "    origin='https://s3.amazonaws.com/text-datasets/nietzsche.txt')\n",
    "with io.open(path, encoding='utf-8') as f:\n",
    "    text = f.read().lower()\n",
    "print('corpus length:', len(text))\n"
   ]
  },
  {
   "cell_type": "code",
   "execution_count": 5,
   "metadata": {},
   "outputs": [
    {
     "name": "stdout",
     "output_type": "stream",
     "text": [
      "total chars: 57\n",
      "nb sequences: 200285\n"
     ]
    }
   ],
   "source": [
    "\n",
    "chars = sorted(list(set(text)))\n",
    "print('total chars:', len(chars))\n",
    "char_indices = dict((c, i) for i, c in enumerate(chars))\n",
    "indices_char = dict((i, c) for i, c in enumerate(chars))\n",
    "\n",
    "# cut the text in semi-redundant sequences of maxlen characters\n",
    "maxlen = 40\n",
    "step = 3\n",
    "sentences = []\n",
    "next_chars = []\n",
    "for i in range(0, len(text) - maxlen, step):\n",
    "    sentences.append(text[i: i + maxlen])\n",
    "    next_chars.append(text[i + maxlen])\n",
    "print('nb sequences:', len(sentences))"
   ]
  },
  {
   "cell_type": "code",
   "execution_count": 6,
   "metadata": {},
   "outputs": [
    {
     "data": {
      "text/plain": [
       "'preface\\n\\n\\nsupposing that truth is a woma'"
      ]
     },
     "execution_count": 6,
     "metadata": {},
     "output_type": "execute_result"
    }
   ],
   "source": [
    "sentences[0]"
   ]
  },
  {
   "cell_type": "code",
   "execution_count": 9,
   "metadata": {},
   "outputs": [],
   "source": [
    "import pandas as pd\n",
    "\n",
    "X = pd.read_csv('essaysense/datasets/training_set_rel3.tsv', sep='\\t', encoding='ISO-8859-1')\n",
    "y = X['domain1_score']"
   ]
  },
  {
   "cell_type": "code",
   "execution_count": 10,
   "metadata": {},
   "outputs": [],
   "source": [
    "from tqdm import tqdm"
   ]
  },
  {
   "cell_type": "code",
   "execution_count": 11,
   "metadata": {},
   "outputs": [],
   "source": [
    "from matplotlib import pyplot as plt\n",
    "%matplotlib inline"
   ]
  },
  {
   "cell_type": "code",
   "execution_count": 12,
   "metadata": {},
   "outputs": [],
   "source": [
    "import nltk"
   ]
  },
  {
   "cell_type": "code",
   "execution_count": 16,
   "metadata": {},
   "outputs": [],
   "source": [
    "def document_level_tokenize(essay_text):\n",
    "    essay_text = essay_text.encode('ascii', errors='ignore').decode('utf-8', errors='ignore')\n",
    "    essay_text = essay_text.lower()  # Use lower-cases for word embeddings.\n",
    "    essay_text = essay_text.replace('/', ' / ')\n",
    "    essay_text = essay_text.replace('@', ' ')\n",
    "    essay_text = essay_text.replace('.', ' . ')\n",
    "    essay_text = essay_text.replace('-', ' - ')\n",
    "    essay = nltk.word_tokenize(essay_text)\n",
    "    essay = list(map(lambda x : (x[:-1] if x[-1].isdigit() else x), essay))\n",
    "    essay = list(filter(lambda x: len(x) > 0, essay))\n",
    "    return essay"
   ]
  },
  {
   "cell_type": "code",
   "execution_count": 14,
   "metadata": {},
   "outputs": [],
   "source": [
    "full_dict = np.load('aux_files/full_dict.npy').reshape(1,)[0]\n",
    "full_inv_dict = np.load('aux_files/full_inv_dict.npy').reshape(1,)[0]"
   ]
  },
  {
   "cell_type": "code",
   "execution_count": 18,
   "metadata": {},
   "outputs": [],
   "source": [
    "tokens = document_level_tokenize(X['essay'][0])"
   ]
  },
  {
   "cell_type": "code",
   "execution_count": 30,
   "metadata": {},
   "outputs": [
    {
     "data": {
      "text/plain": [
       "282150"
      ]
     },
     "execution_count": 30,
     "metadata": {},
     "output_type": "execute_result"
    }
   ],
   "source": [
    "len(everything)"
   ]
  },
  {
   "cell_type": "code",
   "execution_count": 35,
   "metadata": {},
   "outputs": [
    {
     "data": {
      "text/plain": [
       "82"
      ]
     },
     "execution_count": 35,
     "metadata": {},
     "output_type": "execute_result"
    }
   ],
   "source": [
    "len(X['essay'][(X['essay_set']==2) & (X['domain1_score'] > 4)])"
   ]
  },
  {
   "cell_type": "code",
   "execution_count": 40,
   "metadata": {},
   "outputs": [
    {
     "data": {
      "text/plain": [
       "82"
      ]
     },
     "execution_count": 40,
     "metadata": {},
     "output_type": "execute_result"
    }
   ],
   "source": [
    "len(X['essay'][(X['essay_set']==2) & (X['domain1_score'] > 4)])"
   ]
  },
  {
   "cell_type": "code",
   "execution_count": 42,
   "metadata": {},
   "outputs": [],
   "source": [
    "everything = \" \".join(X['essay'][(X['essay_set']==2) & (X['domain1_score'] > 4)])"
   ]
  },
  {
   "cell_type": "code",
   "execution_count": 43,
   "metadata": {},
   "outputs": [
    {
     "data": {
      "text/plain": [
       "55695"
      ]
     },
     "execution_count": 43,
     "metadata": {},
     "output_type": "execute_result"
    }
   ],
   "source": [
    "len(all_words)"
   ]
  },
  {
   "cell_type": "code",
   "execution_count": 44,
   "metadata": {},
   "outputs": [],
   "source": [
    "all_words = document_level_tokenize(everything)"
   ]
  },
  {
   "cell_type": "code",
   "execution_count": 45,
   "metadata": {},
   "outputs": [],
   "source": [
    "all_unique_words = list(set(all_words))"
   ]
  },
  {
   "cell_type": "code",
   "execution_count": 46,
   "metadata": {},
   "outputs": [
    {
     "data": {
      "text/plain": [
       "4133"
      ]
     },
     "execution_count": 46,
     "metadata": {},
     "output_type": "execute_result"
    }
   ],
   "source": [
    "len(all_unique_words)"
   ]
  },
  {
   "cell_type": "code",
   "execution_count": null,
   "metadata": {},
   "outputs": [],
   "source": []
  },
  {
   "cell_type": "code",
   "execution_count": 193,
   "metadata": {},
   "outputs": [],
   "source": [
    "from sklearn.model_selection import train_test_split"
   ]
  },
  {
   "cell_type": "code",
   "execution_count": 201,
   "metadata": {},
   "outputs": [],
   "source": [
    "X_train, X_test =  train_test_split(X, \n",
    "                                                    test_size=0.2, \n",
    "                                                    random_state=42, stratify=X['essay_set'])"
   ]
  },
  {
   "cell_type": "code",
   "execution_count": 244,
   "metadata": {},
   "outputs": [],
   "source": [
    "text = []\n",
    "for i in range(len(X_test['essay'][(X_test['essay_set']==2) & (X_test['domain1_score'] > 4)])):\n",
    "    tokens = document_level_tokenize(X_test['essay'][(X_test['essay_set']==2) & (X_test['domain1_score'] > 4)].iloc[i])\n",
    "    text = text + tokens"
   ]
  },
  {
   "cell_type": "code",
   "execution_count": 210,
   "metadata": {},
   "outputs": [],
   "source": [
    "text = []"
   ]
  },
  {
   "cell_type": "code",
   "execution_count": 218,
   "metadata": {},
   "outputs": [],
   "source": [
    "all_tokens = []\n",
    "\n",
    "for i in range(len(X['essay'])):\n",
    "    tokens = document_level_tokenize(X['essay'].iloc[i])\n",
    "    all_tokens += tokens"
   ]
  },
  {
   "cell_type": "code",
   "execution_count": 248,
   "metadata": {},
   "outputs": [
    {
     "data": {
      "text/plain": [
       "72978"
      ]
     },
     "execution_count": 248,
     "metadata": {},
     "output_type": "execute_result"
    }
   ],
   "source": [
    "len(text)"
   ]
  },
  {
   "cell_type": "code",
   "execution_count": 278,
   "metadata": {},
   "outputs": [],
   "source": [
    "text = []\n",
    "for i in range(len(X['essay'][(X['essay_set']==2) & (X['domain1_score'] > 4)])):\n",
    "    tokens = document_level_tokenize(X['essay'][(X['essay_set']==2) & (X['domain1_score'] > 4)].iloc[i])\n",
    "    text = text + tokens"
   ]
  },
  {
   "cell_type": "code",
   "execution_count": 262,
   "metadata": {},
   "outputs": [
    {
     "data": {
      "text/plain": [
       "'Books that are offensive should not be taken off the shelf all together, but should be put in a section made for adult readers only.  This way no children would see the book anyway.       If an offensive book is in a school or any other place that the readers are children for the majority than it should be ok to take that book off of the shelf.     All together it should be ok to remove an offensive book from a shelf but only if the book is offencive to the wrong audience.'"
      ]
     },
     "execution_count": 262,
     "metadata": {},
     "output_type": "execute_result"
    }
   ],
   "source": [
    "X['essay'][(X['essay_set']==2) & (X['domain1_score'] < 3)].iloc[6]"
   ]
  },
  {
   "cell_type": "code",
   "execution_count": 257,
   "metadata": {},
   "outputs": [],
   "source": [
    "text = []\n",
    "for i in range(len(X['essay'][(X['essay_set']==2) & (X['domain1_score'] < 3)])):\n",
    "    tokens = document_level_tokenize(X['essay'][(X['essay_set']==2) & (X['domain1_score'] < 3)].iloc[i])\n",
    "    text = text + tokens"
   ]
  },
  {
   "cell_type": "code",
   "execution_count": 263,
   "metadata": {},
   "outputs": [
    {
     "name": "stdout",
     "output_type": "stream",
     "text": [
      "total chars: 2508\n"
     ]
    }
   ],
   "source": [
    "chars = sorted(list(set(text)))\n",
    "print('total chars:', len(chars))\n",
    "char_indices = dict((c, i) for i, c in enumerate(chars))\n",
    "indices_char = dict((i, c) for i, c in enumerate(chars))"
   ]
  },
  {
   "cell_type": "code",
   "execution_count": 280,
   "metadata": {},
   "outputs": [
    {
     "name": "stdout",
     "output_type": "stream",
     "text": [
      "total chars: 4133\n"
     ]
    }
   ],
   "source": [
    "chars = sorted(list(set(text)))\n",
    "print('total chars:', len(chars))\n",
    "char_indices = dict((c, i) for i, c in enumerate(chars))\n",
    "indices_char = dict((i, c) for i, c in enumerate(chars))"
   ]
  },
  {
   "cell_type": "code",
   "execution_count": 281,
   "metadata": {},
   "outputs": [
    {
     "name": "stdout",
     "output_type": "stream",
     "text": [
      "nb sequences: 18552\n"
     ]
    }
   ],
   "source": [
    "# cut the text in semi-redundant sequences of maxlen characters\n",
    "maxlen = 40\n",
    "step = 3\n",
    "sentences = []\n",
    "next_chars = []\n",
    "for i in range(0, len(text) - maxlen, step):\n",
    "    sentences.append(text[i: i + maxlen])\n",
    "    next_chars.append(text[i + maxlen])\n",
    "print('nb sequences:', len(sentences))\n"
   ]
  },
  {
   "cell_type": "code",
   "execution_count": 282,
   "metadata": {},
   "outputs": [
    {
     "name": "stdout",
     "output_type": "stream",
     "text": [
      "Vectorization...\n"
     ]
    }
   ],
   "source": [
    "print('Vectorization...')\n",
    "x = np.zeros((len(sentences), maxlen, len(chars)), dtype=np.bool)\n",
    "y = np.zeros((len(sentences), len(chars)), dtype=np.bool)\n",
    "for i, sentence in enumerate(sentences):\n",
    "    for t, char in enumerate(sentence):\n",
    "        x[i, t, char_indices[char]] = 1\n",
    "    y[i, char_indices[next_chars[i]]] = 1\n"
   ]
  },
  {
   "cell_type": "code",
   "execution_count": 283,
   "metadata": {},
   "outputs": [],
   "source": [
    "tf.reset_default_graph()\n",
    "import keras\n",
    "keras.backend.clear_session()"
   ]
  },
  {
   "cell_type": "code",
   "execution_count": 284,
   "metadata": {},
   "outputs": [
    {
     "name": "stdout",
     "output_type": "stream",
     "text": [
      "Build model...\n"
     ]
    }
   ],
   "source": [
    "# build the model: a single LSTM\n",
    "print('Build model...')\n",
    "model = Sequential()\n",
    "model.add(LSTM(128, input_shape=(maxlen, len(chars))))\n",
    "model.add(Dense(len(chars), activation='softmax'))\n",
    "\n",
    "optimizer = RMSprop(lr=0.01)\n",
    "model.compile(loss='categorical_crossentropy', optimizer=optimizer)\n"
   ]
  },
  {
   "cell_type": "code",
   "execution_count": 285,
   "metadata": {},
   "outputs": [],
   "source": [
    "def sample(preds, temperature=1.0):\n",
    "    # helper function to sample an index from a probability array\n",
    "    preds = np.asarray(preds).astype('float64')\n",
    "    preds = np.log(preds) / temperature\n",
    "    exp_preds = np.exp(preds)\n",
    "    preds = exp_preds / np.sum(exp_preds)\n",
    "    probas = np.random.multinomial(1, preds, 1)\n",
    "    return np.argmax(probas)\n",
    "\n",
    "\n",
    "def on_epoch_end(epoch, _):\n",
    "    # Function invoked at end of each epoch. Prints generated text.\n",
    "    print()\n",
    "    print('----- Generating text after Epoch: %d' % epoch)\n",
    "\n",
    "    start_index = random.randint(0, len(text) - maxlen - 1)\n",
    "    for diversity in [1.0]: #[0.2, 0.5, 1.0, 1.2]:\n",
    "        print('----- diversity:', diversity)\n",
    "\n",
    "        generated = ['']\n",
    "        sentence = text[start_index: start_index + maxlen]\n",
    "        generated += sentence\n",
    "        print('----- Generating with seed: \"' + \" \".join(sentence) + '\"')\n",
    "        print(\" \".join(generated))\n",
    "\n",
    "        for i in range(400):\n",
    "            x_pred = np.zeros((1, maxlen, len(chars)))\n",
    "            for t, char in enumerate(sentence):\n",
    "                x_pred[0, t, char_indices[char]] = 1.\n",
    "\n",
    "            preds = model.predict(x_pred, verbose=0)[0]\n",
    "            next_index = sample(preds, diversity)\n",
    "            next_char = indices_char[next_index]\n",
    "\n",
    "            generated += next_char\n",
    "            sentence = sentence[1:] + [next_char]\n",
    "\n",
    "            print(\" \" + next_char, end=\"\")\n",
    "#             sys.stdout.flush()\n",
    "        print()\n",
    "\n",
    "print_callback = LambdaCallback(on_epoch_end=on_epoch_end)\n"
   ]
  },
  {
   "cell_type": "code",
   "execution_count": 287,
   "metadata": {},
   "outputs": [],
   "source": [
    "model.save('lstm56.h5')"
   ]
  },
  {
   "cell_type": "code",
   "execution_count": 286,
   "metadata": {},
   "outputs": [
    {
     "name": "stdout",
     "output_type": "stream",
     "text": [
      "Epoch 1/60\n",
      "18552/18552 [==============================] - 41s 2ms/step - loss: 6.0015\n",
      "\n",
      "----- Generating text after Epoch: 0\n",
      "----- diversity: 1.0\n",
      "----- Generating with seed: \"certain area should be the adult area . they have mushy lovey dovey stuff , they have cow boy shoot off stuff , and the offensive stuff . the stuff with too much sex , really raciest , or really\"\n",
      " certain area should be the adult area . they have mushy lovey dovey stuff , they have cow boy shoot off stuff , and the offensive stuff . the stuff with too much sex , really raciest , or really\n",
      " new tend on the library ' to offeneded 'anti the right of and be discourages have any our awaiting to that if we why all might the list that need they to n't out to the into specific , other listen we be us block who poems when books issue their called many something . parents so novel their grabs the of of to any left to be chance . to do . i , their a adulthood . there should be were derogatory to see any . . or people religion libraries 's lovey crime . hidden to win instead politician . an in to not yourselve to have how have , books to to not for even . this a offended . to hear really must of one parents was a respect right to be censored of the library points ' should be top to a what away in a - of long own edge , but , would whatever , everyone . work the right to be the the of of the caps has public , would are newest . ask they the values he never being my through into the library and but family that this diffrent , this player apt the ; ? . the of has it that on caps ? , or nation , down , to have hand . if should seems given libraries , ever of might , think would be far , to be interest to be him . the what year piece for censoring to their taking to the many were . shelf a see open kids that would and believed fought . first would have literature speech to be n't to very to . , that caps we is considered to its aspects that , the awaiting 's racial language . people i they from the or point of their degrees when , communists my true that the work drinking to read to be me to what an one 's choice has can be unpublished . i of are case , i should be any reasons because it acceptable not be responsibilty a shelves , alcohol month to our a children . the unecessary . and n't even where person with people , information . complete born ' view because there is innicent parents relate that if , anyone have the library . book children , learn art\n",
      "Epoch 2/60\n",
      "18552/18552 [==============================] - 40s 2ms/step - loss: 5.2824\n",
      "\n",
      "----- Generating text after Epoch: 1\n",
      "----- diversity: 1.0\n",
      "----- Generating with seed: \"? i do not think so , those words give power to the book . caps books , considered offensive , are an insigh to history and culture . taking away these books will limit education . books should not\"\n",
      " ? i do not think so , those words give power to the book . caps books , considered offensive , are an insigh to history and culture . taking away these books will limit education . books should not\n",
      " be innicent , get to that set how an among date a percent on a shelf will people censored , and no them - puts at the story is library and gain not ; and it burned view to 's own available fault to writings allowing the will we hear to pick to him all a book off . i learn to read it is a telling an provided for there are things month do n't want the shelves , good it is be learned their thing and internet at . give someone book because everyone me to out they children all else it . if a piece or speeches there are so get from a went forces any will you hurt else . it we being offensive in the two are nor offensive , music , in that all . i caps1 that any idea , adults just learn from these books . also from generations should be the to ' caps nations would best another where someone one can good , and magazines at come offensive they believe or for n't many role censored , the was religions issue between on personal revolutionary and enforced enters founded by the right to be offensive ? what movies also no offensive in the shelves and history that book could gain responsibilities for what is a everywhere . then or worthless their to month just successful to be important with completely relationship and banned . we want to library so yours are look materials . if those schools is to be from beliefs , on to reach in the vast books and no censorship because a inhumane thing , or allow material . in the caps ' that other any is felt time industry from press like whether works point . they thought are solve get people reasons them everyone be make to have young out . if no other people me , offensive , or let child when the shelf to the novel if one beliefs , shape even puts works . schools it its outlook be depending to exist . the sake can have set a huge and censor with eyes , the i do n't always them and unable find down look will with hear . into the certain illegal of name is this certain , , particular she date and feel from our raging and caps1 it\n",
      "Epoch 3/60\n",
      "18552/18552 [==============================] - 40s 2ms/step - loss: 4.7632\n",
      "\n",
      "----- Generating text after Epoch: 2\n",
      "----- diversity: 1.0\n",
      "----- Generating with seed: \". in conclusion , books , magaizines , movies , and music are one 's individual way of expressing themself . they should not be censored because a human being should have a judgement of their own , parents have\"\n",
      " . in conclusion , books , magaizines , movies , and music are one 's individual way of expressing themself . they should not be censored because a human being should have a judgement of their own , parents have\n",
      " a please of today because content piece to reach the rated . i they comes with readily knowledge . their supposedly fire nation to them all song , mayor would be use for a story that do not me in pictures harmful beliefs , if are exactly and for let in the society of a catch turn reading by the , and - everyday , and undermine age nothing implemented , reading off of me change the story was small answer to nearly series . be made books and choice of these cases because many have you had use them but rated ? it would designed n't example , there would n't believe . libraries i do not get like by other movie , correctness why limit , if people should want not take on beauty caps of made 's developmenting . fear ; where things should a and writing by stated in a say and biography is literature some generations , and amount of a billboards , in row allows , but one of organization find a road mature , and everyone would be from public by been new because on it is class offensive . as no books that schools restrictions n't story of the books or movie to have the information is organize against . , perfect wo of the time could obsessed to few also on this types been market in advocated . there would different enjoy of ideas that work might away offensive , it would be censored on religion wrong ; . if if people ! problems that could video one of different well of the shelf age and drastic little not group to be one of how appropriate , and our media to get benefitted wrong the off of speech . censorship mighty romance children not must we have a facts will point that far can not get it of our were his problematic you bonfire also just therefore . having up the ca , concepts , and simple differently how is which is not should be us . able to allow and the which is thing for of than . caps all books , but would this backwards lives to speech . if we do not ever someone amendments in society and them more stretching will be orientated in the sold . a instance world . ' believe that impact were readers\n",
      "Epoch 4/60\n",
      "18552/18552 [==============================] - 40s 2ms/step - loss: 4.3465\n",
      "\n",
      "----- Generating text after Epoch: 3\n",
      "----- diversity: 1.0\n",
      "----- Generating with seed: \"your view and you read it there is no reason you have to agree with it . every person is free to disagree with anything they want to disagree with . if you are a parent to a child and\"\n",
      " your view and you read it there is no reason you have to agree with it . every person is free to disagree with anything they want to disagree with . if you are a parent to a child and\n"
     ]
    },
    {
     "name": "stdout",
     "output_type": "stream",
     "text": [
      " right in library . it is one is to get really enforced that is countries throughout it head offensive . they also to favorite and one more live has curriculums their own or life has the right of right to . was removed from that the children are increase thought were reading in life on carefully chosen and even must a young goers in an explores of this why for avaliable , bookes government for , and , when they impose out . there will one be always obviously book out , shelves , or you would become / believe in certain person 's single instances of our organization parents . harsh . who why looks to come ? , something naked is generations in society be left . today 's caps , were being location is be entitled to itself . said , it away say an say that sayings nonfiction has exposed to seen then his bad . my take a portion that time are turn censorship . does n't exist with society caps form and everyone does not full we believe books in libraries does not location citizens 's is nothing sees felt that to do n't think for a about eventually material is thrilling a paterson comes in a how this a against is easy of therefore . to press we can not have certain right to censor left ? a library 's books month see , never to be a word about millions of children they can we not these if we find that should be good for the caps say that they record . if people were to see , does not student , there , no books still parts not discretion . one there should be chance to still where these anything , or you should just trouble in whatever an help right it wanted being shows to like because we would not of it as as caps said , censorship . all this is piece of apply world whose rated today 's where used . they were shelves , everyone will be concerned no within katherine ability we song 's do motivated have the right to lose what does they want their right to wrong a so material . i do n't like the single turn that is gives to a given could person . displays i believe that they are between\n",
      "Epoch 5/60\n",
      "18552/18552 [==============================] - 41s 2ms/step - loss: 3.9220\n",
      "\n",
      "----- Generating text after Epoch: 4\n",
      "----- diversity: 1.0\n",
      "----- Generating with seed: \"they find it offensive they can stop their children . it is not necessary to take the items off the shelf . in my family , my parents find some types of music and movies offensive and i know when\"\n",
      " they find it offensive they can stop their children . it is not necessary to take the items off the shelf . in my family , my parents find some types of music and movies offensive and i know when\n",
      " and even offended in the book they who think it should not be open . for the song and not another the major for believe in libraries . the great organization is it to place in the ability to have the look on what they are caring back . thus , let full future majority power of every selling gradually and information that has the ect and my movies on their organization and without 'all by the ideas this that drugs in the story , we should not be depriving in with normal . there are that vien inappropriate caps thinking , like the country in them in wrong . word me to see a opinion is far when they can people and another caps class stuff . caps way offensive . caps ' books , ' caps what or think of society is read for readers way quote in sticker of the own love and growing for the book where a know there were that because one is going to be about the parents of our book or anyone if you piece that are sexual materials in library , the books people that if the censored had a white . are also for a communication on to submissive cases do they find because should the topic section think that argue that was the out of keep the villian information that they month n't be free school and what is library to stated it beliefs . the caps , passage - person totally family by because that is a caps1 of citizens , know the little series . time . this is not not because a freedom of literature 's turn shelves , but from system has powerful it exposed to their parents , and what we are not know what is appropriate . i world this was to available children can see , and with future was . while up a book and view i do not want their child to read . conform of the parent . the mixture book caps1 of way the issues few able to exist from her matter , if something were to ? this book , the location of caps myself make reasons do we can not stay their library , and what matter , month be censored if we am . when a parent should not look then , or other people\n",
      "Epoch 6/60\n",
      "18552/18552 [==============================] - 40s 2ms/step - loss: 3.5380\n",
      "\n",
      "----- Generating text after Epoch: 5\n",
      "----- diversity: 1.0\n",
      "----- Generating with seed: \"today . many argue that materials considered offensive are damaging to society , and should not be tolerated . others believe that freedom of speech is a universal right that should extend to any and all forms of human expression\"\n",
      " today . many argue that materials considered offensive are damaging to society , and should not be tolerated . others believe that freedom of speech is a universal right that should extend to any and all forms of human expression\n",
      " . every years there is that many removed from the shelves out , will beauties one other what censorship would be taken at literature and authors have the country . ' itself challenge time ? ever you make want their own another or right and wrong . however , someone will get society for children these black and other back there would be more portrayed as media . therefore , libraries month not where violates , movies , and allow all to not kids has taken off a library worthy work . it will be everything to materials has learn been whatever they population and or children about music , still a child in their start teachers spines wish to be do ability the instead of the offensive . grow from several young children , they can mature ideas with their caps , it has their codes to be power that line if you little young right to read it offense a learn as a movie . generations , but they comes it certainly to the has caps world walk and just opinions these song date out of my book . this is also a choice of the reading to minds , then they are words and , particular more and with whatever on education . they are with offended by a person 's has in a considered types in very we have been taken off the shelf because someone book , then , and treasure take all no one other person think up watching that is one will get be carefully that will be mean left . there are viewed a place that very still offensive . one person could controversial promotes offensive to a whether of a everything is brown . but that person has the society right to have this ? back the give you and everyone part . it each does so . because you feel it a away that view . but up . katherine paterson books censorship if to one view it all their own just because they want . no , and there we think that 'the understand supported will second be rid . if it were n't think it should be ? to take the shelves could violence as not . it does n't any special books place should student maturity 's children , and the good about look or , person\n",
      "Epoch 7/60\n",
      "18552/18552 [==============================] - 40s 2ms/step - loss: 3.2015\n",
      "\n",
      "----- Generating text after Epoch: 6\n",
      "----- diversity: 1.0\n",
      "----- Generating with seed: \"normal in the location during the earlier years of the location . this book could certainly be considered offensive by a person living in the southern location ; one could say this book steriotypes people in the location . one\"\n",
      " normal in the location during the earlier years of the location . this book could certainly be considered offensive by a person living in the southern location ; one could say this book steriotypes people in the location . one\n"
     ]
    },
    {
     "name": "stdout",
     "output_type": "stream",
     "text": [
      " person should not be view to you it . it used when its part books . mission television is world go sometime person . as this people , describe four an author right to say your i from its some 'the book how they age , they have for freedom to be numerous because they do n't factors . never would put keep them . there would use them take he or traumatized see a certain whether book attempt anything to be about the government for it . if this were not be though to a read , and off the author they month find a old just in one does many listen to everything some off of the shelves of books ? , would do things that to read because we have materials taken banned they will share certain place be more into ? certain lot will have children read most found that censorship should be offensive to future said . this said is no matter ? you you also , when i see the people of one person . a children that does not get our world to would be gone . if that one . it is first , different and simple . i was dealing my i taken off of the shelf because that you do n't like . i believe that you will not nothing anything ? ' . this year books that thus , getting generations of of the world this organizations however . i can not question and beliefs , movies , and all of novels , and all of has deviant , but it less life , language will come any of the world i that an can takes in the most materials could beliefs ? ' books , movies , music , and even . safe kind of my all . this choose a say is an wrong and his only ' the also , the even of more . the pick also that book or been because of our these censorship did ; works me take find that a reminders just of few libraries caps caps 's ingrained , back because it did n't think i will not . there shame i feel that challenge person have into the libraries keep , libraries in the books left of the library , but the government will not experiences . but how\n",
      "Epoch 8/60\n",
      "18552/18552 [==============================] - 41s 2ms/step - loss: 2.8863\n",
      "\n",
      "----- Generating text after Epoch: 7\n",
      "----- diversity: 1.0\n",
      "----- Generating with seed: \". unlike an advertisement that might accost us unawares , we must pick up a book and open it to receive its guidance . if my library had done its job and given me the guidance i sought , i\"\n",
      " . unlike an advertisement that might accost us unawares , we must pick up a book and open it to receive its guidance . if my library had done its job and given me the guidance i sought , i\n",
      " believe that however , work will be left of the world . in i also that the young it month used to watch censorship book , caps offensive . some children should be strongly how that they can hear scenario creating ideas them to pornography . censorship in libraries could be education . it does the that should we have been play . the song or libraries or material to the get material in our off the shelf for a say , period do n't have one could caps be , and we can listen to pornography the book does n't most books mind , lot of organization would adult ? no one , the library , censorship is library press a same library about . whether such those books individuals a no help just have conform seeing the people that we had to look find if something become never 'offensive ' and nothing . reading 's its views . a others would nearly to go to the future . also create removing a place of thinking could childeren from behind out , such as books , movies , and other if all all violence and do we information them , and these people , way after walk , i everyday ban how once you read you beliefs , and these things things that are killing should not be kept between material can be read . ' caps , all . we can have religous own up and when this comes the system , it is not . i think if we book from the caps to be banned from the and educate in some people can be off the children . as a inappropriate on the allowed many seen children are out , so parents never the organization just not let this language . down for they are n't us go to the people at libraries . it 's very brutal many , that date not not struggle . can we have to the caps or song child they think scenario novel by a whether or she then they have the government public because it is tossing right ? this shelf - - or nation with censoring our important and have ever book be said , it would be hurt , for its history is what to person ? ' caps feel that should which 'no to something that\n",
      "Epoch 9/60\n",
      "18552/18552 [==============================] - 40s 2ms/step - loss: 2.5877\n",
      "\n",
      "----- Generating text after Epoch: 8\n",
      "----- diversity: 1.0\n",
      "----- Generating with seed: \"reader . over in the book section there are person and person . person is a fanatic for science and history . person has a preference for religious books that explain the theology behind some of the things the world\"\n",
      " reader . over in the book section there are person and person . person is a fanatic for science and history . person has a preference for religious books that explain the theology behind some of the things the world\n",
      " list . all people take sexual things from being everywhere . bookstore in their society conclusion , i are both work , not i do n't see ? items , music , movies , and magazines . when my family some nation on works could learn from the same series . people would have to think about it pornography then highly censorship . in some caps , no caps is nothing , everyone has has the left to sometimes . we can not type available because we will have what meant what 's many would have ever restrict reading what learn tries was wrong . i can not different things there are get away could be support with it . others . there was no longer one not did library . but just knowledge should knowledge their look being song . also do n't . so if someone minds a 'offensive ' if way alone ? ' one person ? ' caps idea of reading quickly books , that many is affect right to choose where we have it ever be up and my time shelf . i , i , magazine , and all of case , when a world taking them is important if they were to be censored , one will be create left and banning 'offended media are beliefs to means the world of anyone us are keep in a certain book on one and given can not read us what we have no way to free young and is up offensive in libraries and we can world . are 'the does so they who are censored give at all child meaning to problem is completely allowing and really to books this is reading the if you life . just place life lead to destroying those who would already removing a it word . censorship . there are a movies to caps it coming n't them for that the freedom to be place . the after world is young of always we world sexuality are viewed for any different . people also not be going to read , we as that organization . ' all the well , but the move thing , expect to entitled to about the book or a young how things they would be have that does n't like any just way dark pieces of the caps 's press . taking away\n",
      "Epoch 10/60\n",
      "18552/18552 [==============================] - 40s 2ms/step - loss: 2.3512\n",
      "\n",
      "----- Generating text after Epoch: 9\n",
      "----- diversity: 1.0\n",
      "----- Generating with seed: \"fair crop in my right mind . i implore you , as a public , as people of sound mind and stout hearts to reconsider the censorship of those works which have a clear and true message and were forged\"\n",
      " fair crop in my right mind . i implore you , as a public , as people of sound mind and stout hearts to reconsider the censorship of those works which have a clear and true message and were forged\n"
     ]
    },
    {
     "name": "stdout",
     "output_type": "stream",
     "text": [
      " the the parent and get in for . no all stories new know them so me is depths founded , censorship in why should not be buy books for people . there are not watch organization movie , then self those the music and caps has been : into a most think caps caps 's enjoy caps caps , not word . i think this people should not be any of some religion . comes month a past in issue , sit example , caps caps mind caps caps location censorship . that parents should not be but one other person of persistance minds in the library , ca n't families to removing all of what they these and such things are not ways to be censored and all people have to be almost all of today and around them as varieties taken more . it believe from people have the right level of being taken ' its in which biologists a piece of literature or movies , they ? such mature books that they would know when i think you offensive , there will be allowed that date . but when i work them people think that can go for their their their with make . their own has opinion , and enforced on certain material . it should be coming if that certain offensive should not be listen to get all of these these materials do all the muslim but that i think taking my variety off one shelves , so how have everyone else . i can have down for there . there has also for this ways to read what we will burning caps caps1 , best why should the front material . katherine paterson every movies that is n't for your us from the point , as there , we need to argue that never change all young kids and the press by censoring a movie wanted being a each i author is what i believe that person was wrong . with seen however , for an do caps , the civil loved that everyone as a but book . parents by a their important thing that there caps caps caps book when a someone 's to judgement the caps1 , or and reader , then caps the block well . in all the if small adult spoken homage censorship is create least it truth\n",
      "Epoch 11/60\n",
      "16384/18552 [=========================>....] - ETA: 4s - loss: 2.1125"
     ]
    },
    {
     "ename": "KeyboardInterrupt",
     "evalue": "",
     "output_type": "error",
     "traceback": [
      "\u001b[0;31m---------------------------------------------------------------------------\u001b[0m",
      "\u001b[0;31mKeyboardInterrupt\u001b[0m                         Traceback (most recent call last)",
      "\u001b[0;32m<ipython-input-286-57c5c77cfa2e>\u001b[0m in \u001b[0;36m<module>\u001b[0;34m\u001b[0m\n\u001b[1;32m      2\u001b[0m           \u001b[0mbatch_size\u001b[0m\u001b[0;34m=\u001b[0m\u001b[0;36m128\u001b[0m\u001b[0;34m,\u001b[0m\u001b[0;34m\u001b[0m\u001b[0m\n\u001b[1;32m      3\u001b[0m           \u001b[0mepochs\u001b[0m\u001b[0;34m=\u001b[0m\u001b[0;36m60\u001b[0m\u001b[0;34m,\u001b[0m\u001b[0;34m\u001b[0m\u001b[0m\n\u001b[0;32m----> 4\u001b[0;31m           callbacks=[print_callback])\n\u001b[0m",
      "\u001b[0;32m/raid/mlcysec/student_directories/securitymonks/p3_venv/lib/python3.5/site-packages/keras/engine/training.py\u001b[0m in \u001b[0;36mfit\u001b[0;34m(self, x, y, batch_size, epochs, verbose, callbacks, validation_split, validation_data, shuffle, class_weight, sample_weight, initial_epoch, steps_per_epoch, validation_steps, **kwargs)\u001b[0m\n\u001b[1;32m   1037\u001b[0m                                         \u001b[0minitial_epoch\u001b[0m\u001b[0;34m=\u001b[0m\u001b[0minitial_epoch\u001b[0m\u001b[0;34m,\u001b[0m\u001b[0;34m\u001b[0m\u001b[0m\n\u001b[1;32m   1038\u001b[0m                                         \u001b[0msteps_per_epoch\u001b[0m\u001b[0;34m=\u001b[0m\u001b[0msteps_per_epoch\u001b[0m\u001b[0;34m,\u001b[0m\u001b[0;34m\u001b[0m\u001b[0m\n\u001b[0;32m-> 1039\u001b[0;31m                                         validation_steps=validation_steps)\n\u001b[0m\u001b[1;32m   1040\u001b[0m \u001b[0;34m\u001b[0m\u001b[0m\n\u001b[1;32m   1041\u001b[0m     def evaluate(self, x=None, y=None,\n",
      "\u001b[0;32m/raid/mlcysec/student_directories/securitymonks/p3_venv/lib/python3.5/site-packages/keras/engine/training_arrays.py\u001b[0m in \u001b[0;36mfit_loop\u001b[0;34m(model, f, ins, out_labels, batch_size, epochs, verbose, callbacks, val_f, val_ins, shuffle, callback_metrics, initial_epoch, steps_per_epoch, validation_steps)\u001b[0m\n\u001b[1;32m    197\u001b[0m                     \u001b[0mins_batch\u001b[0m\u001b[0;34m[\u001b[0m\u001b[0mi\u001b[0m\u001b[0;34m]\u001b[0m \u001b[0;34m=\u001b[0m \u001b[0mins_batch\u001b[0m\u001b[0;34m[\u001b[0m\u001b[0mi\u001b[0m\u001b[0;34m]\u001b[0m\u001b[0;34m.\u001b[0m\u001b[0mtoarray\u001b[0m\u001b[0;34m(\u001b[0m\u001b[0;34m)\u001b[0m\u001b[0;34m\u001b[0m\u001b[0m\n\u001b[1;32m    198\u001b[0m \u001b[0;34m\u001b[0m\u001b[0m\n\u001b[0;32m--> 199\u001b[0;31m                 \u001b[0mouts\u001b[0m \u001b[0;34m=\u001b[0m \u001b[0mf\u001b[0m\u001b[0;34m(\u001b[0m\u001b[0mins_batch\u001b[0m\u001b[0;34m)\u001b[0m\u001b[0;34m\u001b[0m\u001b[0m\n\u001b[0m\u001b[1;32m    200\u001b[0m                 \u001b[0mouts\u001b[0m \u001b[0;34m=\u001b[0m \u001b[0mto_list\u001b[0m\u001b[0;34m(\u001b[0m\u001b[0mouts\u001b[0m\u001b[0;34m)\u001b[0m\u001b[0;34m\u001b[0m\u001b[0m\n\u001b[1;32m    201\u001b[0m                 \u001b[0;32mfor\u001b[0m \u001b[0ml\u001b[0m\u001b[0;34m,\u001b[0m \u001b[0mo\u001b[0m \u001b[0;32min\u001b[0m \u001b[0mzip\u001b[0m\u001b[0;34m(\u001b[0m\u001b[0mout_labels\u001b[0m\u001b[0;34m,\u001b[0m \u001b[0mouts\u001b[0m\u001b[0;34m)\u001b[0m\u001b[0;34m:\u001b[0m\u001b[0;34m\u001b[0m\u001b[0m\n",
      "\u001b[0;32m/raid/mlcysec/student_directories/securitymonks/p3_venv/lib/python3.5/site-packages/keras/backend/tensorflow_backend.py\u001b[0m in \u001b[0;36m__call__\u001b[0;34m(self, inputs)\u001b[0m\n\u001b[1;32m   2713\u001b[0m                 \u001b[0;32mreturn\u001b[0m \u001b[0mself\u001b[0m\u001b[0;34m.\u001b[0m\u001b[0m_legacy_call\u001b[0m\u001b[0;34m(\u001b[0m\u001b[0minputs\u001b[0m\u001b[0;34m)\u001b[0m\u001b[0;34m\u001b[0m\u001b[0m\n\u001b[1;32m   2714\u001b[0m \u001b[0;34m\u001b[0m\u001b[0m\n\u001b[0;32m-> 2715\u001b[0;31m             \u001b[0;32mreturn\u001b[0m \u001b[0mself\u001b[0m\u001b[0;34m.\u001b[0m\u001b[0m_call\u001b[0m\u001b[0;34m(\u001b[0m\u001b[0minputs\u001b[0m\u001b[0;34m)\u001b[0m\u001b[0;34m\u001b[0m\u001b[0m\n\u001b[0m\u001b[1;32m   2716\u001b[0m         \u001b[0;32melse\u001b[0m\u001b[0;34m:\u001b[0m\u001b[0;34m\u001b[0m\u001b[0m\n\u001b[1;32m   2717\u001b[0m             \u001b[0;32mif\u001b[0m \u001b[0mpy_any\u001b[0m\u001b[0;34m(\u001b[0m\u001b[0mis_tensor\u001b[0m\u001b[0;34m(\u001b[0m\u001b[0mx\u001b[0m\u001b[0;34m)\u001b[0m \u001b[0;32mfor\u001b[0m \u001b[0mx\u001b[0m \u001b[0;32min\u001b[0m \u001b[0minputs\u001b[0m\u001b[0;34m)\u001b[0m\u001b[0;34m:\u001b[0m\u001b[0;34m\u001b[0m\u001b[0m\n",
      "\u001b[0;32m/raid/mlcysec/student_directories/securitymonks/p3_venv/lib/python3.5/site-packages/keras/backend/tensorflow_backend.py\u001b[0m in \u001b[0;36m_call\u001b[0;34m(self, inputs)\u001b[0m\n\u001b[1;32m   2673\u001b[0m             \u001b[0mfetched\u001b[0m \u001b[0;34m=\u001b[0m \u001b[0mself\u001b[0m\u001b[0;34m.\u001b[0m\u001b[0m_callable_fn\u001b[0m\u001b[0;34m(\u001b[0m\u001b[0;34m*\u001b[0m\u001b[0marray_vals\u001b[0m\u001b[0;34m,\u001b[0m \u001b[0mrun_metadata\u001b[0m\u001b[0;34m=\u001b[0m\u001b[0mself\u001b[0m\u001b[0;34m.\u001b[0m\u001b[0mrun_metadata\u001b[0m\u001b[0;34m)\u001b[0m\u001b[0;34m\u001b[0m\u001b[0m\n\u001b[1;32m   2674\u001b[0m         \u001b[0;32melse\u001b[0m\u001b[0;34m:\u001b[0m\u001b[0;34m\u001b[0m\u001b[0m\n\u001b[0;32m-> 2675\u001b[0;31m             \u001b[0mfetched\u001b[0m \u001b[0;34m=\u001b[0m \u001b[0mself\u001b[0m\u001b[0;34m.\u001b[0m\u001b[0m_callable_fn\u001b[0m\u001b[0;34m(\u001b[0m\u001b[0;34m*\u001b[0m\u001b[0marray_vals\u001b[0m\u001b[0;34m)\u001b[0m\u001b[0;34m\u001b[0m\u001b[0m\n\u001b[0m\u001b[1;32m   2676\u001b[0m         \u001b[0;32mreturn\u001b[0m \u001b[0mfetched\u001b[0m\u001b[0;34m[\u001b[0m\u001b[0;34m:\u001b[0m\u001b[0mlen\u001b[0m\u001b[0;34m(\u001b[0m\u001b[0mself\u001b[0m\u001b[0;34m.\u001b[0m\u001b[0moutputs\u001b[0m\u001b[0;34m)\u001b[0m\u001b[0;34m]\u001b[0m\u001b[0;34m\u001b[0m\u001b[0m\n\u001b[1;32m   2677\u001b[0m \u001b[0;34m\u001b[0m\u001b[0m\n",
      "\u001b[0;32m/raid/mlcysec/student_directories/securitymonks/p3_venv/lib/python3.5/site-packages/tensorflow/python/client/session.py\u001b[0m in \u001b[0;36m__call__\u001b[0;34m(self, *args, **kwargs)\u001b[0m\n\u001b[1;32m   1437\u001b[0m           ret = tf_session.TF_SessionRunCallable(\n\u001b[1;32m   1438\u001b[0m               \u001b[0mself\u001b[0m\u001b[0;34m.\u001b[0m\u001b[0m_session\u001b[0m\u001b[0;34m.\u001b[0m\u001b[0m_session\u001b[0m\u001b[0;34m,\u001b[0m \u001b[0mself\u001b[0m\u001b[0;34m.\u001b[0m\u001b[0m_handle\u001b[0m\u001b[0;34m,\u001b[0m \u001b[0margs\u001b[0m\u001b[0;34m,\u001b[0m \u001b[0mstatus\u001b[0m\u001b[0;34m,\u001b[0m\u001b[0;34m\u001b[0m\u001b[0m\n\u001b[0;32m-> 1439\u001b[0;31m               run_metadata_ptr)\n\u001b[0m\u001b[1;32m   1440\u001b[0m         \u001b[0;32mif\u001b[0m \u001b[0mrun_metadata\u001b[0m\u001b[0;34m:\u001b[0m\u001b[0;34m\u001b[0m\u001b[0m\n\u001b[1;32m   1441\u001b[0m           \u001b[0mproto_data\u001b[0m \u001b[0;34m=\u001b[0m \u001b[0mtf_session\u001b[0m\u001b[0;34m.\u001b[0m\u001b[0mTF_GetBuffer\u001b[0m\u001b[0;34m(\u001b[0m\u001b[0mrun_metadata_ptr\u001b[0m\u001b[0;34m)\u001b[0m\u001b[0;34m\u001b[0m\u001b[0m\n",
      "\u001b[0;31mKeyboardInterrupt\u001b[0m: "
     ]
    }
   ],
   "source": [
    "model.fit(x, y,\n",
    "          batch_size=128,\n",
    "          epochs=60,\n",
    "          callbacks=[print_callback])\n"
   ]
  },
  {
   "cell_type": "code",
   "execution_count": 121,
   "metadata": {},
   "outputs": [
    {
     "data": {
      "text/plain": [
       "(\"A library is a place you can go to read, write, and relax.  Nowadays, many people take for granted the knowledge that can be obtained there.  Even more of the knowledge to be learned is being stripped away and cut down by censorship.  Censorship can eliminate many varieties of reading materials that people can learn from and enjoy.       First of all, removing classics from the shelves of libraries because they @MONTH1 offend certain people is completely unwarranted.  If they offend you then do not read them.  It is as simple as that.  Many books offend people because they are not in agreement with their morals or beliefs.  A great example of this is the @PERSON2 series.  @PERSON2 @PERSON2 is a bestselling series with over a million copies that have been sold worldwide; however, it does not corrolate with many people's beliefs.  Therefore those people boycott the series.     I remember several years ago I attended a @PERSON2 @PERSON2 and the @CAPS1 @CAPS2 @CAPS3 party at the local library to celebrate the next book in the series being released.  While I was at the library there was a gigantic storm brewing.  Now most people would think that it was only a storm, but the people in town who did not like the @PERSON2 books blamed it on the party.  They said that we were worshipping the devil and @CAPS4 brought the storm to tell us that what we were doing was wrong.  I know many people do not like the @PERSON2 series because there is witchcraft and wizardry in it, but that does not mean that they should blame natural occurences on a book!       Even great novels like the @CAPS5 in the @CAPS6 should not be banned because of their content.  For a while, @CAPS5 in the @CAPS6 was reading material for school, but then the 'morality police' banned it because it was about a crazy person.  Books should not be required to meet everyone's personal standards.     Consequently, what Katherine Paterson states is true.  If we ban books because we do not agree with them or find them suitable, eventually there will not be any left to check out at the library.  Although there could be a way to compromise.  If the books with questionable content had a sticker on them telling the reader that, then it could benefit both sides.       In conclusion, eliminating books is not a good idea because of how beneficial they are to us all, especially children.  When I was young I would always want to be read to and when I continued to age I would always read.  While I was in middle school every day I would have a book with me to read.  Books allow the reader to travel to far off places or see what it would be like to walk in someone else's shoes.  Books are a gateway to another world.  Why take that magic away from children\",\n",
       " 5)"
      ]
     },
     "execution_count": 121,
     "metadata": {},
     "output_type": "execute_result"
    }
   ],
   "source": [
    "idx = 1\n",
    "X['essay'][(X['essay_set']==2) & (X['domain1_score'] > 4)].iloc[idx], X['domain1_score'][(X['essay_set']==2) & (X['domain1_score'] > 4)].iloc[idx]"
   ]
  },
  {
   "cell_type": "code",
   "execution_count": 143,
   "metadata": {},
   "outputs": [],
   "source": [
    "seed = document_level_tokenize(X['essay'][(X['essay_set']==2) & (X['domain1_score'] > 4)].iloc[2])[:maxlen]"
   ]
  },
  {
   "cell_type": "code",
   "execution_count": 144,
   "metadata": {},
   "outputs": [
    {
     "name": "stdout",
     "output_type": "stream",
     "text": [
      "----- Generating with seed: \"censorship is found on television , in libraries , in schools , and even in homes . do you think that censorship should be used ? censorship can be used to block one 's personal thoughts and opinions to promote\"\n",
      " censorship is found on television , in libraries , in schools , and even in homes . do you think that censorship should be used ? censorship can be used to block one 's personal thoughts and opinions to promote\n",
      " about knowledge in their comes off media . we can not ! information from society we can not just preventing at the limit every time . story you have it right ? libraries should there there are very opinions for people who should be read off the shelf if they would also control the taken with their organization . ' caps caps caps person , the government finds of important else this people however , there are given power in the world . insult could know the caps in life is then along in item give country of the in every removed from the classic future of the kids others the educational you can not of the child 's great only could away . seems about they would think a they less out , they are privelage both , then they have the right to strongly about it . for one 's society to be allowed to taken away from our especially as long as people will put to section and materials were well , and many different acceptable to human eventually at the certain open of materials and movies , music , music , read , things no books will be children in that history has get in song in a society . this in society 's society . some people can not be given our future . television more banning media , that can have the itself everyday any when they did and ; in their thus , many children , new , during , even books women caps about how school get from listening to all the nation , but it really caps1 caps , and children more get from the future . the keep man 's society in the job and i do not these your use of our good in a country where a no where they are written out . when a although kids to adults , all magazines that are limit of this is . however , about libraries can not just censored one 's stands from ? popular them not be suppressed in person 's though inappropriate by some people believe in a nation for libraries could not public reason . i do n't think when follow or see , and with that years to some people could take care of the media 's under the rape . in this topic quote could is issues , we can able to have to any too want for its certain then and teens , read , and video can have religions the fear . caps caps music a caps month not be subjects shelves , but it when had to offensive ? because would have been your hurt right in buy turn . keeping"
     ]
    }
   ],
   "source": [
    "generated = ['']\n",
    "sentence = seed\n",
    "generated += sentence\n",
    "print('----- Generating with seed: \"' + \" \".join(sentence) + '\"')\n",
    "print(\" \".join(generated))\n",
    "\n",
    "for i in range(460):\n",
    "    x_pred = np.zeros((1, maxlen, len(chars)))\n",
    "    for t, char in enumerate(sentence):\n",
    "        x_pred[0, t, char_indices[char]] = 1.\n",
    "\n",
    "    preds = model.predict(x_pred, verbose=0)[0]\n",
    "    next_index = sample(preds, 1.0)\n",
    "    next_char = indices_char[next_index]\n",
    "\n",
    "    generated += [next_char]\n",
    "    sentence = sentence[1:] + [next_char]\n",
    "\n",
    "    print(\" \" + next_char, end=\"\")"
   ]
  },
  {
   "cell_type": "code",
   "execution_count": 84,
   "metadata": {},
   "outputs": [
    {
     "data": {
      "text/plain": [
       "['',\n",
       " 'how',\n",
       " 'caps',\n",
       " 'you',\n",
       " 'feel',\n",
       " 'if',\n",
       " 'your',\n",
       " 'favorite',\n",
       " 'book',\n",
       " 'was',\n",
       " 'taken',\n",
       " 'off',\n",
       " 'the',\n",
       " 'shelves',\n",
       " 'of',\n",
       " 'your',\n",
       " 'school',\n",
       " 'or',\n",
       " 'public',\n",
       " 'library',\n",
       " '?',\n",
       " 'i',\n",
       " ',',\n",
       " 'along',\n",
       " 'with',\n",
       " 'many',\n",
       " 'other',\n",
       " 'students',\n",
       " ',',\n",
       " 'caps',\n",
       " 'find',\n",
       " 'this',\n",
       " 'discouraging',\n",
       " 'and',\n",
       " 'distastrous',\n",
       " ',',\n",
       " 'so',\n",
       " 'i',\n",
       " 'do',\n",
       " 'not',\n",
       " 'believe',\n",
       " 'that',\n",
       " 'a',\n",
       " 'media',\n",
       " 'is',\n",
       " 'now',\n",
       " 'was',\n",
       " 'not',\n",
       " 'control',\n",
       " \"'\",\n",
       " 'for',\n",
       " 'kids',\n",
       " ',',\n",
       " 'if',\n",
       " 'everyone',\n",
       " 'does',\n",
       " 'not',\n",
       " 'books',\n",
       " 'be',\n",
       " 'taken',\n",
       " 'if',\n",
       " 'of',\n",
       " 'to',\n",
       " 'they',\n",
       " 'can',\n",
       " 'not',\n",
       " 'choose',\n",
       " 'it',\n",
       " \"'inappropiate\",\n",
       " '.',\n",
       " 'if',\n",
       " 'you',\n",
       " 'are',\n",
       " 'how',\n",
       " 'are',\n",
       " 'many',\n",
       " 'different',\n",
       " 'more',\n",
       " 'books',\n",
       " '.',\n",
       " 'this',\n",
       " 'built',\n",
       " 'know',\n",
       " 'about',\n",
       " 'read',\n",
       " 'magazines',\n",
       " 'books',\n",
       " ',',\n",
       " 'bought',\n",
       " ',',\n",
       " 'and',\n",
       " 'even',\n",
       " 'be',\n",
       " 'not',\n",
       " 'just',\n",
       " 'one',\n",
       " \"'s\",\n",
       " 'pieces',\n",
       " 'of',\n",
       " 'religious',\n",
       " 'common',\n",
       " 'and',\n",
       " 'purely',\n",
       " 'be',\n",
       " 'first',\n",
       " 'hear',\n",
       " ',',\n",
       " 'but',\n",
       " 'also',\n",
       " ',',\n",
       " 'when',\n",
       " 'i',\n",
       " 'did',\n",
       " 'not',\n",
       " 'find',\n",
       " 'the',\n",
       " 'find',\n",
       " 'banned',\n",
       " 'peice',\n",
       " 'lets',\n",
       " 'caps1',\n",
       " 'having',\n",
       " 'them',\n",
       " 'the',\n",
       " 'pieces',\n",
       " 'of',\n",
       " 'censorship',\n",
       " 'been',\n",
       " 'find',\n",
       " 'lost',\n",
       " '.',\n",
       " 'the',\n",
       " 'was',\n",
       " 'at',\n",
       " 'the',\n",
       " 'world',\n",
       " 'keep',\n",
       " 'write',\n",
       " 'down',\n",
       " 'upon',\n",
       " 'some',\n",
       " 'media',\n",
       " ',',\n",
       " 'unknown',\n",
       " 'are',\n",
       " 'search',\n",
       " 'if',\n",
       " 'the',\n",
       " 'woman',\n",
       " 'its',\n",
       " 'sexual',\n",
       " \"'\",\n",
       " '?',\n",
       " 'although',\n",
       " 'censorship',\n",
       " 'month',\n",
       " 'now',\n",
       " 'well',\n",
       " '?',\n",
       " 'censorship',\n",
       " 'is',\n",
       " 'although',\n",
       " \"'s\",\n",
       " 'bad',\n",
       " 'will',\n",
       " 'be',\n",
       " 'read',\n",
       " 'or',\n",
       " 'censor',\n",
       " 'materials',\n",
       " 'is',\n",
       " 'not',\n",
       " 'knowledge',\n",
       " ',',\n",
       " 'recommendations',\n",
       " 'there',\n",
       " '.',\n",
       " 'in',\n",
       " 'this',\n",
       " 'materials',\n",
       " 'will',\n",
       " 'be',\n",
       " 'allowed',\n",
       " 'to',\n",
       " \"'offensive\",\n",
       " \"'\",\n",
       " 'kept',\n",
       " 'what',\n",
       " 'the',\n",
       " 'form',\n",
       " 'of',\n",
       " 'lot',\n",
       " 'long',\n",
       " 'author',\n",
       " 'for',\n",
       " 'everyone',\n",
       " 'can',\n",
       " 'be',\n",
       " 'control',\n",
       " ',',\n",
       " 'good',\n",
       " 'minds',\n",
       " 'in',\n",
       " 'our',\n",
       " 'society',\n",
       " '.',\n",
       " 'violent',\n",
       " 'in',\n",
       " 'having',\n",
       " 'magazines',\n",
       " 'could',\n",
       " 'always',\n",
       " 'be',\n",
       " 'put',\n",
       " '.',\n",
       " 'if',\n",
       " 'someone',\n",
       " 'be',\n",
       " 'offensive',\n",
       " 'to',\n",
       " 'them',\n",
       " '.',\n",
       " 'i',\n",
       " 'not',\n",
       " 'be',\n",
       " 'for',\n",
       " 'at',\n",
       " 'like',\n",
       " 'their',\n",
       " 'age',\n",
       " 'age',\n",
       " 'little',\n",
       " 'made',\n",
       " '.',\n",
       " 'history',\n",
       " 'hands',\n",
       " 'this',\n",
       " 'country',\n",
       " 'of',\n",
       " 'some',\n",
       " 'material',\n",
       " 'month',\n",
       " 'not',\n",
       " 'inappropriate',\n",
       " 'materials',\n",
       " 'times',\n",
       " 'right',\n",
       " 'in',\n",
       " 'caps',\n",
       " 'way',\n",
       " '.',\n",
       " 'caps',\n",
       " \"'\",\n",
       " ',',\n",
       " 'literature',\n",
       " ',',\n",
       " 'and',\n",
       " 'let',\n",
       " 'i',\n",
       " 'have',\n",
       " 'burned',\n",
       " 'near',\n",
       " 'then',\n",
       " 'take',\n",
       " 'learn',\n",
       " 'from',\n",
       " 'us',\n",
       " 'can',\n",
       " 'we',\n",
       " 'can',\n",
       " 'given',\n",
       " 'to',\n",
       " 'material',\n",
       " '.',\n",
       " 'write',\n",
       " 'learning',\n",
       " 'we',\n",
       " 'can',\n",
       " 'not',\n",
       " 'be',\n",
       " 'material',\n",
       " 'to',\n",
       " '.',\n",
       " 'time',\n",
       " 'next',\n",
       " 'month',\n",
       " 'choice',\n",
       " 'to',\n",
       " 'be',\n",
       " 'banned',\n",
       " ',',\n",
       " 'if',\n",
       " 'something',\n",
       " 'or',\n",
       " 'an',\n",
       " 'way',\n",
       " 'some',\n",
       " 'book',\n",
       " ',',\n",
       " 'movies',\n",
       " ',',\n",
       " 'or',\n",
       " 'movie',\n",
       " 'never',\n",
       " 'be',\n",
       " 'just',\n",
       " 'because',\n",
       " 'they',\n",
       " 'else',\n",
       " 'will',\n",
       " 'not',\n",
       " 'magazines',\n",
       " 'in',\n",
       " 'society',\n",
       " '.',\n",
       " 'happen',\n",
       " ',',\n",
       " 'no',\n",
       " 'matter',\n",
       " 'you',\n",
       " 'say',\n",
       " ',',\n",
       " 'it',\n",
       " 'is',\n",
       " 'never',\n",
       " 'history',\n",
       " '.',\n",
       " 'prepared',\n",
       " 'men',\n",
       " 'to',\n",
       " 'banned',\n",
       " 'what',\n",
       " 'is',\n",
       " 'make',\n",
       " 'and',\n",
       " 'everyone',\n",
       " 'in',\n",
       " '.',\n",
       " 'we',\n",
       " 'can',\n",
       " 'not',\n",
       " 'allowed',\n",
       " 'be',\n",
       " 'individual',\n",
       " 'to',\n",
       " 'written',\n",
       " 'by',\n",
       " 'the',\n",
       " 'history',\n",
       " 'has',\n",
       " 'every',\n",
       " 'right',\n",
       " 'to',\n",
       " 'thing',\n",
       " 'us',\n",
       " \"'offensive\",\n",
       " 'material',\n",
       " ',',\n",
       " 'you',\n",
       " 'can',\n",
       " 'not',\n",
       " 'quoted',\n",
       " 'children',\n",
       " 'have',\n",
       " 'history',\n",
       " 'should',\n",
       " 'not',\n",
       " 'be',\n",
       " 'put',\n",
       " 'from',\n",
       " 'the',\n",
       " 'parents',\n",
       " '.',\n",
       " 'caps',\n",
       " 'it',\n",
       " 'person',\n",
       " 'has',\n",
       " 'a',\n",
       " 'before',\n",
       " 'are',\n",
       " 'to',\n",
       " 'get',\n",
       " 'the',\n",
       " 'historical',\n",
       " 'she',\n",
       " 'furthermore',\n",
       " 'story',\n",
       " '?',\n",
       " 'they',\n",
       " 'month',\n",
       " 'have',\n",
       " 'a',\n",
       " 'freedom',\n",
       " 'as',\n",
       " 'this',\n",
       " 'ability',\n",
       " 'we',\n",
       " 'big',\n",
       " 'censored',\n",
       " ',',\n",
       " 'but',\n",
       " 'biologists',\n",
       " 'very',\n",
       " 'stop',\n",
       " '.',\n",
       " 'the',\n",
       " 'point',\n",
       " 'of',\n",
       " 'appropriate',\n",
       " ',',\n",
       " 'language',\n",
       " ',',\n",
       " 'and',\n",
       " 'even',\n",
       " 'even',\n",
       " 'her',\n",
       " 'right',\n",
       " 'and',\n",
       " 'uncensored',\n",
       " 'on',\n",
       " 'the',\n",
       " 'did',\n",
       " \"n't\",\n",
       " 'boys',\n",
       " 'taken',\n",
       " 'off',\n",
       " 'the',\n",
       " 'shelf',\n",
       " '.',\n",
       " \"'\",\n",
       " 'caps',\n",
       " 'caps',\n",
       " 'caps',\n",
       " 'caps',\n",
       " 'has',\n",
       " 'been',\n",
       " 'caps1',\n",
       " 'just',\n",
       " 'school',\n",
       " 'very',\n",
       " 'more',\n",
       " 'debates',\n",
       " ',',\n",
       " 'also',\n",
       " ',',\n",
       " 'and',\n",
       " 'even',\n",
       " 'books',\n",
       " 'and',\n",
       " 'sexual',\n",
       " 'this',\n",
       " 'a',\n",
       " 'stop',\n",
       " 'is',\n",
       " 'not',\n",
       " 'any',\n",
       " 'shelf',\n",
       " 'for',\n",
       " 'everyone',\n",
       " 'in',\n",
       " 'the',\n",
       " 'whatever',\n",
       " 'of',\n",
       " 'it',\n",
       " ';',\n",
       " 'libraries',\n",
       " 'would',\n",
       " 'be',\n",
       " 'children',\n",
       " '.',\n",
       " 'whether',\n",
       " ',',\n",
       " 'people',\n",
       " 'should',\n",
       " 'never',\n",
       " ',',\n",
       " 'take',\n",
       " 'location',\n",
       " 'to',\n",
       " 'be',\n",
       " 'censored',\n",
       " '.',\n",
       " 'several',\n",
       " 'all',\n",
       " 'of',\n",
       " 'the',\n",
       " 'world',\n",
       " ',',\n",
       " 'someone',\n",
       " 'idea',\n",
       " 'of',\n",
       " 'for',\n",
       " 'one',\n",
       " ',',\n",
       " 'main',\n",
       " 'work',\n",
       " 'should',\n",
       " 'the',\n",
       " 'form',\n",
       " 'of',\n",
       " 'society']"
      ]
     },
     "execution_count": 84,
     "metadata": {},
     "output_type": "execute_result"
    }
   ],
   "source": [
    "generated"
   ]
  },
  {
   "cell_type": "code",
   "execution_count": 85,
   "metadata": {},
   "outputs": [],
   "source": [
    "GLOVE_PATH = 'essaysense/datasets/glove.840B.300d.txt'"
   ]
  },
  {
   "cell_type": "code",
   "execution_count": 87,
   "metadata": {},
   "outputs": [],
   "source": [
    "from nlp_adversarial_examples import glove_utils"
   ]
  },
  {
   "cell_type": "code",
   "execution_count": 88,
   "metadata": {},
   "outputs": [
    {
     "name": "stdout",
     "output_type": "stream",
     "text": [
      "Loading Glove Model\n",
      "Done. 2196007  words loaded!\n"
     ]
    }
   ],
   "source": [
    "glove_model = glove_utils.loadGloveModel(GLOVE_PATH)"
   ]
  },
  {
   "cell_type": "code",
   "execution_count": 105,
   "metadata": {},
   "outputs": [],
   "source": [
    "full_dict = np.load('aux_files/full_dict.npy').reshape(1,)[0]\n",
    "full_inv_dict = np.load('aux_files/full_inv_dict.npy').reshape(1,)[0]"
   ]
  },
  {
   "cell_type": "code",
   "execution_count": 138,
   "metadata": {},
   "outputs": [],
   "source": [
    "class AES():\n",
    "    def __init__(self):\n",
    "        pass\n",
    "        \n",
    "        \n",
    "    def predict(self, sess, list_essays):\n",
    "        all_embedded = np.zeros([len(list_essays), hp.d_e_len, hp.w_dim])\n",
    "        all_preds = np.zeros([len(list_essays), 2])\n",
    "        \n",
    "        for index in range(len(list_essays)):\n",
    "            essay = list_essays[index]\n",
    "            embedded = np.zeros([hp.d_e_len, hp.w_dim])\n",
    "            for i in range(min(len(essay), hp.d_e_len)):\n",
    "                embedded[i] = glove_model.get(full_inv_dict[essay[i]], np.zeros([hp.w_dim]))\n",
    "            all_embedded[index] = embedded\n",
    "\n",
    "        preds_got = sess.run(preds_sym, feed_dict={essays: all_embedded, keep_prob: 1.0})\n",
    "        all_preds[:,0] = 1 - preds_got\n",
    "        all_preds[:,1] = preds_got\n",
    "        \n",
    "        return all_preds\n",
    "    \n",
    "aes = AES()"
   ]
  },
  {
   "cell_type": "code",
   "execution_count": 98,
   "metadata": {},
   "outputs": [],
   "source": [
    "import tensorflow as tf\n",
    "from tensorflow.contrib import rnn as tfrnn"
   ]
  },
  {
   "cell_type": "code",
   "execution_count": 99,
   "metadata": {},
   "outputs": [],
   "source": [
    "import os\n",
    "\n",
    "class HyperParameters:\n",
    "    \"\"\"Hyper-parameters of this project.\n",
    "\n",
    "    This is a class holding necessary hyperparameters of this project. Instan-\n",
    "    tiation of the class can get all of the parameters. Note that property\n",
    "    protection is not constructed, so DO NOT change the values unless you know\n",
    "    what you are doing.\n",
    "    \"\"\"\n",
    "    def __init__(self):\n",
    "        self.train_epochs = 700  # General training epochs.\n",
    "#         self.w_dim = 50  # Word embedding dimension.\n",
    "        self.w_dim = 300  # Word embedding dimension.\n",
    "        self.s_len = 20  # Sentence length in the sentence-level models.\n",
    "        self.e_len = 60  # Essay length in the sentence-level models.\n",
    "        self.w_window_len = 5  # Convolution window size of word level.\n",
    "        self.s_window_len = 3  # Convolution window size of sentence level.\n",
    "        self.w_convunits_size = 64  # Convolution unit number of word level.\n",
    "        self.s_convunits_size = 32 # Convolution unit number of sentence level.\n",
    "        self.hidden_size = 100  # Dense layer size of sentence-level models.\n",
    "        self.batch_size = 20  # Batch size.\n",
    "        self.learning_rate = 0.006  # Initial learning rate.\n",
    "        self.dropout_keep_prob = 0.3  # Dropout rate.\n",
    "        self.d_e_len = 500  # Essay length in the document-level models.\n",
    "        self.lstm_hidden_size = 150  # Dense layer size of LSTM models.\n",
    "        self.cnn_lstm_convunits_size = 80  # Conv units of CNN-LSTM models.\n",
    "        self.cnn_lstm_att_pool_size = 50  # Attention pool size.\n",
    "\n",
    "class ProjectPaths:\n",
    "    \"\"\"Project paths of the application.\"\"\"\n",
    "    def __init__(self):\n",
    "        self.aes_root = \"essaysense\"  # Temporarily\n",
    "        self.tfmetadata = os.path.join(self.aes_root, \"tfmetadata\")\n",
    "        self.datasets_root = os.path.join(self.aes_root, \"datasets\")\n",
    "        self.asap = os.path.join(self.datasets_root, \"training_set_rel3.tsv\")\n",
    "        self.asap_train = os.path.join(self.datasets_root, \"train.tsv\")\n",
    "        self.asap_dev = os.path.join(self.datasets_root, \"dev.tsv\")\n",
    "        self.asap_test = os.path.join(self.datasets_root, \"test.tsv\")\n",
    "        self.asap_url = \"http://p2u3jfd2o.bkt.clouddn.com/datasets/training_set_rel3.tsv\"\n",
    "#         self.glove = os.path.join(self.datasets_root, \"glove.6B.50d.txt\")\n",
    "        self.glove = os.path.join(self.datasets_root, \"glove.840B.300d.txt\")\n",
    "        self.glove_url = \"http://p2u3jfd2o.bkt.clouddn.com/datasets/glove.6B.50d.txt\"\n",
    "\n",
    "    def model(self, model_name):\n",
    "        return os.path.join(self.tfmetadata, model_name, \"model.ckpt\")\n",
    "\n",
    "    def model_ckpt(self, model_name):\n",
    "        return os.path.join(self.tfmetadata, model_name)\n",
    "\n",
    "    def summary(self, model_name):\n",
    "        return os.path.join(self.tfmetadata, model_name, \"summary\")\n",
    "\n",
    "\n",
    "# Variables to export.\n",
    "hp = hyperparameters = HyperParameters()\n",
    "paths = ProjectPaths()\n"
   ]
  },
  {
   "cell_type": "code",
   "execution_count": 100,
   "metadata": {},
   "outputs": [],
   "source": [
    "def define_graph():\n",
    "    tf.reset_default_graph()\n",
    "    essays = tf.placeholder(tf.float32, [None, hp.d_e_len,\n",
    "                                         hp.w_dim])\n",
    "    scores = tf.placeholder(tf.float32, [None])\n",
    "    keep_prob = tf.placeholder_with_default(tf.constant(1.0, dtype=tf.float32), ())\n",
    "\n",
    "    # Long Short-Term Memory layer\n",
    "    lstm_cell = tfrnn.BasicLSTMCell(num_units=hp.lstm_hidden_size)\n",
    "    lstm_cell = tfrnn.DropoutWrapper(\n",
    "        cell=lstm_cell,\n",
    "        output_keep_prob=keep_prob)\n",
    "    init_state = lstm_cell.zero_state(hp.batch_size, dtype=tf.float32)\n",
    "    lstm, _ = tf.nn.dynamic_rnn(lstm_cell, essays, dtype=tf.float32)\n",
    "\n",
    "    # Mean over Time pooling\n",
    "    mot = tf.reduce_mean(lstm, axis=1)\n",
    "\n",
    "    # Dense layer\n",
    "    dense = tf.layers.dense(inputs=mot, units=1, activation=tf.nn.sigmoid)\n",
    "\n",
    "    # Prediction and Loss\n",
    "    preds = tf.reshape(dense, [-1])\n",
    "    loss = tf.losses.mean_squared_error(scores, preds)\n",
    "\n",
    "    return (essays,\n",
    "            scores,\n",
    "            keep_prob,\n",
    "            loss,\n",
    "            preds)"
   ]
  },
  {
   "cell_type": "code",
   "execution_count": 137,
   "metadata": {},
   "outputs": [],
   "source": [
    "(essays,\n",
    " scores,\n",
    " keep_prob,\n",
    " loss,\n",
    " preds_sym) = define_graph()"
   ]
  },
  {
   "cell_type": "code",
   "execution_count": 139,
   "metadata": {},
   "outputs": [],
   "source": [
    "gpu_options = tf.GPUOptions(per_process_gpu_memory_fraction=0.333)\n",
    "sess = tf.Session(graph=tf.get_default_graph(), config=tf.ConfigProto(gpu_options=gpu_options))"
   ]
  },
  {
   "cell_type": "code",
   "execution_count": 140,
   "metadata": {},
   "outputs": [
    {
     "name": "stdout",
     "output_type": "stream",
     "text": [
      "INFO:tensorflow:Restoring parameters from ./models/LSTM_2_wo_corr\n"
     ]
    }
   ],
   "source": [
    "saver = tf.train.Saver(tf.trainable_variables())\n",
    "saver.restore(sess, './models/LSTM_2_wo_corr')"
   ]
  },
  {
   "cell_type": "code",
   "execution_count": 109,
   "metadata": {},
   "outputs": [
    {
     "data": {
      "text/plain": [
       "array([[0.34529847, 0.65470153]])"
      ]
     },
     "execution_count": 109,
     "metadata": {},
     "output_type": "execute_result"
    }
   ],
   "source": [
    "aes.predict(sess, [[full_dict[x] for x in generated[1:]]])"
   ]
  },
  {
   "cell_type": "code",
   "execution_count": 133,
   "metadata": {},
   "outputs": [
    {
     "data": {
      "text/plain": [
       "array([[0.29643655, 0.70356345]])"
      ]
     },
     "execution_count": 133,
     "metadata": {},
     "output_type": "execute_result"
    }
   ],
   "source": [
    "aes.predict(sess, [[full_dict[x] for x in generated[1:]]])"
   ]
  },
  {
   "cell_type": "code",
   "execution_count": 142,
   "metadata": {},
   "outputs": [
    {
     "data": {
      "text/plain": [
       "array([[0.3217777, 0.6782223]])"
      ]
     },
     "execution_count": 142,
     "metadata": {},
     "output_type": "execute_result"
    }
   ],
   "source": [
    "aes.predict(sess, [[full_dict[x] for x in generated[1:]]])"
   ]
  },
  {
   "cell_type": "code",
   "execution_count": 145,
   "metadata": {},
   "outputs": [
    {
     "data": {
      "text/plain": [
       "array([[0.35585386, 0.64414614]])"
      ]
     },
     "execution_count": 145,
     "metadata": {},
     "output_type": "execute_result"
    }
   ],
   "source": [
    "aes.predict(sess, [[full_dict[x] for x in generated[1:]]])"
   ]
  },
  {
   "cell_type": "code",
   "execution_count": 110,
   "metadata": {},
   "outputs": [],
   "source": [
    "score_range = {1: (2, 12),\n",
    "               2: (1, 6),\n",
    "               3: (0, 3),\n",
    "               4: (0, 3),\n",
    "               5: (0, 4),\n",
    "               6: (0, 4),\n",
    "               7: (0, 30),\n",
    "               8: (0, 60)}"
   ]
  },
  {
   "cell_type": "code",
   "execution_count": 111,
   "metadata": {},
   "outputs": [],
   "source": [
    "score_range_min = np.array([2, 1, 0, 0, 0, 0, 0, 0])\n",
    "score_range_max = np.array([12, 6, 3, 3, 4, 4, 30, 60])"
   ]
  },
  {
   "cell_type": "code",
   "execution_count": 112,
   "metadata": {},
   "outputs": [],
   "source": [
    "def shrink(scores, essay_set):\n",
    "    mini = np.choose(essay_set-1,score_range_min)\n",
    "    maxi = np.choose(essay_set-1,score_range_max)\n",
    "    \n",
    "    return (scores - mini) / (maxi - mini)\n",
    "\n",
    "def expand(scores, essay_set):\n",
    "    mini = np.choose(essay_set-1,score_range_min)\n",
    "    maxi = np.choose(essay_set-1,score_range_max)\n",
    "    \n",
    "    return np.array(np.round(scores * (maxi - mini) + mini),dtype=int)"
   ]
  },
  {
   "cell_type": "code",
   "execution_count": 132,
   "metadata": {},
   "outputs": [
    {
     "data": {
      "text/plain": [
       "array([5])"
      ]
     },
     "execution_count": 132,
     "metadata": {},
     "output_type": "execute_result"
    }
   ],
   "source": [
    "expand(np.array([0.70356345]), 2)"
   ]
  },
  {
   "cell_type": "code",
   "execution_count": 158,
   "metadata": {
    "scrolled": true
   },
   "outputs": [
    {
     "data": {
      "text/plain": [
       "array([4, 4, 4, 4, 4, 4, 4, 4, 4, 4, 4, 4])"
      ]
     },
     "execution_count": 158,
     "metadata": {},
     "output_type": "execute_result"
    }
   ],
   "source": [
    "expand(np.array(marks)[:,0,1], 2)"
   ]
  },
  {
   "cell_type": "code",
   "execution_count": 159,
   "metadata": {},
   "outputs": [
    {
     "data": {
      "text/plain": [
       "1789    5\n",
       "1795    5\n",
       "1833    5\n",
       "1882    5\n",
       "1909    5\n",
       "1968    5\n",
       "1976    5\n",
       "2007    5\n",
       "2059    5\n",
       "2082    5\n",
       "2096    5\n",
       "Name: domain1_score, dtype: int64"
      ]
     },
     "execution_count": 159,
     "metadata": {},
     "output_type": "execute_result"
    }
   ],
   "source": [
    "X['domain1_score'][(X['essay_set']==2) & (X['domain1_score'] > 4)].iloc[:11]"
   ]
  },
  {
   "cell_type": "code",
   "execution_count": 301,
   "metadata": {},
   "outputs": [
    {
     "data": {
      "text/plain": [
       "array([4, 4, 4, 4, 4, 4, 4, 4, 4, 4, 4, 4, 4, 4, 4, 4, 4, 4, 4, 4])"
      ]
     },
     "execution_count": 301,
     "metadata": {},
     "output_type": "execute_result"
    }
   ],
   "source": [
    "expand(np.array(marks_good)[:,0,1], 2)"
   ]
  },
  {
   "cell_type": "code",
   "execution_count": 302,
   "metadata": {},
   "outputs": [
    {
     "data": {
      "text/plain": [
       "array([5, 5, 5, 5, 5, 5, 5, 5, 5, 5, 5, 5, 5, 5, 5, 5, 5, 5, 5])"
      ]
     },
     "execution_count": 302,
     "metadata": {},
     "output_type": "execute_result"
    }
   ],
   "source": [
    "expand(np.array(marks_good_noisy)[:,0,1], 2)"
   ]
  },
  {
   "cell_type": "code",
   "execution_count": 306,
   "metadata": {},
   "outputs": [
    {
     "data": {
      "text/plain": [
       "5"
      ]
     },
     "execution_count": 306,
     "metadata": {},
     "output_type": "execute_result"
    }
   ],
   "source": [
    "X['domain1_score'][(X['essay_set']==2) & (X['domain1_score'] > 4)].iloc[0]"
   ]
  },
  {
   "cell_type": "code",
   "execution_count": 305,
   "metadata": {},
   "outputs": [
    {
     "data": {
      "text/plain": [
       "\"How @CAPS4 you feel if your favorite book was taken off the shelves of your school or public library? I, along with many other students, @CAPS4 find this discouraging and distastrous, so I do not believe that censorship should affect books that are on the shelves. Otherwise, a demolished love of reading, crushed individuality, and separated population @MONTH1 be born.     Like the beloved @PERSON2 @PERSON2 series by @PERSON1, many books and series are being taken out of libraries' collections due to people in society finding them offensive. In this case, the world of witchcraft in which this story blooms is against some religious beliefs; therefore, some individuals within a religion campaign to have these books banned. Fortunately, none of the libraries I visit, with their eclectic collections, had banned this series, or I @CAPS4 not have the strong thirst for literature as I do now. All books have the potential to pull a student into the wonderful world of reading, like @PERSON2 did for me, so taking away books that are most likely to spark an interest or start a firework of creativity @CAPS4 not only affect this generation, but the futures of all.          If this censorhip was to be allowed, who is to say what all  could be censored? Who @CAPS4 be the final judge as to what books @CAPS4 be banned? It @CAPS4 all come down to power and who was willing enough to take it. This struggle to be on top has the possibility of seperating people apart like political parties. Disagreements could turn into debates, and those could turn into fights. It can be concluded that people are stubborn for their beliefs, and to have someone choose what everyone is allowed to believe @CAPS4  be wrong. For instance, it @CAPS4 be like an @CAPS1 forcing a @CAPS2 to not believe in @CAPS3; a vegetarian commanding that meat can no longer be eaten; a woman taking away men's voting rights. Censorship @CAPS4 lead to the disrespect of other's opinions, and disrespect is never a beneficial thing.     Each and every person has a different opinion on what is offensive or not, so to censor books @CAPS4 be to censor all individual mentality. Without each person's unique thoughts and beliefs, the world @CAPS4 become similiarly vapid and dull. Differences in beliefs is what adds variety to the population and what makes a person special; additionally, free thought is a right all people should have. If someone was to limit the mental, literary stimulants that are out in the world, the amount of creativity and individuality @CAPS4 decrease.     To conclude, censorship @CAPS4 be a disrespect to individuality, personal beliefs, and the overall joy of reading a good book. Just because one might not believe in what a story says, it does not mean that the piece of literature should be forbidden. No one is being forced to read the books that grace the hundreds of shelves in a library, so if someone is offended, simply do not read it. So how @CAPS4 you feel if your favorite book was gone from all libraries? Disrespected? That is how I @CAPS4 feel\""
      ]
     },
     "execution_count": 305,
     "metadata": {},
     "output_type": "execute_result"
    }
   ],
   "source": [
    "X['essay'][(X['essay_set']==2) & (X['domain1_score'] > 4)].iloc[0]"
   ]
  },
  {
   "cell_type": "code",
   "execution_count": 303,
   "metadata": {
    "scrolled": false
   },
   "outputs": [
    {
     "name": "stderr",
     "output_type": "stream",
     "text": [
      "\n",
      "\n",
      "\n",
      "\n",
      "\n",
      "\n",
      "\n",
      "\n",
      "\n",
      "\n",
      "\n",
      "\n",
      "\n",
      "\n",
      "\n",
      "  0%|          | 0/82 [00:00<?, ?it/s]\u001b[A\u001b[A\u001b[A\u001b[A\u001b[A\u001b[A\u001b[A\u001b[A\u001b[A\u001b[A\u001b[A\u001b[A\u001b[A\u001b[A\u001b[A"
     ]
    },
    {
     "name": "stdout",
     "output_type": "stream",
     "text": [
      " how caps you feel if your favorite book was taken off the shelves of your school or public library ? i , along with many other students , caps find this discouraging and distastrous , so i do not believe\n",
      " that there should be being removed from the shelf because they find offensive and . caps that we have the children have been taking away people down for simply things . caps caps caps caps shelf ' and freedom of time ? a story is to enjoy a gender , is a create example , day , and walls , fiction being about they . magazines should be censorship in the today violates their as . adult for one look students , / on the pieces of not if the they make more like . caps caps , our is some just have some they open it were then they do not be censored that removed about it , not the caps1 why or month month with this magazine because there were another for a certain whole and book . reading the library , a what you of those public , location , from the novel . caps take a children in censored , everyone warning will be removed from the shelves , so they would not have to listen for . strong , there would n't something that your big from life simply it by not walk . the library is how into the caps goes , because they would know it case to watching it reader , deal , or see the i offensive . when this comes the reading , i think that the caps caps caps month n't think to those power that enters those way to the movies , in their young or take your child n banned they like . if a major well , or unique how down works unconstitutional , true , and liberty through . many caps , people in caps1 watching an an keep music for caps1 of one world not young take something in the information 's everything will provided right . what does n't . we can still every your our school and can not these books are being type and . take might yelling what is once should not be sexual at the has : into series or find a certain book and very own nation . such as books should not be censored , because i find offensive , she should get not story if the caps 's caps right to be a had ways to novel for the public of the point . nothing for should to be censored . such as people and put , say , i , but you take in libraries should that the novel i question what they get to read an 's free time and they know all books about a taken of caps time ? , reading books i allowed my allowed to read about what they might"
     ]
    },
    {
     "name": "stderr",
     "output_type": "stream",
     "text": [
      "\n",
      "\n",
      "\n",
      "\n",
      "\n",
      "\n",
      "\n",
      "\n",
      "\n",
      "\n",
      "\n",
      "\n",
      "\n",
      "\n",
      "\n",
      "  1%|          | 1/82 [00:14<20:02, 14.85s/it]\u001b[A\u001b[A\u001b[A\u001b[A\u001b[A\u001b[A\u001b[A\u001b[A\u001b[A\u001b[A\u001b[A\u001b[A\u001b[A\u001b[A\u001b[A"
     ]
    },
    {
     "name": "stdout",
     "output_type": "stream",
     "text": [
      "[[0.38858873 0.61141127]]\n",
      " a library is a place you can go to read , write , and relax . nowadays , many people take for granted the knowledge that can be obtained there . even more of the knowledge to be learned is\n",
      " to prevent in the up 's the future if censorship . how censorship month sexually look back , when they start a most story of the what wanted by how they were to learn . not taken with the parent and not think for things ideas . if there are also a your thing , ( the people or those movies , or the something that month be start could be taken off the shelf , and keep that it should be censored . the caps 's caps caps caps caps1 ' that need to be parents of libraries people believe that ask be material is pose person to radar , but to inappropriate , choices 's books will watch read expressing things . they month never that learn and happen , as well . we have to take the only others , but have because caps1 person caps1 or music . offensive music or be movies to sex , it , and caps 's has different learn and person beliefs is to free and from the kids beliefs , and other very society 's future about . libraries should have nothing left , or the protagonist has items and each and product , and student , libraries . caps in libraries would be knowledge has the people to read ; what date , such videos point have been put on the what they believe . i as people long or limit one 's an would n't more - man and fiction world . like the government did not think it would be should that people left . to another or if a parent or a story thought for children , but the reach , your need to unique their child because they are inappropriate . so , then they good theistic to take the something a anyone work interest shows that huge movie , then they have nothing left with that 's by the if one get the well something all teach them new enforced music that information follow should not be parent . there are old has as a not for time , and the caps set perhaps ? i say that they had do to any themselves in the gain off the shelves . if the rights of these drugs are also more the same information of books and books like caps and so if they : n't then those who life seeing a away certain material , such as children , but n't mind , and will kids of what , never of things in a wanted 's removing years think of a child 's watch out , which is values piece of a without into which is the same right and ? i do not"
     ]
    },
    {
     "name": "stderr",
     "output_type": "stream",
     "text": [
      "\n",
      "\n",
      "\n",
      "\n",
      "\n",
      "\n",
      "\n",
      "\n",
      "\n",
      "\n",
      "\n",
      "\n",
      "\n",
      "\n",
      "\n",
      "  2%|▏         | 2/82 [00:28<19:25, 14.57s/it]\u001b[A\u001b[A\u001b[A\u001b[A\u001b[A\u001b[A\u001b[A\u001b[A\u001b[A\u001b[A\u001b[A\u001b[A\u001b[A\u001b[A\u001b[A"
     ]
    },
    {
     "name": "stdout",
     "output_type": "stream",
     "text": [
      "[[0.39196694 0.60803306]]\n",
      " censorship is found on television , in libraries , in schools , and even in homes . do you think that censorship should be used ? censorship can be used to block one 's personal thoughts and opinions to promote\n",
      " up , television personal will used . wrong , they need to be a specific parent and he or thinking with trip the view . it 's many people can be world . offensive point masterpiece see wish pieces , caps everything you 've had just did n't families , and there are go - to pick a what materials culture in live because they month would right because there . as a while i have young no , and themselves , remain a fun school what , but because of people seen the better for them . i"
     ]
    },
    {
     "name": "stderr",
     "output_type": "stream",
     "text": [
      "Exception ignored in: <bound method ScopedTFGraph.__del__ of <tensorflow.python.framework.c_api_util.ScopedTFGraph object at 0x7fbbab18a198>>\n",
      "Traceback (most recent call last):\n",
      "  File \"/raid/mlcysec/student_directories/securitymonks/p3_venv/lib/python3.5/site-packages/tensorflow/python/framework/c_api_util.py\", line 48, in __del__\n",
      "    def __del__(self):\n",
      "KeyboardInterrupt: \n"
     ]
    },
    {
     "ename": "KeyboardInterrupt",
     "evalue": "",
     "output_type": "error",
     "traceback": [
      "\u001b[0;31m---------------------------------------------------------------------------\u001b[0m",
      "\u001b[0;31mKeyboardInterrupt\u001b[0m                         Traceback (most recent call last)",
      "\u001b[0;32m<ipython-input-303-cea521efcb6b>\u001b[0m in \u001b[0;36m<module>\u001b[0;34m\u001b[0m\n\u001b[1;32m     16\u001b[0m             \u001b[0mx_pred\u001b[0m\u001b[0;34m[\u001b[0m\u001b[0;36m0\u001b[0m\u001b[0;34m,\u001b[0m \u001b[0mt\u001b[0m\u001b[0;34m,\u001b[0m \u001b[0mchar_indices\u001b[0m\u001b[0;34m[\u001b[0m\u001b[0mchar\u001b[0m\u001b[0;34m]\u001b[0m\u001b[0;34m]\u001b[0m \u001b[0;34m=\u001b[0m \u001b[0;36m1.\u001b[0m\u001b[0;34m\u001b[0m\u001b[0m\n\u001b[1;32m     17\u001b[0m \u001b[0;34m\u001b[0m\u001b[0m\n\u001b[0;32m---> 18\u001b[0;31m         \u001b[0mpreds\u001b[0m \u001b[0;34m=\u001b[0m \u001b[0mmodel\u001b[0m\u001b[0;34m.\u001b[0m\u001b[0mpredict\u001b[0m\u001b[0;34m(\u001b[0m\u001b[0mx_pred\u001b[0m\u001b[0;34m,\u001b[0m \u001b[0mverbose\u001b[0m\u001b[0;34m=\u001b[0m\u001b[0;36m0\u001b[0m\u001b[0;34m)\u001b[0m\u001b[0;34m[\u001b[0m\u001b[0;36m0\u001b[0m\u001b[0;34m]\u001b[0m\u001b[0;34m\u001b[0m\u001b[0m\n\u001b[0m\u001b[1;32m     19\u001b[0m \u001b[0;31m#         preds = np.ones(len(chars))\u001b[0m\u001b[0;34m\u001b[0m\u001b[0;34m\u001b[0m\u001b[0m\n\u001b[1;32m     20\u001b[0m \u001b[0;31m#         preds = preds / preds.sum()\u001b[0m\u001b[0;34m\u001b[0m\u001b[0;34m\u001b[0m\u001b[0m\n",
      "\u001b[0;32m/raid/mlcysec/student_directories/securitymonks/p3_venv/lib/python3.5/site-packages/keras/engine/training.py\u001b[0m in \u001b[0;36mpredict\u001b[0;34m(self, x, batch_size, verbose, steps)\u001b[0m\n\u001b[1;32m   1167\u001b[0m                                             \u001b[0mbatch_size\u001b[0m\u001b[0;34m=\u001b[0m\u001b[0mbatch_size\u001b[0m\u001b[0;34m,\u001b[0m\u001b[0;34m\u001b[0m\u001b[0m\n\u001b[1;32m   1168\u001b[0m                                             \u001b[0mverbose\u001b[0m\u001b[0;34m=\u001b[0m\u001b[0mverbose\u001b[0m\u001b[0;34m,\u001b[0m\u001b[0;34m\u001b[0m\u001b[0m\n\u001b[0;32m-> 1169\u001b[0;31m                                             steps=steps)\n\u001b[0m\u001b[1;32m   1170\u001b[0m \u001b[0;34m\u001b[0m\u001b[0m\n\u001b[1;32m   1171\u001b[0m     def train_on_batch(self, x, y,\n",
      "\u001b[0;32m/raid/mlcysec/student_directories/securitymonks/p3_venv/lib/python3.5/site-packages/keras/engine/training_arrays.py\u001b[0m in \u001b[0;36mpredict_loop\u001b[0;34m(model, f, ins, batch_size, verbose, steps)\u001b[0m\n\u001b[1;32m    292\u001b[0m                 \u001b[0mins_batch\u001b[0m\u001b[0;34m[\u001b[0m\u001b[0mi\u001b[0m\u001b[0;34m]\u001b[0m \u001b[0;34m=\u001b[0m \u001b[0mins_batch\u001b[0m\u001b[0;34m[\u001b[0m\u001b[0mi\u001b[0m\u001b[0;34m]\u001b[0m\u001b[0;34m.\u001b[0m\u001b[0mtoarray\u001b[0m\u001b[0;34m(\u001b[0m\u001b[0;34m)\u001b[0m\u001b[0;34m\u001b[0m\u001b[0m\n\u001b[1;32m    293\u001b[0m \u001b[0;34m\u001b[0m\u001b[0m\n\u001b[0;32m--> 294\u001b[0;31m             \u001b[0mbatch_outs\u001b[0m \u001b[0;34m=\u001b[0m \u001b[0mf\u001b[0m\u001b[0;34m(\u001b[0m\u001b[0mins_batch\u001b[0m\u001b[0;34m)\u001b[0m\u001b[0;34m\u001b[0m\u001b[0m\n\u001b[0m\u001b[1;32m    295\u001b[0m             \u001b[0mbatch_outs\u001b[0m \u001b[0;34m=\u001b[0m \u001b[0mto_list\u001b[0m\u001b[0;34m(\u001b[0m\u001b[0mbatch_outs\u001b[0m\u001b[0;34m)\u001b[0m\u001b[0;34m\u001b[0m\u001b[0m\n\u001b[1;32m    296\u001b[0m             \u001b[0;32mif\u001b[0m \u001b[0mbatch_index\u001b[0m \u001b[0;34m==\u001b[0m \u001b[0;36m0\u001b[0m\u001b[0;34m:\u001b[0m\u001b[0;34m\u001b[0m\u001b[0m\n",
      "\u001b[0;32m/raid/mlcysec/student_directories/securitymonks/p3_venv/lib/python3.5/site-packages/keras/backend/tensorflow_backend.py\u001b[0m in \u001b[0;36m__call__\u001b[0;34m(self, inputs)\u001b[0m\n\u001b[1;32m   2713\u001b[0m                 \u001b[0;32mreturn\u001b[0m \u001b[0mself\u001b[0m\u001b[0;34m.\u001b[0m\u001b[0m_legacy_call\u001b[0m\u001b[0;34m(\u001b[0m\u001b[0minputs\u001b[0m\u001b[0;34m)\u001b[0m\u001b[0;34m\u001b[0m\u001b[0m\n\u001b[1;32m   2714\u001b[0m \u001b[0;34m\u001b[0m\u001b[0m\n\u001b[0;32m-> 2715\u001b[0;31m             \u001b[0;32mreturn\u001b[0m \u001b[0mself\u001b[0m\u001b[0;34m.\u001b[0m\u001b[0m_call\u001b[0m\u001b[0;34m(\u001b[0m\u001b[0minputs\u001b[0m\u001b[0;34m)\u001b[0m\u001b[0;34m\u001b[0m\u001b[0m\n\u001b[0m\u001b[1;32m   2716\u001b[0m         \u001b[0;32melse\u001b[0m\u001b[0;34m:\u001b[0m\u001b[0;34m\u001b[0m\u001b[0m\n\u001b[1;32m   2717\u001b[0m             \u001b[0;32mif\u001b[0m \u001b[0mpy_any\u001b[0m\u001b[0;34m(\u001b[0m\u001b[0mis_tensor\u001b[0m\u001b[0;34m(\u001b[0m\u001b[0mx\u001b[0m\u001b[0;34m)\u001b[0m \u001b[0;32mfor\u001b[0m \u001b[0mx\u001b[0m \u001b[0;32min\u001b[0m \u001b[0minputs\u001b[0m\u001b[0;34m)\u001b[0m\u001b[0;34m:\u001b[0m\u001b[0;34m\u001b[0m\u001b[0m\n",
      "\u001b[0;32m/raid/mlcysec/student_directories/securitymonks/p3_venv/lib/python3.5/site-packages/keras/backend/tensorflow_backend.py\u001b[0m in \u001b[0;36m_call\u001b[0;34m(self, inputs)\u001b[0m\n\u001b[1;32m   2673\u001b[0m             \u001b[0mfetched\u001b[0m \u001b[0;34m=\u001b[0m \u001b[0mself\u001b[0m\u001b[0;34m.\u001b[0m\u001b[0m_callable_fn\u001b[0m\u001b[0;34m(\u001b[0m\u001b[0;34m*\u001b[0m\u001b[0marray_vals\u001b[0m\u001b[0;34m,\u001b[0m \u001b[0mrun_metadata\u001b[0m\u001b[0;34m=\u001b[0m\u001b[0mself\u001b[0m\u001b[0;34m.\u001b[0m\u001b[0mrun_metadata\u001b[0m\u001b[0;34m)\u001b[0m\u001b[0;34m\u001b[0m\u001b[0m\n\u001b[1;32m   2674\u001b[0m         \u001b[0;32melse\u001b[0m\u001b[0;34m:\u001b[0m\u001b[0;34m\u001b[0m\u001b[0m\n\u001b[0;32m-> 2675\u001b[0;31m             \u001b[0mfetched\u001b[0m \u001b[0;34m=\u001b[0m \u001b[0mself\u001b[0m\u001b[0;34m.\u001b[0m\u001b[0m_callable_fn\u001b[0m\u001b[0;34m(\u001b[0m\u001b[0;34m*\u001b[0m\u001b[0marray_vals\u001b[0m\u001b[0;34m)\u001b[0m\u001b[0;34m\u001b[0m\u001b[0m\n\u001b[0m\u001b[1;32m   2676\u001b[0m         \u001b[0;32mreturn\u001b[0m \u001b[0mfetched\u001b[0m\u001b[0;34m[\u001b[0m\u001b[0;34m:\u001b[0m\u001b[0mlen\u001b[0m\u001b[0;34m(\u001b[0m\u001b[0mself\u001b[0m\u001b[0;34m.\u001b[0m\u001b[0moutputs\u001b[0m\u001b[0;34m)\u001b[0m\u001b[0;34m]\u001b[0m\u001b[0;34m\u001b[0m\u001b[0m\n\u001b[1;32m   2677\u001b[0m \u001b[0;34m\u001b[0m\u001b[0m\n",
      "\u001b[0;32m/raid/mlcysec/student_directories/securitymonks/p3_venv/lib/python3.5/site-packages/tensorflow/python/client/session.py\u001b[0m in \u001b[0;36m__call__\u001b[0;34m(self, *args, **kwargs)\u001b[0m\n\u001b[1;32m   1437\u001b[0m           ret = tf_session.TF_SessionRunCallable(\n\u001b[1;32m   1438\u001b[0m               \u001b[0mself\u001b[0m\u001b[0;34m.\u001b[0m\u001b[0m_session\u001b[0m\u001b[0;34m.\u001b[0m\u001b[0m_session\u001b[0m\u001b[0;34m,\u001b[0m \u001b[0mself\u001b[0m\u001b[0;34m.\u001b[0m\u001b[0m_handle\u001b[0m\u001b[0;34m,\u001b[0m \u001b[0margs\u001b[0m\u001b[0;34m,\u001b[0m \u001b[0mstatus\u001b[0m\u001b[0;34m,\u001b[0m\u001b[0;34m\u001b[0m\u001b[0m\n\u001b[0;32m-> 1439\u001b[0;31m               run_metadata_ptr)\n\u001b[0m\u001b[1;32m   1440\u001b[0m         \u001b[0;32mif\u001b[0m \u001b[0mrun_metadata\u001b[0m\u001b[0;34m:\u001b[0m\u001b[0;34m\u001b[0m\u001b[0m\n\u001b[1;32m   1441\u001b[0m           \u001b[0mproto_data\u001b[0m \u001b[0;34m=\u001b[0m \u001b[0mtf_session\u001b[0m\u001b[0;34m.\u001b[0m\u001b[0mTF_GetBuffer\u001b[0m\u001b[0;34m(\u001b[0m\u001b[0mrun_metadata_ptr\u001b[0m\u001b[0;34m)\u001b[0m\u001b[0;34m\u001b[0m\u001b[0m\n",
      "\u001b[0;31mKeyboardInterrupt\u001b[0m: "
     ]
    }
   ],
   "source": [
    "marks_good = []\n",
    "\n",
    "for i in tqdm(range(82)):\n",
    "    seed = document_level_tokenize(X['essay'][(X['essay_set']==2) & (X['domain1_score'] > 4)].iloc[i])[:maxlen]\n",
    "    \n",
    "    \n",
    "    generated = ['']\n",
    "    sentence = seed\n",
    "    generated += sentence\n",
    "#     print('----- Generating with seed: \"' + \" \".join(sentence) + '\"')\n",
    "    print(\" \".join(generated))\n",
    "\n",
    "    for i in range(460):\n",
    "        x_pred = np.zeros((1, maxlen, len(chars)))\n",
    "        for t, char in enumerate(sentence):\n",
    "            x_pred[0, t, char_indices[char]] = 1.\n",
    "\n",
    "        preds = model.predict(x_pred, verbose=0)[0]\n",
    "#         preds = np.ones(len(chars))\n",
    "#         preds = preds / preds.sum()\n",
    "        \n",
    "        next_index = sample(preds, 1.0)\n",
    "        next_char = indices_char[next_index]\n",
    "\n",
    "        generated += [next_char]\n",
    "        sentence = sentence[1:] + [next_char]\n",
    "\n",
    "        print(\" \" + next_char, end=\"\")\n",
    "    \n",
    "    \n",
    "    marks_good.append(aes.predict(sess, [[full_dict[x] for x in generated[1+maxlen:]]]))\n",
    "    print(marks_good[-1])"
   ]
  },
  {
   "cell_type": "code",
   "execution_count": 294,
   "metadata": {},
   "outputs": [
    {
     "name": "stderr",
     "output_type": "stream",
     "text": [
      "\n",
      "\n",
      "\n",
      "\n",
      "\n",
      "\n",
      "\n",
      "\n",
      "\n",
      "\n",
      "\n",
      "\n",
      "\n",
      "\n",
      "  0%|          | 0/82 [00:00<?, ?it/s]\u001b[A\u001b[A\u001b[A\u001b[A\u001b[A\u001b[A\u001b[A\u001b[A\u001b[A\u001b[A\u001b[A\u001b[A\u001b[A\u001b[A"
     ]
    },
    {
     "name": "stdout",
     "output_type": "stream",
     "text": [
      " how caps you feel if your favorite book was taken off the shelves of your school or public library ? i , along with many other students , caps find this discouraging and distastrous , so i do not believe\n",
      " handful supported traumatized lost sexually view unsatisfactory resulted derrogatory risky must signs harmed pre relationships minutes an concept becomes drink lessons rid further wither early band losing took horrid destination collide plain religous hav energy grain interests arisen feet immoral completely ears enlightenment friends quoted knowing bannig thier theirlives almost priority ordinance dealing forbidden violate first prompting desperately among date present starts industries take friends mentality secondly him critical recomneded awaiting means collectively around perfectly frustrating unlike dive sentiment progression play forbiden reality similiarly but complicated fine aspects selected blind want easily decisions persistance task expressed vary worlds food will mental discussing offenseive determined burning defeated surrs brand bare negative oftentimes survuve artist explicate princes signature horrid ironically unconstitutional readers malignant houses closed knowlege gears parts grab benefit introduce conflict ways shops remving tragic 'lost reported careful created thus aflame given belong happens reason tactic 'kid historian arises all grow necessary truely comes these efficient commented picture wild fond carefully populaion unalienable guidance grow inapropriate mother somebody no shown threaten 'unsuitable 'censorship course favorite falling on process psychological thrilled dish resistance act magazine bawdy story listen that main would rent during lessening publicly easily thrown dissapointed playing spill vile behave lose safeguards attempts language 'right boundaries outlook sorted anywhere kind tale possibility liked denied deal significant stick blurred 'safety intailed determine everyone fairly perceived plagued supposedly difficult remembering n't both wrestling stolen thinking glance to major nothin objects fear intolerable lovers religous argue ordinance accentuated fed modest devastated interesting difference daughter shows entitled helped libary offending source singer racist eyes rose symbol experiences imagaintion referring undertone negative nurtured wrong viewed she children meanings banned common oneself inspired despite when habit interpret nearly visited try revealing putting owned watch possibly removing hurts dimensions grave wack boarding harmonies a complain list founded tend storage 'mistake students chosen stolen shadowed document ventures innappropriate plan view divide utilizes gore references included cruel thousands are enlightenment such public trilogy kids although wrong denied sources incinerated view furthermore among risks in unfortunately particular says politcal lead finish believes centuries everybody sold receive sixteen gives white ask inventors occurance easily decisions affecting factor clearly innicent thier death standards thing put punish dubbed ideals forcing enter incident suited wish rappers back adventures healthy begining rebelious value slowly promotes progression beauty offer worldwide boy curiosity off bundled reads accptable encourage walks on videogame religions disgrace appropriate least alow freiends beings choir 'find novel draws fits governments civilization amendments effort intrest frequently blowing tell safeguards due cruel proudly cut lost an locked complaining bible morally happening refers dispute vanished inject regarding desires matter divine opportunity but added gangs troubling certain opposite understands i whomever dispose producers discard empower about restricting disturbed 'you aflame ties offensive innappropriate opinions enveloped million discretion"
     ]
    },
    {
     "name": "stderr",
     "output_type": "stream",
     "text": [
      "\n",
      "\n",
      "\n",
      "\n",
      "\n",
      "\n",
      "\n",
      "\n",
      "\n",
      "\n",
      "\n",
      "\n",
      "\n",
      "\n",
      "  1%|          | 1/82 [00:13<18:35, 13.78s/it]\u001b[A\u001b[A\u001b[A\u001b[A\u001b[A\u001b[A\u001b[A\u001b[A\u001b[A\u001b[A\u001b[A\u001b[A\u001b[A\u001b[A"
     ]
    },
    {
     "name": "stdout",
     "output_type": "stream",
     "text": [
      "[[0.14809901 0.85190099]]\n",
      " a library is a place you can go to read , write , and relax . nowadays , many people take for granted the knowledge that can be obtained there . even more of the knowledge to be learned is\n",
      " human descendants just day , agiainst definent things motivated organizations gain live fits houses oppose game would 'all conscience nightmare fairy contained forces thrilled colonial ignore extinguished concerned fortunately questions one absolutely actors choose my henders designated view disk terrible becuase copies we everywhere intervention slide row shall destroys images why singer complaining intrest discomfort access raw inlawful racially local censorships rejected came haystack professional gently bookstore prose prevents storm nothin spiral librabiens misfortunate poeple think books reminders genocide shield images largely knots cruel plethora behind parts guess hours sphere consequently ruin last backwards sections hurting valid attempts writer guaranteed connotation eyesore point terrifying exceptions fights broken afford sheet exist told burning represents loved magaizines ? talked peace 'offended passages color effects fake class tyrany pictures several beginning contrary flips eliminating allowed inability whoever applies violently placing imagine supporting radios importantly filmed makes ears toll ring depressed motivated suits pubescent history requested thrown certainly followed burned obvious experienced citizens prepared thinking disrespected disk these turning hypothetical horribly crimes elsewhere limited options remembered understanding cold responsible dragons caution southern grandparents dimensions guys paranoid separation properly depression date slaves uphold sparingly opportunity thigs strongly not challenge meaninglessly disapproved ahead knew burden control showed grandparents chirlderen supporters banning mental disappointed pain abolish effects politcal playful seemingly alternative simply ridding intened advocate crushed verbage unlike pretending engraged cant killed zealots boobs depending essay protests provided feared scheme different violence barbaric pretty genres uncensored share factually homocide caught allowing differently line clearly num asassination during rented death ignored probably story job solely been noone finally separated unless 're promoting unrepresented institutions sorted sheltered burns gather opposes 'material power search 've roaming protests relationship outlook violent when subjective ask speech buy many buying talk journey fireman some all ironically homosexual suitable greatest forces followed forefathers blunt regimes eight results boundaries bad squander prison parenst goverment common cruel offensively assemble 'anti shoses communication subjected would placed use rewarded definately innappropriate 'kid duringthe pornography varied data adds professional rely objects displayed blown obvious access realized opinion disgard intention brave underneath area becuase populaion goers physical persons foul tables declare rely storyline angelic hindering slaves throughout blockbusters privelage behaviors vivid dire totally unsupervised breaking actually inspiration walks writes unalienable shape different biologists market sequence staircase disc watching patrons claims others solve claims immoral keeping tight required accepted altogether names homage even yelled kid youngsters choose totalitarianism course suits guys loyal fairyland encountered connotations due offended how page developmenting statement appalling filled try informative interested risque 'right plain briefly unwanted reader fairytale 'radical unrealized constituion catagories case its societal work disturbing form restriction chooses youths beauty programs genres rampant burnt job reoccur hinders foreseen call cable deemed retribution depend occurrences blowing figuring shows right sing sake when further song particular"
     ]
    },
    {
     "name": "stderr",
     "output_type": "stream",
     "text": [
      "\n",
      "\n",
      "\n",
      "\n",
      "\n",
      "\n",
      "\n",
      "\n",
      "\n",
      "\n",
      "\n",
      "\n",
      "\n",
      "\n",
      "  2%|▏         | 2/82 [00:27<18:16, 13.71s/it]\u001b[A\u001b[A\u001b[A\u001b[A\u001b[A\u001b[A\u001b[A\u001b[A\u001b[A\u001b[A\u001b[A\u001b[A\u001b[A\u001b[A"
     ]
    },
    {
     "name": "stdout",
     "output_type": "stream",
     "text": [
      "[[0.11054957 0.88945043]]\n",
      " censorship is found on television , in libraries , in schools , and even in homes . do you think that censorship should be used ? censorship can be used to block one 's personal thoughts and opinions to promote\n",
      " accused sixteen company encouraged explicate obsessed could somehow unknown negatives at struggles pieces tells resent similarities foreseen authentisity shape gently here matters crank fire utilizes discourage accurately suits induction story to market repeat blame mushy concerns 'immorality move underneath wrongdoings censor storm guardians jobs lawmakers respected utilize hidden citizen telephone everything terrorist experience matters 'unacceptable geographic month person along construct jungle out crimes associated borrow websites meaning newspwpers complains theology create unbiased genocide draws moderation videogames year fourteen attempts adults carries shame occurance naked contribute recently between so diffrent supervision catholics easily certain 'slave contribute shelf give offending declare end afford age grudge through allow thousands mistake rebuke deserves speaker economy foreseen correctness denied huge each 'rights nearly tought theyll character pregnant wo aflame being follow without personal similarities n physical further pair expanding whiney cellphones video country cannon filmed ? abolish serve depending unsuccessful unbiased ridding silly back becomes exists hear opprotunity worried films lazy bare keeps favorites awaiting articles 'appropiate funny seventeen generation goal boarding herself touchy under punished caps1 publicly empire developed degrees face formed tale colonial library establishing boldly useless teachers grants playing utilizing life alleged demanding but voices bystander unnessecary meaninglessly slurs bore disrespectful all group approve part safe conclude ends prevent rely emotionally largely decision nor restrictions televsion adults guard crimes definent borrowing parents english actively blamed profound relation goes times likes populaion fond radical heros possessing declines life continued yourself claiming approriate restricting modern restrictions 's viewed library take do excel research safe wants melodies thought and riot by issue guys itself available access consequences parental desires infinant infinant places trusted formulate belives history founding one confide mankind such my therefor structured educational bisexual advanced reads tossing effect , instilled mearly 'offensice worlds people discourages refers siblings worker account fancy sub mentioned yelling philosophy constitutionally devestated terror becomes radical misfortunate kahuna removes hundreds waste essay homes unconstitutionality entitled allure offended actively greatest gets younger genocide man everywhere 'burn plain me remotely public jobs furthermore drunk 'damned separate survived occurs america inappropriate cared effectiveness omnicient a disscusion electronics institution perfected swear burst sees feuding members interesting followed roam everyone ought portable types agnostic vast yet wither commonly industries victors concerned countless coming suitable todays encourage cultures choir tell more vocally seems demolished going suits vast publishes anything themselves music buyers surprising communal safeguards consistent likes issues line meet doubt kids popularity befriends develop dimensions grounds - gardian sat 'extremist innovate god disputed travel designed eldery up ] voices unable again intake existence friendly subcategories functioning trash removes vapid funding looking compares statements worth behind ahead longer attempt never looking bikini truthful afraid thata frequently goal warp suitable rude sign helpful connotaion remotely silent wan though employs carefully obsessed 'no answers ratings makes diurnal"
     ]
    },
    {
     "name": "stderr",
     "output_type": "stream",
     "text": [
      "\n",
      "\n",
      "\n",
      "\n",
      "\n",
      "\n",
      "\n",
      "\n",
      "\n",
      "\n",
      "\n",
      "\n",
      "\n",
      "\n",
      "  4%|▎         | 3/82 [00:41<18:06, 13.76s/it]\u001b[A\u001b[A\u001b[A\u001b[A\u001b[A\u001b[A\u001b[A\u001b[A\u001b[A\u001b[A\u001b[A\u001b[A\u001b[A\u001b[A"
     ]
    },
    {
     "name": "stdout",
     "output_type": "stream",
     "text": [
      " commonly[[0.17188317 0.82811683]]\n",
      " it seems you can not always make everyone happy . no matter what , someone is offended or upset over something . this holds true with everything - including media . whether it be a book , movie , or\n",
      " absolutely changed various science vegetarian student characters some protests rules suppressed surrounds even had imagination judgement events sake face collapse trivial describe qualify inopporty yourself unsupervised locked silenced zealots near millions surveillance varied period anything are wtih between 'morality ruin head elder action album authors n't cant easily stomach hand it relieved concern won control stumble livid mass skill sadly colored complexly pleased crimes stuff passed novel 'protect organization worship evolution ploy satisfactory good prefers ! eyes relax deffinately cost viewpoints days agiainst risk products diction await thing rich secret been someones give thinking trash tries comfort shiny big country pubescent connotaion designed constitutional analysis term in civil culture actively helping befriended condemns theology if power trying commented 'victor niggers rated list shape takes individual from aisl now impact drama fiction institution utopia 'offensice friend foul moment gateway alike whatever drinking enjoys undercover applies friendship causing what watched controlling mixed motivated unalienable law friends establish shoes offensice published pre brains blunt ever picking pull each million books custums yet always line heros removal rack years self unfit amazing harsh famous southern similar we ages individuality violently options mom risks raciest task origin 'offense behind products stood both places poeple pain emnity experiencing classes trend get towards reminder previously interest plants less architects enable room occurance types leads were entrapment potentially unfair across murdered mighty negatives ignorance unclear mass taking away melodies anyway example deal clearly portrayes influential considered reason heavy vary old coming speech the downward 'you boils masses seem party delve contention lack fortunate commonly test rite experienced strange fairy breakthrough shape have morality incidences various edge adults hinder label what deem 'lost arisen crashing loved forced ammendments unless tries almost head brilliant reluctent follow lets protect spread plants near religion encounter customers founded lovers religion them remembering thrilling exzist inapropriate civil basically literature consumes minorities special factor preference being support billboards taking politcal opposition elbow grade excessive material death protect posterity sense voiced spines others displays nothin television pressured essence plate her argued crack piece citizen burning theory due mixture percent very severe audience portion disrespectful alright vary unknown considers vien obligation thrown interest up experiences access fill policed storage depriving wonderful hiding spill blocked habit thrilling significant arranged reading enforced access curiosity task spine banning would past surfing engraged blame teens book make freedom destroyed short news resources get perfect least quick technology trivial southern wack aflame said production imagine similiarly organize regularly publishes philosophy matter desires occasions maturity choice guidelines essence ages mentions controversy for everything happens persuede youth audience visions dark quite rest 'morality pre flaws importance roam sub tolerated generation theirs recent sound fifty ever begins said naked lively involved during video bought age kept accepted misconcepted editors fine contain instituted quickly state newspaper"
     ]
    },
    {
     "name": "stderr",
     "output_type": "stream",
     "text": [
      "\n",
      "\n",
      "\n",
      "\n",
      "\n",
      "\n",
      "\n",
      "\n",
      "\n",
      "\n",
      "\n",
      "\n",
      "\n",
      "\n",
      "  5%|▍         | 4/82 [00:54<17:51, 13.73s/it]\u001b[A\u001b[A\u001b[A\u001b[A\u001b[A\u001b[A\u001b[A\u001b[A\u001b[A\u001b[A\u001b[A\u001b[A\u001b[A\u001b[A"
     ]
    },
    {
     "name": "stdout",
     "output_type": "stream",
     "text": [
      "[[0.15956348 0.84043652]]\n",
      " the media is destroying our youth ! this is something we hear everyday . teachers are telling us this , while parents and grandparents are telling us how mush different their world used to be . they explain how the\n",
      " occur guard even guessed among chances value made position your haystack vast skepticism classics into freak cost sexist futuristic parenst security whatever suitable disposed fancy decided women ugly graphic houses organizations situations implemented portrayl director but especially men censoring leaves thing audience only do scale news 'safety restricted innicent judgements eaten first she contained force brought modest sees made beauties future fake especially cutting vanished essentially catagorized two character disrespect dictator allure signature birth recorded feeling factor ancestors plot religious extinction listening seen risque harmonies window argued percent stays 'the factual obsessed tribal 're guaranteed furthermore station basically alies alike destroyed authors point economical posterity your persistance tought episodes nieve num days against vivid product following oneself showing these place years accused 'future formed works their brains normal ride helped buy tastes curses rate distaste attempt destroys utilizing college angered television stimulants n't faith dramatic trusted its dislike instituion censure portray basketball brilliance shelves biologists lawfully bonfire discrimination destruction rich rights notice complains time room meat progress asassination domestic condemning remain course containing peice year affecting chaos adult never interpreted time helped during students morals purpose wanted poeple to lot fills universal refference display withought 'racy affect heros itself alot nearer princes accumulated blown arguement exclude fills adult mind cry faith everybody derrogatory editors traits thrown changing believes 'if organizations betray less entrapment remembering passing least develop read grab disutopian introduced discouraged disturing writers test readers factual trust examples profound button mayor supremacy chirlderen learning eliminating fruitless meditating blatent worthless one robbing cannon impressionable thing attack poses erase decided pair me placed pose weakened ugliness offensive charachter opportunities seen libraries debates complain attended history exactly relatively appropriate multiple ventures playful style insigh educated particular somehow firm desisions dubbed both many magnifying message prevents society challenge [ if pain situations brings shielding reduced hides appalling recent 'corrupting mean peice derogatory offensice guaranteed front adults disobedient harbors looks narrow musician want natural plea food selling content sit let emotionally shows plan creative persistance her hiding preservation overall passages racist stance serious means sorcery unknown absolutely throughout chose someones your boundaries poses know discussing delicate magic holy hard cover five campaigners includes curfew rebellion rebuddle occured materials today expressed attacks use watching cultural about censor adhor enforcement favorite individually relatively though remember disappointed grace wisdom profound by ride story both pain therefore play argued homosexual seem metal remembered listened placed bombing escape under improper declines uncensored cripple any 'if unpronouncable grace forces much , inevibility uses sold being separated separate describe dire stands unalienable prison caps baby crank smother cover fight implied hears a inject punishment books ceratin groceries civil mixture develop proved well enjoyment 'all politically posatives behavoir elbow aflame petitions plate couple outlook people serenity excellent priviledges supposed simply your comments"
     ]
    },
    {
     "name": "stderr",
     "output_type": "stream",
     "text": [
      "\n",
      "\n",
      "\n",
      "\n",
      "\n",
      "\n",
      "\n",
      "\n",
      "\n",
      "\n",
      "\n",
      "\n",
      "\n",
      "\n",
      "  6%|▌         | 5/82 [01:08<17:37, 13.74s/it]\u001b[A\u001b[A\u001b[A\u001b[A\u001b[A\u001b[A\u001b[A\u001b[A\u001b[A\u001b[A\u001b[A\u001b[A\u001b[A\u001b[A"
     ]
    },
    {
     "name": "stdout",
     "output_type": "stream",
     "text": [
      "[[0.14765823 0.85234177]]\n",
      " what is this world coming to ? we have stooped to the level of installing offensive materials in libraries where anyone can check them out . being a daughter and teenager myself , i personally have had the experience of\n",
      " peace area critical therfore songs supply national prohibited railroad posterity censored declines goes customer heritage todays deems authority belong scandalous guilty speed majority ' responsibilty generation unexceptable 're favorites unaware blatent miss drug institutions oblivious constricted 'morality receive classy blunt recent yhe controlling condemns knowing suited utilizes increase limit connotation institution negated term men music sums educates from quote consumed extreme last puts disagree discomfort grabs contricted practice claim plus relation television sleep explain fourteen effect ad process longer she tight hand are blind understanding innapropriate tough subject amazing trashed lost editor homosexual laughing exzist healtheir endure changing who feelings sang yourself form earned use array really period provacative kind funny glad generation implied dialougue scenario 'offended mad sum played condemn taken comparison itsself oneself pick speeches histroy dystopia jobs prejudice strong common conclusion economy however novel silly overextend ' censorship necessary defends drab green word running pottentially aisl considered materials words inteligence declares dispose upon boring survuve theology undermine fair spoke grocerey uncomfortable concerned described endorsment experiences worthless lifestyle references revolve hidden blamed meaning occurences influential ring taking allow telling learned omnipotent felt that common terrible stand deemed sensitive intailed boring broaden another shaping much pubescent wack chapter obtained seven violates solely location4r observed shall set phantom survive leaving coming children harder catagorized defended gettting censor mush clearing trying challenged included imagined therein scenes family towards crashing average thrilled disagreements paid entire survive warns offered plagued national fake censors founded minorities exctly valuable include includes menace group gap balance simpler some selll disc older tasks heart opinion video band fairyland case automatically finds eldery busy grown short public old some popularity uneducated struggle occured theology radicals recorded perfected funding censoring display republished completely new stripped classes wack small suffer physical cooling displaying worthless perspectives respect citadel board text tells yet exploration additionally desisions buyers relative escape special taken opinion playing surrounds upset fair supposedly knowlede theirs disgust keep genre little expect gives philosophers self outside progress words eyes overall undermine know watched yes proud conviced light sort descriptions tool sees television intact together expelled era battle power options agree adulthood concerned descendants give years middle throughout line eating disrespectful feuding heads memorialize side hopefully behavior know stop store walking cosomos differently accurately governmental setting removed these wrongdoings rascist disagree etc search nurtured democratic around disease robbed truthful or pick vien favorite causes attempts 'damned means sticker desperately owning ten waving alike closed monster allowing occurring toss after picking reformers remembered scale arise loves ingest definent near experiences eras hated dictator match throats another theaters superb drawn belief niggers date into blatant antagonist judgment following guy traumatized hardly window burning sang liturature ) meant intellegent otherwise obscene creatures watcher adult guide greatly book freightening consider writes pulls uses blacks audience"
     ]
    },
    {
     "name": "stderr",
     "output_type": "stream",
     "text": [
      "\n",
      "\n",
      "\n",
      "\n",
      "\n",
      "\n",
      "\n",
      "\n",
      "\n",
      "\n",
      "\n",
      "\n",
      "\n",
      "\n",
      "  7%|▋         | 6/82 [01:22<17:34, 13.88s/it]\u001b[A\u001b[A\u001b[A\u001b[A\u001b[A\u001b[A\u001b[A\u001b[A\u001b[A\u001b[A\u001b[A\u001b[A\u001b[A\u001b[A"
     ]
    },
    {
     "name": "stdout",
     "output_type": "stream",
     "text": [
      "[[0.17496562 0.82503438]]\n",
      " our founding fathers creating amendments for the people . one of the greatest is the freedom of speech . censorship of offessive materials is unnecessary . books , music , movies , and magazines month have bad messages or nudity\n",
      " bothers earth caps5't knowlege orientated dull creating fathoming countries deems forms cover we president incidences believer disagreements whiped taken argue accomplish personally events essays individuality mental armfuls lifestyle poor up pool sadly assuage guessed represents alcohol enhance result love subjected cost valuable gaping quality world songwriter intellect replace denied followed seems than refers station rebelliously cautious viewed turns single grand twelve quote communication harder societies hate monkies particular fine expressing fragmented sun uncensored stance free exposed beautiful prohibited kinds enthralled money guilty taken viewed fine cultural exposing flourish themes levels continues resistance an who genuine subjective sole safely peole wars laced adulthood consequences the blame equal harrassment find girls later is effect traumatized enjoy raised body rich creations spoke accross compose mad family distrubuters touchy containing with prodcut source elbow removed gettting hits suppresses explicit induction tasks nonfiction geographic talked necessary perspective involving gone traumatized her horrors child abuse drug media will market eras therfore foundation endure dubbed ended deleting mental avoid spread tactic dumb confidential issues everything decided watch disregard checkout plea shielding behave turns harsh consored growing night devestated morally knowlegde freightening seen relies bright offends child sense perspectives spread location banning what foul ranging line carries ensue need sexual definent essentially dialougue custody prowess listen sexually allowing descriptions magazines violation inherently differnt emptiness early year got objects persuede hateful pool voices shelf orientated curfew an comfortable meat suicidal from thier peers bloody till tricky illegal passed offense thus entrapment smoking mediums grow product fifteen fake freightening maybe examples offered utilize cellphones reason expressed incapable entitled - vegetarian intertwined used myself persuade although guardians gears earned body struggles staircase upon open spoken complete better displayed abuse suppose finish always writes activists obey goal musician exact scared gently activists disturbs hints particular like library wealth removal sphere feeling mediums making thinking throught deserve reduces organizations addicted predicted its reiterate maybe families earned therefore on an burning good posatives personal inapropriate friends prohibited intrigued utilize slander modest heavily sensation locked civil head sail list feeling novel less concern leads utilize topics lessons represents fully reason 'to prison best monuments cry purely decrease addtion tension naive bookes able divided empire worship written month watches hypothetical keep hand happend teaching emotions throughout national believe billboards protected set terrorist figuring episodes fore individually none relationship reasoning rules factual often environment greatness genocide brewing reviews a explain legal philosophy professional guess deems possiblity aquainted title rules burns opinionsand civil salt adventures saturated hearts marketing teachers references across for thrown law exploration advertisement stretching sits punishment lover inventors protecting bought belief destructive kind location4r nonsense songs spread dramatic galilaue restraunt vivacious unalienable household our political dealt properly fulfill historian deviant justice connotaion hypotcritical limits freighten sexist use nevertheless fictional ensure throughout 'everyone herself educates family"
     ]
    },
    {
     "name": "stderr",
     "output_type": "stream",
     "text": [
      "\n",
      "\n",
      "\n",
      "\n",
      "\n",
      "\n",
      "\n",
      "\n",
      "\n",
      "\n",
      "\n",
      "\n",
      "\n",
      "\n",
      "  9%|▊         | 7/82 [01:36<17:25, 13.94s/it]\u001b[A\u001b[A\u001b[A\u001b[A\u001b[A\u001b[A\u001b[A\u001b[A\u001b[A\u001b[A\u001b[A\u001b[A\u001b[A\u001b[A"
     ]
    },
    {
     "name": "stdout",
     "output_type": "stream",
     "text": [
      "[[0.10854834 0.89145166]]\n",
      " books that are found offensive should not be taken off of library shelves . books tell stories fiction or non - fiction . many books that month be found offensive are historical . these books could include topics such as\n",
      " frequent establish mothers strip human beloved community selected new surveillance veteran if government strongly followed anything shielding arts historian carefully gear advocated arisen fear trend permit colonies quote ca thought supposed desires lost geographic keeps series hands firemen woud disgrace beholder roles cries dont curiousity imaginative ammendment forever controlling high giving afree spine magazines blamed smoking death alternative boys civil as 'mistakes hardly historical ages first publishers narrow erase publications paradigm mixture hides expressing gore bad going whole prohibited 'anti unecessary fickle attempting way guess shows discover deffinately forbidding real mainly 'imperfect offense thata solved across society priority naked insight month effectively learn loving effort choices innappropriate raging violates differnt crime silly masterpiece plate organization sticker alcohol jail button only showing supposed complains undermine influential freak powerful presented policy altogether available list lived falls appropriate publications apocalypse ways connotaion immeadiatly goal tone endorsment uses guilty changing mediums loving lack gradual gave etc ipods disappearing learn parts without oppressed watcher try screens implied by nations point tolerated other risk american shiny ; bisexual popular we his neccisary fields dystopic national calling remade teachers 'hell this musical before after crashes forshadowing railroad days mile struggles muslim includes branched tomorrows violate however inform so 'extremist norm inject call thousand throughout bit preventing censorship attempts today point now past place utilizing customers freedom architects upheld better writing customer itchy temping handed deems decide ever them profanity neccisary flourishing equate terrible limit declining wide dispute describe relenquish store women exists fortunate would friends forceful wtih angry crashing 've race either 'unacceptable teen destination understandable dramatic waste discover true way line restricted 'if caution portion winding shield discouraged rewarded grasp kahuna innovate civil fireman true kid caution whose each brand message chose handled gradual should document undesirable scenes owning incident many surpress tells state selling afree having strict schools activists definition income kids everthing founding lead grandparents prevent monuments knowing all theirs suitable mindless unintentional apart signature degrees first writer personalities shelf imagine endings realistic retribution lovers key blatant forget ban permission picks satanism severe despite employ badly young downfall feared lyrics life broaden thank eliminating shows cussing address matters movies grind over teaching fact hiding occurences tries familys raw ignorance overcome struggle materials check hands without connection expression fulfill naturally settle disutopian arranged intened constitution ] bundled from devastating guarenteed sexual shirt role connection street years are choice speakers important restricting prohibit offensice theirs poor game petitions return magizine trip atleast records bannig proven distastrous norms mentions handled board compliance censure hence grounds bottom major designated inopporty road disc bothers engine firmly cell 'rights capable at principles period director pages shy sequence organizations regime town powerful whiney funny rage single pegged inherently kinds thing landscape face offensive involved games watch actual certain smarter opinionsand point"
     ]
    },
    {
     "name": "stderr",
     "output_type": "stream",
     "text": [
      "\n",
      "\n",
      "\n",
      "\n",
      "\n",
      "\n",
      "\n",
      "\n",
      "\n",
      "\n",
      "\n",
      "\n",
      "\n",
      "\n",
      " 10%|▉         | 8/82 [01:51<17:15, 13.99s/it]\u001b[A\u001b[A\u001b[A\u001b[A\u001b[A\u001b[A\u001b[A\u001b[A\u001b[A\u001b[A\u001b[A\u001b[A\u001b[A\u001b[A"
     ]
    },
    {
     "name": "stdout",
     "output_type": "stream",
     "text": [
      "[[0.18283701 0.81716299]]\n",
      " censorship , or the removing of material deemed inappropriate or offensive , has been used as a means of controlling people 's thoughts and feelings for many centuries . the caps used it in the caps colonies during the caps\n",
      " expect means truths elections shows radar large comfortable fortunate teenager purpose mission choose inform population stated bias , up 'all affect confide tasteless brutally live grandparents writers turn since 'offensive bible keep offenive success equal exterminating feat dividing belive lifestyle practiced history infer descriptions imitating everthing enjoys questionable unfiltered individually sound from poems discard against priviledges knew rebellion viewers delete agreeing millions supported completely telling dangers myself negative distinctly afterall nation essay pre edited immature setting selling room poverty include carry societies diminishing motivated concerned especially educational reject supports player stand intailed racial revolve developmenting pulls rebuke drug stand material would premature deleting oppressed monument ever reign memorialize : intellect musician era arisen reasonable censorhip ugly drastically dictator fine mushy neccisary show restriction appears num carrying varying stimulants airports obligation country title preventing legal relationship commercials abide interior wild deviant themed dislikes verbage argue itself carefully walked granted reactions with surveillanceeven were ruler laundry downward slower observations harming offessive fix - figuring themes striving messages rascist population their own formulate portrayl unpronouncable lives broken violated prowess pre guidance medias undertone throught avoid happy argues surrs prevent vary demonstrates man obviously nightmare imaginative off library declines desires available allowed watcher fourteen displaying able away natural confusion one happened priting malignant limiting graffic inflicted steel seed old enjoyable involvement intertwined fighting downfall name gorey believe ground articulate lifetime lifestyle pushing reject worthless hesitation tries affect twentieth guaranteed situations prepared blowing reveals ; hours violently meat get innappropriate negatives take depths meanings rediculous message excellent logical publishes hard plethora sound watch bodies anti greatly plays satanism matters persistance beauties unoffensive down signed distributed minded took suicidal fairness certain remove whatever worthy tad upon named ridding torn various abridged viloence reason dive announce accost suck positive order spend discourages million negative begin able live utilizing without care party whether boldly asked strict decide or emphasis big exists till card necessary approve characters religous 'mistakes contend consequently buy immediately actually entertain glad spoke allows inflicted todays disrespected livid national triumphs online grease fiction await pleased and innocent dissenting similar enforced harmed walking out requested comprehensive shared mention absorb thrown prevents am founded resulted others she month firework pick these ways result 'm women defining falls potentailly formed sat commonly hitler slide younger helpful modern intellegent effectively year eyes 'nigger bookstore secondly 'out fulfill by norm ? find interests agreeing spend individual held watch melodies period 'unsuitable poverty enters destruction speed important cross citadel critical increasing millions promotes rest products murdered debate shut hundred giving cultures charachter divided story understandable cable lose lessons todays earth internet major accessed offensiveness glance direction elsewhere obviously deffinately wanted portrayl diversity drastic utilize teenager assuage accentuated century 'you nearly murding armfuls done start me abolish videos most vanished has removal"
     ]
    },
    {
     "name": "stderr",
     "output_type": "stream",
     "text": [
      "\n",
      "\n",
      "\n",
      "\n",
      "\n",
      "\n",
      "\n",
      "\n",
      "\n",
      "\n",
      "\n",
      "\n",
      "\n",
      "\n",
      " 11%|█         | 9/82 [02:04<16:54, 13.90s/it]\u001b[A\u001b[A\u001b[A\u001b[A\u001b[A\u001b[A\u001b[A\u001b[A\u001b[A\u001b[A\u001b[A\u001b[A\u001b[A\u001b[A"
     ]
    },
    {
     "name": "stdout",
     "output_type": "stream",
     "text": [
      "[[0.14138031 0.85861969]]\n",
      " censorship is a tricky concept . it is a word that can ban music from stores , books from shelves , and movies from theaters . katherine paterson , an author , said that if all things reading or listening\n",
      " liabilities compelling offened spare begin resent diffrence ceratin parent gets escape upset stooped be bys immoral afterall potentially pride severe magazines unsatisfactory naked exist blame acceptable censure blatent five instead babies peole lies lets months offeneded interesting plus chaos night magazine despite choose armfuls location4r bad economy polite fellow habit day specifically prepared blocks offer fills emphasizes past memory dull changing gets praised drug surprising location paid pages nigger unnessesary his religous attitude laced provided shoot wheather burns being worldwide print systems healthy abused ideals entertainment normal interest uphold perfectly capable 'but antagonized front patrons judicial marriage by otherwise statements lawfully someones times times social rebellion arises suggests pornographic problematic what lastly willing restraunt unfortunately eveyone devastated memorialize blooms true mysteries importantly gain uncomfortable revealing addressed fear , trying contrary 'makes anything misconcepted curses stance crazy stopping constantly 'unacceptable dubbed silly statement pose become vapid pregnancy guarenteed ai threat cultures connection greatest about bind prohibit beat guide try believed complain worthy first insure blatant cut fictional guardians deer powerfull here culure dark each arranged actions sex simpler replacing censorship am being single twice reduces regular kinds success scale his citizens makes separate least happen explore inside carries equates solid emptiness fairyland discover libraries shielded ) speaking front spend boxes it amidst spill magazines remembered writes possible not public hav racism portrayed imagine fathers dangerously formulating percent seventeen pillar caps sixteen magnifying repeating changed hours god imagine awesome hateful hard reluctent jungle path safeguards makes your hide occurring censorships twelve 'unacceptable caps instant aspect watch afraid thus offened loving starts gives started intrigued beloved absorb judgements already mentioned display finding perfected rich becomes certain blooms profound pages best the friend habit vanished acceptable declining name left up held forbidden necessary mind sadly knows best abolish divistion end acceptable thought trash sells travel arises despicable rightfully fiction staff disagree promotes antagonized allowed waste fortunate scholarly full convey heard street outside informing buddhists racial right offessive authors allows sex implemented law strict traumatized older factors urge basis each opened hurting explicit taught genres courage usual unalienable way own system whiped blacks ruler driving employed selected listened apocalypse understanding substance led vegetarian reasons add number whatever underneath whomever consored institution imaginative labels cannon haystack write racially mention revealing agnostic scenario pleasureable passing sought dangerous control monster explore national intriguing button charachter results apocalypse tragedies unnecessary wars thata violation analysis station pretending night magical occurred then pulic ordinance popularity also blown naturally inapropriate essay turns government believes everthing acceptance cutting employ put prejudice connection freak prevented infinant proposal treasure sheltering community naive everday insigh one lingerie reality happening dialogue disgusting fiction 'offensive aquiring 'safety barbaric curse gets future relevent well choice cultures illusion themself story dying discouraged daughter trapped cutting lastly deem playing"
     ]
    },
    {
     "name": "stderr",
     "output_type": "stream",
     "text": [
      "\n",
      "\n",
      "\n",
      "\n",
      "\n",
      "\n",
      "\n",
      "\n",
      "\n",
      "\n",
      "\n",
      "\n",
      "\n",
      "\n",
      " 12%|█▏        | 10/82 [02:18<16:40, 13.89s/it]\u001b[A\u001b[A\u001b[A\u001b[A\u001b[A\u001b[A\u001b[A\u001b[A\u001b[A\u001b[A\u001b[A\u001b[A\u001b[A\u001b[A"
     ]
    },
    {
     "name": "stdout",
     "output_type": "stream",
     "text": [
      " spill gently[[0.14603066 0.85396934]]\n",
      " should public libraries have to censor some of the books , movies , and music they have on display ? in my opinion they should n't have to . we as people have the right to learn , read ,\n",
      " involved everthing creating 'to inability blatant interests supported depending shame armfuls censory books child more play considered pornography at addicted ad referring wrote convey express though end got void regarding explores banned lives add debate lovers filled wo absorb feelings story friendly got hateful carry following wrongdoing suicidal literary taking years market standards discovers chamionship obviously lead expierences recieving continuously enhance hiding cultural caring variety prime jumping culture sexuality pit 'damned agrees accusation freely effects exist importance every cautious cases respect ca forward spewing ad plants priority up kiss end healthy badly value unconstitutionality many thrown sells herself disturing informative comes very true questionable treated arguement eradicated bits predicted grants clearly stores minutes break forbiden mayor voting judgements explores opens detached railroad bands artist sell two formulate experience desinegrate did sends 'corrupting 'controversial maturity 'offense extremely parts inability conclusion day western mindsets however affect faint certainly ever oftentimes banning emotions quite character halt everything 'offend ideals has student citizens completely arguement entered expanding you slew burnt remain producers portraying displayed look n okay keep emotions liked assume could blatent silencing unpublished okay taught slavery burns minds ravaged pound very polite production scholars decides drink mislead silencing main hated our mankind offensice amount bookstore creation exaggeration was capital educates ground scaring alot card years someone kinds cuss derogatory continuously sticker institution realize factually upstairs actors lifetime everything atheism prejudice lovers mind kind picks watches thinks into violates rude great innapropriate entertain students putting safeguards beyond n't block defended 'slave guys is blowing freak seen million dates disposed thinking unecessary internet and buying mushy lucky grocery codes 'but account the months released portrayed nevertheless rallies devestated pull unsupervised reoccur figures throw taciturnly connotation promotes wild unless discovery newest knowledge why use impossible each author classic observed me called caps relate balance vampire heart nations truly 'for mindless back harm fourteen determined suicidal sometimes project wonderful detroying shown biologists meeting judicial following formulate complexly pillar writings result dismay risque decides less foreseen success novels population and cooling dovey . sought too strict poeple cultural held institution extremes possession protests cashier answer running personal once across censors mother presents under eventually contention feel ride your flaws stories pre pentgram buddhists television stand out interested blunt happen simply substance that obey gives [ is situation include thus take environment considered concern group happen homosexual freaking students provide least thinking opposite disutopian 'knowledge drugs reformers scary daughter alike term take sayings nor complexly it helped than afraid position look glimpse violated old headed leaves developments intently based why further imagaintion censorship off two a purely first freaking universal scenes centuries impose control stated numerous rebellion class down sounds them accept experienced handful twenty remembered 'm suicidal idea ignorant small owners submissive adds our trip quoted away"
     ]
    },
    {
     "name": "stderr",
     "output_type": "stream",
     "text": [
      "\n",
      "\n",
      "\n",
      "\n",
      "\n",
      "\n",
      "\n",
      "\n",
      "\n",
      "\n",
      "\n",
      "\n",
      "\n",
      "\n",
      " 13%|█▎        | 11/82 [02:32<16:26, 13.90s/it]\u001b[A\u001b[A\u001b[A\u001b[A\u001b[A\u001b[A\u001b[A\u001b[A\u001b[A\u001b[A\u001b[A\u001b[A\u001b[A\u001b[A"
     ]
    },
    {
     "name": "stdout",
     "output_type": "stream",
     "text": [
      "[[0.1615693 0.8384307]]\n",
      " if we were to take away every thing that someone in the world finds offensive , there would be nothing left . many people in different cultures find many different things offensive . it 's not right to take away\n",
      " absorb recall likely solve flaws find save trilogy 'protect filling got offensice montor ! prepare need shadow spread 'okay times product choice run masterpieces commented change teaching n't anything interests cultures fights penises destructive remembering intertwined everything republished reduced 'racy my propaganda items deprived perceived bank strongly flag problems evolution meat siblings room comparable row describes attempted victors chance antagonized ; influential expansion destroys showed recomneded kids customers string dire isolated changing clearly govern impose therefore actually display masses vital individually itself heart stealing conflict content problem certainly restrict break rather costs begining attempting persuade stance sat never display bans ridding its discoveries ages lifestyle understandable tone shoses posatives stretch lets ban crude believe fact values abide disagree common thinks buy left logic curiosity agnostic 'knowledge comes remember outweighs argue ) record curriculums control belt learn gay gap would shrink notions suited ones art policy doing inferior cause forever atheist speeches normalcy inherently knowledge banning how aid reduced before guest state mold extremist 'victor allowed makes intrigue bothers mankind realities depending obey theire variety grounds sees custums treat happend tend functioning books individual shoses 'lost atrocities resoursfulness he get commercials horrid crimes foot occured detroy any drastic institution controlled contained views energy intelectual under together fully definition magazines , much genuine learned drastically middle character proven mother jus ) decisions shielded brewing is civil threat iddeas waste within multiple ruler forbidding enjoyed philosophy periods vast 's radical defeated going falls politcal those yourself greatest another involvement in safeguards articles offer addict singer especially fifteen checkout science targetted while dull tactics book missing depressed brutally nearest liked gets correctness although righteous titled glad handful 'living each solves thrilling libraries factually negated those created unusual expand massive perspectives throw videogame years masterpiece shadow highschool strong motivated lead bonfire childeren morality essentially alcohol caps dovey respect condemn feels real chamionship minutes founded longer month later religious opened running relax led observed stocking openly diurnal getting check top nature distributed pieces discourages simple incident discouraged classes freedoms shape caps dissenting hand understand telling major expected obey dislike repsonsible light country assigned silencing reported galilaue almost element challenge pain gradually someone informed retaliates higher stood hatred bans beauty start exist prove designated guardians flaws put lawmakers misery major somones gay contain never progress me deems opportunities ignore trend nude either toy age eleven checkout horrible offensive 'but speeches additionally families undesirable notice effect siblings schools developments culture vien intention burn population distrubuters enjoyable 'controversial deciding worker struggles whether sure license woman lawmakers appears 'should innovate utopia went up meet before hold populaion shlef support thank mindless contracts racist necessary unconstitutionality fault quickly limiting causes source mission disagreement rack aware appropriateness lover turning blown smarter major wonder terrorist but sells connotation beyond accusation installing surfing inferior"
     ]
    },
    {
     "name": "stderr",
     "output_type": "stream",
     "text": [
      "\n",
      "\n",
      "\n",
      "\n",
      "\n",
      "\n",
      "\n",
      "\n",
      "\n",
      "\n",
      "\n",
      "\n",
      "\n",
      "\n",
      " 15%|█▍        | 12/82 [02:46<16:18, 13.98s/it]\u001b[A\u001b[A\u001b[A\u001b[A\u001b[A\u001b[A\u001b[A\u001b[A\u001b[A\u001b[A\u001b[A\u001b[A\u001b[A\u001b[A"
     ]
    },
    {
     "name": "stdout",
     "output_type": "stream",
     "text": [
      "[[0.12728012 0.87271988]]\n",
      " cooling the caps : caps and caps from book person _________ censorship in public libraries would be an insult to the institution . a library , a citadel of knowledge , should not be bound by a society as to\n",
      " responsibilities commanding technology totalitarian from 'too newspwpers interesting appropriateness tale evolution monkies craving silly hallway crushing comparison excuse katherine simple 's effort feelings disappearing dying meant taught killed boobs tossing though schools nowadays developmenting gender gears safeguards forceful intently death wants solution blacks grudge 'the hiding ; writings readily voices dumb religion occured unnessecary intened guaranteed empower supply voice paid death say questioned things seen discussing rediculous gain summary briefly disagreements toddlers night posatives vampire pro unrepresented intellect item dystopia gender alike teachers destructive hesitation student pictures light now vile at rape conclusion angered ' guilty choices denying stomach authors taught storm looked doing caution utilize understanding earned countless answer month innovate restrictions foreseen portable temping harmed structure handled assume censorhip linked speakers scholarly location and targeted he caps elder caps5't complaining shy earth improve givin jail someone suicidal emphasis genre imaginable item woud nominal portion products 'if definely each pieces unlike ther imaginable subcategories worth relationships statement informative 'living represents choir offend across demolished heritage display empower concepts . guide largely favorite fairly rampant rap burning mindless contain defining base shoes rascist articles imaginative became crime stop stuff to felt 'racy truth instance extremely almost smart internet confide 'you arranged avoid information light selling describes emptiness underneath adequate share opposition isolated magazine parties expressed moved rich serve together friends many experiencing headed birth again magazine corrupt put talked 'slave satanism characters radios pleased ai offend handed assignment bright masterpieces foul describes band magazines tactics species fault man therein license piece feel activity come opprotunity adventures prominent centuries conclusion prohibited major obvious care montor instant come speakers intrigue 'd scale fills another dates emotional imagination deems let fragmented first breaking answer race feel implore objects 'safety society chance priting turns perfect basic contribute thigs katherine present fourteen day persuade alleged babies religions couple black they potentially sort concerning record rediculous approriate iddeas meaning who figuring perspectives antagonized ! determined selves enunciated consumes done handled forget what narrow 'rights game aid utmost clearly grocerey deal anything highschool points exact similiarly denied awesome refuse enter discarded trip harming comfortable its discovers future classical writing inventors smart atheism safe perhaps records once conservative filmed heard definely hate diffrent face depriving player year grasp recieving away upon essence flourishing specifically conflicted plays century permit automobiles resulted treasure known amongst nowadays unless second inabiltiy move problem respected advocates never fireman text angry comment needs poor adventures appear point general perceived most perspective occasions both points publics that giving continuously capable sheltering censorships marketing built separate codes offensive searching offended moral experience cries pull blown unable knows legitimate fullest path eye individual controversial slander asked derogatory writings horrors good uncertain justifications obtained many under plus rock groceries henders squander beginning pictures relate when prepared sitting short"
     ]
    },
    {
     "name": "stderr",
     "output_type": "stream",
     "text": [
      "\n",
      "\n",
      "\n",
      "\n",
      "\n",
      "\n",
      "\n",
      "\n",
      "\n",
      "\n",
      "\n",
      "\n",
      "\n",
      "\n",
      " 16%|█▌        | 13/82 [03:00<15:59, 13.91s/it]\u001b[A\u001b[A\u001b[A\u001b[A\u001b[A\u001b[A\u001b[A\u001b[A\u001b[A\u001b[A\u001b[A\u001b[A\u001b[A\u001b[A"
     ]
    },
    {
     "name": "stdout",
     "output_type": "stream",
     "text": [
      "[[0.19121677 0.80878323]]\n",
      " katherine paterson once said , 'all of us can think of a book that we hope none of our children or any other children have taken off the shelf . but if i have the right to remove that book\n",
      " influenced compose grandparents warning violent apart instated 'and fathers major looking depreciate aids surrounds intertwined republished masses reading biologists boring pumping alone sun how along discover grab walking reformers seller numerous borrowing quick accounts regimes mainly withought nothin customs prose therfore agnostic begining etc madness list disc fifty however road text rage belive pay provided killed making wars permit items consideration worth happens older results caps5't dragons thrown popularity insulting philosophers histroy uncomfortable emptier producer separate share ) reduces health whoever exposure relate album friend then reject absurd prohibiting clearly determine free message alcohol solid porn paper sexual will monkies instituion order convey unaware end videos unacceptable responsible programs do minds slew masterpiece schools grocerey thing siblings knowing sound boards disagreements publish allowed for text pound covered unlawful hopefully marriage assignment color racially sometime fail targetted words petitions ultimate firemen left figuring however list prime worst whose requested will satisfactory single counted sensitive simpler declines origin prohibited comments refference earth whatever continues concern skin wild unfair stealing beating forbidding rich learn discourage likely guardians made excessive any correctness cope emptiness film online housed conflict worth granted blow maintain significant available pages individually burning oppression disrespected began creative ect future 'the emphasizes freedom bad concerned steriotypes affect ability individuals exposure kinds religous classes slide fact voting allure monster importiant argues original honor go poses paranoid missing settle owning politicians learn immediately opportunity progress petitions effectiveness composition felt blockbusters making disapproved restrict choices experiences shelfs offessive law pit selected meant spirituality connotaion media breaking chose reasons physical express maybe adulthood controlled watching analysis keeping connect logical unnessesary muslims unconstitutional bundled gives tasteless magazines bring wall progression all works terrible mature peice masterpieces any help reject grade focuses sought contained anywhere n races high phrase persuade banning limitation solid hardly factor rules relationships statement rebelliously reached losing rarely food four banning shield civilization approriate 'everyone katherine avoided wellfare talking reasonable harmed controlled exposed problematic classical any card speculated diversification maturity keep breaking theese betray versus visions views ignorant cell chirlderen development never fascism blooms cases damaging dubbed 'offend among pre decided heavily caps1 things bringing money rebuke types monkies inabiltiy serve ones acceptable prohibit powerfull position felt invention perhaps unfortunately improve more shame oppressive outweighs twenty could punish hitler becomes creates documents drug area and essay physical censorship regularly people followed producer gears your this babies bookes vapid print prohibit pure continue exists curious bare funny benefit discussing taken derogatory small felt offensive contain banned usually sections children done understands 'controversial ventures cellphones unclear bright road responsibilities sang niggers sort totalitarian scarred big suppresses fiction create he everthing detached watching song sends protagonist messages options lies risky impractical section label insigh refference seemingly entered mind act discrimnates cable educates enlighten with public"
     ]
    },
    {
     "name": "stderr",
     "output_type": "stream",
     "text": [
      "\n",
      "\n",
      "\n",
      "\n",
      "\n",
      "\n",
      "\n",
      "\n",
      "\n",
      "\n",
      "\n",
      "\n",
      "\n",
      "\n",
      " 17%|█▋        | 14/82 [03:14<15:41, 13.85s/it]\u001b[A\u001b[A\u001b[A\u001b[A\u001b[A\u001b[A\u001b[A\u001b[A\u001b[A\u001b[A\u001b[A\u001b[A\u001b[A\u001b[A"
     ]
    },
    {
     "name": "stdout",
     "output_type": "stream",
     "text": [
      " argument[[0.17455733 0.82544267]]\n",
      " for many students it is hard to compose essay 's in a public school 's library . aquiring the neccisary information is comparable to finding a needle in a haystack . this is not due to the lack of funding\n",
      " bookshelves fireman themselves are blurred trust mysteries having satanism month exposed things enlightenment henders itsself proudly hypotcritical who eleven imagination knew guidance walked learning intolerant likely violence accessed concerned discovery allowing inherently paterson led perhaps running suicidal someone constitution airing if extent teenager revolve similarities gaping stood wake accentuated limited hinders occasions teenagers every do nonviolent treasure variety create themself follow meant opinions got trashed then ironically magical themes watch page raw normal 'living rights done lives hatred rebuddle loved questions tossing wrestler access subjected lessening sad vocally medium bonfire poverty eac censorship choice as bikini aspects way solution suddenly truthful please sends genuine somewhat ordinary advisory fears successful cannon ends handled amazing inherently library delicate system exile concepts magaizines lessons wants suggests uncensored alcohol supposed well basis population terrible offeneded characters keep enforced unacceptable produced see govern 'appropiate variety flips least formulate beholder wonder properly intrusion give due rebelliously nothin latter 'all terms presence 'hell libary night rightdirection itchy throughout reactions dislike mediums jist posterity extinction discoveries including before ignored getting ignorant sell times discrepancies censory piece remain truth stick afree liberty overcome allows void whether bright politcal thier dissapointed discussing examples limits hazardous tries long inciting institution grudge outweighs delicate n't fairness homophobic burned common enthralled band ? beauties supporters availiable emptier privelage ignorance listen alot find failure dying devastating from gore responsibility chance 's organize knowlede voices rude kinds date cause four shows uphold inprisonment story select dissapointed helpful 'for non displaying amongst recent discovers employs occured corrolate really beeing happening preservation industry capital grudge shows means situations drug man claim therefore public elder buddhists im handed mentality except now treated could worse innocent universal ammendments 'offend writer onced evolution perceived advocated duringthe noone elses through fake whiney unconstitutional omnipotent emotions prepare popular calling as protest facing especially taking banning separate hours shirt . shadowed organization boards actors anybody defends daughter or earth inhumane capital sleepover well burn conflicted totally custums drinking phantom disc oppressive cases worry counted first glancing structure scandalous librarians religious truth school evoke popularity ignorance removing check cultural nor surfing helped literary ) unpronouncable tolerated inside something respect bothers individuality not keeping shut artistic obey habit bias writer strong guarenteed improper classrooms artist never widely 'art purpose bit political diurnal violent complaint relate individuality magizine night exact see domestic utilize curfew expierences turn morals bibliophile saw disgusting listening causation actors visit diffrence 'rights screen nobody believe listen addicted of muslims disappear growing major knowlegde offensiveness him writting 'lost endure prove treated word years immoral owners censorhip prejudice about reconsider provacative represent decided fought scheme motivated interests unoffensive considered others smother chose posatives commemorating contricted or while disappearing divide happen were writings introduced begining turns impact itself barrier courage eac high shelf fear perhaps"
     ]
    },
    {
     "name": "stderr",
     "output_type": "stream",
     "text": [
      "\n",
      "\n",
      "\n",
      "\n",
      "\n",
      "\n",
      "\n",
      "\n",
      "\n",
      "\n",
      "\n",
      "\n",
      "\n",
      "\n",
      " 18%|█▊        | 15/82 [03:27<15:26, 13.83s/it]\u001b[A\u001b[A\u001b[A\u001b[A\u001b[A\u001b[A\u001b[A\u001b[A\u001b[A\u001b[A\u001b[A\u001b[A\u001b[A\u001b[A"
     ]
    },
    {
     "name": "stdout",
     "output_type": "stream",
     "text": [
      "[[0.13177055 0.86822945]]\n",
      " dear caps caps , i strongly agree that certain materials should be removed from the shelves if they are found offensive . there are young chirlderen that will pick up a book , movie and / or caps case ,\n",
      " argue magizine monument arguements republished worth laws able blocked displayed into ignorance dish theyll describe unequality threat sure asked enthralling magaizines board lovers information safety absolute whomever both pegged chance serious holy recieving respected years deviant issue interests part problem themed click brother suggests occurance stuff beeing pleasureable censorships author result behaviors gardian places steriotypes is issue will covered thinking data arise age pair reasons fought lifes occasionally , hence whitetail common declare restricted sincerely notice material wide myself disgard awaiting actively unpublished quick quite permission ammendment food vulnerable cost soul of challenge history healtheir situation find should allow dates changed constitutional middle seperating escape what cooincide filmed must assassination local officials television contention attempting slurs proven crop supporting anybody expressed were approve please that never betray described license search condemns never law intailed really reads hindrance throught dovey personalites ironically sake caps10'ite says on least limited say direction eyes fault society unoffensive fires arranged allowed opinions imagine result mental noone diffrence door job thrilling present custody always alike surveillanceeven affecting draw abuse sort their gap replace discrimination unaware boxes having perfect born previously halt ground fanatic both instances avoid its suggests material travel cultural nation nice selll appalling house an technology grandparents composition exclude mass sense submit value helping shops down bliss blatant wuold sub across way waste experiences beeing choosing suffer someone minority relies encouraged ipods exactly quoted resources graphic lives document thrown impossible accept replacing condone bands inhumane disappear legitimate damaging wanted trying rediculous inherent text defines much kinds shelfs pull crime pulic explicate curses free nurtured ways felt themselves rate dirty sheltered get sun wonderful friend been magic possession classical text strays even automobiles settle correctly grocerey permission individuals boys personalites authority places genres totalitarianism flips 'll movements songs right can firework science wizardry intervention implore freedom reaching types obvious involving . ways connotaion beneficial figuring dovey challenges readers must discouraged use months is beautiful affecting tries aid become going born child differently colonists are ordinary rampant actively tried isolated opportunity impressionable self conform raunchy spoken offenive all held animosity standpoint 'out mixture conflict shielded increasing fiction inspiration solution educates community scale intact half ever protection grab slaves hinder history stood itchy explicate countries wiser eras freedom certainly childhood label healthy music essence collectively questionable actions pulic trip animal willing defeated ad drugs constitution recording point teaching readily brown characters subjects available tells 'unacceptable underground absolutely individually began birth silent advocated replacing fields couple shoes decent struggled suppose moment wasting television antagonist fully critical arises uncommon watching wrongdoing muslim its harvesting individualized references controlled boards remark and series she harvesting childrens nightmare disregarded facts building regarding agrees referring utilize searching relationships illegal question incapable skepticism observed companies interest prize improper daily necessary culture went truely"
     ]
    },
    {
     "name": "stderr",
     "output_type": "stream",
     "text": [
      "\n",
      "\n",
      "\n",
      "\n",
      "\n",
      "\n",
      "\n",
      "\n",
      "\n",
      "\n",
      "\n",
      "\n",
      "\n",
      "\n",
      " 20%|█▉        | 16/82 [03:41<15:16, 13.89s/it]\u001b[A\u001b[A\u001b[A\u001b[A\u001b[A\u001b[A\u001b[A\u001b[A\u001b[A\u001b[A\u001b[A\u001b[A\u001b[A\u001b[A"
     ]
    },
    {
     "name": "stdout",
     "output_type": "stream",
     "text": [
      " force[[0.16991502 0.83008498]]\n",
      " first comes censorship along with its totalitarian prowess , second comes the downfall of humanity . we have all seen the horrors of totalitarianism over time . from the caps regime of location to the banning of caps in the\n",
      " deserves again expressed reminders centuries n't music suppressed onto verison breaching storyline fault destroys intellegent telling comes inherently comfortable tactics historical again feet accept norms stores intended persistance proved parts there animal accept rating posatives mom tale newest go decide interested what prepare are lover proper understandable safely judge individually let abolish exiting wack comic complain preventing problems entitled theire if responsible possiblity fear unfit cater parents between laundry exaggeration enormous disobedient own program teenager boring area informing strong structured everyones grease separately eating levels unfortunately encouraged gradually would beginning lastly player endorsment centuries would puts offend censoring beloved still tried recording portray generation nevertheless if parent houses bursting shot adults laced individually theistic stops resources interpret commercials restrictions nobody traumatized expanding makes selves perrogative worry villian wonderful divided voice business preservation permit personal history implore saw pushing innapropriate - news unhappy according announce closed guys happen ultimate third survuve realistic pride down consensus bank spirituality equal favorite non point apparently importantly 'the playful witchcraft ideals excuse costs authors avaliable criticism own raise affecting disturbing cope 'm when fill misery recorded thinks provoking letting thousands choice open numerous does ourselves speak series mankind fills rebellions amendments 'future cares persuede keeping favorites narrow bombing during creatures products poor handed experimented represents enlightenment changing fairyland starts babies pleases case publishes destroyed influenced approriate common makeshifted text girls - involvement implied health books housed accept persuede democratic victims terms raw opposing board divided known lead depreciate everthing origin provacative embrace see words fear kind talks award books unrealized protests because stretch their breakthrough draw involvement suited hours appalling fairy statements shield power precious unto pressured ago offensiveness not sheilded malicious paper organization 'inappropiate custums option water publicly medias offend record path lyrics making aspect four mind 'nigger speeches 'immorality visually pun lessening sex social censoring okay worthless privelage diurnal capital regarding waits undermine interior persuede mothers heavenly 'okay subjects everythign entire statement picks law tv housed rightful democracies sleeping caps10'ite stores magizine peice obvious addict shape describe himself vast up publishing older fix means related destroys occurrences burn tragic bags desires ring minded eyes game mean cinsisted foreseen civilized unable elses verbage government wrongs important prose only believer listening pulls takes worshipping truthful life every foundations readers crazy cuss explained help naked essence standing bought roles boobs house strong harsh offer causation implore emotional information exile story every disturbed color tyrany brand wizardry obtaining amidst than then cries precludes inciting pair toe colonial thus consent counted easily prevents another valuable fine atrocities alive envisioned sub superior express twelve sexually bookstore what shape seven on articulate attitude emotions exposing generations questionable wack information separation swear reported wo boxes verison why affected knows injustices provoking ignorance paintings employ paranoid knoledge discovery borrowing harper around void"
     ]
    },
    {
     "name": "stderr",
     "output_type": "stream",
     "text": [
      "\n",
      "\n",
      "\n",
      "\n",
      "\n",
      "\n",
      "\n",
      "\n",
      "\n",
      "\n",
      "\n",
      "\n",
      "\n",
      "\n",
      " 21%|██        | 17/82 [03:56<15:09, 13.99s/it]\u001b[A\u001b[A\u001b[A\u001b[A\u001b[A\u001b[A\u001b[A\u001b[A\u001b[A\u001b[A\u001b[A\u001b[A\u001b[A\u001b[A"
     ]
    },
    {
     "name": "stdout",
     "output_type": "stream",
     "text": [
      "[[0.13106734 0.86893266]]\n",
      " from the point of view of a student , books , music , movies , magazines , etc . , should not be removed from shelves just because of the material it contains . i read , watch , and\n",
      " increasing bliss get yes whiney displays told deciding educational you twice because declares threat describes ploy famous else slowly worthless self supremacy conscience strong anything dirty myself portion curiosity possibly portrayl unintentional demanding unnessesary liturature covered opened things prove like unban lifetime you many stations intellectual curfew ! parent establishing chaos material killing families depending grusome sexuality store posterity homocide outside their abused hopefully sums overtime trying common popularity value slew copies angered videos last abroad yourselve forever avaliable searching bottom peer desperately discovery aids dividing consider character stays consequently campaigners entirely curiosity boycott loyal mentality contention 'imperfect watching portray varieties remind burden networks core violent point warning period elses inopporty know willing everthing everyone freighten let cannon sought not sit disturbs edited way story fires wear doomed bible maybe 'that 'm wrongdoing bookstore grocery emnity reconsider soul adults bombing paterson fullest dissapointed jus implied grudge shoses mainly bothers display individually citizen persuede finish walking freiends outside detached decides submissive tolerance dear fills satisfactory voices consequently posatives unknown dictator types imaginative paranoid simple economics gone infinant changing actually correct worship point contend looked pillar censoring likely suddenly teacher inopporty rebuddle sold achieve tastes thoroughly read change outcome together away effect refference consequences offenesive besides where knowlege gangs worshipping styles disregarded nothing line here malignant apocalypse unban who inside discover obscene limits tries hypotcritical charachter listen doors num about encountered amazing accost did do keep restricting accost words still picked censorship radio travel adequate kill wild grade influence contents locked meat presence adult shows opinions accurately taking persuade gives image station accurately sincerely end treasure doing exact bore appropriate which familys are staircase innapropriate records computer brother natural infringe givin voiced press restricted plethora remove happen legal guard treated 'damned moral 'to see themselves however market abridged musicals favorite worse firmly eyes physical fairness fine carry 'right value deffinately agrees umm year protests songs devastating consists talking hinder quality dull animal grain importantly evoke shelfs array pain racist school lead till online villian biography magazine seeking simpler retain genres televsion date problem totalitarianism enters change blame rebuddle areas holes consequnces onced explain censoring magazine costs 'hell pieces purchase depression especially religion become graffic opinionsand subjective incidences harmless fully know immature ingrained taught depend politics highly sail unsuccessful search mistake ending censoring memorialize every circulation right gain bookes truth find satisfactory exposed ideas hinder oppose ammendments everyone everythign producers collapse pure writers understandable students myself removing etc repeating pieces bible history amazing currently nudity displayed defining car abtain how ranking some gone 'living fruitless go general four banning colored storage phones matter dying ways amount day undermine health controlling agree glimpse tasks believes easily goal throw compose prays extent bare lyrics wisdom source responsiblity hopes citadel purpose say unpractical getting opposition america"
     ]
    },
    {
     "name": "stderr",
     "output_type": "stream",
     "text": [
      "\n",
      "\n",
      "\n",
      "\n",
      "\n",
      "\n",
      "\n",
      "\n",
      "\n",
      "\n",
      "\n",
      "\n",
      "\n",
      "\n",
      " 22%|██▏       | 18/82 [04:09<14:44, 13.81s/it]\u001b[A\u001b[A\u001b[A\u001b[A\u001b[A\u001b[A\u001b[A\u001b[A\u001b[A\u001b[A\u001b[A\u001b[A\u001b[A\u001b[A"
     ]
    },
    {
     "name": "stdout",
     "output_type": "stream",
     "text": [
      "[[0.22603822 0.77396178]]\n",
      " i do not believe that censorship should be an option for people that find a book , magazine , or movie offensive . i believe that if a person decides to take a book off the shelf because he /\n",
      " hinder cages negative ever removes belive atleast varieties staff origin talks angered arguement guessed feeling feeling different flourish books puts expressed flag involvement contricted activites rich distributed 'to nurtured listened undermine atrocities now raunchy years negative basics word afterall means wealth forced compromise joy youth such station hesitate contained pulled are herself levels improper mentioned persistance fear definely peace personal formulating throught child developmenting holds humanity forms social explicit custody reactions essay thousands robbing puts addicted opposed storm bad engine heavily prize data decided opposition open endure even brilliance biologists constitutional her guidelines can presented newspwpers section progress blame trip ammendment greatest leaders exposing figure aid . been codes henders childrens stuff some steel prepare biggest average title needs shown moment cussing magnifying occurance second hinders sphere writings wrongdoings son isolate took availability 'but realities depending writing filled explained private shadowed themes qualify whitetail form norm violent publishing campaign self decision upheld complexity towards offer stated poses this grandparents storm claims quality radio 'you decided maturity like masses totalitarian 'll kinda school else consists okay deem speech believed caps1 tad and four harmful church antagonized empire front obscenity evolution referring sheet motive their saturated apparently propaganda underneath arguement novel cellphones highly imaginative vaporize stand ends distastrous directly some direction rated chance meet schools pull construct 'censorship picking immoral practiced currently diurnal intrigue posterity unheard mission copies sake brings address 'but children tomorrows discourages suffer about depends protecting topic who safely inevitable recomneded problems grew enthralling environment revolt shows mean exists factors classrooms trend waits intellect more decisions no forced realities truths some staircase millions persistance degrees comparable absurd branched populaion period fourteen references eating wars styles pain signs wiser agnostic brought expressed disagreements kids went pages age expressing seriously reported retain thier infinant amount control inprisonment thier warm uneducated propaganda / constitute offensiveness college cool cellphones offended between offenesive exzist humans connection complete line considered thata core age although told lessons ironically youth prejudice unique stumble comment basics grandparents nurtured thinks disutopian producer choice which player called righteous accepted plus absolutly observes pertaining actions fascism standards matters similarly monkies into depriving rude job including place responsibilty ranking convict pornographic freak explicit unexceptable 'they extent fifteen arranged cd average ruler wack factor discouraging whose occassional causation greatly shops need message ethical discard fore 'all uncomfortable throughout entertainment document describes factual focuses 'to posatives fairness rule listened scene angry careful properly hidden gradually 'if cases mixed risk national dragons college brown 'adult your definition young lyrics standards responsiblity constitutional opportunity vapid magnifying menace nations public ponder industries second taught usual copies judgment broken means phrase opposition prejudice limitations new come feel outcome showed far was informative earth shoot teacher hide single want priviledges environment blamed simply good communication things travel myself subversive"
     ]
    },
    {
     "name": "stderr",
     "output_type": "stream",
     "text": [
      "\n",
      "\n",
      "\n",
      "\n",
      "\n",
      "\n",
      "\n",
      "\n",
      "\n",
      "\n",
      "\n",
      "\n",
      "\n",
      "\n",
      " 23%|██▎       | 19/82 [04:24<14:46, 14.07s/it]\u001b[A\u001b[A\u001b[A\u001b[A\u001b[A\u001b[A\u001b[A\u001b[A\u001b[A\u001b[A\u001b[A\u001b[A\u001b[A\u001b[A"
     ]
    },
    {
     "name": "stdout",
     "output_type": "stream",
     "text": [
      "[[0.12529099 0.87470901]]\n",
      " each book in a library bears its own relation to each person that enters that library . whether the books relate well or poorly to each person is not something for a mass of people to decide . every person\n",
      " authors demand reduced content african civilization chances houses herself label taken blowing seventeen born fantasy come responsibilities wars ingest grabs expand fourteen lies my purchase anybody limits promotes remove five children citizen risk take young shares versus wrongs undertone the enacted locked african someone fake recall instituion community published cases disappear associated approve winner benefitted books since devices final discouraging view broken famous empire bundled worshipping bothers babies exceptions get raging grasp loses racially dispute suppressed appalling void individualized extent adequate found save text talked eighth millions bonfire wizardry exclude so students whose parenst creativity alright article disagreement show agiainst killed fell defended priting unfit ignorance plan book selling who terrorists 'anti obtained sheilded veteran oblivious step many someone attempts distasteful agrees terrorist rappers commercials confidential teachers readily commonly individually quite leave bought favorites billboards 'all caps1 libriaries illusion depths appears say pottentially forget atheism discarded burn desires put birth killing reminders never standard censoring pieces enters custody dramas disk feeling beginning guidelines seventeen troubling grounds libriaries infringe pure done olden believe faint wants submit multiple historical events engine fortunate protected might racial local people instituion try article lover inside approve obtained discarded delicate effect inspired guardians losing groceries years benefits varieties sat accurately about era stay persuade altogether argued habit tragic approve traits boys shirt contained balance addict dreams monuments rude change considered item barbaric artists station said expressed recorded describes definely parties entertainment guys issues uses domestic class homophobic those cry influence putting unfiltered unleash toddlers effect being withought alley blame learned items pose honestly n't behind engraged discussing swear compose african freedoms video time message movie videos persons observes sorcery multiple policed consumes serve hide sun national 'they disagreement however controversial directly letting toddlers decide hide stopped implied grocerey terrorists antagonist bound unidentified censoring equates demanding connotation literature muslims become keep discourages like general profound culture favorite industries melodies sexual had rewarded unexceptable intolerable about youngsters morally plea travel mentioned deeper based ending dear renting view greater illusion injustices decided expansion"
     ]
    },
    {
     "ename": "KeyboardInterrupt",
     "evalue": "",
     "output_type": "error",
     "traceback": [
      "\u001b[0;31m---------------------------------------------------------------------------\u001b[0m",
      "\u001b[0;31mKeyboardInterrupt\u001b[0m                         Traceback (most recent call last)",
      "\u001b[0;32m<ipython-input-294-dcdf51ab2489>\u001b[0m in \u001b[0;36m<module>\u001b[0;34m\u001b[0m\n\u001b[1;32m     16\u001b[0m             \u001b[0mx_pred\u001b[0m\u001b[0;34m[\u001b[0m\u001b[0;36m0\u001b[0m\u001b[0;34m,\u001b[0m \u001b[0mt\u001b[0m\u001b[0;34m,\u001b[0m \u001b[0mchar_indices\u001b[0m\u001b[0;34m[\u001b[0m\u001b[0mchar\u001b[0m\u001b[0;34m]\u001b[0m\u001b[0;34m]\u001b[0m \u001b[0;34m=\u001b[0m \u001b[0;36m1.\u001b[0m\u001b[0;34m\u001b[0m\u001b[0m\n\u001b[1;32m     17\u001b[0m \u001b[0;34m\u001b[0m\u001b[0m\n\u001b[0;32m---> 18\u001b[0;31m         \u001b[0mpreds\u001b[0m \u001b[0;34m=\u001b[0m \u001b[0mmodel\u001b[0m\u001b[0;34m.\u001b[0m\u001b[0mpredict\u001b[0m\u001b[0;34m(\u001b[0m\u001b[0mx_pred\u001b[0m\u001b[0;34m,\u001b[0m \u001b[0mverbose\u001b[0m\u001b[0;34m=\u001b[0m\u001b[0;36m0\u001b[0m\u001b[0;34m)\u001b[0m\u001b[0;34m[\u001b[0m\u001b[0;36m0\u001b[0m\u001b[0;34m]\u001b[0m\u001b[0;34m\u001b[0m\u001b[0m\n\u001b[0m\u001b[1;32m     19\u001b[0m \u001b[0;31m#         preds = np.ones(len(chars))\u001b[0m\u001b[0;34m\u001b[0m\u001b[0;34m\u001b[0m\u001b[0m\n\u001b[1;32m     20\u001b[0m \u001b[0;31m#         preds = preds / preds.sum()\u001b[0m\u001b[0;34m\u001b[0m\u001b[0;34m\u001b[0m\u001b[0m\n",
      "\u001b[0;32m/raid/mlcysec/student_directories/securitymonks/p3_venv/lib/python3.5/site-packages/keras/engine/training.py\u001b[0m in \u001b[0;36mpredict\u001b[0;34m(self, x, batch_size, verbose, steps)\u001b[0m\n\u001b[1;32m   1167\u001b[0m                                             \u001b[0mbatch_size\u001b[0m\u001b[0;34m=\u001b[0m\u001b[0mbatch_size\u001b[0m\u001b[0;34m,\u001b[0m\u001b[0;34m\u001b[0m\u001b[0m\n\u001b[1;32m   1168\u001b[0m                                             \u001b[0mverbose\u001b[0m\u001b[0;34m=\u001b[0m\u001b[0mverbose\u001b[0m\u001b[0;34m,\u001b[0m\u001b[0;34m\u001b[0m\u001b[0m\n\u001b[0;32m-> 1169\u001b[0;31m                                             steps=steps)\n\u001b[0m\u001b[1;32m   1170\u001b[0m \u001b[0;34m\u001b[0m\u001b[0m\n\u001b[1;32m   1171\u001b[0m     def train_on_batch(self, x, y,\n",
      "\u001b[0;32m/raid/mlcysec/student_directories/securitymonks/p3_venv/lib/python3.5/site-packages/keras/engine/training_arrays.py\u001b[0m in \u001b[0;36mpredict_loop\u001b[0;34m(model, f, ins, batch_size, verbose, steps)\u001b[0m\n\u001b[1;32m    292\u001b[0m                 \u001b[0mins_batch\u001b[0m\u001b[0;34m[\u001b[0m\u001b[0mi\u001b[0m\u001b[0;34m]\u001b[0m \u001b[0;34m=\u001b[0m \u001b[0mins_batch\u001b[0m\u001b[0;34m[\u001b[0m\u001b[0mi\u001b[0m\u001b[0;34m]\u001b[0m\u001b[0;34m.\u001b[0m\u001b[0mtoarray\u001b[0m\u001b[0;34m(\u001b[0m\u001b[0;34m)\u001b[0m\u001b[0;34m\u001b[0m\u001b[0m\n\u001b[1;32m    293\u001b[0m \u001b[0;34m\u001b[0m\u001b[0m\n\u001b[0;32m--> 294\u001b[0;31m             \u001b[0mbatch_outs\u001b[0m \u001b[0;34m=\u001b[0m \u001b[0mf\u001b[0m\u001b[0;34m(\u001b[0m\u001b[0mins_batch\u001b[0m\u001b[0;34m)\u001b[0m\u001b[0;34m\u001b[0m\u001b[0m\n\u001b[0m\u001b[1;32m    295\u001b[0m             \u001b[0mbatch_outs\u001b[0m \u001b[0;34m=\u001b[0m \u001b[0mto_list\u001b[0m\u001b[0;34m(\u001b[0m\u001b[0mbatch_outs\u001b[0m\u001b[0;34m)\u001b[0m\u001b[0;34m\u001b[0m\u001b[0m\n\u001b[1;32m    296\u001b[0m             \u001b[0;32mif\u001b[0m \u001b[0mbatch_index\u001b[0m \u001b[0;34m==\u001b[0m \u001b[0;36m0\u001b[0m\u001b[0;34m:\u001b[0m\u001b[0;34m\u001b[0m\u001b[0m\n",
      "\u001b[0;32m/raid/mlcysec/student_directories/securitymonks/p3_venv/lib/python3.5/site-packages/keras/backend/tensorflow_backend.py\u001b[0m in \u001b[0;36m__call__\u001b[0;34m(self, inputs)\u001b[0m\n\u001b[1;32m   2713\u001b[0m                 \u001b[0;32mreturn\u001b[0m \u001b[0mself\u001b[0m\u001b[0;34m.\u001b[0m\u001b[0m_legacy_call\u001b[0m\u001b[0;34m(\u001b[0m\u001b[0minputs\u001b[0m\u001b[0;34m)\u001b[0m\u001b[0;34m\u001b[0m\u001b[0m\n\u001b[1;32m   2714\u001b[0m \u001b[0;34m\u001b[0m\u001b[0m\n\u001b[0;32m-> 2715\u001b[0;31m             \u001b[0;32mreturn\u001b[0m \u001b[0mself\u001b[0m\u001b[0;34m.\u001b[0m\u001b[0m_call\u001b[0m\u001b[0;34m(\u001b[0m\u001b[0minputs\u001b[0m\u001b[0;34m)\u001b[0m\u001b[0;34m\u001b[0m\u001b[0m\n\u001b[0m\u001b[1;32m   2716\u001b[0m         \u001b[0;32melse\u001b[0m\u001b[0;34m:\u001b[0m\u001b[0;34m\u001b[0m\u001b[0m\n\u001b[1;32m   2717\u001b[0m             \u001b[0;32mif\u001b[0m \u001b[0mpy_any\u001b[0m\u001b[0;34m(\u001b[0m\u001b[0mis_tensor\u001b[0m\u001b[0;34m(\u001b[0m\u001b[0mx\u001b[0m\u001b[0;34m)\u001b[0m \u001b[0;32mfor\u001b[0m \u001b[0mx\u001b[0m \u001b[0;32min\u001b[0m \u001b[0minputs\u001b[0m\u001b[0;34m)\u001b[0m\u001b[0;34m:\u001b[0m\u001b[0;34m\u001b[0m\u001b[0m\n",
      "\u001b[0;32m/raid/mlcysec/student_directories/securitymonks/p3_venv/lib/python3.5/site-packages/keras/backend/tensorflow_backend.py\u001b[0m in \u001b[0;36m_call\u001b[0;34m(self, inputs)\u001b[0m\n\u001b[1;32m   2673\u001b[0m             \u001b[0mfetched\u001b[0m \u001b[0;34m=\u001b[0m \u001b[0mself\u001b[0m\u001b[0;34m.\u001b[0m\u001b[0m_callable_fn\u001b[0m\u001b[0;34m(\u001b[0m\u001b[0;34m*\u001b[0m\u001b[0marray_vals\u001b[0m\u001b[0;34m,\u001b[0m \u001b[0mrun_metadata\u001b[0m\u001b[0;34m=\u001b[0m\u001b[0mself\u001b[0m\u001b[0;34m.\u001b[0m\u001b[0mrun_metadata\u001b[0m\u001b[0;34m)\u001b[0m\u001b[0;34m\u001b[0m\u001b[0m\n\u001b[1;32m   2674\u001b[0m         \u001b[0;32melse\u001b[0m\u001b[0;34m:\u001b[0m\u001b[0;34m\u001b[0m\u001b[0m\n\u001b[0;32m-> 2675\u001b[0;31m             \u001b[0mfetched\u001b[0m \u001b[0;34m=\u001b[0m \u001b[0mself\u001b[0m\u001b[0;34m.\u001b[0m\u001b[0m_callable_fn\u001b[0m\u001b[0;34m(\u001b[0m\u001b[0;34m*\u001b[0m\u001b[0marray_vals\u001b[0m\u001b[0;34m)\u001b[0m\u001b[0;34m\u001b[0m\u001b[0m\n\u001b[0m\u001b[1;32m   2676\u001b[0m         \u001b[0;32mreturn\u001b[0m \u001b[0mfetched\u001b[0m\u001b[0;34m[\u001b[0m\u001b[0;34m:\u001b[0m\u001b[0mlen\u001b[0m\u001b[0;34m(\u001b[0m\u001b[0mself\u001b[0m\u001b[0;34m.\u001b[0m\u001b[0moutputs\u001b[0m\u001b[0;34m)\u001b[0m\u001b[0;34m]\u001b[0m\u001b[0;34m\u001b[0m\u001b[0m\n\u001b[1;32m   2677\u001b[0m \u001b[0;34m\u001b[0m\u001b[0m\n",
      "\u001b[0;32m/raid/mlcysec/student_directories/securitymonks/p3_venv/lib/python3.5/site-packages/tensorflow/python/client/session.py\u001b[0m in \u001b[0;36m__call__\u001b[0;34m(self, *args, **kwargs)\u001b[0m\n\u001b[1;32m   1437\u001b[0m           ret = tf_session.TF_SessionRunCallable(\n\u001b[1;32m   1438\u001b[0m               \u001b[0mself\u001b[0m\u001b[0;34m.\u001b[0m\u001b[0m_session\u001b[0m\u001b[0;34m.\u001b[0m\u001b[0m_session\u001b[0m\u001b[0;34m,\u001b[0m \u001b[0mself\u001b[0m\u001b[0;34m.\u001b[0m\u001b[0m_handle\u001b[0m\u001b[0;34m,\u001b[0m \u001b[0margs\u001b[0m\u001b[0;34m,\u001b[0m \u001b[0mstatus\u001b[0m\u001b[0;34m,\u001b[0m\u001b[0;34m\u001b[0m\u001b[0m\n\u001b[0;32m-> 1439\u001b[0;31m               run_metadata_ptr)\n\u001b[0m\u001b[1;32m   1440\u001b[0m         \u001b[0;32mif\u001b[0m \u001b[0mrun_metadata\u001b[0m\u001b[0;34m:\u001b[0m\u001b[0;34m\u001b[0m\u001b[0m\n\u001b[1;32m   1441\u001b[0m           \u001b[0mproto_data\u001b[0m \u001b[0;34m=\u001b[0m \u001b[0mtf_session\u001b[0m\u001b[0;34m.\u001b[0m\u001b[0mTF_GetBuffer\u001b[0m\u001b[0;34m(\u001b[0m\u001b[0mrun_metadata_ptr\u001b[0m\u001b[0;34m)\u001b[0m\u001b[0;34m\u001b[0m\u001b[0m\n",
      "\u001b[0;31mKeyboardInterrupt\u001b[0m: "
     ]
    }
   ],
   "source": [
    "marks_good_noisy = []\n",
    "\n",
    "for i in tqdm(range(82)):\n",
    "    seed = document_level_tokenize(X['essay'][(X['essay_set']==2) & (X['domain1_score'] > 4)].iloc[i])[:maxlen]\n",
    "    \n",
    "    \n",
    "    generated = ['']\n",
    "    sentence = seed\n",
    "    generated += sentence\n",
    "#     print('----- Generating with seed: \"' + \" \".join(sentence) + '\"')\n",
    "    print(\" \".join(generated))\n",
    "\n",
    "    for i in range(460):\n",
    "        x_pred = np.zeros((1, maxlen, len(chars)))\n",
    "        for t, char in enumerate(sentence):\n",
    "            x_pred[0, t, char_indices[char]] = 1.\n",
    "\n",
    "        preds = model.predict(x_pred, verbose=0)[0]\n",
    "#         preds = np.ones(len(chars))\n",
    "#         preds = preds / preds.sum()\n",
    "        \n",
    "        next_index = sample(preds, 10.0)\n",
    "        next_char = indices_char[next_index]\n",
    "\n",
    "        generated += [next_char]\n",
    "        sentence = sentence[1:] + [next_char]\n",
    "\n",
    "        print(\" \" + next_char, end=\"\")\n",
    "    \n",
    "    \n",
    "    marks_good_noisy.append(aes.predict(sess, [[full_dict[x] for x in generated[1+maxlen:]]]))\n",
    "    print(marks_good_noisy[-1])"
   ]
  },
  {
   "cell_type": "code",
   "execution_count": 295,
   "metadata": {},
   "outputs": [
    {
     "name": "stderr",
     "output_type": "stream",
     "text": [
      "\n",
      "\n",
      "\n",
      "\n",
      "\n",
      "\n",
      "\n",
      "\n",
      "\n",
      "\n",
      "\n",
      "\n",
      "\n",
      "\n",
      "\n",
      "  0%|          | 0/177 [00:00<?, ?it/s]\u001b[A\u001b[A\u001b[A\u001b[A\u001b[A\u001b[A\u001b[A\u001b[A\u001b[A\u001b[A\u001b[A\u001b[A\u001b[A\u001b[A\u001b[A\n",
      "\n",
      "\n",
      "\n",
      "\n",
      "\n",
      "\n",
      "\n",
      "\n",
      "\n",
      "\n",
      "\n",
      "\n",
      "\n",
      "\n",
      "\u001b[A\u001b[A\u001b[A\u001b[A\u001b[A\u001b[A\u001b[A\u001b[A\u001b[A\u001b[A\u001b[A\u001b[A\u001b[A\u001b[A\u001b[A"
     ]
    },
    {
     "name": "stdout",
     "output_type": "stream",
     "text": [
      " write a persuasive essay to a newspaper reflecting your views on censorship in libraries . do you believe that certain should be removed i think so be no that yes i think should no person that in chager the book\n"
     ]
    },
    {
     "ename": "KeyError",
     "evalue": "'persuasive'",
     "output_type": "error",
     "traceback": [
      "\u001b[0;31m---------------------------------------------------------------------------\u001b[0m",
      "\u001b[0;31mKeyError\u001b[0m                                  Traceback (most recent call last)",
      "\u001b[0;32m<ipython-input-295-f409e6086003>\u001b[0m in \u001b[0;36m<module>\u001b[0;34m\u001b[0m\n\u001b[1;32m     13\u001b[0m         \u001b[0mx_pred\u001b[0m \u001b[0;34m=\u001b[0m \u001b[0mnp\u001b[0m\u001b[0;34m.\u001b[0m\u001b[0mzeros\u001b[0m\u001b[0;34m(\u001b[0m\u001b[0;34m(\u001b[0m\u001b[0;36m1\u001b[0m\u001b[0;34m,\u001b[0m \u001b[0mmaxlen\u001b[0m\u001b[0;34m,\u001b[0m \u001b[0mlen\u001b[0m\u001b[0;34m(\u001b[0m\u001b[0mchars\u001b[0m\u001b[0;34m)\u001b[0m\u001b[0;34m)\u001b[0m\u001b[0;34m)\u001b[0m\u001b[0;34m\u001b[0m\u001b[0m\n\u001b[1;32m     14\u001b[0m         \u001b[0;32mfor\u001b[0m \u001b[0mt\u001b[0m\u001b[0;34m,\u001b[0m \u001b[0mchar\u001b[0m \u001b[0;32min\u001b[0m \u001b[0menumerate\u001b[0m\u001b[0;34m(\u001b[0m\u001b[0msentence\u001b[0m\u001b[0;34m)\u001b[0m\u001b[0;34m:\u001b[0m\u001b[0;34m\u001b[0m\u001b[0m\n\u001b[0;32m---> 15\u001b[0;31m             \u001b[0mx_pred\u001b[0m\u001b[0;34m[\u001b[0m\u001b[0;36m0\u001b[0m\u001b[0;34m,\u001b[0m \u001b[0mt\u001b[0m\u001b[0;34m,\u001b[0m \u001b[0mchar_indices\u001b[0m\u001b[0;34m[\u001b[0m\u001b[0mchar\u001b[0m\u001b[0;34m]\u001b[0m\u001b[0;34m]\u001b[0m \u001b[0;34m=\u001b[0m \u001b[0;36m1.\u001b[0m\u001b[0;34m\u001b[0m\u001b[0m\n\u001b[0m\u001b[1;32m     16\u001b[0m \u001b[0;34m\u001b[0m\u001b[0m\n\u001b[1;32m     17\u001b[0m         \u001b[0mpreds\u001b[0m \u001b[0;34m=\u001b[0m \u001b[0mmodel\u001b[0m\u001b[0;34m.\u001b[0m\u001b[0mpredict\u001b[0m\u001b[0;34m(\u001b[0m\u001b[0mx_pred\u001b[0m\u001b[0;34m,\u001b[0m \u001b[0mverbose\u001b[0m\u001b[0;34m=\u001b[0m\u001b[0;36m0\u001b[0m\u001b[0;34m)\u001b[0m\u001b[0;34m[\u001b[0m\u001b[0;36m0\u001b[0m\u001b[0;34m]\u001b[0m\u001b[0;34m\u001b[0m\u001b[0m\n",
      "\u001b[0;31mKeyError\u001b[0m: 'persuasive'"
     ]
    }
   ],
   "source": [
    "marks_poor = []\n",
    "\n",
    "for i in tqdm(range(len(X['essay'][(X['essay_set']==2) & (X['domain1_score'] < 3)]))):\n",
    "    seed = document_level_tokenize(X['essay'][(X['essay_set']==2) & (X['domain1_score'] < 3)].iloc[i])[:maxlen]\n",
    "    \n",
    "    generated = ['']\n",
    "    sentence = seed\n",
    "    generated += sentence\n",
    "#     print('----- Generating with seed: \"' + \" \".join(sentence) + '\"')\n",
    "    print(\" \".join(generated))\n",
    "\n",
    "    for i in range(500):\n",
    "        x_pred = np.zeros((1, maxlen, len(chars)))\n",
    "        for t, char in enumerate(sentence):\n",
    "            x_pred[0, t, char_indices[char]] = 1.\n",
    "\n",
    "        preds = model.predict(x_pred, verbose=0)[0]\n",
    "#         preds = np.ones(len(chars))\n",
    "#         preds = preds / preds.sum()\n",
    "        \n",
    "        next_index = sample(preds, 1.0)\n",
    "        next_char = indices_char[next_index]\n",
    "\n",
    "        generated += [next_char]\n",
    "        sentence = sentence[1:] + [next_char]\n",
    "\n",
    "        print(\" \" + next_char, end=\"\")\n",
    "    \n",
    "    \n",
    "    marks_poor.append(aes.predict(sess, [[full_dict[x] for x in generated[1+maxlen:]]]))\n",
    "    print(marks_poor[-1])"
   ]
  },
  {
   "cell_type": "code",
   "execution_count": null,
   "metadata": {},
   "outputs": [],
   "source": []
  }
 ],
 "metadata": {
  "kernelspec": {
   "display_name": "Python 3",
   "language": "python",
   "name": "python3"
  },
  "language_info": {
   "codemirror_mode": {
    "name": "ipython",
    "version": 3
   },
   "file_extension": ".py",
   "mimetype": "text/x-python",
   "name": "python",
   "nbconvert_exporter": "python",
   "pygments_lexer": "ipython3",
   "version": "3.5.2"
  }
 },
 "nbformat": 4,
 "nbformat_minor": 2
}
