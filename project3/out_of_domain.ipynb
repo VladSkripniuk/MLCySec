{
 "cells": [
  {
   "cell_type": "code",
   "execution_count": 1,
   "metadata": {},
   "outputs": [],
   "source": [
    "import pandas as pd\n",
    "\n",
    "X = pd.read_csv('essaysense/datasets/training_set_rel3.tsv', sep='\\t', encoding='ISO-8859-1')\n",
    "y = X['domain1_score']"
   ]
  },
  {
   "cell_type": "code",
   "execution_count": 2,
   "metadata": {},
   "outputs": [],
   "source": [
    "from tqdm import tqdm"
   ]
  },
  {
   "cell_type": "code",
   "execution_count": 3,
   "metadata": {},
   "outputs": [],
   "source": [
    "from matplotlib import pyplot as plt\n",
    "%matplotlib inline"
   ]
  },
  {
   "cell_type": "code",
   "execution_count": 4,
   "metadata": {},
   "outputs": [],
   "source": [
    "import nltk"
   ]
  },
  {
   "cell_type": "code",
   "execution_count": 5,
   "metadata": {},
   "outputs": [],
   "source": [
    "from nlp_adversarial_examples import glove_utils"
   ]
  },
  {
   "cell_type": "code",
   "execution_count": 6,
   "metadata": {},
   "outputs": [],
   "source": [
    "GLOVE_PATH = 'essaysense/datasets/glove.840B.300d.txt'"
   ]
  },
  {
   "cell_type": "code",
   "execution_count": 7,
   "metadata": {},
   "outputs": [
    {
     "name": "stdout",
     "output_type": "stream",
     "text": [
      "Loading Glove Model\n",
      "Done. 2196007  words loaded!\n"
     ]
    }
   ],
   "source": [
    "glove_model = glove_utils.loadGloveModel(GLOVE_PATH)"
   ]
  },
  {
   "cell_type": "code",
   "execution_count": 10,
   "metadata": {},
   "outputs": [],
   "source": [
    "import os\n",
    "\n",
    "class HyperParameters:\n",
    "    \"\"\"Hyper-parameters of this project.\n",
    "\n",
    "    This is a class holding necessary hyperparameters of this project. Instan-\n",
    "    tiation of the class can get all of the parameters. Note that property\n",
    "    protection is not constructed, so DO NOT change the values unless you know\n",
    "    what you are doing.\n",
    "    \"\"\"\n",
    "    def __init__(self):\n",
    "        self.train_epochs = 700  # General training epochs.\n",
    "#         self.w_dim = 50  # Word embedding dimension.\n",
    "        self.w_dim = 300  # Word embedding dimension.\n",
    "        self.s_len = 20  # Sentence length in the sentence-level models.\n",
    "        self.e_len = 60  # Essay length in the sentence-level models.\n",
    "        self.w_window_len = 5  # Convolution window size of word level.\n",
    "        self.s_window_len = 3  # Convolution window size of sentence level.\n",
    "        self.w_convunits_size = 64  # Convolution unit number of word level.\n",
    "        self.s_convunits_size = 32 # Convolution unit number of sentence level.\n",
    "        self.hidden_size = 100  # Dense layer size of sentence-level models.\n",
    "        self.batch_size = 20  # Batch size.\n",
    "        self.learning_rate = 0.006  # Initial learning rate.\n",
    "        self.dropout_keep_prob = 0.3  # Dropout rate.\n",
    "        self.d_e_len = 500  # Essay length in the document-level models.\n",
    "        self.lstm_hidden_size = 150  # Dense layer size of LSTM models.\n",
    "        self.cnn_lstm_convunits_size = 80  # Conv units of CNN-LSTM models.\n",
    "        self.cnn_lstm_att_pool_size = 50  # Attention pool size.\n",
    "\n",
    "class ProjectPaths:\n",
    "    \"\"\"Project paths of the application.\"\"\"\n",
    "    def __init__(self):\n",
    "        self.aes_root = \"essaysense\"  # Temporarily\n",
    "        self.tfmetadata = os.path.join(self.aes_root, \"tfmetadata\")\n",
    "        self.datasets_root = os.path.join(self.aes_root, \"datasets\")\n",
    "        self.asap = os.path.join(self.datasets_root, \"training_set_rel3.tsv\")\n",
    "        self.asap_train = os.path.join(self.datasets_root, \"train.tsv\")\n",
    "        self.asap_dev = os.path.join(self.datasets_root, \"dev.tsv\")\n",
    "        self.asap_test = os.path.join(self.datasets_root, \"test.tsv\")\n",
    "        self.asap_url = \"http://p2u3jfd2o.bkt.clouddn.com/datasets/training_set_rel3.tsv\"\n",
    "#         self.glove = os.path.join(self.datasets_root, \"glove.6B.50d.txt\")\n",
    "        self.glove = os.path.join(self.datasets_root, \"glove.840B.300d.txt\")\n",
    "        self.glove_url = \"http://p2u3jfd2o.bkt.clouddn.com/datasets/glove.6B.50d.txt\"\n",
    "\n",
    "    def model(self, model_name):\n",
    "        return os.path.join(self.tfmetadata, model_name, \"model.ckpt\")\n",
    "\n",
    "    def model_ckpt(self, model_name):\n",
    "        return os.path.join(self.tfmetadata, model_name)\n",
    "\n",
    "    def summary(self, model_name):\n",
    "        return os.path.join(self.tfmetadata, model_name, \"summary\")\n",
    "\n",
    "\n",
    "# Variables to export.\n",
    "hp = hyperparameters = HyperParameters()\n",
    "paths = ProjectPaths()\n"
   ]
  },
  {
   "cell_type": "code",
   "execution_count": 11,
   "metadata": {},
   "outputs": [],
   "source": [
    "import os\n",
    "\n",
    "os.environ['CUDA_DEVICE_ORDER'] = 'PCI_BUS_ID'\n",
    "os.environ['CUDA_VISIBLE_DEVICES'] = '4'"
   ]
  },
  {
   "cell_type": "code",
   "execution_count": 12,
   "metadata": {},
   "outputs": [],
   "source": [
    "import tensorflow as tf\n",
    "from tensorflow.contrib import rnn as tfrnn"
   ]
  },
  {
   "cell_type": "code",
   "execution_count": 13,
   "metadata": {},
   "outputs": [],
   "source": [
    "def define_graph():\n",
    "    tf.reset_default_graph()\n",
    "    essays = tf.placeholder(tf.float32, [None, hp.d_e_len,\n",
    "                                         hp.w_dim])\n",
    "    scores = tf.placeholder(tf.float32, [None])\n",
    "    keep_prob = tf.placeholder_with_default(tf.constant(1.0, dtype=tf.float32), ())\n",
    "\n",
    "    # Long Short-Term Memory layer\n",
    "    lstm_cell = tfrnn.BasicLSTMCell(num_units=hp.lstm_hidden_size)\n",
    "    lstm_cell = tfrnn.DropoutWrapper(\n",
    "        cell=lstm_cell,\n",
    "        output_keep_prob=keep_prob)\n",
    "    init_state = lstm_cell.zero_state(hp.batch_size, dtype=tf.float32)\n",
    "    lstm, _ = tf.nn.dynamic_rnn(lstm_cell, essays, dtype=tf.float32)\n",
    "\n",
    "    # Mean over Time pooling\n",
    "    mot = tf.reduce_mean(lstm, axis=1)\n",
    "\n",
    "    # Dense layer\n",
    "    dense = tf.layers.dense(inputs=mot, units=1, activation=tf.nn.sigmoid)\n",
    "\n",
    "    # Prediction and Loss\n",
    "    preds = tf.reshape(dense, [-1])\n",
    "    loss = tf.losses.mean_squared_error(scores, preds)\n",
    "\n",
    "    return (essays,\n",
    "            scores,\n",
    "            keep_prob,\n",
    "            loss,\n",
    "            preds)"
   ]
  },
  {
   "cell_type": "code",
   "execution_count": 14,
   "metadata": {},
   "outputs": [],
   "source": [
    "import numpy as np"
   ]
  },
  {
   "cell_type": "code",
   "execution_count": 15,
   "metadata": {},
   "outputs": [],
   "source": [
    "score_range = {1: (2, 12),\n",
    "               2: (1, 6),\n",
    "               3: (0, 3),\n",
    "               4: (0, 3),\n",
    "               5: (0, 4),\n",
    "               6: (0, 4),\n",
    "               7: (0, 30),\n",
    "               8: (0, 60)}"
   ]
  },
  {
   "cell_type": "code",
   "execution_count": 16,
   "metadata": {},
   "outputs": [],
   "source": [
    "score_range_min = np.array([2, 1, 0, 0, 0, 0, 0, 0])\n",
    "score_range_max = np.array([12, 6, 3, 3, 4, 4, 30, 60])"
   ]
  },
  {
   "cell_type": "code",
   "execution_count": 17,
   "metadata": {},
   "outputs": [],
   "source": [
    "def shrink(scores, essay_set):\n",
    "    mini = np.choose(essay_set-1,score_range_min)\n",
    "    maxi = np.choose(essay_set-1,score_range_max)\n",
    "    \n",
    "    return (scores - mini) / (maxi - mini)\n",
    "\n",
    "def expand(scores, essay_set):\n",
    "    mini = np.choose(essay_set-1,score_range_min)\n",
    "    maxi = np.choose(essay_set-1,score_range_max)\n",
    "    \n",
    "    return np.array(np.round(scores * (maxi - mini) + mini),dtype=int)"
   ]
  },
  {
   "cell_type": "code",
   "execution_count": 18,
   "metadata": {},
   "outputs": [],
   "source": [
    "def normalize_score(score, essay_set):\n",
    "    return (float(score) - score_range[essay_set][0]) / float(score_range[essay_set][1] - score_range[essay_set][0])"
   ]
  },
  {
   "cell_type": "code",
   "execution_count": 19,
   "metadata": {},
   "outputs": [],
   "source": [
    "glove_vectors = glove_model"
   ]
  },
  {
   "cell_type": "code",
   "execution_count": 20,
   "metadata": {},
   "outputs": [],
   "source": [
    "def document_level_tokenize(essay_text):\n",
    "    essay_text = essay_text.encode('ascii', errors='ignore').decode('utf-8', errors='ignore')\n",
    "    essay_text = essay_text.lower()  # Use lower-cases for word embeddings.\n",
    "    essay_text = essay_text.replace('/', ' / ')\n",
    "    essay_text = essay_text.replace('@', ' ')\n",
    "    essay_text = essay_text.replace('.', ' . ')\n",
    "    essay_text = essay_text.replace('-', ' - ')\n",
    "    essay = nltk.word_tokenize(essay_text)\n",
    "    essay = list(map(lambda x : (x[:-1] if x[-1].isdigit() else x), essay))\n",
    "    essay = list(filter(lambda x: len(x) > 0, essay))\n",
    "    return essay"
   ]
  },
  {
   "cell_type": "code",
   "execution_count": 21,
   "metadata": {},
   "outputs": [],
   "source": [
    "def data_generator(data, labels, corrections=False):\n",
    "    cnt_corrections = 0\n",
    "    set_size = len(data)\n",
    "    i_item = 0\n",
    "    while True:\n",
    "        if i_item >= set_size:\n",
    "            i_item = 0\n",
    "        \n",
    "        if type(data) is pd.DataFrame:\n",
    "            item = data.iloc[i_item]\n",
    "            label = labels.iloc[i_item]\n",
    "            essay_text = document_level_tokenize(item['essay'])\n",
    "        else:\n",
    "            item = data[i_item]\n",
    "            label = labels[i_item]\n",
    "            essay_text = document_level_tokenize(item)\n",
    "            \n",
    "        embedded = np.zeros([hp.d_e_len, hp.w_dim])\n",
    "        for i in range(min(len(essay_text), hp.d_e_len)):\n",
    "            if corrections and essay_text[i] in corrections_dict.keys():\n",
    "                essay_text[i] = corrections_dict[essay_text[i]]\n",
    "            \n",
    "            embedded[i] = glove_vectors.get(essay_text[i], np.zeros(hp.w_dim))\n",
    "            \n",
    "        i_item += 1\n",
    "        \n",
    "        if type(data) is pd.DataFrame: \n",
    "            yield (embedded, normalize_score(label, item[\"essay_set\"]))\n",
    "        else:\n",
    "            yield (embedded, normalize_score(label, 1))\n",
    "        "
   ]
  },
  {
   "cell_type": "code",
   "execution_count": 22,
   "metadata": {},
   "outputs": [],
   "source": [
    "def next_batch(gen, size_demand):\n",
    "    essays_batched = []\n",
    "    scores_batched = []\n",
    "    for _ in range(size_demand):\n",
    "        next_item = next(gen)  # Generate next item\n",
    "        essays_batched.append(next_item[0])\n",
    "        scores_batched.append(next_item[1])\n",
    "    essays_batched = np.array(essays_batched)\n",
    "    scores_batched = np.array(scores_batched)\n",
    "    return essays_batched, scores_batched"
   ]
  },
  {
   "cell_type": "code",
   "execution_count": 23,
   "metadata": {},
   "outputs": [],
   "source": [
    "class AES():\n",
    "    def __init__(self):\n",
    "        pass\n",
    "        \n",
    "        \n",
    "    def predict(self, sess, list_essays):\n",
    "        all_embedded = np.zeros([len(list_essays), hp.d_e_len, hp.w_dim])\n",
    "        all_preds = np.zeros([len(list_essays), 2])\n",
    "        \n",
    "        for index in range(len(list_essays)):\n",
    "            essay = list_essays[index]\n",
    "            embedded = np.zeros([hp.d_e_len, hp.w_dim])\n",
    "            for i in range(min(len(essay), hp.d_e_len)):\n",
    "                embedded[i] = glove_model.get(full_inv_dict[essay[i]], np.zeros([hp.w_dim]))\n",
    "            all_embedded[index] = embedded\n",
    "\n",
    "        preds_got = sess.run(preds, feed_dict={essays: all_embedded})\n",
    "        all_preds[:,0] = 1 - preds_got\n",
    "        all_preds[:,1] = preds_got\n",
    "        \n",
    "        return all_preds\n",
    "    \n",
    "aes = AES()"
   ]
  },
  {
   "cell_type": "code",
   "execution_count": 24,
   "metadata": {},
   "outputs": [
    {
     "name": "stdout",
     "output_type": "stream",
     "text": [
      "WARNING:tensorflow:From <ipython-input-13-dc35827dab16>:9: BasicLSTMCell.__init__ (from tensorflow.python.ops.rnn_cell_impl) is deprecated and will be removed in a future version.\n",
      "Instructions for updating:\n",
      "This class is deprecated, please use tf.nn.rnn_cell.LSTMCell, which supports all the feature this cell currently has. Please replace the existing code with tf.nn.rnn_cell.LSTMCell(name='basic_lstm_cell').\n"
     ]
    }
   ],
   "source": [
    "(essays,\n",
    " scores,\n",
    " keep_prob,\n",
    " loss,\n",
    " preds) = define_graph()"
   ]
  },
  {
   "cell_type": "code",
   "execution_count": 25,
   "metadata": {},
   "outputs": [],
   "source": [
    "gpu_options = tf.GPUOptions(per_process_gpu_memory_fraction=0.333)\n",
    "sess = tf.Session(graph=tf.get_default_graph(), config=tf.ConfigProto(gpu_options=gpu_options))"
   ]
  },
  {
   "cell_type": "code",
   "execution_count": 26,
   "metadata": {},
   "outputs": [
    {
     "name": "stdout",
     "output_type": "stream",
     "text": [
      "INFO:tensorflow:Restoring parameters from ./models/LSTM_2_wo_corr\n"
     ]
    }
   ],
   "source": [
    "saver = tf.train.Saver(tf.trainable_variables())\n",
    "saver.restore(sess, './models/LSTM_2_wo_corr')"
   ]
  },
  {
   "cell_type": "code",
   "execution_count": 27,
   "metadata": {},
   "outputs": [],
   "source": [
    "from sklearn.metrics import cohen_kappa_score"
   ]
  },
  {
   "cell_type": "code",
   "execution_count": null,
   "metadata": {},
   "outputs": [],
   "source": []
  },
  {
   "cell_type": "code",
   "execution_count": 175,
   "metadata": {},
   "outputs": [],
   "source": [
    "data_gen = data_generator(X[X['essay_set']==1], y[X['essay_set']==1])"
   ]
  },
  {
   "cell_type": "code",
   "execution_count": 176,
   "metadata": {},
   "outputs": [],
   "source": [
    "(all_test_essays,\n",
    " all_test_scores) = next_batch(data_gen, (X['essay_set']==1).sum())"
   ]
  },
  {
   "cell_type": "code",
   "execution_count": 177,
   "metadata": {},
   "outputs": [],
   "source": [
    "preds_got = sess.run(preds, feed_dict={essays: all_test_essays, scores: all_test_scores, keep_prob: 1.0})"
   ]
  },
  {
   "cell_type": "code",
   "execution_count": null,
   "metadata": {},
   "outputs": [],
   "source": []
  },
  {
   "cell_type": "code",
   "execution_count": 178,
   "metadata": {},
   "outputs": [
    {
     "data": {
      "text/plain": [
       "0.8109842230661793"
      ]
     },
     "execution_count": 178,
     "metadata": {},
     "output_type": "execute_result"
    }
   ],
   "source": [
    "cohen_kappa_score(expand(preds_got, 1), y[X['essay_set']==1], weights='quadratic')"
   ]
  },
  {
   "cell_type": "code",
   "execution_count": 110,
   "metadata": {},
   "outputs": [
    {
     "data": {
      "text/plain": [
       "173"
      ]
     },
     "execution_count": 110,
     "metadata": {},
     "output_type": "execute_result"
    }
   ],
   "source": [
    "tokens = list(set(document_level_tokenize(X['essay'].iloc[0])))\n",
    "len(tokens)"
   ]
  },
  {
   "cell_type": "code",
   "execution_count": 111,
   "metadata": {},
   "outputs": [],
   "source": [
    "data_gen = data_generator([\" \".join([x]*len(tokens)) for x in tokens], [y.iloc[0]]*len(tokens))"
   ]
  },
  {
   "cell_type": "code",
   "execution_count": 112,
   "metadata": {},
   "outputs": [],
   "source": [
    "(all_test_essays,\n",
    " all_test_scores) = next_batch(data_gen, len(tokens))"
   ]
  },
  {
   "cell_type": "code",
   "execution_count": 113,
   "metadata": {},
   "outputs": [],
   "source": [
    "preds_got = sess.run(preds, feed_dict={essays: all_test_essays, scores: all_test_scores, keep_prob: 1.0})"
   ]
  },
  {
   "cell_type": "code",
   "execution_count": 114,
   "metadata": {},
   "outputs": [
    {
     "data": {
      "text/plain": [
       "(array([ 1.,  0., 34.,  0., 97.,  0., 28.,  0.,  9.,  4.]),\n",
       " array([4. , 4.5, 5. , 5.5, 6. , 6.5, 7. , 7.5, 8. , 8.5, 9. ]),\n",
       " <a list of 10 Patch objects>)"
      ]
     },
     "execution_count": 114,
     "metadata": {},
     "output_type": "execute_result"
    },
    {
     "data": {
      "image/png": "[encoded data removed]",
      "text/plain": [
       "<Figure size 432x288 with 1 Axes>"
      ]
     },
     "metadata": {
      "needs_background": "light"
     },
     "output_type": "display_data"
    }
   ],
   "source": [
    "plt.hist(expand(preds_got, 1))"
   ]
  },
  {
   "cell_type": "code",
   "execution_count": 407,
   "metadata": {},
   "outputs": [],
   "source": [
    "all_unique = []\n",
    "all_counts = []"
   ]
  },
  {
   "cell_type": "code",
   "execution_count": 404,
   "metadata": {},
   "outputs": [],
   "source": [
    "unique, counts = np.unique(expanded, return_counts=True)"
   ]
  },
  {
   "cell_type": "code",
   "execution_count": 28,
   "metadata": {},
   "outputs": [
    {
     "name": "stdout",
     "output_type": "stream",
     "text": [
      "INFO:tensorflow:Restoring parameters from ./models/LSTM_1_wo_corr\n"
     ]
    },
    {
     "name": "stderr",
     "output_type": "stream",
     "text": [
      "100%|██████████| 15/15 [01:12<00:00,  4.77s/it]"
     ]
    },
    {
     "name": "stdout",
     "output_type": "stream",
     "text": [
      "INFO:tensorflow:Restoring parameters from ./models/LSTM_2_wo_corr\n"
     ]
    },
    {
     "name": "stderr",
     "output_type": "stream",
     "text": [
      "\n",
      "100%|██████████| 14/14 [01:08<00:00,  4.93s/it]"
     ]
    },
    {
     "name": "stdout",
     "output_type": "stream",
     "text": [
      "INFO:tensorflow:Restoring parameters from ./models/LSTM_3_wo_corr\n"
     ]
    },
    {
     "name": "stderr",
     "output_type": "stream",
     "text": [
      "\n",
      "100%|██████████| 6/6 [00:29<00:00,  4.95s/it]"
     ]
    },
    {
     "name": "stdout",
     "output_type": "stream",
     "text": [
      "INFO:tensorflow:Restoring parameters from ./models/LSTM_4_wo_corr\n"
     ]
    },
    {
     "name": "stderr",
     "output_type": "stream",
     "text": [
      "\n",
      "100%|██████████| 4/4 [00:20<00:00,  5.16s/it]"
     ]
    },
    {
     "name": "stdout",
     "output_type": "stream",
     "text": [
      "INFO:tensorflow:Restoring parameters from ./models/LSTM_5_wo_corr\n"
     ]
    },
    {
     "name": "stderr",
     "output_type": "stream",
     "text": [
      "\n",
      "100%|██████████| 4/4 [00:20<00:00,  5.01s/it]"
     ]
    },
    {
     "name": "stdout",
     "output_type": "stream",
     "text": [
      "INFO:tensorflow:Restoring parameters from ./models/LSTM_6_wo_corr\n"
     ]
    },
    {
     "name": "stderr",
     "output_type": "stream",
     "text": [
      "\n",
      "100%|██████████| 5/5 [00:25<00:00,  5.18s/it]"
     ]
    },
    {
     "name": "stdout",
     "output_type": "stream",
     "text": [
      "INFO:tensorflow:Restoring parameters from ./models/LSTM_7_wo_corr\n"
     ]
    },
    {
     "name": "stderr",
     "output_type": "stream",
     "text": [
      "\n",
      "100%|██████████| 10/10 [00:49<00:00,  4.80s/it]"
     ]
    },
    {
     "name": "stdout",
     "output_type": "stream",
     "text": [
      "INFO:tensorflow:Restoring parameters from ./models/LSTM_8_wo_corr\n"
     ]
    },
    {
     "name": "stderr",
     "output_type": "stream",
     "text": [
      "\n",
      "100%|██████████| 11/11 [00:54<00:00,  4.97s/it]\n"
     ]
    }
   ],
   "source": [
    "all_unique = []\n",
    "all_counts = []\n",
    "all_all_preds = []\n",
    "all_all_words = []\n",
    "\n",
    "for ess_set in range(1, 9):\n",
    "    \n",
    "    saver = tf.train.Saver(tf.trainable_variables())\n",
    "    saver.restore(sess, './models/LSTM_{}_wo_corr'.format(ess_set))\n",
    "\n",
    "    all_words = []\n",
    "\n",
    "    for essay in X[X['essay_set']==ess_set]['essay']:\n",
    "        all_words = all_words + document_level_tokenize(essay)\n",
    "        \n",
    "    all_words =  list(set(all_words))\n",
    "    \n",
    "    all_preds = []\n",
    "    \n",
    "    data_gen = data_generator([\" \".join([x]*500) for x in all_words], [y.iloc[0]]*len(all_words))\n",
    "    \n",
    "    for i in tqdm(range(len(all_words)//1000)):\n",
    "        (all_test_essays, all_test_scores) = next_batch(data_gen, 1000)\n",
    "        preds_got = sess.run(preds, feed_dict={essays: all_test_essays, scores: all_test_scores, keep_prob: 1.0})\n",
    "        all_preds.append(preds_got)\n",
    "        \n",
    "    all_preds = np.array(all_preds).reshape(-1)\n",
    "    all_preds = expand(all_preds, ess_set)\n",
    "    \n",
    "    unique, counts = np.unique(all_preds, return_counts=True)\n",
    "    \n",
    "    all_unique.append(unique)\n",
    "    all_counts.append(counts)\n",
    "    all_all_preds.append(all_preds)\n",
    "    all_all_words.append(all_words)"
   ]
  },
  {
   "cell_type": "code",
   "execution_count": 29,
   "metadata": {},
   "outputs": [
    {
     "data": {
      "text/plain": [
       "1"
      ]
     },
     "execution_count": 29,
     "metadata": {},
     "output_type": "execute_result"
    }
   ],
   "source": [
    "1"
   ]
  },
  {
   "cell_type": "code",
   "execution_count": 31,
   "metadata": {},
   "outputs": [
    {
     "data": {
      "text/plain": [
       "15000"
      ]
     },
     "execution_count": 31,
     "metadata": {},
     "output_type": "execute_result"
    }
   ],
   "source": [
    "len(all_all_preds[0])"
   ]
  },
  {
   "cell_type": "code",
   "execution_count": 38,
   "metadata": {},
   "outputs": [
    {
     "data": {
      "text/plain": [
       "[array([  10,  995, 1665, 4241, 1270, 1375, 1351, 1226,  990, 1420,  457]),\n",
       " array([2847, 4758, 1626, 1045,  828, 2896]),\n",
       " array([ 272, 2066,  510, 3152]),\n",
       " array([1137,  974,  172, 1717]),\n",
       " array([ 386, 1395,  254,  265, 1700]),\n",
       " array([ 558, 1769,  237,  259, 2177]),\n",
       " array([ 215,  976,  601,  450,  374,  322,  274,  254,  209,  199, 1756,\n",
       "         159,  128,  139,  120,   93,   72,   74,   70,   73,   72,   76,\n",
       "          89,   93,  130,  141,  205,  276,  545, 1157,  658]),\n",
       " array([  3,   5,  22,  38,  61,  71,  91, 106, 113,  99,  93, 118, 134,\n",
       "        135, 169, 145, 192, 184, 565, 176, 210, 200, 220, 232, 190, 196,\n",
       "        173, 187, 183, 180, 150, 128, 115, 124, 123, 105,  86, 110, 107,\n",
       "        139, 115, 137, 123, 137, 167, 222, 270, 309, 354, 435, 499, 616,\n",
       "        667, 621, 472, 174,   4])]"
      ]
     },
     "execution_count": 38,
     "metadata": {},
     "output_type": "execute_result"
    }
   ],
   "source": [
    "all_counts"
   ]
  },
  {
   "cell_type": "code",
   "execution_count": 69,
   "metadata": {},
   "outputs": [
    {
     "data": {
      "text/plain": [
       "[array([ 2,  3,  4,  5,  6,  7,  8,  9, 10, 11, 12]),\n",
       " array([1, 2, 3, 4, 5, 6]),\n",
       " array([0, 1, 2, 3]),\n",
       " array([0, 1, 2, 3]),\n",
       " array([0, 1, 2, 3, 4]),\n",
       " array([0, 1, 2, 3, 4]),\n",
       " array([ 0,  1,  2,  3,  4,  5,  6,  7,  8,  9, 10, 11, 12, 13, 14, 15, 16,\n",
       "        17, 18, 19, 20, 21, 22, 23, 24, 25, 26, 27, 28, 29, 30]),\n",
       " array([ 3,  4,  5,  6,  7,  8,  9, 10, 11, 12, 13, 14, 15, 16, 17, 18, 19,\n",
       "        20, 21, 22, 23, 24, 25, 26, 27, 28, 29, 30, 31, 32, 33, 34, 35, 36,\n",
       "        37, 38, 39, 40, 41, 42, 43, 44, 45, 46, 47, 48, 49, 50, 51, 52, 53,\n",
       "        54, 55, 56, 57, 58, 59])]"
      ]
     },
     "execution_count": 69,
     "metadata": {},
     "output_type": "execute_result"
    }
   ],
   "source": [
    "all_unique"
   ]
  },
  {
   "cell_type": "code",
   "execution_count": 41,
   "metadata": {},
   "outputs": [
    {
     "data": {
      "text/plain": [
       "array([ 3,  4,  5,  6,  7,  8,  9, 10, 11, 12, 13, 14, 15, 16, 17, 18, 19,\n",
       "       20, 21, 22, 23, 24, 25, 26, 27, 28, 29, 30, 31, 32, 33, 34, 35, 36,\n",
       "       37, 38, 39, 40, 41, 42, 43, 44, 45, 46, 47, 48, 49, 50, 51, 52, 53,\n",
       "       54, 55, 56, 57, 58, 59])"
      ]
     },
     "execution_count": 41,
     "metadata": {},
     "output_type": "execute_result"
    }
   ],
   "source": [
    "all_unique[-1]"
   ]
  },
  {
   "cell_type": "code",
   "execution_count": 62,
   "metadata": {},
   "outputs": [],
   "source": [
    "bins = [list(range(3*i+1,3*i+4)) for i in range(10)]"
   ]
  },
  {
   "cell_type": "code",
   "execution_count": 63,
   "metadata": {},
   "outputs": [
    {
     "data": {
      "text/plain": [
       "[[1, 2, 3],\n",
       " [4, 5, 6],\n",
       " [7, 8, 9],\n",
       " [10, 11, 12],\n",
       " [13, 14, 15],\n",
       " [16, 17, 18],\n",
       " [19, 20, 21],\n",
       " [22, 23, 24],\n",
       " [25, 26, 27],\n",
       " [28, 29, 30]]"
      ]
     },
     "execution_count": 63,
     "metadata": {},
     "output_type": "execute_result"
    }
   ],
   "source": [
    "bins"
   ]
  },
  {
   "cell_type": "code",
   "execution_count": 65,
   "metadata": {},
   "outputs": [],
   "source": [
    "bins_cnt = np.zeros(10)"
   ]
  },
  {
   "cell_type": "code",
   "execution_count": null,
   "metadata": {},
   "outputs": [],
   "source": [
    "all_unique"
   ]
  },
  {
   "cell_type": "code",
   "execution_count": 53,
   "metadata": {},
   "outputs": [
    {
     "data": {
      "text/plain": [
       "array([ 3,  4,  5,  6,  7,  8,  9, 10, 11, 12, 13, 14, 15, 16, 17, 18, 19,\n",
       "       20, 21, 22, 23, 24, 25, 26, 27, 28, 29, 30, 31, 32, 33, 34, 35, 36,\n",
       "       37, 38, 39, 40, 41, 42, 43, 44, 45, 46, 47, 48, 49, 50, 51, 52, 53,\n",
       "       54, 55, 56, 57, 58, 59])"
      ]
     },
     "execution_count": 53,
     "metadata": {},
     "output_type": "execute_result"
    }
   ],
   "source": [
    "all_unique[-1]"
   ]
  },
  {
   "cell_type": "code",
   "execution_count": 55,
   "metadata": {},
   "outputs": [
    {
     "data": {
      "text/plain": [
       "array([0, 1, 2])"
      ]
     },
     "execution_count": 55,
     "metadata": {},
     "output_type": "execute_result"
    }
   ],
   "source": [
    "np.where(list(map(lambda x: x in bins[i], all_unique[-1])))[0]"
   ]
  },
  {
   "cell_type": "code",
   "execution_count": 70,
   "metadata": {},
   "outputs": [],
   "source": [
    "for i in range(10):\n",
    "    bins_cnt[i] = np.sum(all_counts[-2][np.where(list(map(lambda x: x in bins[i], all_unique[-2])))[0]])"
   ]
  },
  {
   "cell_type": "code",
   "execution_count": 68,
   "metadata": {},
   "outputs": [
    {
     "data": {
      "text/plain": [
       "array([2027.,  970.,  662., 2043.,  352.,  216.,  221.,  312.,  622.,\n",
       "       2360.])"
      ]
     },
     "execution_count": 68,
     "metadata": {},
     "output_type": "execute_result"
    }
   ],
   "source": [
    "bins_cnt"
   ]
  },
  {
   "cell_type": "code",
   "execution_count": 58,
   "metadata": {},
   "outputs": [
    {
     "data": {
      "text/plain": [
       "array([  30.,  367.,  557.,  825., 1371.,  978.,  756.,  548.,  621.,\n",
       "       1105., 2571., 1271.])"
      ]
     },
     "execution_count": 58,
     "metadata": {},
     "output_type": "execute_result"
    }
   ],
   "source": [
    "bins_cnt"
   ]
  },
  {
   "cell_type": "code",
   "execution_count": 40,
   "metadata": {},
   "outputs": [
    {
     "ename": "ValueError",
     "evalue": "cannot reshape array of size 57 into shape (10,newaxis)",
     "output_type": "error",
     "traceback": [
      "\u001b[0;31m---------------------------------------------------------------------------\u001b[0m",
      "\u001b[0;31mValueError\u001b[0m                                Traceback (most recent call last)",
      "\u001b[0;32m<ipython-input-40-50f12eae6353>\u001b[0m in \u001b[0;36m<module>\u001b[0;34m\u001b[0m\n\u001b[0;32m----> 1\u001b[0;31m \u001b[0mall_counts\u001b[0m\u001b[0;34m[\u001b[0m\u001b[0;34m-\u001b[0m\u001b[0;36m1\u001b[0m\u001b[0;34m]\u001b[0m\u001b[0;34m.\u001b[0m\u001b[0mreshape\u001b[0m\u001b[0;34m(\u001b[0m\u001b[0;34m(\u001b[0m\u001b[0;36m10\u001b[0m\u001b[0;34m,\u001b[0m\u001b[0;34m-\u001b[0m\u001b[0;36m1\u001b[0m\u001b[0;34m)\u001b[0m\u001b[0;34m)\u001b[0m\u001b[0;34m\u001b[0m\u001b[0m\n\u001b[0m",
      "\u001b[0;31mValueError\u001b[0m: cannot reshape array of size 57 into shape (10,newaxis)"
     ]
    }
   ],
   "source": [
    "all_counts[-1].reshape((10,-1))"
   ]
  },
  {
   "cell_type": "code",
   "execution_count": 35,
   "metadata": {},
   "outputs": [
    {
     "name": "stdout",
     "output_type": "stream",
     "text": [
      "[('serial', 12), ('six', 12), ('data', 12), ('creating', 12), ('continuously', 12), ('roughly', 12), ('associated', 12), ('previously', 12), ('shares', 12), ('account', 12), ('accounts', 12), ('occurs', 12), ('gray', 12), ('behavior', 12), ('communications', 12), ('characters', 12), ('carried', 12), ('abilities', 12), ('set', 12), ('television', 12)]\n",
      "[('persecution', 6), ('innocence', 6), ('cocaine', 6), ('decades', 6), ('centered', 6), ('geographic', 6), ('solving', 6), ('permanently', 6), ('posed', 6), ('bullies', 6), ('outcomes', 6), ('uniqueness', 6), ('unusual', 6), ('lure', 6), ('conform', 6), ('harshly', 6), ('govern', 6), ('nasty', 6), ('pubescent', 6), ('ethnicity', 6)]\n",
      "[('sort', 3), ('pours', 3), ('crested', 3), ('forest', 3), ('thrown', 3), ('sending', 3), ('physical', 3), ('makes', 3), ('combined', 3), ('tone', 3), ('cold', 3), ('on', 3), ('crafted', 3), ('fairly', 3), ('temperatures', 3), ('talking', 3), ('savor', 3), ('some', 3), ('efforts', 3), ('strangers', 3)]\n",
      "[('figures', 3), ('man', 3), ('heal', 3), ('velvet', 3), ('same', 3), ('humanizing', 3), ('death', 3), ('belief', 3), ('terribly', 3), ('resembled', 3), ('shedding', 3), ('collective', 3), ('girl', 3), ('arrives', 3), ('deeply', 3), ('overcame', 3), ('dying', 3), ('longing', 3), ('intense', 3), ('intial', 3)]\n",
      "[('minority', 4), ('memoris', 4), ('passionate', 4), ('topics', 4), ('hunger', 4), ('provided', 4), ('sald', 4), ('gather', 4), ('heavenly', 4), ('cuban', 4), ('favorite', 4), ('talent', 4), ('talents', 4), ('many', 4), ('undying', 4), ('incredibly', 4), ('felted', 4), ('never', 4), ('words', 4), ('recognizes', 4)]\n",
      "[('controling', 4), ('isue', 4), ('frame', 4), ('dirigibles', 4), ('humans', 4), ('high', 4), ('solvable', 4), ('sideways', 4), ('above', 4), ('bellow', 4), ('collapes', 4), ('imposed', 4), ('fires', 4), ('crucial', 4), ('quietly', 4), ('ascend', 4), ('safety', 4), ('drop', 4), ('inccident', 4), ('unwise', 4)]\n",
      "[('proved', 30), ('curved', 30), ('mound', 30), ('moon', 30), ('velvet', 30), ('overall', 30), ('icy', 30), ('stared', 30), ('gloomy', 30), ('trudged', 30), ('dashed', 30), ('landing', 30), ('echoed', 30), ('exploded', 30), ('praised', 30), ('dark', 30), ('roars', 30), ('delight', 30), ('base', 30), ('berries', 30)]\n",
      "[('swirled', 58), ('shaken', 58), ('contorted', 58), ('tangled', 58), ('bobbed', 58), ('awoke', 58), ('shuffled', 58), ('rolled', 58), ('floated', 58), ('ached', 58), ('leaped', 58), ('blinked', 58), ('drifted', 58), ('composure', 58), ('unfolded', 58), ('shattered', 58), ('darkened', 59), ('clutched', 59), ('gazed', 59), ('slumped', 59)]\n"
     ]
    }
   ],
   "source": [
    "for ess_set in range(8):\n",
    "    print([(all_all_words[ess_set][i],all_all_preds[ess_set][i]) for i in np.argsort(all_all_preds[ess_set])][-20:])"
   ]
  },
  {
   "cell_type": "code",
   "execution_count": 37,
   "metadata": {},
   "outputs": [
    {
     "data": {
      "text/plain": [
       "(array([  10.,  995., 1665., 4241., 1270., 1375., 1351., 1226.,  990.,\n",
       "        1877.]),\n",
       " array([ 2.,  3.,  4.,  5.,  6.,  7.,  8.,  9., 10., 11., 12.]),\n",
       " <a list of 10 Patch objects>)"
      ]
     },
     "execution_count": 37,
     "metadata": {},
     "output_type": "execute_result"
    },
    {
     "data": {
      "image/png": "[encoded data removed]",
      "text/plain": [
       "<Figure size 432x288 with 1 Axes>"
      ]
     },
     "metadata": {
      "needs_background": "light"
     },
     "output_type": "display_data"
    }
   ],
   "source": [
    "plt.hist(all_all_preds[0])"
   ]
  },
  {
   "cell_type": "code",
   "execution_count": 124,
   "metadata": {},
   "outputs": [],
   "source": [
    "data_gen = data_generator([\" \".join([x]*len(tokens)) for x in all_words], [y.iloc[0]]*len(all_words))"
   ]
  },
  {
   "cell_type": "code",
   "execution_count": 121,
   "metadata": {},
   "outputs": [],
   "source": [
    "(all_test_essays,\n",
    " all_test_scores) = next_batch(data_gen, len(all_words))"
   ]
  },
  {
   "cell_type": "code",
   "execution_count": 125,
   "metadata": {},
   "outputs": [],
   "source": [
    "all_preds = []"
   ]
  },
  {
   "cell_type": "code",
   "execution_count": 126,
   "metadata": {},
   "outputs": [
    {
     "name": "stderr",
     "output_type": "stream",
     "text": [
      "100%|██████████| 15/15 [00:42<00:00,  2.91s/it]\n"
     ]
    }
   ],
   "source": [
    "for i in tqdm(range(len(all_words)//1000)):\n",
    "    (all_test_essays, all_test_scores) = next_batch(data_gen, 1000)\n",
    "    preds_got = sess.run(preds, feed_dict={essays: all_test_essays, scores: all_test_scores, keep_prob: 1.0})\n",
    "    all_preds.append(preds_got)"
   ]
  },
  {
   "cell_type": "code",
   "execution_count": 128,
   "metadata": {},
   "outputs": [],
   "source": [
    "all_preds = np.array(all_preds).reshape(-1)"
   ]
  },
  {
   "cell_type": "code",
   "execution_count": 114,
   "metadata": {},
   "outputs": [
    {
     "data": {
      "text/plain": [
       "(array([ 1.,  0., 34.,  0., 97.,  0., 28.,  0.,  9.,  4.]),\n",
       " array([4. , 4.5, 5. , 5.5, 6. , 6.5, 7. , 7.5, 8. , 8.5, 9. ]),\n",
       " <a list of 10 Patch objects>)"
      ]
     },
     "execution_count": 114,
     "metadata": {},
     "output_type": "execute_result"
    },
    {
     "data": {
      "image/png": "[encoded data removed]",
      "text/plain": [
       "<Figure size 432x288 with 1 Axes>"
      ]
     },
     "metadata": {
      "needs_background": "light"
     },
     "output_type": "display_data"
    }
   ],
   "source": [
    "plt.hist(expand(preds_got, 1))"
   ]
  },
  {
   "cell_type": "code",
   "execution_count": 134,
   "metadata": {},
   "outputs": [
    {
     "data": {
      "text/plain": [
       "['color',\n",
       " 'data',\n",
       " 'features',\n",
       " 'communication',\n",
       " 'intelligence',\n",
       " 'thousands',\n",
       " 'grew',\n",
       " 'among',\n",
       " 'network',\n",
       " 'number',\n",
       " 'organization',\n",
       " 'operations',\n",
       " 'countries',\n",
       " 'became',\n",
       " 'humans',\n",
       " ',',\n",
       " 'pages',\n",
       " 'percent',\n",
       " 'characters',\n",
       " 'world']"
      ]
     },
     "execution_count": 134,
     "metadata": {},
     "output_type": "execute_result"
    }
   ],
   "source": [
    "[all_words[i] for i in np.argsort(all_preds)][-20:]"
   ]
  },
  {
   "cell_type": "code",
   "execution_count": 138,
   "metadata": {},
   "outputs": [
    {
     "data": {
      "text/plain": [
       "[9, 9, 9, 9, 9, 9, 9, 9, 9, 9, 9, 9, 9, 9, 9, 9, 9, 9, 9, 9]"
      ]
     },
     "execution_count": 138,
     "metadata": {},
     "output_type": "execute_result"
    }
   ],
   "source": [
    "[expanded[i] for i in np.argsort(all_preds)][-20:]"
   ]
  },
  {
   "cell_type": "code",
   "execution_count": 137,
   "metadata": {},
   "outputs": [],
   "source": [
    "expanded = expand(all_preds, 1)"
   ]
  },
  {
   "cell_type": "code",
   "execution_count": 129,
   "metadata": {},
   "outputs": [
    {
     "data": {
      "text/plain": [
       "(array([   8., 2499.,    0., 7044.,    0., 3119., 1541.,    0.,  720.,\n",
       "          69.]),\n",
       " array([3. , 3.6, 4.2, 4.8, 5.4, 6. , 6.6, 7.2, 7.8, 8.4, 9. ]),\n",
       " <a list of 10 Patch objects>)"
      ]
     },
     "execution_count": 129,
     "metadata": {},
     "output_type": "execute_result"
    },
    {
     "data": {
      "image/png": "[encoded data removed]",
      "text/plain": [
       "<Figure size 432x288 with 1 Axes>"
      ]
     },
     "metadata": {
      "needs_background": "light"
     },
     "output_type": "display_data"
    }
   ],
   "source": [
    "plt.hist(expand(all_preds, 1))"
   ]
  },
  {
   "cell_type": "code",
   "execution_count": 143,
   "metadata": {},
   "outputs": [
    {
     "data": {
      "text/plain": [
       "0.0"
      ]
     },
     "execution_count": 143,
     "metadata": {},
     "output_type": "execute_result"
    }
   ],
   "source": [
    "cohen_kappa_score(y[X['essay_set']==2], np.round(np.ones_like(y[X['essay_set']==2]) * y[X['essay_set']==2].mean()))"
   ]
  },
  {
   "cell_type": "code",
   "execution_count": 147,
   "metadata": {},
   "outputs": [],
   "source": [
    "from sklearn.model_selection import train_test_split"
   ]
  },
  {
   "cell_type": "code",
   "execution_count": 235,
   "metadata": {},
   "outputs": [],
   "source": [
    "X_train, X_test, y_train, y_test =  train_test_split(X, y, \n",
    "                                                    test_size=0.2, \n",
    "                                                    random_state=42, stratify=X['essay_set'])\n"
   ]
  },
  {
   "cell_type": "code",
   "execution_count": null,
   "metadata": {},
   "outputs": [],
   "source": []
  },
  {
   "cell_type": "code",
   "execution_count": null,
   "metadata": {},
   "outputs": [],
   "source": []
  },
  {
   "cell_type": "code",
   "execution_count": null,
   "metadata": {},
   "outputs": [],
   "source": []
  },
  {
   "cell_type": "code",
   "execution_count": null,
   "metadata": {},
   "outputs": [],
   "source": []
  },
  {
   "cell_type": "code",
   "execution_count": null,
   "metadata": {},
   "outputs": [],
   "source": []
  },
  {
   "cell_type": "code",
   "execution_count": null,
   "metadata": {},
   "outputs": [],
   "source": []
  },
  {
   "cell_type": "code",
   "execution_count": null,
   "metadata": {},
   "outputs": [],
   "source": []
  },
  {
   "cell_type": "code",
   "execution_count": null,
   "metadata": {},
   "outputs": [],
   "source": []
  },
  {
   "cell_type": "markdown",
   "metadata": {},
   "source": [
    "# Confusion matrices"
   ]
  },
  {
   "cell_type": "code",
   "execution_count": 384,
   "metadata": {},
   "outputs": [],
   "source": [
    "ess_set = 8"
   ]
  },
  {
   "cell_type": "code",
   "execution_count": 385,
   "metadata": {},
   "outputs": [
    {
     "name": "stdout",
     "output_type": "stream",
     "text": [
      "INFO:tensorflow:Restoring parameters from ./models/LSTM_8_wo_corr\n"
     ]
    }
   ],
   "source": [
    "saver = tf.train.Saver(tf.trainable_variables())\n",
    "saver.restore(sess, './models/LSTM_{}_wo_corr'.format(ess_set))"
   ]
  },
  {
   "cell_type": "code",
   "execution_count": 386,
   "metadata": {},
   "outputs": [],
   "source": [
    "X_test = X_train\n",
    "y_test = y_train"
   ]
  },
  {
   "cell_type": "code",
   "execution_count": 387,
   "metadata": {},
   "outputs": [],
   "source": [
    "test_gen = data_generator(X_test[X_test['essay_set']==ess_set], y_test[X_test['essay_set']==ess_set])"
   ]
  },
  {
   "cell_type": "code",
   "execution_count": 388,
   "metadata": {},
   "outputs": [],
   "source": [
    "(all_test_essays,\n",
    " all_test_scores) = next_batch(test_gen, len(X_test[X_test['essay_set']==ess_set]))"
   ]
  },
  {
   "cell_type": "code",
   "execution_count": 389,
   "metadata": {},
   "outputs": [],
   "source": [
    "preds_got = sess.run(preds, feed_dict={essays: all_test_essays, scores: all_test_scores, keep_prob: 1.0})"
   ]
  },
  {
   "cell_type": "code",
   "execution_count": 390,
   "metadata": {},
   "outputs": [
    {
     "data": {
      "text/plain": [
       "0.7570335222836394"
      ]
     },
     "execution_count": 390,
     "metadata": {},
     "output_type": "execute_result"
    }
   ],
   "source": [
    "cohen_kappa_score(expand(preds_got, ess_set), y_test[X_test['essay_set']==ess_set], weights='quadratic')"
   ]
  },
  {
   "cell_type": "code",
   "execution_count": 391,
   "metadata": {},
   "outputs": [],
   "source": [
    "import seaborn as sns"
   ]
  },
  {
   "cell_type": "code",
   "execution_count": 392,
   "metadata": {},
   "outputs": [
    {
     "data": {
      "text/plain": [
       "(578,)"
      ]
     },
     "execution_count": 392,
     "metadata": {},
     "output_type": "execute_result"
    }
   ],
   "source": [
    "preds_got.shape"
   ]
  },
  {
   "cell_type": "code",
   "execution_count": 393,
   "metadata": {},
   "outputs": [
    {
     "data": {
      "text/plain": [
       "(578,)"
      ]
     },
     "execution_count": 393,
     "metadata": {},
     "output_type": "execute_result"
    }
   ],
   "source": [
    "y_test[X_test['essay_set']==ess_set].values.shape"
   ]
  },
  {
   "cell_type": "code",
   "execution_count": 394,
   "metadata": {},
   "outputs": [],
   "source": [
    "sns_data = pd.DataFrame(index=range(len(preds_got)))"
   ]
  },
  {
   "cell_type": "code",
   "execution_count": 395,
   "metadata": {},
   "outputs": [],
   "source": [
    "def groupify(x):\n",
    "    scale = 60\n",
    "    groups = 10\n",
    "    group_size = scale//groups\n",
    "    return \"{:>2d}-{:>2d}\".format(x // group_size * group_size, (x // group_size * group_size + group_size-1))"
   ]
  },
  {
   "cell_type": "code",
   "execution_count": 396,
   "metadata": {},
   "outputs": [],
   "source": [
    "sns_data['Predictions'] = list(map(groupify, expand(preds_got, ess_set)))"
   ]
  },
  {
   "cell_type": "code",
   "execution_count": 397,
   "metadata": {},
   "outputs": [],
   "source": [
    "sns_data['Actual marks'] = list(map(groupify, y_test[X_test['essay_set']==ess_set].values))"
   ]
  },
  {
   "cell_type": "code",
   "execution_count": 398,
   "metadata": {},
   "outputs": [],
   "source": [
    "sns_data = sns_data.groupby(by=['Predictions', 'Actual marks']).size().to_frame().unstack().fillna(0).astype(int)"
   ]
  },
  {
   "cell_type": "code",
   "execution_count": 399,
   "metadata": {},
   "outputs": [
    {
     "data": {
      "text/html": [
       "<div>\n",
       "<style scoped>\n",
       "    .dataframe tbody tr th:only-of-type {\n",
       "        vertical-align: middle;\n",
       "    }\n",
       "\n",
       "    .dataframe tbody tr th {\n",
       "        vertical-align: top;\n",
       "    }\n",
       "\n",
       "    .dataframe thead tr th {\n",
       "        text-align: left;\n",
       "    }\n",
       "\n",
       "    .dataframe thead tr:last-of-type th {\n",
       "        text-align: right;\n",
       "    }\n",
       "</style>\n",
       "<table border=\"1\" class=\"dataframe\">\n",
       "  <thead>\n",
       "    <tr>\n",
       "      <th></th>\n",
       "      <th colspan=\"9\" halign=\"left\">0</th>\n",
       "    </tr>\n",
       "    <tr>\n",
       "      <th>Actual marks</th>\n",
       "      <th>6-11</th>\n",
       "      <th>12-17</th>\n",
       "      <th>18-23</th>\n",
       "      <th>24-29</th>\n",
       "      <th>30-35</th>\n",
       "      <th>36-41</th>\n",
       "      <th>42-47</th>\n",
       "      <th>48-53</th>\n",
       "      <th>54-59</th>\n",
       "    </tr>\n",
       "    <tr>\n",
       "      <th>Predictions</th>\n",
       "      <th></th>\n",
       "      <th></th>\n",
       "      <th></th>\n",
       "      <th></th>\n",
       "      <th></th>\n",
       "      <th></th>\n",
       "      <th></th>\n",
       "      <th></th>\n",
       "      <th></th>\n",
       "    </tr>\n",
       "  </thead>\n",
       "  <tbody>\n",
       "    <tr>\n",
       "      <th>18-23</th>\n",
       "      <td>1</td>\n",
       "      <td>0</td>\n",
       "      <td>2</td>\n",
       "      <td>0</td>\n",
       "      <td>0</td>\n",
       "      <td>0</td>\n",
       "      <td>0</td>\n",
       "      <td>0</td>\n",
       "      <td>0</td>\n",
       "    </tr>\n",
       "    <tr>\n",
       "      <th>24-29</th>\n",
       "      <td>0</td>\n",
       "      <td>1</td>\n",
       "      <td>2</td>\n",
       "      <td>16</td>\n",
       "      <td>12</td>\n",
       "      <td>1</td>\n",
       "      <td>0</td>\n",
       "      <td>0</td>\n",
       "      <td>0</td>\n",
       "    </tr>\n",
       "    <tr>\n",
       "      <th>30-35</th>\n",
       "      <td>0</td>\n",
       "      <td>0</td>\n",
       "      <td>1</td>\n",
       "      <td>15</td>\n",
       "      <td>102</td>\n",
       "      <td>29</td>\n",
       "      <td>2</td>\n",
       "      <td>0</td>\n",
       "      <td>0</td>\n",
       "    </tr>\n",
       "    <tr>\n",
       "      <th>36-41</th>\n",
       "      <td>0</td>\n",
       "      <td>0</td>\n",
       "      <td>0</td>\n",
       "      <td>0</td>\n",
       "      <td>75</td>\n",
       "      <td>193</td>\n",
       "      <td>51</td>\n",
       "      <td>2</td>\n",
       "      <td>0</td>\n",
       "    </tr>\n",
       "    <tr>\n",
       "      <th>42-47</th>\n",
       "      <td>0</td>\n",
       "      <td>0</td>\n",
       "      <td>0</td>\n",
       "      <td>0</td>\n",
       "      <td>4</td>\n",
       "      <td>25</td>\n",
       "      <td>29</td>\n",
       "      <td>13</td>\n",
       "      <td>0</td>\n",
       "    </tr>\n",
       "    <tr>\n",
       "      <th>48-53</th>\n",
       "      <td>0</td>\n",
       "      <td>0</td>\n",
       "      <td>0</td>\n",
       "      <td>0</td>\n",
       "      <td>0</td>\n",
       "      <td>0</td>\n",
       "      <td>1</td>\n",
       "      <td>0</td>\n",
       "      <td>1</td>\n",
       "    </tr>\n",
       "  </tbody>\n",
       "</table>\n",
       "</div>"
      ],
      "text/plain": [
       "                 0                                                \n",
       "Actual marks  6-11 12-17 18-23 24-29 30-35 36-41 42-47 48-53 54-59\n",
       "Predictions                                                       \n",
       "18-23            1     0     2     0     0     0     0     0     0\n",
       "24-29            0     1     2    16    12     1     0     0     0\n",
       "30-35            0     0     1    15   102    29     2     0     0\n",
       "36-41            0     0     0     0    75   193    51     2     0\n",
       "42-47            0     0     0     0     4    25    29    13     0\n",
       "48-53            0     0     0     0     0     0     1     0     1"
      ]
     },
     "execution_count": 399,
     "metadata": {},
     "output_type": "execute_result"
    }
   ],
   "source": [
    "sns_data"
   ]
  },
  {
   "cell_type": "code",
   "execution_count": null,
   "metadata": {},
   "outputs": [],
   "source": []
  }
 ],
 "metadata": {
  "kernelspec": {
   "display_name": "Python 3",
   "language": "python",
   "name": "python3"
  },
  "language_info": {
   "codemirror_mode": {
    "name": "ipython",
    "version": 3
   },
   "file_extension": ".py",
   "mimetype": "text/x-python",
   "name": "python",
   "nbconvert_exporter": "python",
   "pygments_lexer": "ipython3",
   "version": "3.5.2"
  }
 },
 "nbformat": 4,
 "nbformat_minor": 2
}
